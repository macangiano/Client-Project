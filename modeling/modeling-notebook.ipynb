{
 "cells": [
  {
   "cell_type": "markdown",
   "metadata": {},
   "source": [
    "# <ins> Modeling Notebook <ins/>\n",
    "> By: Matteo Cangiano, Q Leedham, and Daniel Sheehan"
   ]
  },
  {
   "cell_type": "markdown",
   "metadata": {},
   "source": [
    "## Table of Contents\n",
    " 1. [Importing Libraries & Data](#Importing-Libraries-&-Data)\n",
    " 2. [Modeling](#Modeling)\n",
    "  - [Base Model](#Base-Model)\n",
    "  - [Logistic Regression Model](#Logistic-Regression-Model)\n",
    "  - [KNN Model](#KNN-Model)\n",
    "  - [Decision Tree Model](#Decision-Tree-Model)\n",
    "  - [Bagging Classifier Model](#Bagging-Classifier-Model)\n",
    "  - [Random Forest Model](#Random-Forest-Model)\n",
    "  - [Extra Trees Model](#Extra-Trees-Model)\n",
    "  - [AdaBoost Model](#AdaBoost-Model)\n",
    "  - [Gradient Boost Model](#Gradient-Boost-Model)\n",
    "  - [Voting Classifier Model](#Voting-Classifier-Model)  \n",
    "    \n",
    "    \n",
    " 3. [Model Selection](#Model-Selection)\n",
    " 4. [Model Evaluation](#Model-Evaluation)\n",
    " 5. [Conclusion](#Conclusion)  \n",
    "   - [Recommendations and Limitations](#Recommendations-and-Limitations)  \n",
    "     \n",
    "     \n",
    " 7. [References](#References)"
   ]
  },
  {
   "cell_type": "markdown",
   "metadata": {},
   "source": [
    "## Importing Libraries & Data"
   ]
  },
  {
   "cell_type": "code",
   "execution_count": 6,
   "metadata": {},
   "outputs": [],
   "source": [
    "import pandas as pd\n",
    "import numpy as np\n",
    "import matplotlib.pyplot as plt\n",
    "import seaborn as sns\n",
    "from sklearn.model_selection import cross_val_score, train_test_split, GridSearchCV\n",
    "from sklearn.linear_model import LogisticRegression\n",
    "from sklearn.naive_bayes import MultinomialNB, GaussianNB\n",
    "from sklearn.neighbors import KNeighborsClassifier\n",
    "from sklearn.svm import SVC\n",
    "from sklearn.ensemble import BaggingClassifier, RandomForestClassifier, ExtraTreesClassifier\n",
    "from sklearn.tree import DecisionTreeClassifier\n",
    "from sklearn.metrics import confusion_matrix, roc_auc_score\n",
    "from sklearn.preprocessing import StandardScaler\n",
    "from sklearn.linear_model import LinearRegression\n",
    "from sklearn.pipeline import Pipeline\n",
    "from sklearn.datasets import make_classification\n",
    "from sklearn.ensemble import GradientBoostingClassifier, AdaBoostClassifier, VotingClassifier, RandomForestClassifier\n",
    "from sklearn.tree import DecisionTreeClassifier\n",
    "from sklearn.neighbors import KNeighborsClassifier\n",
    "from sklearn.tree import export_graphviz\n",
    "\n",
    "\n",
    "\n",
    "import warnings\n",
    "warnings.filterwarnings('ignore')"
   ]
  },
  {
   "cell_type": "code",
   "execution_count": 7,
   "metadata": {},
   "outputs": [],
   "source": [
    "data = pd.read_csv('../data/modeling_dataset.csv')"
   ]
  },
  {
   "cell_type": "code",
   "execution_count": 8,
   "metadata": {},
   "outputs": [
    {
     "data": {
      "text/html": [
       "<div>\n",
       "<style scoped>\n",
       "    .dataframe tbody tr th:only-of-type {\n",
       "        vertical-align: middle;\n",
       "    }\n",
       "\n",
       "    .dataframe tbody tr th {\n",
       "        vertical-align: top;\n",
       "    }\n",
       "\n",
       "    .dataframe thead th {\n",
       "        text-align: right;\n",
       "    }\n",
       "</style>\n",
       "<table border=\"1\" class=\"dataframe\">\n",
       "  <thead>\n",
       "    <tr style=\"text-align: right;\">\n",
       "      <th></th>\n",
       "      <th>cd_geocodi</th>\n",
       "      <th>nm_subdist</th>\n",
       "      <th>nm_distrit</th>\n",
       "      <th>nm_municip</th>\n",
       "      <th>nm_micro</th>\n",
       "      <th>nm_meso</th>\n",
       "      <th>id1</th>\n",
       "      <th>geog_orig_area</th>\n",
       "      <th>favela_present</th>\n",
       "      <th>favela_area_squaremeters</th>\n",
       "      <th>...</th>\n",
       "      <th>brazil_ph_count_listings</th>\n",
       "      <th>brazil_ph_near_fid</th>\n",
       "      <th>brazil_ph_near_dist</th>\n",
       "      <th>brazil_ph_near_angle</th>\n",
       "      <th>brazil_ph_near_price</th>\n",
       "      <th>sp_brazil_ph_kernel_density</th>\n",
       "      <th>population_estimate</th>\n",
       "      <th>total_listing_count</th>\n",
       "      <th>listing/pop</th>\n",
       "      <th>listing/area</th>\n",
       "    </tr>\n",
       "  </thead>\n",
       "  <tbody>\n",
       "    <tr>\n",
       "      <th>0</th>\n",
       "      <td>350570810000023</td>\n",
       "      <td></td>\n",
       "      <td>ALDEIA</td>\n",
       "      <td>BARUERI</td>\n",
       "      <td>OSASCO</td>\n",
       "      <td>METROPOLITANA DE STO PAULO</td>\n",
       "      <td>4151</td>\n",
       "      <td>0.225738</td>\n",
       "      <td>0.0</td>\n",
       "      <td>0.0</td>\n",
       "      <td>...</td>\n",
       "      <td>0.0</td>\n",
       "      <td>31</td>\n",
       "      <td>8889.189773</td>\n",
       "      <td>-158.493799</td>\n",
       "      <td>2500.0</td>\n",
       "      <td>0.0</td>\n",
       "      <td>1164.570831</td>\n",
       "      <td>0.0</td>\n",
       "      <td>0.000000</td>\n",
       "      <td>0.000000</td>\n",
       "    </tr>\n",
       "    <tr>\n",
       "      <th>1</th>\n",
       "      <td>350570810000025</td>\n",
       "      <td></td>\n",
       "      <td>ALDEIA</td>\n",
       "      <td>BARUERI</td>\n",
       "      <td>OSASCO</td>\n",
       "      <td>METROPOLITANA DE STO PAULO</td>\n",
       "      <td>4153</td>\n",
       "      <td>0.039267</td>\n",
       "      <td>0.0</td>\n",
       "      <td>0.0</td>\n",
       "      <td>...</td>\n",
       "      <td>0.0</td>\n",
       "      <td>31</td>\n",
       "      <td>8546.979457</td>\n",
       "      <td>-156.899284</td>\n",
       "      <td>2500.0</td>\n",
       "      <td>0.0</td>\n",
       "      <td>413.065460</td>\n",
       "      <td>0.0</td>\n",
       "      <td>0.000000</td>\n",
       "      <td>0.000000</td>\n",
       "    </tr>\n",
       "    <tr>\n",
       "      <th>2</th>\n",
       "      <td>350570805000043</td>\n",
       "      <td></td>\n",
       "      <td>BARUERI</td>\n",
       "      <td>BARUERI</td>\n",
       "      <td>OSASCO</td>\n",
       "      <td>METROPOLITANA DE SuO PAULO</td>\n",
       "      <td>4380</td>\n",
       "      <td>0.039251</td>\n",
       "      <td>0.0</td>\n",
       "      <td>0.0</td>\n",
       "      <td>...</td>\n",
       "      <td>0.0</td>\n",
       "      <td>31</td>\n",
       "      <td>17668.657905</td>\n",
       "      <td>-146.372789</td>\n",
       "      <td>2500.0</td>\n",
       "      <td>0.0</td>\n",
       "      <td>424.170563</td>\n",
       "      <td>0.0</td>\n",
       "      <td>0.000000</td>\n",
       "      <td>0.000000</td>\n",
       "    </tr>\n",
       "    <tr>\n",
       "      <th>3</th>\n",
       "      <td>350570805000056</td>\n",
       "      <td></td>\n",
       "      <td>BARUERI</td>\n",
       "      <td>BARUERI</td>\n",
       "      <td>OSASCO</td>\n",
       "      <td>METROPOLITANA DE SuO PAULO</td>\n",
       "      <td>4393</td>\n",
       "      <td>0.071366</td>\n",
       "      <td>0.0</td>\n",
       "      <td>0.0</td>\n",
       "      <td>...</td>\n",
       "      <td>0.0</td>\n",
       "      <td>31</td>\n",
       "      <td>14395.394220</td>\n",
       "      <td>-159.666627</td>\n",
       "      <td>2500.0</td>\n",
       "      <td>0.0</td>\n",
       "      <td>272.054306</td>\n",
       "      <td>3.0</td>\n",
       "      <td>1.102721</td>\n",
       "      <td>4203.667989</td>\n",
       "    </tr>\n",
       "    <tr>\n",
       "      <th>4</th>\n",
       "      <td>350570805000057</td>\n",
       "      <td></td>\n",
       "      <td>BARUERI</td>\n",
       "      <td>BARUERI</td>\n",
       "      <td>OSASCO</td>\n",
       "      <td>METROPOLITANA DE SuO PAULO</td>\n",
       "      <td>4394</td>\n",
       "      <td>1.264789</td>\n",
       "      <td>0.0</td>\n",
       "      <td>0.0</td>\n",
       "      <td>...</td>\n",
       "      <td>0.0</td>\n",
       "      <td>31</td>\n",
       "      <td>13056.248015</td>\n",
       "      <td>-160.753356</td>\n",
       "      <td>2500.0</td>\n",
       "      <td>0.0</td>\n",
       "      <td>2401.068539</td>\n",
       "      <td>6.0</td>\n",
       "      <td>0.249889</td>\n",
       "      <td>474.387541</td>\n",
       "    </tr>\n",
       "  </tbody>\n",
       "</table>\n",
       "<p>5 rows × 44 columns</p>\n",
       "</div>"
      ],
      "text/plain": [
       "        cd_geocodi nm_subdist nm_distrit nm_municip nm_micro  \\\n",
       "0  350570810000023                ALDEIA    BARUERI   OSASCO   \n",
       "1  350570810000025                ALDEIA    BARUERI   OSASCO   \n",
       "2  350570805000043               BARUERI    BARUERI   OSASCO   \n",
       "3  350570805000056               BARUERI    BARUERI   OSASCO   \n",
       "4  350570805000057               BARUERI    BARUERI   OSASCO   \n",
       "\n",
       "                      nm_meso   id1  geog_orig_area  favela_present  \\\n",
       "0  METROPOLITANA DE STO PAULO  4151        0.225738             0.0   \n",
       "1  METROPOLITANA DE STO PAULO  4153        0.039267             0.0   \n",
       "2  METROPOLITANA DE SuO PAULO  4380        0.039251             0.0   \n",
       "3  METROPOLITANA DE SuO PAULO  4393        0.071366             0.0   \n",
       "4  METROPOLITANA DE SuO PAULO  4394        1.264789             0.0   \n",
       "\n",
       "   favela_area_squaremeters  ...  brazil_ph_count_listings  \\\n",
       "0                       0.0  ...                       0.0   \n",
       "1                       0.0  ...                       0.0   \n",
       "2                       0.0  ...                       0.0   \n",
       "3                       0.0  ...                       0.0   \n",
       "4                       0.0  ...                       0.0   \n",
       "\n",
       "   brazil_ph_near_fid  brazil_ph_near_dist  brazil_ph_near_angle  \\\n",
       "0                  31          8889.189773           -158.493799   \n",
       "1                  31          8546.979457           -156.899284   \n",
       "2                  31         17668.657905           -146.372789   \n",
       "3                  31         14395.394220           -159.666627   \n",
       "4                  31         13056.248015           -160.753356   \n",
       "\n",
       "   brazil_ph_near_price  sp_brazil_ph_kernel_density  population_estimate  \\\n",
       "0                2500.0                          0.0          1164.570831   \n",
       "1                2500.0                          0.0           413.065460   \n",
       "2                2500.0                          0.0           424.170563   \n",
       "3                2500.0                          0.0           272.054306   \n",
       "4                2500.0                          0.0          2401.068539   \n",
       "\n",
       "   total_listing_count  listing/pop  listing/area  \n",
       "0                  0.0     0.000000      0.000000  \n",
       "1                  0.0     0.000000      0.000000  \n",
       "2                  0.0     0.000000      0.000000  \n",
       "3                  3.0     1.102721   4203.667989  \n",
       "4                  6.0     0.249889    474.387541  \n",
       "\n",
       "[5 rows x 44 columns]"
      ]
     },
     "execution_count": 8,
     "metadata": {},
     "output_type": "execute_result"
    }
   ],
   "source": [
    "data.head()"
   ]
  },
  {
   "cell_type": "code",
   "execution_count": 9,
   "metadata": {},
   "outputs": [
    {
     "data": {
      "text/html": [
       "<div>\n",
       "<style scoped>\n",
       "    .dataframe tbody tr th:only-of-type {\n",
       "        vertical-align: middle;\n",
       "    }\n",
       "\n",
       "    .dataframe tbody tr th {\n",
       "        vertical-align: top;\n",
       "    }\n",
       "\n",
       "    .dataframe thead th {\n",
       "        text-align: right;\n",
       "    }\n",
       "</style>\n",
       "<table border=\"1\" class=\"dataframe\">\n",
       "  <thead>\n",
       "    <tr style=\"text-align: right;\">\n",
       "      <th></th>\n",
       "      <th>cd_geocodi</th>\n",
       "      <th>id1</th>\n",
       "      <th>geog_orig_area</th>\n",
       "      <th>favela_present</th>\n",
       "      <th>favela_area_squaremeters</th>\n",
       "      <th>sao_paulo_apartment_count_listings</th>\n",
       "      <th>sao_paulo_apartment_near_fid</th>\n",
       "      <th>sao_paulo_apartment_near_dist</th>\n",
       "      <th>sao_paulo_apartment_near_angle</th>\n",
       "      <th>sao_paulo_apartment_near_price</th>\n",
       "      <th>...</th>\n",
       "      <th>brazil_ph_count_listings</th>\n",
       "      <th>brazil_ph_near_fid</th>\n",
       "      <th>brazil_ph_near_dist</th>\n",
       "      <th>brazil_ph_near_angle</th>\n",
       "      <th>brazil_ph_near_price</th>\n",
       "      <th>sp_brazil_ph_kernel_density</th>\n",
       "      <th>population_estimate</th>\n",
       "      <th>total_listing_count</th>\n",
       "      <th>listing/pop</th>\n",
       "      <th>listing/area</th>\n",
       "    </tr>\n",
       "  </thead>\n",
       "  <tbody>\n",
       "    <tr>\n",
       "      <th>count</th>\n",
       "      <td>2.781700e+04</td>\n",
       "      <td>27817.000000</td>\n",
       "      <td>27817.000000</td>\n",
       "      <td>27817.000000</td>\n",
       "      <td>27817.000000</td>\n",
       "      <td>27817.000000</td>\n",
       "      <td>27817.000000</td>\n",
       "      <td>27817.000000</td>\n",
       "      <td>27817.000000</td>\n",
       "      <td>2.781700e+04</td>\n",
       "      <td>...</td>\n",
       "      <td>27817.000000</td>\n",
       "      <td>27817.000000</td>\n",
       "      <td>27817.000000</td>\n",
       "      <td>27817.000000</td>\n",
       "      <td>27817.000000</td>\n",
       "      <td>27817.000000</td>\n",
       "      <td>27817.000000</td>\n",
       "      <td>27817.000000</td>\n",
       "      <td>27817.000000</td>\n",
       "      <td>2.781700e+04</td>\n",
       "    </tr>\n",
       "    <tr>\n",
       "      <th>mean</th>\n",
       "      <td>3.545147e+14</td>\n",
       "      <td>45631.993637</td>\n",
       "      <td>0.108646</td>\n",
       "      <td>0.221411</td>\n",
       "      <td>852.603057</td>\n",
       "      <td>0.480749</td>\n",
       "      <td>6383.476939</td>\n",
       "      <td>1381.466201</td>\n",
       "      <td>0.966970</td>\n",
       "      <td>1.669580e+05</td>\n",
       "      <td>...</td>\n",
       "      <td>0.003775</td>\n",
       "      <td>64.715102</td>\n",
       "      <td>5580.939094</td>\n",
       "      <td>-1.423161</td>\n",
       "      <td>3395.134270</td>\n",
       "      <td>0.012708</td>\n",
       "      <td>697.857937</td>\n",
       "      <td>1.361326</td>\n",
       "      <td>0.353398</td>\n",
       "      <td>4.815176e+03</td>\n",
       "    </tr>\n",
       "    <tr>\n",
       "      <th>std</th>\n",
       "      <td>1.143566e+12</td>\n",
       "      <td>14182.287715</td>\n",
       "      <td>0.667984</td>\n",
       "      <td>0.415204</td>\n",
       "      <td>3375.446206</td>\n",
       "      <td>2.125265</td>\n",
       "      <td>4288.662831</td>\n",
       "      <td>2225.903861</td>\n",
       "      <td>91.443765</td>\n",
       "      <td>2.991915e+05</td>\n",
       "      <td>...</td>\n",
       "      <td>0.140948</td>\n",
       "      <td>42.603400</td>\n",
       "      <td>4132.284706</td>\n",
       "      <td>102.503573</td>\n",
       "      <td>3615.253919</td>\n",
       "      <td>0.085228</td>\n",
       "      <td>814.251001</td>\n",
       "      <td>4.751517</td>\n",
       "      <td>2.355275</td>\n",
       "      <td>3.117242e+04</td>\n",
       "    </tr>\n",
       "    <tr>\n",
       "      <th>min</th>\n",
       "      <td>3.505708e+14</td>\n",
       "      <td>4151.000000</td>\n",
       "      <td>0.000072</td>\n",
       "      <td>0.000000</td>\n",
       "      <td>0.000000</td>\n",
       "      <td>0.000000</td>\n",
       "      <td>0.000000</td>\n",
       "      <td>0.000000</td>\n",
       "      <td>-179.999999</td>\n",
       "      <td>4.800000e+02</td>\n",
       "      <td>...</td>\n",
       "      <td>0.000000</td>\n",
       "      <td>0.000000</td>\n",
       "      <td>0.000000</td>\n",
       "      <td>-179.999978</td>\n",
       "      <td>600.000000</td>\n",
       "      <td>0.000000</td>\n",
       "      <td>0.022254</td>\n",
       "      <td>0.000000</td>\n",
       "      <td>0.000000</td>\n",
       "      <td>0.000000e+00</td>\n",
       "    </tr>\n",
       "    <tr>\n",
       "      <th>25%</th>\n",
       "      <td>3.548708e+14</td>\n",
       "      <td>40223.000000</td>\n",
       "      <td>0.019670</td>\n",
       "      <td>0.000000</td>\n",
       "      <td>0.000000</td>\n",
       "      <td>0.000000</td>\n",
       "      <td>2122.000000</td>\n",
       "      <td>44.663556</td>\n",
       "      <td>-60.623415</td>\n",
       "      <td>1.500000e+03</td>\n",
       "      <td>...</td>\n",
       "      <td>0.000000</td>\n",
       "      <td>31.000000</td>\n",
       "      <td>2309.688526</td>\n",
       "      <td>-94.930909</td>\n",
       "      <td>1200.000000</td>\n",
       "      <td>0.000000</td>\n",
       "      <td>271.887459</td>\n",
       "      <td>0.000000</td>\n",
       "      <td>0.000000</td>\n",
       "      <td>0.000000e+00</td>\n",
       "    </tr>\n",
       "    <tr>\n",
       "      <th>50%</th>\n",
       "      <td>3.550308e+14</td>\n",
       "      <td>49162.000000</td>\n",
       "      <td>0.037353</td>\n",
       "      <td>0.000000</td>\n",
       "      <td>0.000000</td>\n",
       "      <td>0.000000</td>\n",
       "      <td>6597.000000</td>\n",
       "      <td>317.392635</td>\n",
       "      <td>0.000000</td>\n",
       "      <td>8.000000e+04</td>\n",
       "      <td>...</td>\n",
       "      <td>0.000000</td>\n",
       "      <td>69.000000</td>\n",
       "      <td>4725.310805</td>\n",
       "      <td>-4.645367</td>\n",
       "      <td>2200.000000</td>\n",
       "      <td>0.000000</td>\n",
       "      <td>541.281494</td>\n",
       "      <td>0.000000</td>\n",
       "      <td>0.000000</td>\n",
       "      <td>0.000000e+00</td>\n",
       "    </tr>\n",
       "    <tr>\n",
       "      <th>75%</th>\n",
       "      <td>3.550309e+14</td>\n",
       "      <td>55899.000000</td>\n",
       "      <td>0.063450</td>\n",
       "      <td>0.000000</td>\n",
       "      <td>0.000000</td>\n",
       "      <td>0.000000</td>\n",
       "      <td>9867.000000</td>\n",
       "      <td>1580.365671</td>\n",
       "      <td>70.885312</td>\n",
       "      <td>2.350000e+05</td>\n",
       "      <td>...</td>\n",
       "      <td>0.000000</td>\n",
       "      <td>85.000000</td>\n",
       "      <td>8079.799727</td>\n",
       "      <td>100.043084</td>\n",
       "      <td>3500.000000</td>\n",
       "      <td>0.000000</td>\n",
       "      <td>857.065901</td>\n",
       "      <td>1.000000</td>\n",
       "      <td>0.072897</td>\n",
       "      <td>7.035771e+02</td>\n",
       "    </tr>\n",
       "    <tr>\n",
       "      <th>max</th>\n",
       "      <td>3.552809e+14</td>\n",
       "      <td>65450.000000</td>\n",
       "      <td>64.018710</td>\n",
       "      <td>1.000000</td>\n",
       "      <td>142763.606501</td>\n",
       "      <td>72.000000</td>\n",
       "      <td>13639.000000</td>\n",
       "      <td>18814.572237</td>\n",
       "      <td>179.999998</td>\n",
       "      <td>7.500000e+06</td>\n",
       "      <td>...</td>\n",
       "      <td>16.000000</td>\n",
       "      <td>152.000000</td>\n",
       "      <td>22174.147819</td>\n",
       "      <td>179.950102</td>\n",
       "      <td>15000.000000</td>\n",
       "      <td>1.305079</td>\n",
       "      <td>26176.639700</td>\n",
       "      <td>128.000000</td>\n",
       "      <td>252.949751</td>\n",
       "      <td>3.920231e+06</td>\n",
       "    </tr>\n",
       "  </tbody>\n",
       "</table>\n",
       "<p>8 rows × 39 columns</p>\n",
       "</div>"
      ],
      "text/plain": [
       "         cd_geocodi           id1  geog_orig_area  favela_present  \\\n",
       "count  2.781700e+04  27817.000000    27817.000000    27817.000000   \n",
       "mean   3.545147e+14  45631.993637        0.108646        0.221411   \n",
       "std    1.143566e+12  14182.287715        0.667984        0.415204   \n",
       "min    3.505708e+14   4151.000000        0.000072        0.000000   \n",
       "25%    3.548708e+14  40223.000000        0.019670        0.000000   \n",
       "50%    3.550308e+14  49162.000000        0.037353        0.000000   \n",
       "75%    3.550309e+14  55899.000000        0.063450        0.000000   \n",
       "max    3.552809e+14  65450.000000       64.018710        1.000000   \n",
       "\n",
       "       favela_area_squaremeters  sao_paulo_apartment_count_listings  \\\n",
       "count              27817.000000                        27817.000000   \n",
       "mean                 852.603057                            0.480749   \n",
       "std                 3375.446206                            2.125265   \n",
       "min                    0.000000                            0.000000   \n",
       "25%                    0.000000                            0.000000   \n",
       "50%                    0.000000                            0.000000   \n",
       "75%                    0.000000                            0.000000   \n",
       "max               142763.606501                           72.000000   \n",
       "\n",
       "       sao_paulo_apartment_near_fid  sao_paulo_apartment_near_dist  \\\n",
       "count                  27817.000000                   27817.000000   \n",
       "mean                    6383.476939                    1381.466201   \n",
       "std                     4288.662831                    2225.903861   \n",
       "min                        0.000000                       0.000000   \n",
       "25%                     2122.000000                      44.663556   \n",
       "50%                     6597.000000                     317.392635   \n",
       "75%                     9867.000000                    1580.365671   \n",
       "max                    13639.000000                   18814.572237   \n",
       "\n",
       "       sao_paulo_apartment_near_angle  sao_paulo_apartment_near_price  ...  \\\n",
       "count                    27817.000000                    2.781700e+04  ...   \n",
       "mean                         0.966970                    1.669580e+05  ...   \n",
       "std                         91.443765                    2.991915e+05  ...   \n",
       "min                       -179.999999                    4.800000e+02  ...   \n",
       "25%                        -60.623415                    1.500000e+03  ...   \n",
       "50%                          0.000000                    8.000000e+04  ...   \n",
       "75%                         70.885312                    2.350000e+05  ...   \n",
       "max                        179.999998                    7.500000e+06  ...   \n",
       "\n",
       "       brazil_ph_count_listings  brazil_ph_near_fid  brazil_ph_near_dist  \\\n",
       "count              27817.000000        27817.000000         27817.000000   \n",
       "mean                   0.003775           64.715102          5580.939094   \n",
       "std                    0.140948           42.603400          4132.284706   \n",
       "min                    0.000000            0.000000             0.000000   \n",
       "25%                    0.000000           31.000000          2309.688526   \n",
       "50%                    0.000000           69.000000          4725.310805   \n",
       "75%                    0.000000           85.000000          8079.799727   \n",
       "max                   16.000000          152.000000         22174.147819   \n",
       "\n",
       "       brazil_ph_near_angle  brazil_ph_near_price  \\\n",
       "count          27817.000000          27817.000000   \n",
       "mean              -1.423161           3395.134270   \n",
       "std              102.503573           3615.253919   \n",
       "min             -179.999978            600.000000   \n",
       "25%              -94.930909           1200.000000   \n",
       "50%               -4.645367           2200.000000   \n",
       "75%              100.043084           3500.000000   \n",
       "max              179.950102          15000.000000   \n",
       "\n",
       "       sp_brazil_ph_kernel_density  population_estimate  total_listing_count  \\\n",
       "count                 27817.000000         27817.000000         27817.000000   \n",
       "mean                      0.012708           697.857937             1.361326   \n",
       "std                       0.085228           814.251001             4.751517   \n",
       "min                       0.000000             0.022254             0.000000   \n",
       "25%                       0.000000           271.887459             0.000000   \n",
       "50%                       0.000000           541.281494             0.000000   \n",
       "75%                       0.000000           857.065901             1.000000   \n",
       "max                       1.305079         26176.639700           128.000000   \n",
       "\n",
       "        listing/pop  listing/area  \n",
       "count  27817.000000  2.781700e+04  \n",
       "mean       0.353398  4.815176e+03  \n",
       "std        2.355275  3.117242e+04  \n",
       "min        0.000000  0.000000e+00  \n",
       "25%        0.000000  0.000000e+00  \n",
       "50%        0.000000  0.000000e+00  \n",
       "75%        0.072897  7.035771e+02  \n",
       "max      252.949751  3.920231e+06  \n",
       "\n",
       "[8 rows x 39 columns]"
      ]
     },
     "execution_count": 9,
     "metadata": {},
     "output_type": "execute_result"
    }
   ],
   "source": [
    "data.describe()"
   ]
  },
  {
   "cell_type": "code",
   "execution_count": 10,
   "metadata": {},
   "outputs": [
    {
     "name": "stdout",
     "output_type": "stream",
     "text": [
      "<class 'pandas.core.frame.DataFrame'>\n",
      "RangeIndex: 27817 entries, 0 to 27816\n",
      "Data columns (total 44 columns):\n",
      "cd_geocodi                               27817 non-null int64\n",
      "nm_subdist                               27817 non-null object\n",
      "nm_distrit                               27817 non-null object\n",
      "nm_municip                               27817 non-null object\n",
      "nm_micro                                 27817 non-null object\n",
      "nm_meso                                  27817 non-null object\n",
      "id1                                      27817 non-null int64\n",
      "geog_orig_area                           27817 non-null float64\n",
      "favela_present                           27817 non-null float64\n",
      "favela_area_squaremeters                 27817 non-null float64\n",
      "sao_paulo_apartment_count_listings       27817 non-null float64\n",
      "sao_paulo_apartment_near_fid             27817 non-null int64\n",
      "sao_paulo_apartment_near_dist            27817 non-null float64\n",
      "sao_paulo_apartment_near_angle           27817 non-null float64\n",
      "sao_paulo_apartment_near_price           27817 non-null int64\n",
      "sp_sao_paulo_apartment_kernel_density    27817 non-null float64\n",
      "brazil_apartment_count_listings          27817 non-null float64\n",
      "brazil_apartment_near_fid                27817 non-null int64\n",
      "brazil_apartment_near_dist               27817 non-null float64\n",
      "brazil_apartment_near_angle              27817 non-null float64\n",
      "brazil_apartment_near_price              27817 non-null float64\n",
      "sp_brazil_apartment_kernel_density       27817 non-null float64\n",
      "brazil_house_count_listings              27817 non-null float64\n",
      "brazil_house_near_fid                    27817 non-null int64\n",
      "brazil_house_near_dist                   27817 non-null float64\n",
      "brazil_house_near_angle                  27817 non-null float64\n",
      "brazil_house_near_price                  27817 non-null float64\n",
      "sp_brazil_house_kernel_density           27817 non-null float64\n",
      "brazil_store_count_listings              27817 non-null float64\n",
      "brazil_store_near_fid                    27817 non-null int64\n",
      "brazil_store_near_dist                   27817 non-null float64\n",
      "brazil_store_near_angle                  27817 non-null float64\n",
      "brazil_store_near_price                  27817 non-null float64\n",
      "sp_brazil_store_kernel_density           27817 non-null float64\n",
      "brazil_ph_count_listings                 27817 non-null float64\n",
      "brazil_ph_near_fid                       27817 non-null int64\n",
      "brazil_ph_near_dist                      27817 non-null float64\n",
      "brazil_ph_near_angle                     27817 non-null float64\n",
      "brazil_ph_near_price                     27817 non-null float64\n",
      "sp_brazil_ph_kernel_density              27817 non-null float64\n",
      "population_estimate                      27817 non-null float64\n",
      "total_listing_count                      27817 non-null float64\n",
      "listing/pop                              27817 non-null float64\n",
      "listing/area                             27817 non-null float64\n",
      "dtypes: float64(31), int64(8), object(5)\n",
      "memory usage: 9.3+ MB\n"
     ]
    }
   ],
   "source": [
    "data.info()"
   ]
  },
  {
   "cell_type": "code",
   "execution_count": 11,
   "metadata": {},
   "outputs": [],
   "source": [
    "X_cols = [\n",
    "    'sao_paulo_apartment_count_listings', 'sao_paulo_apartment_near_dist',\n",
    "    'sao_paulo_apartment_near_angle', 'sao_paulo_apartment_near_price',\n",
    "    'brazil_apartment_count_listings', 'brazil_apartment_near_dist',\n",
    "    'brazil_apartment_near_angle', 'brazil_apartment_near_price',\n",
    "    'brazil_house_count_listings', 'brazil_house_near_dist',\n",
    "    'brazil_house_near_angle', 'brazil_house_near_price',\n",
    "    'brazil_store_count_listings', 'brazil_store_near_dist',\n",
    "    'brazil_store_near_angle', 'brazil_store_near_price',\n",
    "    'brazil_ph_count_listings', 'brazil_ph_near_dist', 'brazil_ph_near_angle',\n",
    "    'brazil_ph_near_price', 'population_estimate', 'total_listing_count',\n",
    "    'listing/pop', 'listing/area'\n",
    "]\n",
    "\n",
    "X = data[X_cols]\n",
    "y = data['favela_present']\n",
    "\n",
    "X_train, X_test, y_train, y_test = train_test_split(X,\n",
    "                                                    y,\n",
    "                                                    stratify=y,\n",
    "                                                    random_state=19)"
   ]
  },
  {
   "cell_type": "markdown",
   "metadata": {},
   "source": [
    "Picking out the numeric columns that might help with determining the presence of an informal settlements from the real estate and population data we were able to find."
   ]
  },
  {
   "cell_type": "markdown",
   "metadata": {},
   "source": [
    "## Modeling"
   ]
  },
  {
   "cell_type": "markdown",
   "metadata": {},
   "source": [
    "### Base Model"
   ]
  },
  {
   "cell_type": "code",
   "execution_count": 12,
   "metadata": {},
   "outputs": [
    {
     "data": {
      "text/plain": [
       "0.0    0.778589\n",
       "1.0    0.221411\n",
       "Name: favela_present, dtype: float64"
      ]
     },
     "execution_count": 12,
     "metadata": {},
     "output_type": "execute_result"
    }
   ],
   "source": [
    "data['favela_present'].value_counts(normalize = True)"
   ]
  },
  {
   "cell_type": "markdown",
   "metadata": {},
   "source": [
    "A baseline model that predicts no favelas present in each census grid would be about 77.8% accurate. Any models we make should perform better than that."
   ]
  },
  {
   "cell_type": "markdown",
   "metadata": {},
   "source": [
    "### Logistic Regression Model"
   ]
  },
  {
   "cell_type": "markdown",
   "metadata": {},
   "source": [
    "Starting off with a scaler and logistic regression model."
   ]
  },
  {
   "cell_type": "code",
   "execution_count": 13,
   "metadata": {},
   "outputs": [
    {
     "data": {
      "text/plain": [
       "GridSearchCV(cv=5, error_score=nan,\n",
       "             estimator=Pipeline(memory=None,\n",
       "                                steps=[('sc',\n",
       "                                        StandardScaler(copy=True,\n",
       "                                                       with_mean=True,\n",
       "                                                       with_std=True)),\n",
       "                                       ('lr',\n",
       "                                        LogisticRegression(C=1.0,\n",
       "                                                           class_weight=None,\n",
       "                                                           dual=False,\n",
       "                                                           fit_intercept=True,\n",
       "                                                           intercept_scaling=1,\n",
       "                                                           l1_ratio=None,\n",
       "                                                           max_iter=100,\n",
       "                                                           multi_class='auto',\n",
       "                                                           n_jobs=None,\n",
       "                                                           penalty='l2',\n",
       "                                                           random_state=None,\n",
       "                                                           solver='lbfgs',\n",
       "                                                           tol=0.0001,\n",
       "                                                           verbose=0,\n",
       "                                                           warm_start=False))],\n",
       "                                verbose=False),\n",
       "             iid='deprecated', n_jobs=None,\n",
       "             param_grid={'lr__C': [0.1, 0.3, 0.5, 0.7, 1.0],\n",
       "                         'lr__penalty': ['l1', 'l2']},\n",
       "             pre_dispatch='2*n_jobs', refit=True, return_train_score=False,\n",
       "             scoring='accuracy', verbose=0)"
      ]
     },
     "execution_count": 13,
     "metadata": {},
     "output_type": "execute_result"
    }
   ],
   "source": [
    "pipe = Pipeline(steps=[('sc', StandardScaler()), ('lr', LogisticRegression())])\n",
    "\n",
    "params = {\n",
    "    'lr__penalty': ['l1', 'l2'],\n",
    "    'lr__C': [0.1, 0.3, 0.5, 0.7, 1.0],\n",
    "}\n",
    "\n",
    "gs_lr = GridSearchCV(pipe, param_grid=params, cv=5, scoring='accuracy')\n",
    "\n",
    "gs_lr.fit(X_train, y_train)"
   ]
  },
  {
   "cell_type": "code",
   "execution_count": 14,
   "metadata": {},
   "outputs": [
    {
     "data": {
      "text/plain": [
       "Pipeline(memory=None,\n",
       "         steps=[('sc',\n",
       "                 StandardScaler(copy=True, with_mean=True, with_std=True)),\n",
       "                ('lr',\n",
       "                 LogisticRegression(C=0.1, class_weight=None, dual=False,\n",
       "                                    fit_intercept=True, intercept_scaling=1,\n",
       "                                    l1_ratio=None, max_iter=100,\n",
       "                                    multi_class='auto', n_jobs=None,\n",
       "                                    penalty='l2', random_state=None,\n",
       "                                    solver='lbfgs', tol=0.0001, verbose=0,\n",
       "                                    warm_start=False))],\n",
       "         verbose=False)"
      ]
     },
     "execution_count": 14,
     "metadata": {},
     "output_type": "execute_result"
    }
   ],
   "source": [
    "# Best Estimator for GridSearch\n",
    "gs_lr.best_estimator_"
   ]
  },
  {
   "cell_type": "code",
   "execution_count": 15,
   "metadata": {},
   "outputs": [
    {
     "data": {
      "text/plain": [
       "0.7844406097210239"
      ]
     },
     "execution_count": 15,
     "metadata": {},
     "output_type": "execute_result"
    }
   ],
   "source": [
    "# Training Score\n",
    "gs_lr.score(X_train, y_train)"
   ]
  },
  {
   "cell_type": "code",
   "execution_count": 16,
   "metadata": {},
   "outputs": [
    {
     "data": {
      "text/plain": [
       "0.7860531991373113"
      ]
     },
     "execution_count": 16,
     "metadata": {},
     "output_type": "execute_result"
    }
   ],
   "source": [
    "# Test Score\n",
    "gs_lr.score(X_test, y_test)"
   ]
  },
  {
   "cell_type": "code",
   "execution_count": 17,
   "metadata": {},
   "outputs": [
    {
     "data": {
      "text/plain": [
       "0.7839132725352383"
      ]
     },
     "execution_count": 17,
     "metadata": {},
     "output_type": "execute_result"
    }
   ],
   "source": [
    "# Cross-Val Score\n",
    "gs_lr.best_score_"
   ]
  },
  {
   "cell_type": "markdown",
   "metadata": {},
   "source": [
    "This model performs about as well as the base model, but could definitely perform a lot better. Moving on to a K-Nearest Neighbors model to see how well it performs."
   ]
  },
  {
   "cell_type": "markdown",
   "metadata": {},
   "source": [
    "### KNN Model"
   ]
  },
  {
   "cell_type": "code",
   "execution_count": 18,
   "metadata": {},
   "outputs": [
    {
     "data": {
      "text/plain": [
       "GridSearchCV(cv=5, error_score=nan,\n",
       "             estimator=Pipeline(memory=None,\n",
       "                                steps=[('sc',\n",
       "                                        StandardScaler(copy=True,\n",
       "                                                       with_mean=True,\n",
       "                                                       with_std=True)),\n",
       "                                       ('knn',\n",
       "                                        KNeighborsClassifier(algorithm='auto',\n",
       "                                                             leaf_size=30,\n",
       "                                                             metric='minkowski',\n",
       "                                                             metric_params=None,\n",
       "                                                             n_jobs=None,\n",
       "                                                             n_neighbors=5, p=2,\n",
       "                                                             weights='uniform'))],\n",
       "                                verbose=False),\n",
       "             iid='deprecated', n_jobs=None,\n",
       "             param_grid={'knn__metric': ['minkowski', 'euclidean', 'manhattan'],\n",
       "                         'knn__n_neighbors': [3, 5, 7, 9]},\n",
       "             pre_dispatch='2*n_jobs', refit=True, return_train_score=False,\n",
       "             scoring='accuracy', verbose=0)"
      ]
     },
     "execution_count": 18,
     "metadata": {},
     "output_type": "execute_result"
    }
   ],
   "source": [
    "pipe = Pipeline(steps=[('sc', StandardScaler()), ('knn',\n",
    "                                                  KNeighborsClassifier())])\n",
    "\n",
    "params = {\n",
    "    'knn__n_neighbors': [3, 5, 7, 9],\n",
    "    'knn__metric': ['minkowski', 'euclidean', 'manhattan']\n",
    "}\n",
    "\n",
    "gs_knn = GridSearchCV(pipe, param_grid=params, cv=5, scoring='accuracy')\n",
    "\n",
    "gs_knn.fit(X_train, y_train)"
   ]
  },
  {
   "cell_type": "code",
   "execution_count": 19,
   "metadata": {},
   "outputs": [
    {
     "data": {
      "text/plain": [
       "Pipeline(memory=None,\n",
       "         steps=[('sc',\n",
       "                 StandardScaler(copy=True, with_mean=True, with_std=True)),\n",
       "                ('knn',\n",
       "                 KNeighborsClassifier(algorithm='auto', leaf_size=30,\n",
       "                                      metric='manhattan', metric_params=None,\n",
       "                                      n_jobs=None, n_neighbors=5, p=2,\n",
       "                                      weights='uniform'))],\n",
       "         verbose=False)"
      ]
     },
     "execution_count": 19,
     "metadata": {},
     "output_type": "execute_result"
    }
   ],
   "source": [
    "# Best Estimator for GridSearch\n",
    "gs_knn.best_estimator_"
   ]
  },
  {
   "cell_type": "code",
   "execution_count": 20,
   "metadata": {},
   "outputs": [
    {
     "data": {
      "text/plain": [
       "0.9040360464001533"
      ]
     },
     "execution_count": 20,
     "metadata": {},
     "output_type": "execute_result"
    }
   ],
   "source": [
    "# Training Score\n",
    "gs_knn.score(X_train, y_train)"
   ]
  },
  {
   "cell_type": "code",
   "execution_count": 21,
   "metadata": {},
   "outputs": [
    {
     "data": {
      "text/plain": [
       "0.8547807332854062"
      ]
     },
     "execution_count": 21,
     "metadata": {},
     "output_type": "execute_result"
    }
   ],
   "source": [
    "# Test Score\n",
    "gs_knn.score(X_test, y_test)"
   ]
  },
  {
   "cell_type": "code",
   "execution_count": 22,
   "metadata": {},
   "outputs": [
    {
     "data": {
      "text/plain": [
       "0.8526514099336028"
      ]
     },
     "execution_count": 22,
     "metadata": {},
     "output_type": "execute_result"
    }
   ],
   "source": [
    "# Cross-Val Score\n",
    "gs_knn.best_score_"
   ]
  },
  {
   "cell_type": "markdown",
   "metadata": {},
   "source": [
    "This model is already better than the base model. There is still some room for improvement, however. Next step is to try a Decision Tree model."
   ]
  },
  {
   "cell_type": "markdown",
   "metadata": {},
   "source": [
    "### Decision Tree Model"
   ]
  },
  {
   "cell_type": "code",
   "execution_count": 23,
   "metadata": {},
   "outputs": [
    {
     "data": {
      "text/plain": [
       "DecisionTreeClassifier(ccp_alpha=0.0, class_weight=None, criterion='gini',\n",
       "                       max_depth=None, max_features=None, max_leaf_nodes=None,\n",
       "                       min_impurity_decrease=0.0, min_impurity_split=None,\n",
       "                       min_samples_leaf=1, min_samples_split=2,\n",
       "                       min_weight_fraction_leaf=0.0, presort='deprecated',\n",
       "                       random_state=None, splitter='best')"
      ]
     },
     "execution_count": 23,
     "metadata": {},
     "output_type": "execute_result"
    }
   ],
   "source": [
    "tree = DecisionTreeClassifier()\n",
    "tree.fit(X_train, y_train)"
   ]
  },
  {
   "cell_type": "code",
   "execution_count": 24,
   "metadata": {},
   "outputs": [
    {
     "data": {
      "text/plain": [
       "1.0"
      ]
     },
     "execution_count": 24,
     "metadata": {},
     "output_type": "execute_result"
    }
   ],
   "source": [
    "# Training Score\n",
    "tree.score(X_train, y_train)"
   ]
  },
  {
   "cell_type": "code",
   "execution_count": 25,
   "metadata": {},
   "outputs": [
    {
     "data": {
      "text/plain": [
       "0.8506110711718189"
      ]
     },
     "execution_count": 25,
     "metadata": {},
     "output_type": "execute_result"
    }
   ],
   "source": [
    "# Test Score\n",
    "tree.score(X_test, y_test)"
   ]
  },
  {
   "cell_type": "code",
   "execution_count": 26,
   "metadata": {},
   "outputs": [
    {
     "data": {
      "text/plain": [
       "0.8361132918807133"
      ]
     },
     "execution_count": 26,
     "metadata": {},
     "output_type": "execute_result"
    }
   ],
   "source": [
    "# Cross-Val Score\n",
    "cross_val_score(tree, X_train, y_train, cv = 5).mean()"
   ]
  },
  {
   "cell_type": "markdown",
   "metadata": {},
   "source": [
    "The Desicion Tree doesn't perform as well as K-Nearest Neighbors at the moment. Let's move onto Random Forests, to see how that works."
   ]
  },
  {
   "cell_type": "markdown",
   "metadata": {},
   "source": [
    "### Bagging Classifier Model"
   ]
  },
  {
   "cell_type": "code",
   "execution_count": 27,
   "metadata": {},
   "outputs": [
    {
     "data": {
      "text/plain": [
       "BaggingClassifier(base_estimator=None, bootstrap=True, bootstrap_features=False,\n",
       "                  max_features=1.0, max_samples=1.0, n_estimators=10,\n",
       "                  n_jobs=None, oob_score=False, random_state=None, verbose=0,\n",
       "                  warm_start=False)"
      ]
     },
     "execution_count": 27,
     "metadata": {},
     "output_type": "execute_result"
    }
   ],
   "source": [
    "bagging = BaggingClassifier()\n",
    "bagging.fit(X_train, y_train)"
   ]
  },
  {
   "cell_type": "code",
   "execution_count": 28,
   "metadata": {},
   "outputs": [
    {
     "data": {
      "text/plain": [
       "0.9918512127312817"
      ]
     },
     "execution_count": 28,
     "metadata": {},
     "output_type": "execute_result"
    }
   ],
   "source": [
    "# Training Score\n",
    "bagging.score(X_train, y_train)"
   ]
  },
  {
   "cell_type": "code",
   "execution_count": 29,
   "metadata": {},
   "outputs": [
    {
     "data": {
      "text/plain": [
       "0.8823867721063983"
      ]
     },
     "execution_count": 29,
     "metadata": {},
     "output_type": "execute_result"
    }
   ],
   "source": [
    "# Test Score\n",
    "bagging.score(X_test, y_test)"
   ]
  },
  {
   "cell_type": "code",
   "execution_count": 30,
   "metadata": {},
   "outputs": [
    {
     "data": {
      "text/plain": [
       "0.8742211665689055"
      ]
     },
     "execution_count": 30,
     "metadata": {},
     "output_type": "execute_result"
    }
   ],
   "source": [
    "# Cross-Val Score\n",
    "cross_val_score(bagging, X_train, y_train, cv = 5).mean()"
   ]
  },
  {
   "cell_type": "markdown",
   "metadata": {},
   "source": [
    "The Bagging Classifier looks like the best model so far.  It could definitely still be better, though. Let's move on to a Random Forest Model next."
   ]
  },
  {
   "cell_type": "markdown",
   "metadata": {},
   "source": [
    "### Random Forest Model"
   ]
  },
  {
   "cell_type": "code",
   "execution_count": 31,
   "metadata": {},
   "outputs": [
    {
     "data": {
      "text/plain": [
       "RandomForestClassifier(bootstrap=True, ccp_alpha=0.0, class_weight=None,\n",
       "                       criterion='gini', max_depth=None, max_features='auto',\n",
       "                       max_leaf_nodes=None, max_samples=None,\n",
       "                       min_impurity_decrease=0.0, min_impurity_split=None,\n",
       "                       min_samples_leaf=1, min_samples_split=2,\n",
       "                       min_weight_fraction_leaf=0.0, n_estimators=100,\n",
       "                       n_jobs=None, oob_score=False, random_state=None,\n",
       "                       verbose=0, warm_start=False)"
      ]
     },
     "execution_count": 31,
     "metadata": {},
     "output_type": "execute_result"
    }
   ],
   "source": [
    "rand_forest = RandomForestClassifier()\n",
    "rand_forest.fit(X_train, y_train)"
   ]
  },
  {
   "cell_type": "code",
   "execution_count": 32,
   "metadata": {},
   "outputs": [
    {
     "data": {
      "text/plain": [
       "1.0"
      ]
     },
     "execution_count": 32,
     "metadata": {},
     "output_type": "execute_result"
    }
   ],
   "source": [
    "# Training Score\n",
    "rand_forest.score(X_train, y_train)"
   ]
  },
  {
   "cell_type": "code",
   "execution_count": 33,
   "metadata": {},
   "outputs": [
    {
     "data": {
      "text/plain": [
       "0.8930265995686556"
      ]
     },
     "execution_count": 33,
     "metadata": {},
     "output_type": "execute_result"
    }
   ],
   "source": [
    "# Test Score\n",
    "rand_forest.score(X_test, y_test)"
   ]
  },
  {
   "cell_type": "code",
   "execution_count": 34,
   "metadata": {},
   "outputs": [
    {
     "data": {
      "text/plain": [
       "0.8865881750439236"
      ]
     },
     "execution_count": 34,
     "metadata": {},
     "output_type": "execute_result"
    }
   ],
   "source": [
    "# Cross-Val Score\n",
    "cross_val_score(rand_forest, X_train, y_train, cv = 5).mean()"
   ]
  },
  {
   "cell_type": "markdown",
   "metadata": {},
   "source": [
    "This model works almost as well as the Bagging model, but there is still room for improvement. Let's increase the randomness of the model and try to reduce the variance with an Extra Trees model."
   ]
  },
  {
   "cell_type": "markdown",
   "metadata": {},
   "source": [
    "### Extra Trees Model"
   ]
  },
  {
   "cell_type": "code",
   "execution_count": 35,
   "metadata": {
    "scrolled": true
   },
   "outputs": [
    {
     "data": {
      "text/plain": [
       "GridSearchCV(cv=5, error_score=nan,\n",
       "             estimator=Pipeline(memory=None,\n",
       "                                steps=[('extra_trees',\n",
       "                                        ExtraTreesClassifier(bootstrap=False,\n",
       "                                                             ccp_alpha=0.0,\n",
       "                                                             class_weight=None,\n",
       "                                                             criterion='gini',\n",
       "                                                             max_depth=None,\n",
       "                                                             max_features='auto',\n",
       "                                                             max_leaf_nodes=None,\n",
       "                                                             max_samples=None,\n",
       "                                                             min_impurity_decrease=0.0,\n",
       "                                                             min_impurity_split=None,\n",
       "                                                             min_samples_leaf=1,\n",
       "                                                             min_samples_split=2,\n",
       "                                                             min_weight_fraction_leaf=0.0,\n",
       "                                                             n_estimators=100,\n",
       "                                                             n_jobs=None,\n",
       "                                                             oob_score=False,\n",
       "                                                             random_state=None,\n",
       "                                                             verbose=0,\n",
       "                                                             warm_start=False))],\n",
       "                                verbose=False),\n",
       "             iid='deprecated', n_jobs=-2,\n",
       "             param_grid={'extra_trees__n_estimators': [300, 400, 500, 600]},\n",
       "             pre_dispatch='2*n_jobs', refit=True, return_train_score=False,\n",
       "             scoring='accuracy', verbose=0)"
      ]
     },
     "execution_count": 35,
     "metadata": {},
     "output_type": "execute_result"
    }
   ],
   "source": [
    "pipe = Pipeline(steps=[('extra_trees', ExtraTreesClassifier())])\n",
    "\n",
    "params = {'extra_trees__n_estimators': [300, 400, 500, 600]}\n",
    "gs_extra_trees = GridSearchCV(pipe,\n",
    "                              param_grid=params,\n",
    "                              cv=5,\n",
    "                              scoring='accuracy',\n",
    "                              n_jobs=-2)\n",
    "gs_extra_trees.fit(X_train, y_train)"
   ]
  },
  {
   "cell_type": "code",
   "execution_count": 36,
   "metadata": {},
   "outputs": [
    {
     "data": {
      "text/plain": [
       "Pipeline(memory=None,\n",
       "         steps=[('extra_trees',\n",
       "                 ExtraTreesClassifier(bootstrap=False, ccp_alpha=0.0,\n",
       "                                      class_weight=None, criterion='gini',\n",
       "                                      max_depth=None, max_features='auto',\n",
       "                                      max_leaf_nodes=None, max_samples=None,\n",
       "                                      min_impurity_decrease=0.0,\n",
       "                                      min_impurity_split=None,\n",
       "                                      min_samples_leaf=1, min_samples_split=2,\n",
       "                                      min_weight_fraction_leaf=0.0,\n",
       "                                      n_estimators=600, n_jobs=None,\n",
       "                                      oob_score=False, random_state=None,\n",
       "                                      verbose=0, warm_start=False))],\n",
       "         verbose=False)"
      ]
     },
     "execution_count": 36,
     "metadata": {},
     "output_type": "execute_result"
    }
   ],
   "source": [
    "# Best Estimator for GridSearch\n",
    "gs_extra_trees.best_estimator_"
   ]
  },
  {
   "cell_type": "code",
   "execution_count": 37,
   "metadata": {},
   "outputs": [
    {
     "data": {
      "text/plain": [
       "1.0"
      ]
     },
     "execution_count": 37,
     "metadata": {},
     "output_type": "execute_result"
    }
   ],
   "source": [
    "# Training Score\n",
    "gs_extra_trees.score(X_train, y_train)"
   ]
  },
  {
   "cell_type": "code",
   "execution_count": 38,
   "metadata": {
    "scrolled": true
   },
   "outputs": [
    {
     "data": {
      "text/plain": [
       "0.8956146657081236"
      ]
     },
     "execution_count": 38,
     "metadata": {},
     "output_type": "execute_result"
    }
   ],
   "source": [
    "# Test Score\n",
    "gs_extra_trees.score(X_test, y_test)"
   ]
  },
  {
   "cell_type": "code",
   "execution_count": 39,
   "metadata": {},
   "outputs": [
    {
     "data": {
      "text/plain": [
       "0.8864441293720601"
      ]
     },
     "execution_count": 39,
     "metadata": {},
     "output_type": "execute_result"
    }
   ],
   "source": [
    "# Cross-Val Score\n",
    "cross_val_score(gs_extra_trees.best_estimator_, X_train, y_train, cv = 5).mean()"
   ]
  },
  {
   "cell_type": "markdown",
   "metadata": {},
   "source": [
    "That's an even better model, but we can still improve a lot. Let's try another boosting model like AdaBoost to see how well it performs."
   ]
  },
  {
   "cell_type": "markdown",
   "metadata": {},
   "source": [
    "### AdaBoost Model"
   ]
  },
  {
   "cell_type": "code",
   "execution_count": 40,
   "metadata": {},
   "outputs": [
    {
     "data": {
      "text/plain": [
       "AdaBoostClassifier(algorithm='SAMME.R', base_estimator=None, learning_rate=1.0,\n",
       "                   n_estimators=200, random_state=None)"
      ]
     },
     "execution_count": 40,
     "metadata": {},
     "output_type": "execute_result"
    }
   ],
   "source": [
    "ada = AdaBoostClassifier(n_estimators = 200)\n",
    "ada.fit(X_train, y_train)"
   ]
  },
  {
   "cell_type": "code",
   "execution_count": 41,
   "metadata": {},
   "outputs": [
    {
     "data": {
      "text/plain": [
       "0.8312242354520181"
      ]
     },
     "execution_count": 41,
     "metadata": {},
     "output_type": "execute_result"
    }
   ],
   "source": [
    "# Training Score\n",
    "ada.score(X_train, y_train)"
   ]
  },
  {
   "cell_type": "code",
   "execution_count": 42,
   "metadata": {},
   "outputs": [
    {
     "data": {
      "text/plain": [
       "0.8215672178289001"
      ]
     },
     "execution_count": 42,
     "metadata": {},
     "output_type": "execute_result"
    }
   ],
   "source": [
    "# Testing Score\n",
    "ada.score(X_test, y_test)"
   ]
  },
  {
   "cell_type": "code",
   "execution_count": 43,
   "metadata": {},
   "outputs": [
    {
     "data": {
      "text/plain": [
       "0.821781097908552"
      ]
     },
     "execution_count": 43,
     "metadata": {},
     "output_type": "execute_result"
    }
   ],
   "source": [
    "# Cross-Val Score\n",
    "cross_val_score(ada, X_train, y_train, cv = 5).mean()"
   ]
  },
  {
   "cell_type": "markdown",
   "metadata": {},
   "source": [
    "This model is worse than most of the previous models, the Extra Trees model is still the best option for the moment. Let's try moving on to a Voting Classifier to see how well it performs."
   ]
  },
  {
   "cell_type": "markdown",
   "metadata": {},
   "source": [
    "### Gradient Boost Model"
   ]
  },
  {
   "cell_type": "code",
   "execution_count": 44,
   "metadata": {},
   "outputs": [
    {
     "data": {
      "text/plain": [
       "GradientBoostingClassifier(ccp_alpha=0.0, criterion='friedman_mse', init=None,\n",
       "                           learning_rate=0.1, loss='deviance', max_depth=3,\n",
       "                           max_features=None, max_leaf_nodes=None,\n",
       "                           min_impurity_decrease=0.0, min_impurity_split=None,\n",
       "                           min_samples_leaf=1, min_samples_split=2,\n",
       "                           min_weight_fraction_leaf=0.0, n_estimators=100,\n",
       "                           n_iter_no_change=None, presort='deprecated',\n",
       "                           random_state=None, subsample=1.0, tol=0.0001,\n",
       "                           validation_fraction=0.1, verbose=0,\n",
       "                           warm_start=False)"
      ]
     },
     "execution_count": 44,
     "metadata": {},
     "output_type": "execute_result"
    }
   ],
   "source": [
    "grad_boost = GradientBoostingClassifier()\n",
    "grad_boost.fit(X_train, y_train)"
   ]
  },
  {
   "cell_type": "code",
   "execution_count": 45,
   "metadata": {},
   "outputs": [
    {
     "data": {
      "text/plain": [
       "0.8467069312625827"
      ]
     },
     "execution_count": 45,
     "metadata": {},
     "output_type": "execute_result"
    }
   ],
   "source": [
    "# Training Score\n",
    "grad_boost.score(X_train, y_train)"
   ]
  },
  {
   "cell_type": "code",
   "execution_count": 46,
   "metadata": {},
   "outputs": [
    {
     "data": {
      "text/plain": [
       "0.8363767074047448"
      ]
     },
     "execution_count": 46,
     "metadata": {},
     "output_type": "execute_result"
    }
   ],
   "source": [
    "# Test Score\n",
    "grad_boost.score(X_test, y_test)"
   ]
  },
  {
   "cell_type": "code",
   "execution_count": 47,
   "metadata": {
    "scrolled": true
   },
   "outputs": [
    {
     "data": {
      "text/plain": [
       "0.8347235883145059"
      ]
     },
     "execution_count": 47,
     "metadata": {},
     "output_type": "execute_result"
    }
   ],
   "source": [
    "# Cross-Val Score\n",
    "cross_val_score(grad_boost, X_train, y_train, cv = 5).mean()"
   ]
  },
  {
   "cell_type": "markdown",
   "metadata": {},
   "source": [
    "This model is slightly better than the AdaBoost model, but still not as good as the Extra Trees model. Let's try a Voting Classifier with the best performing models next."
   ]
  },
  {
   "cell_type": "markdown",
   "metadata": {},
   "source": [
    "### Voting Classifier Model"
   ]
  },
  {
   "cell_type": "code",
   "execution_count": 48,
   "metadata": {},
   "outputs": [
    {
     "data": {
      "text/plain": [
       "GridSearchCV(cv=5, error_score=nan,\n",
       "             estimator=VotingClassifier(estimators=[('x_tree',\n",
       "                                                     ExtraTreesClassifier(bootstrap=False,\n",
       "                                                                          ccp_alpha=0.0,\n",
       "                                                                          class_weight=None,\n",
       "                                                                          criterion='gini',\n",
       "                                                                          max_depth=None,\n",
       "                                                                          max_features='auto',\n",
       "                                                                          max_leaf_nodes=None,\n",
       "                                                                          max_samples=None,\n",
       "                                                                          min_impurity_decrease=0.0,\n",
       "                                                                          min_impurity_split=None,\n",
       "                                                                          min_samples_leaf=1,\n",
       "                                                                          min_samples_split=2,\n",
       "                                                                          min_weight_fraction_...\n",
       "                                                                                           n_jobs=None,\n",
       "                                                                                           n_neighbors=5,\n",
       "                                                                                           p=2,\n",
       "                                                                                           weights='uniform'))],\n",
       "                                                              verbose=False))],\n",
       "                                        flatten_transform=True, n_jobs=None,\n",
       "                                        voting='soft', weights=None),\n",
       "             iid='deprecated', n_jobs=-2,\n",
       "             param_grid={'knn_pipe__knn__n_neighbors': [3, 5, 7],\n",
       "                         'rand_forest__max_depth': [3, 4],\n",
       "                         'x_tree__max_depth': [None, 4]},\n",
       "             pre_dispatch='2*n_jobs', refit=True, return_train_score=False,\n",
       "             scoring='accuracy', verbose=0)"
      ]
     },
     "execution_count": 48,
     "metadata": {},
     "output_type": "execute_result"
    }
   ],
   "source": [
    "knn_pipe = Pipeline([('ss', StandardScaler()),\n",
    "                     ('knn', KNeighborsClassifier())])\n",
    "\n",
    "vote = VotingClassifier([\n",
    "    ('x_tree', ExtraTreesClassifier()),\n",
    "    ('rand_forest', RandomForestClassifier()),\n",
    "    ('knn_pipe', knn_pipe),\n",
    "],\n",
    "                        voting='soft')\n",
    "vote_params = {\n",
    "    'x_tree__max_depth': [None, 4],\n",
    "    'rand_forest__max_depth': [3, 4],\n",
    "    'knn_pipe__knn__n_neighbors': [3, 5, 7],\n",
    "}\n",
    "gs_vc = GridSearchCV(vote,\n",
    "                     param_grid=vote_params,\n",
    "                     cv=5,\n",
    "                     n_jobs=-2,\n",
    "                     scoring='accuracy')\n",
    "gs_vc.fit(X_train, y_train)"
   ]
  },
  {
   "cell_type": "code",
   "execution_count": 49,
   "metadata": {},
   "outputs": [
    {
     "data": {
      "text/plain": [
       "{'knn_pipe__knn__n_neighbors': 3,\n",
       " 'rand_forest__max_depth': 4,\n",
       " 'x_tree__max_depth': None}"
      ]
     },
     "execution_count": 49,
     "metadata": {},
     "output_type": "execute_result"
    }
   ],
   "source": [
    "gs_vc.best_params_"
   ]
  },
  {
   "cell_type": "code",
   "execution_count": 50,
   "metadata": {},
   "outputs": [
    {
     "data": {
      "text/plain": [
       "0.9953024638097977"
      ]
     },
     "execution_count": 50,
     "metadata": {},
     "output_type": "execute_result"
    }
   ],
   "source": [
    "# Training Score\n",
    "gs_vc.score(X_train, y_train)"
   ]
  },
  {
   "cell_type": "code",
   "execution_count": 51,
   "metadata": {},
   "outputs": [
    {
     "data": {
      "text/plain": [
       "0.8856937455068297"
      ]
     },
     "execution_count": 51,
     "metadata": {},
     "output_type": "execute_result"
    }
   ],
   "source": [
    "# Test Score\n",
    "gs_vc.score(X_test, y_test)"
   ]
  },
  {
   "cell_type": "code",
   "execution_count": 52,
   "metadata": {},
   "outputs": [
    {
     "data": {
      "text/plain": [
       "0.8769054201563767"
      ]
     },
     "execution_count": 52,
     "metadata": {},
     "output_type": "execute_result"
    }
   ],
   "source": [
    "#Cross-Val Score\n",
    "gs_vc.best_score_"
   ]
  },
  {
   "cell_type": "markdown",
   "metadata": {},
   "source": [
    "This model works well, but it's not as strong as the Extra Trees model."
   ]
  },
  {
   "cell_type": "markdown",
   "metadata": {},
   "source": [
    "## Model Selection"
   ]
  },
  {
   "cell_type": "markdown",
   "metadata": {},
   "source": [
    "The Extra Trees model labeled gs_extra_trees is the clear best model for this project. It has the best accuracy score, but we have test our model performance using a Confusion Matrix and ROC Curve."
   ]
  },
  {
   "cell_type": "markdown",
   "metadata": {},
   "source": [
    "## Model Evaluation"
   ]
  },
  {
   "cell_type": "code",
   "execution_count": 53,
   "metadata": {},
   "outputs": [],
   "source": [
    "# getting predictions and saving them to a csv for mapping\n",
    "preds = gs_extra_trees.predict(X)\n",
    "data['predicted_favela_present'] = preds\n",
    "map_df = data[['cd_geocodi', 'favela_present', 'predicted_favela_present']]\n",
    "map_df.to_csv('../data/predicted-favelas.csv', index=False)"
   ]
  },
  {
   "cell_type": "markdown",
   "metadata": {},
   "source": [
    "### Confusion Matrix"
   ]
  },
  {
   "cell_type": "code",
   "execution_count": 54,
   "metadata": {},
   "outputs": [
    {
     "data": {
      "image/png": "[encoded data removed]",
      "text/plain": [
       "<Figure size 1008x504 with 2 Axes>"
      ]
     },
     "metadata": {},
     "output_type": "display_data"
    }
   ],
   "source": [
    "y_pred = gs_extra_trees.predict(X_test) #getting predictions from the extra trees model\n",
    "\n",
    "def pretty_confusion_matrix(y_true, y_pred):\n",
    "    '''\n",
    "    Creates a confusion matrix and puts it into a prettier looking image.\n",
    "    '''\n",
    "    # handling data\n",
    "    cm = confusion_matrix(y_true, y_pred)\n",
    "    labels = y_true.unique()\n",
    "    labels.sort()\n",
    "    \n",
    "    \n",
    "    # plotting\n",
    "    sns.set(font_scale=1.5)\n",
    "    plt.figure(figsize=(14,7))\n",
    "    \n",
    "    chart = sns.heatmap(cm, annot=True, fmt='g', cmap=\"coolwarm\", xticklabels = labels, yticklabels = labels)\n",
    "    chart.set_yticklabels(chart.get_yticklabels(), rotation=0)\n",
    "    plt.title(\"Confusion Matrix\")\n",
    "    plt.xlabel('Predicted Class')\n",
    "    plt.ylabel('True Class')\n",
    "\n",
    "pretty_confusion_matrix(y_test, y_pred)"
   ]
  },
  {
   "cell_type": "code",
   "execution_count": 55,
   "metadata": {},
   "outputs": [
    {
     "name": "stdout",
     "output_type": "stream",
     "text": [
      "The True Negative Rate is 0.8368852459016394\n",
      "The True Positive Rate is 0.9095030514385353\n"
     ]
    }
   ],
   "source": [
    "TNR = 5216 / (5216 + 519)\n",
    "TPR = 1021 / (1021 + 199)\n",
    "print(f'The True Negative Rate is {TPR}')\n",
    "print(f'The True Positive Rate is {TNR}')"
   ]
  },
  {
   "cell_type": "markdown",
   "metadata": {},
   "source": [
    "Our model correctly predicts the presense of an informal settlement, or favela, 83.6% of the time. It correctly predicts the presence of settlements in 1021 census tracts, while incorrectly predicting the presense of a settlement in 199 tracts.\n",
    "\n",
    "The model performs slightly better when predicting the absence of an informal settlement, with a True Negative Rate of 90.9%. The model correctly predicts the lack of a settlement in 5216 tracts and incorrectly predicts the presense of a settlement where there likely is none in 519 tracts."
   ]
  },
  {
   "cell_type": "markdown",
   "metadata": {},
   "source": [
    "### ROC Curve"
   ]
  },
  {
   "cell_type": "code",
   "execution_count": 56,
   "metadata": {
    "scrolled": false
   },
   "outputs": [
    {
     "name": "stdout",
     "output_type": "stream",
     "text": [
      "No Skill: ROC AUC=0.500\n",
      "Logistic: ROC AUC=0.947\n"
     ]
    },
    {
     "data": {
      "image/png": "[encoded data removed]",
      "text/plain": [
       "<Figure size 720x504 with 1 Axes>"
      ]
     },
     "metadata": {},
     "output_type": "display_data"
    }
   ],
   "source": [
    "# Creating a DataFrame to facilitate plotting.\n",
    "pred_proba = [i[1] for i in gs_extra_trees.predict_proba(X_test)]\n",
    "pred_df = pd.DataFrame({'true_values': y_test, 'pred_probs': pred_proba})\n",
    "\n",
    "# Creating ROC Scores for baseline and best model.\n",
    "ns_probs = [0 for _ in range(len(y_test))]\n",
    "pipe_probs = gs_extra_trees.predict_proba(X_test)\n",
    "pipe_probs = pipe_probs[:, 1]\n",
    "ns_auc = roc_auc_score(y_test, ns_probs)\n",
    "pipe_auc = roc_auc_score(y_test, pipe_probs)\n",
    "# summarize scores\n",
    "print('No Skill: ROC AUC=%.3f' % (ns_auc))\n",
    "print('Logistic: ROC AUC=%.3f' % (pipe_auc))\n",
    "# Create figure.\n",
    "plt.figure(figsize=(10, 7))\n",
    "# Create threshold values.\n",
    "thresholds = np.linspace(0, 1, 200)\n",
    "\n",
    "\n",
    "# Define function to calculate sensitivity. (True positive rate.)\n",
    "def TPR(df, true_col, pred_prob_col, threshold):\n",
    "    true_positive = df[(df[true_col] == 1)\n",
    "                       & (df[pred_prob_col] >= threshold)].shape[0]\n",
    "    false_negative = df[(df[true_col] == 1)\n",
    "                        & (df[pred_prob_col] < threshold)].shape[0]\n",
    "    return true_positive / (true_positive + false_negative)\n",
    "\n",
    "\n",
    "# Define function to calculate 1 - specificity. (False positive rate.)\n",
    "def FPR(df, true_col, pred_prob_col, threshold):\n",
    "    true_negative = df[(df[true_col] == 0)\n",
    "                       & (df[pred_prob_col] <= threshold)].shape[0]\n",
    "    false_positive = df[(df[true_col] == 0)\n",
    "                        & (df[pred_prob_col] > threshold)].shape[0]\n",
    "    return 1 - (true_negative / (true_negative + false_positive))\n",
    "\n",
    "\n",
    "# Calculate sensitivity & 1-specificity for each threshold between 0 and 1.\n",
    "tpr_values = [\n",
    "    TPR(pred_df, 'true_values', 'pred_probs', prob) for prob in thresholds\n",
    "]\n",
    "fpr_values = [\n",
    "    FPR(pred_df, 'true_values', 'pred_probs', prob) for prob in thresholds\n",
    "]\n",
    "# Plot ROC curve.\n",
    "plt.plot(\n",
    "    fpr_values,  # False Positive Rate on X-axis\n",
    "    tpr_values,  # True Positive Rate on Y-axis\n",
    "    label='ROC Curve')\n",
    "# Plot baseline. (Perfect overlap between the two populations.)\n",
    "plt.plot(np.linspace(0, 1, 200),\n",
    "         np.linspace(0, 1, 200),\n",
    "         label='baseline',\n",
    "         linestyle='--')\n",
    "# Label axes.\n",
    "plt.title('Receiver Operating Characteristic Curve', fontsize=22)\n",
    "plt.ylabel('Sensitivity', fontsize=18)\n",
    "plt.xlabel('1 - Specificity', fontsize=18)\n",
    "# Create legend.\n",
    "plt.legend(fontsize=16);"
   ]
  },
  {
   "cell_type": "markdown",
   "metadata": {},
   "source": [
    "The ROC AUC of the model is 94.6%, meaning there is a 94.6% chance that it will correctly predict the presense or absence of an informal settlement. With more time to find the values that the model predicts incorrectly there's a chance that score could be higher, but it is still quite high as it is."
   ]
  },
  {
   "cell_type": "code",
   "execution_count": 57,
   "metadata": {},
   "outputs": [
    {
     "data": {
      "image/png": "[encoded data removed]",
      "text/plain": [
       "<Figure size 720x1080 with 1 Axes>"
      ]
     },
     "metadata": {},
     "output_type": "display_data"
    }
   ],
   "source": [
    "# getting the feature importances crom the model\n",
    "feats = gs_extra_trees.best_estimator_.steps[0][1].feature_importances_\n",
    "# getting keys of the test set\n",
    "keys = X_test.keys()\n",
    "# zipping the keys and feature importances\n",
    "feat_import = pd.DataFrame(list(zip(keys, feats)),\n",
    "                           columns=['feature', 'importance'])\n",
    "# sorting the dataframe by importance\n",
    "feat_import = feat_import.sort_values(by='importance', ascending=False)\n",
    "\n",
    "# plotting importance\n",
    "plt.figure(figsize=(10, 15))\n",
    "plt.title('Feature Importance', fontsize=25)\n",
    "sns.set_style(\"darkgrid\")\n",
    "sns.barplot(data=feat_import,\n",
    "            x='importance',\n",
    "            y='feature',\n",
    "            orient='h',\n",
    "            palette=\"gist_earth\")\n",
    "plt.xlabel('importance', fontsize=20)\n",
    "plt.ylabel('feature', fontsize=20)\n",
    "plt.tick_params(labelsize=20)"
   ]
  },
  {
   "cell_type": "markdown",
   "metadata": {},
   "source": [
    "The most important features in the Extra Tree model are those that deal with the distance to the closest real estate listing. The biggest indicator is the distance to the closest listing from the São Paulo dataset we used. That data set included apartments that were only located in the city, as opposed to the other dataset which contained national Brazil real estate listings. The second and third most important features were the distance to the closest private home and store real estate listings.\n",
    "\n",
    "The number of apartment, store, house, and private home listings in a census tract were not important features in the model. This lines up with the idea that informal settlements can pop up anywhere in an urban environment, regardless of how close they are to other buildings or services. Some favelas, like Paraisópolis, even have stores and services such as hospitals inside of them. Paraisópolis is an anolomy, however, as not all informal settlements have power and city services like it has.\n",
    "\n",
    "According to [GSRDC](https://gsdrc.org/topic-guides/urban-governance/key-policy-challenges/informal-settlements/), most informal settlements usually lack basic services and city infrastructure.\n",
    "\n",
    "Unfortunately, due do the model used, we cannot know how exactly these features impact the results. Even just one tree from the model is too large to reasonably graph, and no other model we used performs as well. We can, however, look at the coefficients of the Logitic Regression model, which performs about as well as the baseline model, to see how each feature impacts that model."
   ]
  },
  {
   "cell_type": "code",
   "execution_count": 77,
   "metadata": {},
   "outputs": [
    {
     "data": {
      "image/png": "[encoded data removed]",
      "text/plain": [
       "<Figure size 720x1080 with 1 Axes>"
      ]
     },
     "metadata": {},
     "output_type": "display_data"
    }
   ],
   "source": [
    "# getting the feature coefficiants crom the Logistic Regression model\n",
    "coefs = gs_lr.best_estimator_.steps[1][1].coef_\n",
    "# getting keys of the test set\n",
    "keys = X_test.keys()\n",
    "# zipping the keys and feature importances\n",
    "feat_coef = pd.DataFrame(list(zip(keys, coefs[0])),\n",
    "                         columns=['feature', 'coefficient'])\n",
    "# sorting the dataframe by coefficients\n",
    "feat_coef = feat_coef.sort_values(by='coefficient', ascending=False)\n",
    "\n",
    "# plotting coefficients\n",
    "plt.figure(figsize=(10, 15))\n",
    "plt.title('Feature Coefficients', fontsize=25)\n",
    "sns.set_style(\"darkgrid\")\n",
    "sns.barplot(data=feat_coef,\n",
    "            x='coefficient',\n",
    "            y='feature',\n",
    "            orient='h',\n",
    "            palette=\"gist_earth\")\n",
    "plt.xlabel('coefficient', fontsize=20)\n",
    "plt.ylabel('feature', fontsize=20)\n",
    "plt.tick_params(labelsize=20)"
   ]
  },
  {
   "cell_type": "markdown",
   "metadata": {},
   "source": [
    "In the Logisitic Regression model, the distance to the nearest apartments in the São Paulo dataset is the biggest indicator that an informal settlement is not located in each census tract. The number of listings per area and listings per population are also big indicators that a favela isn't present in the tract.\n",
    "\n",
    "The distance to and price of private homes are also strong indicators that there's a lack of a favela in the census tract.\n",
    "\n",
    "The distance to the closest apartment listing from the Brazil dataset and distance to the closest store listing were important in the Extra Trees model. They are also the strongest indictaors of the presense of a favela in the Logisitic Regression model. Population estimate is also a stronger indicator of the presence of a favela, though it wasn't very important in the Extra Trees Model.\n",
    "\n",
    "Features such as the total number of listings in a tract, the numer of store listings in a tract, and angle of the nearest house listing as all insignificant in the Linear Regression model."
   ]
  },
  {
   "cell_type": "markdown",
   "metadata": {},
   "source": [
    "## Conclusion"
   ]
  },
  {
   "cell_type": "markdown",
   "metadata": {},
   "source": [
    "Using real estate listings and population mapped to census tracts we were able to find a few models that predicted the presense or absence of informal settlements in São Paulo with relatively high accuracy. We found that the distance from real estate listings were the biggest indicators of where a favela is present in the city. The price and number of those listings matter much less, however.\n",
    "\n",
    "This method could potentially be expanded to other cities, but would rely on finding the required data. Different cities would likely require different data, however. In Alexandria, Egypt, for example, informal settlements are more likely to [encroach on agricultural land](https://www.sciencedirect.com/science/article/pii/S111001681730279X). All we can say for sure is that the models we used work in São Paulo, and potentially other cities in the region."
   ]
  },
  {
   "cell_type": "markdown",
   "metadata": {},
   "source": [
    "### Recommendations and Limitations"
   ]
  },
  {
   "cell_type": "markdown",
   "metadata": {},
   "source": [
    "As noted in the conclusion, we recommend using different models for different regions. While this model works well for the city we tested in on, it may not work well in less urban environments where informal settlements may be constructed.\n",
    "\n",
    "This method isn't perfect, and will likely work best when used in conjunction with other methods of detecting informal settlements using satellite data. A combination of the two would likely yield better results than these models alone.\n",
    "\n",
    "One limitation is that very small favelas will mark an entire census tract as having an informal settlement within it. Future iterations may want to limit the number of small informal settlements included in the model.\n",
    "\n",
    "Future versions may also want to avoid using census tracts as a geographical unit as they tend to have unusual shapes. Other methods should be considered for geographical mapping."
   ]
  },
  {
   "cell_type": "markdown",
   "metadata": {},
   "source": [
    "## References"
   ]
  },
  {
   "cell_type": "markdown",
   "metadata": {},
   "source": [
    "- https://gsdrc.org/topic-guides/urban-governance/key-policy-challenges/informal-settlements\n",
    "- https://www.sciencedirect.com/science/article/pii/S111001681730279X"
   ]
  },
  {
   "cell_type": "code",
   "execution_count": null,
   "metadata": {},
   "outputs": [],
   "source": []
  }
 ],
 "metadata": {
  "kernelspec": {
   "display_name": "Python 3",
   "language": "python",
   "name": "python3"
  },
  "language_info": {
   "codemirror_mode": {
    "name": "ipython",
    "version": 3
   },
   "file_extension": ".py",
   "mimetype": "text/x-python",
   "name": "python",
   "nbconvert_exporter": "python",
   "pygments_lexer": "ipython3",
   "version": "3.7.5"
  },
  "toc": {
   "base_numbering": 1,
   "nav_menu": {},
   "number_sections": true,
   "sideBar": true,
   "skip_h1_title": true,
   "title_cell": "Table of Contents",
   "title_sidebar": "Contents",
   "toc_cell": false,
   "toc_position": {
    "height": "calc(100% - 180px)",
    "left": "10px",
    "top": "150px",
    "width": "314px"
   },
   "toc_section_display": true,
   "toc_window_display": false
  },
  "varInspector": {
   "cols": {
    "lenName": 16,
    "lenType": 16,
    "lenVar": 40
   },
   "kernels_config": {
    "python": {
     "delete_cmd_postfix": "",
     "delete_cmd_prefix": "del ",
     "library": "var_list.py",
     "varRefreshCmd": "print(var_dic_list())"
    },
    "r": {
     "delete_cmd_postfix": ") ",
     "delete_cmd_prefix": "rm(",
     "library": "var_list.r",
     "varRefreshCmd": "cat(var_dic_list()) "
    }
   },
   "types_to_exclude": [
    "module",
    "function",
    "builtin_function_or_method",
    "instance",
    "_Feature"
   ],
   "window_display": false
  }
 },
 "nbformat": 4,
 "nbformat_minor": 2
}
