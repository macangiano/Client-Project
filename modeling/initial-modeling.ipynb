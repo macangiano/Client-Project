{
 "cells": [
  {
   "cell_type": "markdown",
   "metadata": {},
   "source": [
    "## Table of Contents\n",
    " 1. [Importing Libraries & Data](#Importing-Libraries-&-Data)\n",
    " 2. [Modeling](#Modeling)\n",
    "  - [Base Model](#Base-Model)\n",
    "  - [Logistic Regression Model](#Logistic-Regression-Model)\n",
    "  - [KNN Model](#KNN-Model)\n",
    "  - [Decision Tree Model](#Decision-Tree-Model)\n",
    "  - [Bagging Classifier Model](#Bagging-Classifier-Model)\n",
    "  - [Random Forest Model](#Random-Forest-Model)\n",
    "  - [Extra Trees Model](#Extra-Trees-Model)\n",
    "  - [AdaBoost Model](#AdaBoost-Model)\n",
    "  - [Gradient Boost Model](#Gradient-Boost-Model)\n",
    "  - [Voting Classifier Model](#Voting-Classifier-Model)\n",
    " 3. [Model Selection](#Model-Selection)\n",
    " 4. [Model Evaluation](#Model-Evaluation)\n",
    " 5. [Conclusion](#Conclusion)\n",
    " 6. [Recommendations and Limitations](#Recommendations-and-Limitations)\n",
    " 7. [References](#References)"
   ]
  },
  {
   "cell_type": "markdown",
   "metadata": {},
   "source": [
    "# Importing Libraries & Data"
   ]
  },
  {
   "cell_type": "code",
   "execution_count": 1,
   "metadata": {},
   "outputs": [
    {
     "name": "stderr",
     "output_type": "stream",
     "text": [
      "/Users/lindsayleedham/opt/anaconda3/envs/dsi/lib/python3.7/site-packages/statsmodels/tools/_testing.py:19: FutureWarning: pandas.util.testing is deprecated. Use the functions in the public API at pandas.testing instead.\n",
      "  import pandas.util.testing as tm\n"
     ]
    }
   ],
   "source": [
    "import pandas as pd\n",
    "import numpy as np\n",
    "import matplotlib.pyplot as plt\n",
    "import seaborn as sns\n",
    "from sklearn.model_selection import cross_val_score, train_test_split, GridSearchCV\n",
    "from sklearn.linear_model import LogisticRegression\n",
    "from sklearn.naive_bayes import MultinomialNB, GaussianNB\n",
    "from sklearn.neighbors import KNeighborsClassifier\n",
    "from sklearn.svm import SVC\n",
    "from sklearn.ensemble import BaggingClassifier, RandomForestClassifier, ExtraTreesClassifier\n",
    "from sklearn.tree import DecisionTreeClassifier\n",
    "from sklearn.metrics import confusion_matrix, roc_auc_score\n",
    "from sklearn.preprocessing import StandardScaler\n",
    "from sklearn.linear_model import LinearRegression\n",
    "from sklearn.pipeline import Pipeline\n",
    "from sklearn.datasets import make_classification\n",
    "from sklearn.ensemble import GradientBoostingClassifier, AdaBoostClassifier, VotingClassifier, RandomForestClassifier\n",
    "from sklearn.tree import DecisionTreeClassifier\n",
    "from sklearn.neighbors import KNeighborsClassifier\n",
    "from sklearn.tree import export_graphviz\n",
    "\n",
    "\n",
    "\n",
    "import warnings\n",
    "warnings.filterwarnings('ignore')"
   ]
  },
  {
   "cell_type": "code",
   "execution_count": 2,
   "metadata": {},
   "outputs": [],
   "source": [
    "data = pd.read_csv('final_dataset.csv')"
   ]
  },
  {
   "cell_type": "code",
   "execution_count": 3,
   "metadata": {},
   "outputs": [
    {
     "data": {
      "text/html": [
       "<div>\n",
       "<style scoped>\n",
       "    .dataframe tbody tr th:only-of-type {\n",
       "        vertical-align: middle;\n",
       "    }\n",
       "\n",
       "    .dataframe tbody tr th {\n",
       "        vertical-align: top;\n",
       "    }\n",
       "\n",
       "    .dataframe thead th {\n",
       "        text-align: right;\n",
       "    }\n",
       "</style>\n",
       "<table border=\"1\" class=\"dataframe\">\n",
       "  <thead>\n",
       "    <tr style=\"text-align: right;\">\n",
       "      <th></th>\n",
       "      <th>cd_geocodi</th>\n",
       "      <th>nm_subdist</th>\n",
       "      <th>nm_distrit</th>\n",
       "      <th>nm_municip</th>\n",
       "      <th>nm_micro</th>\n",
       "      <th>nm_meso</th>\n",
       "      <th>id1</th>\n",
       "      <th>geog_orig_area</th>\n",
       "      <th>favela_present</th>\n",
       "      <th>favela_area_squaremeters</th>\n",
       "      <th>...</th>\n",
       "      <th>brazil_store_near_price</th>\n",
       "      <th>brazil_ph_count_listings</th>\n",
       "      <th>brazil_ph_near_fid</th>\n",
       "      <th>brazil_ph_near_dist</th>\n",
       "      <th>brazil_ph_near_angle</th>\n",
       "      <th>brazil_ph_near_price</th>\n",
       "      <th>population_estimate</th>\n",
       "      <th>total_listing_count</th>\n",
       "      <th>listing/pop</th>\n",
       "      <th>listing/area</th>\n",
       "    </tr>\n",
       "  </thead>\n",
       "  <tbody>\n",
       "    <tr>\n",
       "      <th>0</th>\n",
       "      <td>350570810000023</td>\n",
       "      <td></td>\n",
       "      <td>ALDEIA</td>\n",
       "      <td>BARUERI</td>\n",
       "      <td>OSASCO</td>\n",
       "      <td>METROPOLITANA DE STO PAULO</td>\n",
       "      <td>4151</td>\n",
       "      <td>2.257383e+05</td>\n",
       "      <td>0.0</td>\n",
       "      <td>0.0</td>\n",
       "      <td>...</td>\n",
       "      <td>1200.0</td>\n",
       "      <td>0.0</td>\n",
       "      <td>31</td>\n",
       "      <td>8889.189773</td>\n",
       "      <td>-158.493799</td>\n",
       "      <td>2500.0</td>\n",
       "      <td>1164.570831</td>\n",
       "      <td>0.0</td>\n",
       "      <td>0.000000</td>\n",
       "      <td>0.000000</td>\n",
       "    </tr>\n",
       "    <tr>\n",
       "      <th>1</th>\n",
       "      <td>350570810000025</td>\n",
       "      <td></td>\n",
       "      <td>ALDEIA</td>\n",
       "      <td>BARUERI</td>\n",
       "      <td>OSASCO</td>\n",
       "      <td>METROPOLITANA DE STO PAULO</td>\n",
       "      <td>4153</td>\n",
       "      <td>3.926667e+04</td>\n",
       "      <td>0.0</td>\n",
       "      <td>0.0</td>\n",
       "      <td>...</td>\n",
       "      <td>1200.0</td>\n",
       "      <td>0.0</td>\n",
       "      <td>31</td>\n",
       "      <td>8546.979457</td>\n",
       "      <td>-156.899284</td>\n",
       "      <td>2500.0</td>\n",
       "      <td>413.065460</td>\n",
       "      <td>0.0</td>\n",
       "      <td>0.000000</td>\n",
       "      <td>0.000000</td>\n",
       "    </tr>\n",
       "    <tr>\n",
       "      <th>2</th>\n",
       "      <td>350570805000043</td>\n",
       "      <td></td>\n",
       "      <td>BARUERI</td>\n",
       "      <td>BARUERI</td>\n",
       "      <td>OSASCO</td>\n",
       "      <td>METROPOLITANA DE SuO PAULO</td>\n",
       "      <td>4380</td>\n",
       "      <td>3.925101e+04</td>\n",
       "      <td>0.0</td>\n",
       "      <td>0.0</td>\n",
       "      <td>...</td>\n",
       "      <td>550.0</td>\n",
       "      <td>0.0</td>\n",
       "      <td>31</td>\n",
       "      <td>17668.657905</td>\n",
       "      <td>-146.372789</td>\n",
       "      <td>2500.0</td>\n",
       "      <td>424.170563</td>\n",
       "      <td>0.0</td>\n",
       "      <td>0.000000</td>\n",
       "      <td>0.000000</td>\n",
       "    </tr>\n",
       "    <tr>\n",
       "      <th>3</th>\n",
       "      <td>350570805000056</td>\n",
       "      <td></td>\n",
       "      <td>BARUERI</td>\n",
       "      <td>BARUERI</td>\n",
       "      <td>OSASCO</td>\n",
       "      <td>METROPOLITANA DE SuO PAULO</td>\n",
       "      <td>4393</td>\n",
       "      <td>7.136625e+04</td>\n",
       "      <td>0.0</td>\n",
       "      <td>0.0</td>\n",
       "      <td>...</td>\n",
       "      <td>7560.0</td>\n",
       "      <td>0.0</td>\n",
       "      <td>31</td>\n",
       "      <td>14395.394220</td>\n",
       "      <td>-159.666627</td>\n",
       "      <td>2500.0</td>\n",
       "      <td>272.054306</td>\n",
       "      <td>3.0</td>\n",
       "      <td>0.011027</td>\n",
       "      <td>0.000042</td>\n",
       "    </tr>\n",
       "    <tr>\n",
       "      <th>4</th>\n",
       "      <td>350570805000057</td>\n",
       "      <td></td>\n",
       "      <td>BARUERI</td>\n",
       "      <td>BARUERI</td>\n",
       "      <td>OSASCO</td>\n",
       "      <td>METROPOLITANA DE SuO PAULO</td>\n",
       "      <td>4394</td>\n",
       "      <td>1.264789e+06</td>\n",
       "      <td>0.0</td>\n",
       "      <td>0.0</td>\n",
       "      <td>...</td>\n",
       "      <td>7560.0</td>\n",
       "      <td>0.0</td>\n",
       "      <td>31</td>\n",
       "      <td>13056.248015</td>\n",
       "      <td>-160.753356</td>\n",
       "      <td>2500.0</td>\n",
       "      <td>2401.068539</td>\n",
       "      <td>6.0</td>\n",
       "      <td>0.002499</td>\n",
       "      <td>0.000005</td>\n",
       "    </tr>\n",
       "  </tbody>\n",
       "</table>\n",
       "<p>5 rows × 39 columns</p>\n",
       "</div>"
      ],
      "text/plain": [
       "        cd_geocodi nm_subdist nm_distrit nm_municip nm_micro  \\\n",
       "0  350570810000023                ALDEIA    BARUERI   OSASCO   \n",
       "1  350570810000025                ALDEIA    BARUERI   OSASCO   \n",
       "2  350570805000043               BARUERI    BARUERI   OSASCO   \n",
       "3  350570805000056               BARUERI    BARUERI   OSASCO   \n",
       "4  350570805000057               BARUERI    BARUERI   OSASCO   \n",
       "\n",
       "                      nm_meso   id1  geog_orig_area  favela_present  \\\n",
       "0  METROPOLITANA DE STO PAULO  4151    2.257383e+05             0.0   \n",
       "1  METROPOLITANA DE STO PAULO  4153    3.926667e+04             0.0   \n",
       "2  METROPOLITANA DE SuO PAULO  4380    3.925101e+04             0.0   \n",
       "3  METROPOLITANA DE SuO PAULO  4393    7.136625e+04             0.0   \n",
       "4  METROPOLITANA DE SuO PAULO  4394    1.264789e+06             0.0   \n",
       "\n",
       "   favela_area_squaremeters  ...  brazil_store_near_price  \\\n",
       "0                       0.0  ...                   1200.0   \n",
       "1                       0.0  ...                   1200.0   \n",
       "2                       0.0  ...                    550.0   \n",
       "3                       0.0  ...                   7560.0   \n",
       "4                       0.0  ...                   7560.0   \n",
       "\n",
       "   brazil_ph_count_listings  brazil_ph_near_fid  brazil_ph_near_dist  \\\n",
       "0                       0.0                  31          8889.189773   \n",
       "1                       0.0                  31          8546.979457   \n",
       "2                       0.0                  31         17668.657905   \n",
       "3                       0.0                  31         14395.394220   \n",
       "4                       0.0                  31         13056.248015   \n",
       "\n",
       "   brazil_ph_near_angle  brazil_ph_near_price  population_estimate  \\\n",
       "0           -158.493799                2500.0          1164.570831   \n",
       "1           -156.899284                2500.0           413.065460   \n",
       "2           -146.372789                2500.0           424.170563   \n",
       "3           -159.666627                2500.0           272.054306   \n",
       "4           -160.753356                2500.0          2401.068539   \n",
       "\n",
       "   total_listing_count  listing/pop  listing/area  \n",
       "0                  0.0     0.000000      0.000000  \n",
       "1                  0.0     0.000000      0.000000  \n",
       "2                  0.0     0.000000      0.000000  \n",
       "3                  3.0     0.011027      0.000042  \n",
       "4                  6.0     0.002499      0.000005  \n",
       "\n",
       "[5 rows x 39 columns]"
      ]
     },
     "execution_count": 3,
     "metadata": {},
     "output_type": "execute_result"
    }
   ],
   "source": [
    "data.head()"
   ]
  },
  {
   "cell_type": "code",
   "execution_count": 4,
   "metadata": {},
   "outputs": [
    {
     "data": {
      "text/html": [
       "<div>\n",
       "<style scoped>\n",
       "    .dataframe tbody tr th:only-of-type {\n",
       "        vertical-align: middle;\n",
       "    }\n",
       "\n",
       "    .dataframe tbody tr th {\n",
       "        vertical-align: top;\n",
       "    }\n",
       "\n",
       "    .dataframe thead th {\n",
       "        text-align: right;\n",
       "    }\n",
       "</style>\n",
       "<table border=\"1\" class=\"dataframe\">\n",
       "  <thead>\n",
       "    <tr style=\"text-align: right;\">\n",
       "      <th></th>\n",
       "      <th>cd_geocodi</th>\n",
       "      <th>id1</th>\n",
       "      <th>geog_orig_area</th>\n",
       "      <th>favela_present</th>\n",
       "      <th>favela_area_squaremeters</th>\n",
       "      <th>sao_paulo_apartment_count_listings</th>\n",
       "      <th>sao_paulo_apartment_near_fid</th>\n",
       "      <th>sao_paulo_apartment_near_dist</th>\n",
       "      <th>sao_paulo_apartment_near_angle</th>\n",
       "      <th>sao_paulo_apartment_near_price</th>\n",
       "      <th>...</th>\n",
       "      <th>brazil_store_near_price</th>\n",
       "      <th>brazil_ph_count_listings</th>\n",
       "      <th>brazil_ph_near_fid</th>\n",
       "      <th>brazil_ph_near_dist</th>\n",
       "      <th>brazil_ph_near_angle</th>\n",
       "      <th>brazil_ph_near_price</th>\n",
       "      <th>population_estimate</th>\n",
       "      <th>total_listing_count</th>\n",
       "      <th>listing/pop</th>\n",
       "      <th>listing/area</th>\n",
       "    </tr>\n",
       "  </thead>\n",
       "  <tbody>\n",
       "    <tr>\n",
       "      <th>count</th>\n",
       "      <td>2.781700e+04</td>\n",
       "      <td>27817.000000</td>\n",
       "      <td>2.781700e+04</td>\n",
       "      <td>27817.000000</td>\n",
       "      <td>27817.000000</td>\n",
       "      <td>27817.000000</td>\n",
       "      <td>27817.000000</td>\n",
       "      <td>27817.000000</td>\n",
       "      <td>27817.000000</td>\n",
       "      <td>2.781700e+04</td>\n",
       "      <td>...</td>\n",
       "      <td>27817.000000</td>\n",
       "      <td>27817.000000</td>\n",
       "      <td>27817.000000</td>\n",
       "      <td>27817.000000</td>\n",
       "      <td>27817.000000</td>\n",
       "      <td>27817.000000</td>\n",
       "      <td>27817.000000</td>\n",
       "      <td>27817.000000</td>\n",
       "      <td>27817.000000</td>\n",
       "      <td>27817.000000</td>\n",
       "    </tr>\n",
       "    <tr>\n",
       "      <th>mean</th>\n",
       "      <td>3.545147e+14</td>\n",
       "      <td>45631.993637</td>\n",
       "      <td>1.086461e+05</td>\n",
       "      <td>0.221411</td>\n",
       "      <td>852.603057</td>\n",
       "      <td>0.480749</td>\n",
       "      <td>6383.476939</td>\n",
       "      <td>1381.466201</td>\n",
       "      <td>0.966970</td>\n",
       "      <td>1.669580e+05</td>\n",
       "      <td>...</td>\n",
       "      <td>8269.046986</td>\n",
       "      <td>0.003775</td>\n",
       "      <td>64.715102</td>\n",
       "      <td>5580.939094</td>\n",
       "      <td>-1.423161</td>\n",
       "      <td>3395.134270</td>\n",
       "      <td>697.857937</td>\n",
       "      <td>1.361326</td>\n",
       "      <td>0.003534</td>\n",
       "      <td>0.000048</td>\n",
       "    </tr>\n",
       "    <tr>\n",
       "      <th>std</th>\n",
       "      <td>1.143566e+12</td>\n",
       "      <td>14182.287715</td>\n",
       "      <td>6.679838e+05</td>\n",
       "      <td>0.415204</td>\n",
       "      <td>3375.446206</td>\n",
       "      <td>2.125265</td>\n",
       "      <td>4288.662831</td>\n",
       "      <td>2225.903861</td>\n",
       "      <td>91.443765</td>\n",
       "      <td>2.991915e+05</td>\n",
       "      <td>...</td>\n",
       "      <td>19840.795138</td>\n",
       "      <td>0.140948</td>\n",
       "      <td>42.603400</td>\n",
       "      <td>4132.284706</td>\n",
       "      <td>102.503573</td>\n",
       "      <td>3615.253919</td>\n",
       "      <td>814.251001</td>\n",
       "      <td>4.751517</td>\n",
       "      <td>0.023553</td>\n",
       "      <td>0.000312</td>\n",
       "    </tr>\n",
       "    <tr>\n",
       "      <th>min</th>\n",
       "      <td>3.505708e+14</td>\n",
       "      <td>4151.000000</td>\n",
       "      <td>7.204612e+01</td>\n",
       "      <td>0.000000</td>\n",
       "      <td>0.000000</td>\n",
       "      <td>0.000000</td>\n",
       "      <td>0.000000</td>\n",
       "      <td>0.000000</td>\n",
       "      <td>-179.999999</td>\n",
       "      <td>4.800000e+02</td>\n",
       "      <td>...</td>\n",
       "      <td>243.000000</td>\n",
       "      <td>0.000000</td>\n",
       "      <td>0.000000</td>\n",
       "      <td>0.000000</td>\n",
       "      <td>-179.999978</td>\n",
       "      <td>600.000000</td>\n",
       "      <td>0.022254</td>\n",
       "      <td>0.000000</td>\n",
       "      <td>0.000000</td>\n",
       "      <td>0.000000</td>\n",
       "    </tr>\n",
       "    <tr>\n",
       "      <th>25%</th>\n",
       "      <td>3.548708e+14</td>\n",
       "      <td>40223.000000</td>\n",
       "      <td>1.966987e+04</td>\n",
       "      <td>0.000000</td>\n",
       "      <td>0.000000</td>\n",
       "      <td>0.000000</td>\n",
       "      <td>2122.000000</td>\n",
       "      <td>44.663556</td>\n",
       "      <td>-60.623415</td>\n",
       "      <td>1.500000e+03</td>\n",
       "      <td>...</td>\n",
       "      <td>1300.000000</td>\n",
       "      <td>0.000000</td>\n",
       "      <td>31.000000</td>\n",
       "      <td>2309.688526</td>\n",
       "      <td>-94.930909</td>\n",
       "      <td>1200.000000</td>\n",
       "      <td>271.887459</td>\n",
       "      <td>0.000000</td>\n",
       "      <td>0.000000</td>\n",
       "      <td>0.000000</td>\n",
       "    </tr>\n",
       "    <tr>\n",
       "      <th>50%</th>\n",
       "      <td>3.550308e+14</td>\n",
       "      <td>49162.000000</td>\n",
       "      <td>3.735301e+04</td>\n",
       "      <td>0.000000</td>\n",
       "      <td>0.000000</td>\n",
       "      <td>0.000000</td>\n",
       "      <td>6597.000000</td>\n",
       "      <td>317.392635</td>\n",
       "      <td>0.000000</td>\n",
       "      <td>8.000000e+04</td>\n",
       "      <td>...</td>\n",
       "      <td>2800.000000</td>\n",
       "      <td>0.000000</td>\n",
       "      <td>69.000000</td>\n",
       "      <td>4725.310805</td>\n",
       "      <td>-4.645367</td>\n",
       "      <td>2200.000000</td>\n",
       "      <td>541.281494</td>\n",
       "      <td>0.000000</td>\n",
       "      <td>0.000000</td>\n",
       "      <td>0.000000</td>\n",
       "    </tr>\n",
       "    <tr>\n",
       "      <th>75%</th>\n",
       "      <td>3.550309e+14</td>\n",
       "      <td>55899.000000</td>\n",
       "      <td>6.344960e+04</td>\n",
       "      <td>0.000000</td>\n",
       "      <td>0.000000</td>\n",
       "      <td>0.000000</td>\n",
       "      <td>9867.000000</td>\n",
       "      <td>1580.365671</td>\n",
       "      <td>70.885312</td>\n",
       "      <td>2.350000e+05</td>\n",
       "      <td>...</td>\n",
       "      <td>7500.000000</td>\n",
       "      <td>0.000000</td>\n",
       "      <td>85.000000</td>\n",
       "      <td>8079.799727</td>\n",
       "      <td>100.043084</td>\n",
       "      <td>3500.000000</td>\n",
       "      <td>857.065901</td>\n",
       "      <td>1.000000</td>\n",
       "      <td>0.000729</td>\n",
       "      <td>0.000007</td>\n",
       "    </tr>\n",
       "    <tr>\n",
       "      <th>max</th>\n",
       "      <td>3.552809e+14</td>\n",
       "      <td>65450.000000</td>\n",
       "      <td>6.401871e+07</td>\n",
       "      <td>1.000000</td>\n",
       "      <td>142763.606501</td>\n",
       "      <td>72.000000</td>\n",
       "      <td>13639.000000</td>\n",
       "      <td>18814.572237</td>\n",
       "      <td>179.999998</td>\n",
       "      <td>7.500000e+06</td>\n",
       "      <td>...</td>\n",
       "      <td>250000.000000</td>\n",
       "      <td>16.000000</td>\n",
       "      <td>152.000000</td>\n",
       "      <td>22174.147819</td>\n",
       "      <td>179.950102</td>\n",
       "      <td>15000.000000</td>\n",
       "      <td>26176.639700</td>\n",
       "      <td>128.000000</td>\n",
       "      <td>2.529498</td>\n",
       "      <td>0.039202</td>\n",
       "    </tr>\n",
       "  </tbody>\n",
       "</table>\n",
       "<p>8 rows × 34 columns</p>\n",
       "</div>"
      ],
      "text/plain": [
       "         cd_geocodi           id1  geog_orig_area  favela_present  \\\n",
       "count  2.781700e+04  27817.000000    2.781700e+04    27817.000000   \n",
       "mean   3.545147e+14  45631.993637    1.086461e+05        0.221411   \n",
       "std    1.143566e+12  14182.287715    6.679838e+05        0.415204   \n",
       "min    3.505708e+14   4151.000000    7.204612e+01        0.000000   \n",
       "25%    3.548708e+14  40223.000000    1.966987e+04        0.000000   \n",
       "50%    3.550308e+14  49162.000000    3.735301e+04        0.000000   \n",
       "75%    3.550309e+14  55899.000000    6.344960e+04        0.000000   \n",
       "max    3.552809e+14  65450.000000    6.401871e+07        1.000000   \n",
       "\n",
       "       favela_area_squaremeters  sao_paulo_apartment_count_listings  \\\n",
       "count              27817.000000                        27817.000000   \n",
       "mean                 852.603057                            0.480749   \n",
       "std                 3375.446206                            2.125265   \n",
       "min                    0.000000                            0.000000   \n",
       "25%                    0.000000                            0.000000   \n",
       "50%                    0.000000                            0.000000   \n",
       "75%                    0.000000                            0.000000   \n",
       "max               142763.606501                           72.000000   \n",
       "\n",
       "       sao_paulo_apartment_near_fid  sao_paulo_apartment_near_dist  \\\n",
       "count                  27817.000000                   27817.000000   \n",
       "mean                    6383.476939                    1381.466201   \n",
       "std                     4288.662831                    2225.903861   \n",
       "min                        0.000000                       0.000000   \n",
       "25%                     2122.000000                      44.663556   \n",
       "50%                     6597.000000                     317.392635   \n",
       "75%                     9867.000000                    1580.365671   \n",
       "max                    13639.000000                   18814.572237   \n",
       "\n",
       "       sao_paulo_apartment_near_angle  sao_paulo_apartment_near_price  ...  \\\n",
       "count                    27817.000000                    2.781700e+04  ...   \n",
       "mean                         0.966970                    1.669580e+05  ...   \n",
       "std                         91.443765                    2.991915e+05  ...   \n",
       "min                       -179.999999                    4.800000e+02  ...   \n",
       "25%                        -60.623415                    1.500000e+03  ...   \n",
       "50%                          0.000000                    8.000000e+04  ...   \n",
       "75%                         70.885312                    2.350000e+05  ...   \n",
       "max                        179.999998                    7.500000e+06  ...   \n",
       "\n",
       "       brazil_store_near_price  brazil_ph_count_listings  brazil_ph_near_fid  \\\n",
       "count             27817.000000              27817.000000        27817.000000   \n",
       "mean               8269.046986                  0.003775           64.715102   \n",
       "std               19840.795138                  0.140948           42.603400   \n",
       "min                 243.000000                  0.000000            0.000000   \n",
       "25%                1300.000000                  0.000000           31.000000   \n",
       "50%                2800.000000                  0.000000           69.000000   \n",
       "75%                7500.000000                  0.000000           85.000000   \n",
       "max              250000.000000                 16.000000          152.000000   \n",
       "\n",
       "       brazil_ph_near_dist  brazil_ph_near_angle  brazil_ph_near_price  \\\n",
       "count         27817.000000          27817.000000          27817.000000   \n",
       "mean           5580.939094             -1.423161           3395.134270   \n",
       "std            4132.284706            102.503573           3615.253919   \n",
       "min               0.000000           -179.999978            600.000000   \n",
       "25%            2309.688526            -94.930909           1200.000000   \n",
       "50%            4725.310805             -4.645367           2200.000000   \n",
       "75%            8079.799727            100.043084           3500.000000   \n",
       "max           22174.147819            179.950102          15000.000000   \n",
       "\n",
       "       population_estimate  total_listing_count   listing/pop  listing/area  \n",
       "count         27817.000000         27817.000000  27817.000000  27817.000000  \n",
       "mean            697.857937             1.361326      0.003534      0.000048  \n",
       "std             814.251001             4.751517      0.023553      0.000312  \n",
       "min               0.022254             0.000000      0.000000      0.000000  \n",
       "25%             271.887459             0.000000      0.000000      0.000000  \n",
       "50%             541.281494             0.000000      0.000000      0.000000  \n",
       "75%             857.065901             1.000000      0.000729      0.000007  \n",
       "max           26176.639700           128.000000      2.529498      0.039202  \n",
       "\n",
       "[8 rows x 34 columns]"
      ]
     },
     "execution_count": 4,
     "metadata": {},
     "output_type": "execute_result"
    }
   ],
   "source": [
    "data.describe()"
   ]
  },
  {
   "cell_type": "code",
   "execution_count": 5,
   "metadata": {},
   "outputs": [
    {
     "name": "stdout",
     "output_type": "stream",
     "text": [
      "<class 'pandas.core.frame.DataFrame'>\n",
      "RangeIndex: 27817 entries, 0 to 27816\n",
      "Data columns (total 39 columns):\n",
      " #   Column                              Non-Null Count  Dtype  \n",
      "---  ------                              --------------  -----  \n",
      " 0   cd_geocodi                          27817 non-null  int64  \n",
      " 1   nm_subdist                          27817 non-null  object \n",
      " 2   nm_distrit                          27817 non-null  object \n",
      " 3   nm_municip                          27817 non-null  object \n",
      " 4   nm_micro                            27817 non-null  object \n",
      " 5   nm_meso                             27817 non-null  object \n",
      " 6   id1                                 27817 non-null  int64  \n",
      " 7   geog_orig_area                      27817 non-null  float64\n",
      " 8   favela_present                      27817 non-null  float64\n",
      " 9   favela_area_squaremeters            27817 non-null  float64\n",
      " 10  sao_paulo_apartment_count_listings  27817 non-null  float64\n",
      " 11  sao_paulo_apartment_near_fid        27817 non-null  int64  \n",
      " 12  sao_paulo_apartment_near_dist       27817 non-null  float64\n",
      " 13  sao_paulo_apartment_near_angle      27817 non-null  float64\n",
      " 14  sao_paulo_apartment_near_price      27817 non-null  int64  \n",
      " 15  brazil_apartment_count_listings     27817 non-null  float64\n",
      " 16  brazil_apartment_near_fid           27817 non-null  int64  \n",
      " 17  brazil_apartment_near_dist          27817 non-null  float64\n",
      " 18  brazil_apartment_near_angle         27817 non-null  float64\n",
      " 19  brazil_apartment_near_price         27817 non-null  float64\n",
      " 20  brazil_house_count_listings         27817 non-null  float64\n",
      " 21  brazil_house_near_fid               27817 non-null  int64  \n",
      " 22  brazil_house_near_dist              27817 non-null  float64\n",
      " 23  brazil_house_near_angle             27817 non-null  float64\n",
      " 24  brazil_house_near_price             27817 non-null  float64\n",
      " 25  brazil_store_count_listings         27817 non-null  float64\n",
      " 26  brazil_store_near_fid               27817 non-null  int64  \n",
      " 27  brazil_store_near_dist              27817 non-null  float64\n",
      " 28  brazil_store_near_angle             27817 non-null  float64\n",
      " 29  brazil_store_near_price             27817 non-null  float64\n",
      " 30  brazil_ph_count_listings            27817 non-null  float64\n",
      " 31  brazil_ph_near_fid                  27817 non-null  int64  \n",
      " 32  brazil_ph_near_dist                 27817 non-null  float64\n",
      " 33  brazil_ph_near_angle                27817 non-null  float64\n",
      " 34  brazil_ph_near_price                27817 non-null  float64\n",
      " 35  population_estimate                 27817 non-null  float64\n",
      " 36  total_listing_count                 27817 non-null  float64\n",
      " 37  listing/pop                         27817 non-null  float64\n",
      " 38  listing/area                        27817 non-null  float64\n",
      "dtypes: float64(26), int64(8), object(5)\n",
      "memory usage: 8.3+ MB\n"
     ]
    }
   ],
   "source": [
    "data.info()"
   ]
  },
  {
   "cell_type": "code",
   "execution_count": 6,
   "metadata": {},
   "outputs": [],
   "source": [
    "X_cols = [\n",
    "    'sao_paulo_apartment_count_listings', 'sao_paulo_apartment_near_dist',\n",
    "    'sao_paulo_apartment_near_angle', 'sao_paulo_apartment_near_price',\n",
    "    'brazil_apartment_count_listings', 'brazil_apartment_near_dist',\n",
    "    'brazil_apartment_near_angle', 'brazil_apartment_near_price',\n",
    "    'brazil_house_count_listings', 'brazil_house_near_dist',\n",
    "    'brazil_house_near_angle', 'brazil_house_near_price',\n",
    "    'brazil_store_count_listings', 'brazil_store_near_dist',\n",
    "    'brazil_store_near_angle', 'brazil_store_near_price',\n",
    "    'brazil_ph_count_listings', 'brazil_ph_near_dist', 'brazil_ph_near_angle',\n",
    "    'brazil_ph_near_price', 'population_estimate', 'total_listing_count',\n",
    "    'listing/pop', 'listing/area'\n",
    "]\n",
    "\n",
    "X = data[X_cols]\n",
    "y = data['favela_present']\n",
    "\n",
    "X_train, X_test, y_train, y_test = train_test_split(X,\n",
    "                                                    y,\n",
    "                                                    stratify=y,\n",
    "                                                    random_state=19)"
   ]
  },
  {
   "cell_type": "markdown",
   "metadata": {},
   "source": [
    "Picking out the numeric columns that might help with determining the presence of a informal settlements from the real estate and population data we were able to find."
   ]
  },
  {
   "cell_type": "markdown",
   "metadata": {},
   "source": [
    "# Modeling"
   ]
  },
  {
   "cell_type": "markdown",
   "metadata": {},
   "source": [
    "## Base Model"
   ]
  },
  {
   "cell_type": "code",
   "execution_count": 7,
   "metadata": {},
   "outputs": [
    {
     "data": {
      "text/plain": [
       "0.0    0.778589\n",
       "1.0    0.221411\n",
       "Name: favela_present, dtype: float64"
      ]
     },
     "execution_count": 7,
     "metadata": {},
     "output_type": "execute_result"
    }
   ],
   "source": [
    "data['favela_present'].value_counts(normalize = True)"
   ]
  },
  {
   "cell_type": "markdown",
   "metadata": {},
   "source": [
    "A base model that predicts no favelas present in each census grid would be about 77.8% accurate. Any models we make should hope to perform better than that."
   ]
  },
  {
   "cell_type": "markdown",
   "metadata": {},
   "source": [
    "## Logistic Regression Model"
   ]
  },
  {
   "cell_type": "markdown",
   "metadata": {},
   "source": [
    "Starting off with a scaler and logistic regression model."
   ]
  },
  {
   "cell_type": "code",
   "execution_count": 8,
   "metadata": {},
   "outputs": [
    {
     "data": {
      "text/plain": [
       "GridSearchCV(cv=5, error_score='raise-deprecating',\n",
       "             estimator=Pipeline(memory=None,\n",
       "                                steps=[('sc',\n",
       "                                        StandardScaler(copy=True,\n",
       "                                                       with_mean=True,\n",
       "                                                       with_std=True)),\n",
       "                                       ('lr',\n",
       "                                        LogisticRegression(C=1.0,\n",
       "                                                           class_weight=None,\n",
       "                                                           dual=False,\n",
       "                                                           fit_intercept=True,\n",
       "                                                           intercept_scaling=1,\n",
       "                                                           l1_ratio=None,\n",
       "                                                           max_iter=100,\n",
       "                                                           multi_class='warn',\n",
       "                                                           n_jobs=None,\n",
       "                                                           penalty='l2',\n",
       "                                                           random_state=None,\n",
       "                                                           solver='warn',\n",
       "                                                           tol=0.0001,\n",
       "                                                           verbose=0,\n",
       "                                                           warm_start=False))],\n",
       "                                verbose=False),\n",
       "             iid='warn', n_jobs=None,\n",
       "             param_grid={'lr__C': [0.1, 0.3, 0.5, 0.7, 1.0],\n",
       "                         'lr__penalty': ['l1', 'l2']},\n",
       "             pre_dispatch='2*n_jobs', refit=True, return_train_score=False,\n",
       "             scoring='accuracy', verbose=0)"
      ]
     },
     "execution_count": 8,
     "metadata": {},
     "output_type": "execute_result"
    }
   ],
   "source": [
    "pipe = Pipeline(steps=[('sc', StandardScaler()), ('lr', LogisticRegression())])\n",
    "\n",
    "params = {\n",
    "    'lr__penalty': ['l1', 'l2'],\n",
    "    'lr__C': [0.1, 0.3, 0.5, 0.7, 1.0],\n",
    "}\n",
    "\n",
    "gs_lr = GridSearchCV(pipe, param_grid=params, cv=5, scoring='accuracy')\n",
    "\n",
    "gs_lr.fit(X_train, y_train)"
   ]
  },
  {
   "cell_type": "code",
   "execution_count": 9,
   "metadata": {},
   "outputs": [
    {
     "data": {
      "text/plain": [
       "Pipeline(memory=None,\n",
       "         steps=[('sc',\n",
       "                 StandardScaler(copy=True, with_mean=True, with_std=True)),\n",
       "                ('lr',\n",
       "                 LogisticRegression(C=0.1, class_weight=None, dual=False,\n",
       "                                    fit_intercept=True, intercept_scaling=1,\n",
       "                                    l1_ratio=None, max_iter=100,\n",
       "                                    multi_class='warn', n_jobs=None,\n",
       "                                    penalty='l2', random_state=None,\n",
       "                                    solver='warn', tol=0.0001, verbose=0,\n",
       "                                    warm_start=False))],\n",
       "         verbose=False)"
      ]
     },
     "execution_count": 9,
     "metadata": {},
     "output_type": "execute_result"
    }
   ],
   "source": [
    "gs_lr.best_estimator_"
   ]
  },
  {
   "cell_type": "code",
   "execution_count": 10,
   "metadata": {},
   "outputs": [
    {
     "data": {
      "text/plain": [
       "0.7838174671651807"
      ]
     },
     "execution_count": 10,
     "metadata": {},
     "output_type": "execute_result"
    }
   ],
   "source": [
    "gs_lr.best_score_"
   ]
  },
  {
   "cell_type": "code",
   "execution_count": 11,
   "metadata": {},
   "outputs": [
    {
     "data": {
      "text/plain": [
       "0.7859094176851186"
      ]
     },
     "execution_count": 11,
     "metadata": {},
     "output_type": "execute_result"
    }
   ],
   "source": [
    "gs_lr.score(X_test, y_test)"
   ]
  },
  {
   "cell_type": "markdown",
   "metadata": {},
   "source": [
    "This model performs about as well as the base model, but could definitely perform a lot better. Moving on to a K-Nearest Neighbors model to see how well it performs."
   ]
  },
  {
   "cell_type": "code",
   "execution_count": 12,
   "metadata": {},
   "outputs": [
    {
     "data": {
      "text/plain": [
       "0.7751308894245181"
      ]
     },
     "execution_count": 12,
     "metadata": {},
     "output_type": "execute_result"
    }
   ],
   "source": [
    "roc_auc_score(y_test, gs_lr.predict_proba(X_test)[:, 1])"
   ]
  },
  {
   "cell_type": "markdown",
   "metadata": {},
   "source": [
    "## KNN Model"
   ]
  },
  {
   "cell_type": "code",
   "execution_count": 13,
   "metadata": {},
   "outputs": [
    {
     "data": {
      "text/plain": [
       "GridSearchCV(cv=5, error_score='raise-deprecating',\n",
       "             estimator=Pipeline(memory=None,\n",
       "                                steps=[('sc',\n",
       "                                        StandardScaler(copy=True,\n",
       "                                                       with_mean=True,\n",
       "                                                       with_std=True)),\n",
       "                                       ('knn',\n",
       "                                        KNeighborsClassifier(algorithm='auto',\n",
       "                                                             leaf_size=30,\n",
       "                                                             metric='minkowski',\n",
       "                                                             metric_params=None,\n",
       "                                                             n_jobs=None,\n",
       "                                                             n_neighbors=5, p=2,\n",
       "                                                             weights='uniform'))],\n",
       "                                verbose=False),\n",
       "             iid='warn', n_jobs=None,\n",
       "             param_grid={'knn__metric': ['minkowski', 'euclidean', 'manhattan'],\n",
       "                         'knn__n_neighbors': [3, 5, 7, 9]},\n",
       "             pre_dispatch='2*n_jobs', refit=True, return_train_score=False,\n",
       "             scoring='accuracy', verbose=0)"
      ]
     },
     "execution_count": 13,
     "metadata": {},
     "output_type": "execute_result"
    }
   ],
   "source": [
    "pipe = Pipeline(steps=[('sc', StandardScaler()), ('knn',\n",
    "                                                  KNeighborsClassifier())])\n",
    "\n",
    "params = {\n",
    "    'knn__n_neighbors': [3, 5, 7, 9],\n",
    "    'knn__metric': ['minkowski', 'euclidean', 'manhattan']\n",
    "}\n",
    "\n",
    "gs_knn = GridSearchCV(pipe, param_grid=params, cv=5, scoring='accuracy')\n",
    "\n",
    "gs_knn.fit(X_train, y_train)"
   ]
  },
  {
   "cell_type": "code",
   "execution_count": 14,
   "metadata": {},
   "outputs": [
    {
     "data": {
      "text/plain": [
       "Pipeline(memory=None,\n",
       "         steps=[('sc',\n",
       "                 StandardScaler(copy=True, with_mean=True, with_std=True)),\n",
       "                ('knn',\n",
       "                 KNeighborsClassifier(algorithm='auto', leaf_size=30,\n",
       "                                      metric='manhattan', metric_params=None,\n",
       "                                      n_jobs=None, n_neighbors=3, p=2,\n",
       "                                      weights='uniform'))],\n",
       "         verbose=False)"
      ]
     },
     "execution_count": 14,
     "metadata": {},
     "output_type": "execute_result"
    }
   ],
   "source": [
    "gs_knn.best_estimator_"
   ]
  },
  {
   "cell_type": "code",
   "execution_count": 15,
   "metadata": {},
   "outputs": [
    {
     "data": {
      "text/plain": [
       "0.8526986866072285"
      ]
     },
     "execution_count": 15,
     "metadata": {},
     "output_type": "execute_result"
    }
   ],
   "source": [
    "gs_knn.best_score_"
   ]
  },
  {
   "cell_type": "code",
   "execution_count": 16,
   "metadata": {},
   "outputs": [
    {
     "data": {
      "text/plain": [
       "0.8563623292595255"
      ]
     },
     "execution_count": 16,
     "metadata": {},
     "output_type": "execute_result"
    }
   ],
   "source": [
    "gs_knn.score(X_test, y_test)"
   ]
  },
  {
   "cell_type": "markdown",
   "metadata": {},
   "source": [
    "This model is already better than the base model. There is still some room for improvement, however. Next step is to try a Decision Tree model."
   ]
  },
  {
   "cell_type": "code",
   "execution_count": 17,
   "metadata": {},
   "outputs": [
    {
     "data": {
      "text/plain": [
       "0.8712414409228815"
      ]
     },
     "execution_count": 17,
     "metadata": {},
     "output_type": "execute_result"
    }
   ],
   "source": [
    "roc_auc_score(y_test, gs_knn.predict_proba(X_test)[:, 1])"
   ]
  },
  {
   "cell_type": "markdown",
   "metadata": {},
   "source": [
    "## Decision Tree Model"
   ]
  },
  {
   "cell_type": "code",
   "execution_count": 18,
   "metadata": {},
   "outputs": [
    {
     "data": {
      "text/plain": [
       "DecisionTreeClassifier(class_weight=None, criterion='gini', max_depth=None,\n",
       "                       max_features=None, max_leaf_nodes=None,\n",
       "                       min_impurity_decrease=0.0, min_impurity_split=None,\n",
       "                       min_samples_leaf=1, min_samples_split=2,\n",
       "                       min_weight_fraction_leaf=0.0, presort=False,\n",
       "                       random_state=None, splitter='best')"
      ]
     },
     "execution_count": 18,
     "metadata": {},
     "output_type": "execute_result"
    }
   ],
   "source": [
    "tree = DecisionTreeClassifier()\n",
    "tree.fit(X_train, y_train)"
   ]
  },
  {
   "cell_type": "code",
   "execution_count": 19,
   "metadata": {},
   "outputs": [
    {
     "data": {
      "text/plain": [
       "1.0"
      ]
     },
     "execution_count": 19,
     "metadata": {},
     "output_type": "execute_result"
    }
   ],
   "source": [
    "tree.score(X_train, y_train)"
   ]
  },
  {
   "cell_type": "code",
   "execution_count": 20,
   "metadata": {},
   "outputs": [
    {
     "data": {
      "text/plain": [
       "0.8523364485981308"
      ]
     },
     "execution_count": 20,
     "metadata": {},
     "output_type": "execute_result"
    }
   ],
   "source": [
    "tree.score(X_test, y_test)"
   ]
  },
  {
   "cell_type": "code",
   "execution_count": 21,
   "metadata": {},
   "outputs": [
    {
     "data": {
      "text/plain": [
       "0.8386534730639547"
      ]
     },
     "execution_count": 21,
     "metadata": {},
     "output_type": "execute_result"
    }
   ],
   "source": [
    "cross_val_score(tree, X_train, y_train, cv = 5).mean()"
   ]
  },
  {
   "cell_type": "markdown",
   "metadata": {},
   "source": [
    "The Desicion Tree doesn't perform as well as K-Nearest Neighbors at the moment. Let's move onto Random Forests, to see how that works."
   ]
  },
  {
   "cell_type": "code",
   "execution_count": 22,
   "metadata": {},
   "outputs": [
    {
     "data": {
      "text/plain": [
       "0.7975977623484549"
      ]
     },
     "execution_count": 22,
     "metadata": {},
     "output_type": "execute_result"
    }
   ],
   "source": [
    "roc_auc_score(y_test, tree.predict_proba(X_test)[:, 1])"
   ]
  },
  {
   "cell_type": "markdown",
   "metadata": {},
   "source": [
    "## Bagging Classifier Model"
   ]
  },
  {
   "cell_type": "code",
   "execution_count": 23,
   "metadata": {},
   "outputs": [
    {
     "data": {
      "text/plain": [
       "BaggingClassifier(base_estimator=None, bootstrap=True, bootstrap_features=False,\n",
       "                  max_features=1.0, max_samples=1.0, n_estimators=10,\n",
       "                  n_jobs=None, oob_score=False, random_state=None, verbose=0,\n",
       "                  warm_start=False)"
      ]
     },
     "execution_count": 23,
     "metadata": {},
     "output_type": "execute_result"
    }
   ],
   "source": [
    "bagging = BaggingClassifier()\n",
    "bagging.fit(X_train, y_train)"
   ]
  },
  {
   "cell_type": "code",
   "execution_count": 24,
   "metadata": {},
   "outputs": [
    {
     "data": {
      "text/plain": [
       "0.9913239382609529"
      ]
     },
     "execution_count": 24,
     "metadata": {},
     "output_type": "execute_result"
    }
   ],
   "source": [
    "bagging.score(X_train, y_train)"
   ]
  },
  {
   "cell_type": "code",
   "execution_count": 25,
   "metadata": {},
   "outputs": [
    {
     "data": {
      "text/plain": [
       "0.8770489115378792"
      ]
     },
     "execution_count": 25,
     "metadata": {},
     "output_type": "execute_result"
    }
   ],
   "source": [
    "cross_val_score(bagging, X_train, y_train, cv = 5).mean()"
   ]
  },
  {
   "cell_type": "code",
   "execution_count": 26,
   "metadata": {},
   "outputs": [
    {
     "data": {
      "text/plain": [
       "0.883824586628325"
      ]
     },
     "execution_count": 26,
     "metadata": {},
     "output_type": "execute_result"
    }
   ],
   "source": [
    "bagging.score(X_test, y_test)"
   ]
  },
  {
   "cell_type": "code",
   "execution_count": 27,
   "metadata": {},
   "outputs": [
    {
     "data": {
      "text/plain": [
       "0.920176757683683"
      ]
     },
     "execution_count": 27,
     "metadata": {},
     "output_type": "execute_result"
    }
   ],
   "source": [
    "roc_auc_score(y_test, bagging.predict_proba(X_test)[:, 1])"
   ]
  },
  {
   "cell_type": "markdown",
   "metadata": {},
   "source": [
    "## Random Forest Model"
   ]
  },
  {
   "cell_type": "code",
   "execution_count": 28,
   "metadata": {},
   "outputs": [
    {
     "data": {
      "text/plain": [
       "RandomForestClassifier(bootstrap=True, class_weight=None, criterion='gini',\n",
       "                       max_depth=None, max_features='auto', max_leaf_nodes=None,\n",
       "                       min_impurity_decrease=0.0, min_impurity_split=None,\n",
       "                       min_samples_leaf=1, min_samples_split=2,\n",
       "                       min_weight_fraction_leaf=0.0, n_estimators=10,\n",
       "                       n_jobs=None, oob_score=False, random_state=None,\n",
       "                       verbose=0, warm_start=False)"
      ]
     },
     "execution_count": 28,
     "metadata": {},
     "output_type": "execute_result"
    }
   ],
   "source": [
    "rand_forest = RandomForestClassifier()\n",
    "rand_forest.fit(X_train, y_train)"
   ]
  },
  {
   "cell_type": "code",
   "execution_count": 29,
   "metadata": {},
   "outputs": [
    {
     "data": {
      "text/plain": [
       "0.9919470808167961"
      ]
     },
     "execution_count": 29,
     "metadata": {},
     "output_type": "execute_result"
    }
   ],
   "source": [
    "rand_forest.score(X_train, y_train)"
   ]
  },
  {
   "cell_type": "code",
   "execution_count": 30,
   "metadata": {},
   "outputs": [
    {
     "data": {
      "text/plain": [
       "0.8763300847301572"
      ]
     },
     "execution_count": 30,
     "metadata": {},
     "output_type": "execute_result"
    }
   ],
   "source": [
    "cross_val_score(rand_forest, X_train, y_train, cv = 5).mean()"
   ]
  },
  {
   "cell_type": "code",
   "execution_count": 31,
   "metadata": {},
   "outputs": [
    {
     "data": {
      "text/plain": [
       "0.8831056793673616"
      ]
     },
     "execution_count": 31,
     "metadata": {},
     "output_type": "execute_result"
    }
   ],
   "source": [
    "rand_forest.score(X_test, y_test)"
   ]
  },
  {
   "cell_type": "code",
   "execution_count": 32,
   "metadata": {},
   "outputs": [
    {
     "data": {
      "text/plain": [
       "0.9156697365423128"
      ]
     },
     "execution_count": 32,
     "metadata": {},
     "output_type": "execute_result"
    }
   ],
   "source": [
    "roc_auc_score(y_test, rand_forest.predict_proba(X_test)[:, 1])"
   ]
  },
  {
   "cell_type": "markdown",
   "metadata": {},
   "source": [
    "This model works better than the KNN model, but there is still a lot of room for improvement. Let's increase the randomness of the model and try to reduce the variance with an Extra Trees model."
   ]
  },
  {
   "cell_type": "markdown",
   "metadata": {},
   "source": [
    "## Extra Trees Model"
   ]
  },
  {
   "cell_type": "code",
   "execution_count": 114,
   "metadata": {
    "scrolled": true
   },
   "outputs": [
    {
     "data": {
      "text/plain": [
       "1.0"
      ]
     },
     "execution_count": 114,
     "metadata": {},
     "output_type": "execute_result"
    }
   ],
   "source": [
    "pipe = Pipeline(steps=[('extra_trees', ExtraTreesClassifier())])\n",
    "\n",
    "params = {'extra_trees__n_estimators': [300, 400, 500, 600]}\n",
    "gs_extra_trees = GridSearchCV(pipe,\n",
    "                              param_grid=params,\n",
    "                              cv=5,\n",
    "                              scoring='accuracy',\n",
    "                              n_jobs=-2)\n",
    "#extra_trees = ExtraTreesClassifier(n_estimators = 200)\n",
    "gs_extra_trees.fit(X_train, y_train)\n",
    "gs_extra_trees.score(X_train, y_train)"
   ]
  },
  {
   "cell_type": "code",
   "execution_count": 115,
   "metadata": {},
   "outputs": [
    {
     "data": {
      "text/plain": [
       "Pipeline(memory=None,\n",
       "         steps=[('extra_trees',\n",
       "                 ExtraTreesClassifier(bootstrap=False, class_weight=None,\n",
       "                                      criterion='gini', max_depth=None,\n",
       "                                      max_features='auto', max_leaf_nodes=None,\n",
       "                                      min_impurity_decrease=0.0,\n",
       "                                      min_impurity_split=None,\n",
       "                                      min_samples_leaf=1, min_samples_split=2,\n",
       "                                      min_weight_fraction_leaf=0.0,\n",
       "                                      n_estimators=300, n_jobs=None,\n",
       "                                      oob_score=False, random_state=None,\n",
       "                                      verbose=0, warm_start=False))],\n",
       "         verbose=False)"
      ]
     },
     "execution_count": 115,
     "metadata": {},
     "output_type": "execute_result"
    }
   ],
   "source": [
    "gs_extra_trees.best_estimator_"
   ]
  },
  {
   "cell_type": "code",
   "execution_count": 116,
   "metadata": {},
   "outputs": [
    {
     "data": {
      "text/plain": [
       "0.887498801648931"
      ]
     },
     "execution_count": 116,
     "metadata": {},
     "output_type": "execute_result"
    }
   ],
   "source": [
    "gs_extra_trees.best_score_"
   ]
  },
  {
   "cell_type": "code",
   "execution_count": 117,
   "metadata": {},
   "outputs": [
    {
     "data": {
      "text/plain": [
       "0.8961897915168944"
      ]
     },
     "execution_count": 117,
     "metadata": {},
     "output_type": "execute_result"
    }
   ],
   "source": [
    "gs_extra_trees.score(X_test, y_test)"
   ]
  },
  {
   "cell_type": "code",
   "execution_count": 118,
   "metadata": {},
   "outputs": [
    {
     "data": {
      "text/plain": [
       "0.9458677195380797"
      ]
     },
     "execution_count": 118,
     "metadata": {},
     "output_type": "execute_result"
    }
   ],
   "source": [
    "roc_auc_score(y_test, gs_extra_trees.predict_proba(X_test)[:, 1])"
   ]
  },
  {
   "cell_type": "markdown",
   "metadata": {},
   "source": [
    "That's an even better model, but we can still improve a lot. Let's try another boosting model like AdaBoost to see how well it performs."
   ]
  },
  {
   "cell_type": "markdown",
   "metadata": {},
   "source": [
    "## AdaBoost Model"
   ]
  },
  {
   "cell_type": "code",
   "execution_count": 38,
   "metadata": {},
   "outputs": [
    {
     "data": {
      "text/plain": [
       "0.831511839708561"
      ]
     },
     "execution_count": 38,
     "metadata": {},
     "output_type": "execute_result"
    }
   ],
   "source": [
    "ada = AdaBoostClassifier(n_estimators = 200)\n",
    "ada.fit(X_train, y_train)\n",
    "ada.score(X_train, y_train)"
   ]
  },
  {
   "cell_type": "code",
   "execution_count": 39,
   "metadata": {},
   "outputs": [
    {
     "data": {
      "text/plain": [
       "0.821253745733576"
      ]
     },
     "execution_count": 39,
     "metadata": {},
     "output_type": "execute_result"
    }
   ],
   "source": [
    "cross_val_score(ada, X_train, y_train, cv = 5).mean()"
   ]
  },
  {
   "cell_type": "code",
   "execution_count": 40,
   "metadata": {},
   "outputs": [
    {
     "data": {
      "text/plain": [
       "0.8225736879942488"
      ]
     },
     "execution_count": 40,
     "metadata": {},
     "output_type": "execute_result"
    }
   ],
   "source": [
    "ada.score(X_test, y_test)"
   ]
  },
  {
   "cell_type": "code",
   "execution_count": 41,
   "metadata": {
    "scrolled": true
   },
   "outputs": [
    {
     "data": {
      "text/plain": [
       "0.865117578635584"
      ]
     },
     "execution_count": 41,
     "metadata": {},
     "output_type": "execute_result"
    }
   ],
   "source": [
    "roc_auc_score(y_test, ada.predict_proba(X_test)[:, 1])"
   ]
  },
  {
   "cell_type": "markdown",
   "metadata": {},
   "source": [
    "This model is worse than most of the previous models, the Extra Trees model is still the best option for the moment. Let's try moving on to a Voting Classifier to see how well it performs."
   ]
  },
  {
   "cell_type": "markdown",
   "metadata": {},
   "source": [
    "## Gradient Boost Model"
   ]
  },
  {
   "cell_type": "code",
   "execution_count": 42,
   "metadata": {},
   "outputs": [
    {
     "data": {
      "text/plain": [
       "0.8467069312625827"
      ]
     },
     "execution_count": 42,
     "metadata": {},
     "output_type": "execute_result"
    }
   ],
   "source": [
    "grad_boost = GradientBoostingClassifier()\n",
    "grad_boost.fit(X_train, y_train)\n",
    "grad_boost.score(X_train, y_train)"
   ]
  },
  {
   "cell_type": "code",
   "execution_count": 43,
   "metadata": {},
   "outputs": [
    {
     "data": {
      "text/plain": [
       "0.8334288735584068"
      ]
     },
     "execution_count": 43,
     "metadata": {},
     "output_type": "execute_result"
    }
   ],
   "source": [
    "cross_val_score(grad_boost, X_train, y_train, cv = 5).mean()"
   ]
  },
  {
   "cell_type": "code",
   "execution_count": 44,
   "metadata": {},
   "outputs": [
    {
     "data": {
      "text/plain": [
       "0.8362329259525522"
      ]
     },
     "execution_count": 44,
     "metadata": {},
     "output_type": "execute_result"
    }
   ],
   "source": [
    "grad_boost.score(X_test, y_test)"
   ]
  },
  {
   "cell_type": "code",
   "execution_count": 45,
   "metadata": {},
   "outputs": [
    {
     "data": {
      "text/plain": [
       "0.8778310009473446"
      ]
     },
     "execution_count": 45,
     "metadata": {},
     "output_type": "execute_result"
    }
   ],
   "source": [
    "roc_auc_score(y_test, grad_boost.predict_proba(X_test)[:, 1])"
   ]
  },
  {
   "cell_type": "markdown",
   "metadata": {},
   "source": [
    "This model is slightly better than the AdaBoost model, but still not as good as the Extra Trees model. Let's try a Voting Classifier with the best performing models next."
   ]
  },
  {
   "cell_type": "markdown",
   "metadata": {},
   "source": [
    "## Voting Classifier Model"
   ]
  },
  {
   "cell_type": "code",
   "execution_count": 46,
   "metadata": {},
   "outputs": [
    {
     "name": "stdout",
     "output_type": "stream",
     "text": [
      "0.8754194228741252\n"
     ]
    },
    {
     "data": {
      "text/plain": [
       "{'knn_pipe__knn__n_neighbors': 3,\n",
       " 'rand_forest__max_depth': 4,\n",
       " 'x_tree__max_depth': None}"
      ]
     },
     "execution_count": 46,
     "metadata": {},
     "output_type": "execute_result"
    }
   ],
   "source": [
    "knn_pipe = Pipeline([('ss', StandardScaler()),\n",
    "                     ('knn', KNeighborsClassifier())])\n",
    "\n",
    "vote = VotingClassifier([\n",
    "    ('x_tree', ExtraTreesClassifier()),\n",
    "    ('rand_forest', RandomForestClassifier()),\n",
    "    ('knn_pipe', knn_pipe),\n",
    "],\n",
    "                        voting='soft')\n",
    "vote_params = {\n",
    "    'x_tree__max_depth': [None, 4],\n",
    "    'rand_forest__max_depth': [3, 4],\n",
    "    'knn_pipe__knn__n_neighbors': [3, 5, 7],\n",
    "}\n",
    "gs_vc = GridSearchCV(vote,\n",
    "                     param_grid=vote_params,\n",
    "                     cv=5,\n",
    "                     n_jobs=-2,\n",
    "                     scoring='accuracy')\n",
    "gs_vc.fit(X_train, y_train)\n",
    "print(gs_vc.best_score_)  # cross val score\n",
    "gs_vc.best_params_"
   ]
  },
  {
   "cell_type": "code",
   "execution_count": 47,
   "metadata": {},
   "outputs": [
    {
     "data": {
      "text/plain": [
       "0.8815240833932423"
      ]
     },
     "execution_count": 47,
     "metadata": {},
     "output_type": "execute_result"
    }
   ],
   "source": [
    "gs_vc.score(X_test, y_test)"
   ]
  },
  {
   "cell_type": "code",
   "execution_count": 48,
   "metadata": {},
   "outputs": [
    {
     "data": {
      "text/plain": [
       "0.9162656042018923"
      ]
     },
     "execution_count": 48,
     "metadata": {},
     "output_type": "execute_result"
    }
   ],
   "source": [
    "roc_auc_score(y_test, gs_vc.predict_proba(X_test)[:, 1])"
   ]
  },
  {
   "cell_type": "markdown",
   "metadata": {},
   "source": [
    "This model works well, but it's not as strong as the Extra Trees model."
   ]
  },
  {
   "cell_type": "markdown",
   "metadata": {},
   "source": [
    "# Model Selection"
   ]
  },
  {
   "cell_type": "markdown",
   "metadata": {},
   "source": [
    "The Extra Trees model labeled gs_extra_trees is the clear best model for this project. It has the best accuracy score, as well as the top ROC AUC score."
   ]
  },
  {
   "cell_type": "markdown",
   "metadata": {},
   "source": [
    "# Model Evaluation"
   ]
  },
  {
   "cell_type": "code",
   "execution_count": 49,
   "metadata": {},
   "outputs": [
    {
     "data": {
      "image/png": "[encoded data removed]",
      "text/plain": [
       "<Figure size 1008x504 with 2 Axes>"
      ]
     },
     "metadata": {},
     "output_type": "display_data"
    }
   ],
   "source": [
    "y_pred = gs_extra_trees.predict(X_test) #getting predictions from the gs_tfidf_nb model\n",
    "\n",
    "def pretty_confusion_matrix(y_true, y_pred):\n",
    "    '''\n",
    "    Creates a confusion matrix and puts it into a prettier looking image.\n",
    "    '''\n",
    "    # handling data\n",
    "    cm = confusion_matrix(y_true, y_pred)\n",
    "    labels = y_true.unique()\n",
    "    labels.sort()\n",
    "    \n",
    "    \n",
    "    # plotting\n",
    "    sns.set(font_scale=1.5)\n",
    "    plt.figure(figsize=(14,7))\n",
    "    \n",
    "    chart = sns.heatmap(cm, annot=True, fmt='g', cmap=\"coolwarm\", xticklabels = labels, yticklabels = labels)\n",
    "    chart.set_yticklabels(chart.get_yticklabels(), rotation=0)\n",
    "    plt.title(\"Confusion Matrix\")\n",
    "    plt.xlabel('Predicted Class')\n",
    "    plt.ylabel('True Class')\n",
    "\n",
    "pretty_confusion_matrix(y_test, y_pred)"
   ]
  },
  {
   "cell_type": "code",
   "execution_count": 50,
   "metadata": {},
   "outputs": [
    {
     "name": "stdout",
     "output_type": "stream",
     "text": [
      "The True Negative Rate is 0.8368852459016394\n",
      "The True Positive Rate is 0.9095030514385353\n"
     ]
    }
   ],
   "source": [
    "TNR = 5216 / (5216 + 519)\n",
    "TPR = 1021 / (1021 + 199)\n",
    "print(f'The True Negative Rate is {TPR}')\n",
    "print(f'The True Positive Rate is {TNR}')"
   ]
  },
  {
   "cell_type": "markdown",
   "metadata": {},
   "source": [
    "Our model correctly predicts the presense of an informal settlement, or favela, 83.6% of the time. It correctly predicts the presence of settlements in 1021 census tracts, while incorrectly predicting the presense of a settlement in 199 tracts.\n",
    "\n",
    "The model performs slightly better when predicting the absence of an informal settlement, with a True Negative Rate of 90.9%. The model correctly predicts the lack of a settlement in 5216 tracts and incorrectly predicts the presense of a settlement where there likely is none in 519 tracts."
   ]
  },
  {
   "cell_type": "code",
   "execution_count": 53,
   "metadata": {
    "scrolled": false
   },
   "outputs": [
    {
     "name": "stdout",
     "output_type": "stream",
     "text": [
      "No Skill: ROC AUC=0.500\n",
      "Logistic: ROC AUC=0.946\n"
     ]
    },
    {
     "data": {
      "text/plain": [
       "<matplotlib.legend.Legend at 0x1a457290d0>"
      ]
     },
     "execution_count": 53,
     "metadata": {},
     "output_type": "execute_result"
    },
    {
     "data": {
      "image/png": "[encoded data removed]",
      "text/plain": [
       "<Figure size 720x504 with 1 Axes>"
      ]
     },
     "metadata": {},
     "output_type": "display_data"
    }
   ],
   "source": [
    "# Creating a DataFrame to facilitate plotting.\n",
    "pred_proba = [i[1] for i in gs_extra_trees.predict_proba(X_test)]\n",
    "pred_df = pd.DataFrame({'true_values': y_test, 'pred_probs': pred_proba})\n",
    "\n",
    "# Creating ROC Scores for baseline and best model.\n",
    "ns_probs = [0 for _ in range(len(y_test))]\n",
    "pipe_probs = gs_extra_trees.predict_proba(X_test)\n",
    "pipe_probs = pipe_probs[:, 1]\n",
    "ns_auc = roc_auc_score(y_test, ns_probs)\n",
    "pipe_auc = roc_auc_score(y_test, pipe_probs)\n",
    "# summarize scores\n",
    "print('No Skill: ROC AUC=%.3f' % (ns_auc))\n",
    "print('Logistic: ROC AUC=%.3f' % (pipe_auc))\n",
    "# Create figure.\n",
    "plt.figure(figsize=(10, 7))\n",
    "# Create threshold values.\n",
    "thresholds = np.linspace(0, 1, 200)\n",
    "\n",
    "\n",
    "# Define function to calculate sensitivity. (True positive rate.)\n",
    "def TPR(df, true_col, pred_prob_col, threshold):\n",
    "    true_positive = df[(df[true_col] == 1)\n",
    "                       & (df[pred_prob_col] >= threshold)].shape[0]\n",
    "    false_negative = df[(df[true_col] == 1)\n",
    "                        & (df[pred_prob_col] < threshold)].shape[0]\n",
    "    return true_positive / (true_positive + false_negative)\n",
    "\n",
    "\n",
    "# Define function to calculate 1 - specificity. (False positive rate.)\n",
    "def FPR(df, true_col, pred_prob_col, threshold):\n",
    "    true_negative = df[(df[true_col] == 0)\n",
    "                       & (df[pred_prob_col] <= threshold)].shape[0]\n",
    "    false_positive = df[(df[true_col] == 0)\n",
    "                        & (df[pred_prob_col] > threshold)].shape[0]\n",
    "    return 1 - (true_negative / (true_negative + false_positive))\n",
    "\n",
    "\n",
    "# Calculate sensitivity & 1-specificity for each threshold between 0 and 1.\n",
    "tpr_values = [\n",
    "    TPR(pred_df, 'true_values', 'pred_probs', prob) for prob in thresholds\n",
    "]\n",
    "fpr_values = [\n",
    "    FPR(pred_df, 'true_values', 'pred_probs', prob) for prob in thresholds\n",
    "]\n",
    "# Plot ROC curve.\n",
    "plt.plot(\n",
    "    fpr_values,  # False Positive Rate on X-axis\n",
    "    tpr_values,  # True Positive Rate on Y-axis\n",
    "    label='ROC Curve')\n",
    "# Plot baseline. (Perfect overlap between the two populations.)\n",
    "plt.plot(np.linspace(0, 1, 200),\n",
    "         np.linspace(0, 1, 200),\n",
    "         label='baseline',\n",
    "         linestyle='--')\n",
    "# Label axes.\n",
    "plt.title('Receiver Operating Characteristic Curve', fontsize=22)\n",
    "plt.ylabel('Sensitivity', fontsize=18)\n",
    "plt.xlabel('1 - Specificity', fontsize=18)\n",
    "# Create legend.\n",
    "plt.legend(fontsize=16)"
   ]
  },
  {
   "cell_type": "markdown",
   "metadata": {},
   "source": [
    "The ROC AUC of the model is 94.6%, meaning there is a 94.6% chance that it will correctly predict the presense or absence of an informal settlement. With more time to find the values that the model predicts incorrectly there's a chance that score could be higher, but it is still quite high as it is."
   ]
  },
  {
   "cell_type": "code",
   "execution_count": 51,
   "metadata": {},
   "outputs": [
    {
     "data": {
      "image/png": "[encoded data removed]",
      "text/plain": [
       "<Figure size 720x1080 with 1 Axes>"
      ]
     },
     "metadata": {},
     "output_type": "display_data"
    }
   ],
   "source": [
    "# getting the feature importances crom the model\n",
    "feats = gs_extra_trees.best_estimator_.steps[0][1].feature_importances_\n",
    "# getting keys of the test set\n",
    "keys = X_test.keys()\n",
    "# zipping the keys and feature importances\n",
    "feat_import = pd.DataFrame(list(zip(keys, feats)),\n",
    "                           columns=['feature', 'importance'])\n",
    "# sorting the dataframe by importance\n",
    "feat_import = feat_import.sort_values(by='importance', ascending=False)\n",
    "\n",
    "# plotting importance\n",
    "plt.figure(figsize=(10, 15))\n",
    "plt.title('Feature Importance', fontsize=25)\n",
    "sns.set_style(\"darkgrid\")\n",
    "sns.barplot(data=feat_import,\n",
    "            x='importance',\n",
    "            y='feature',\n",
    "            orient='h',\n",
    "            palette=\"gist_earth\")\n",
    "plt.xlabel('importance', fontsize=20)\n",
    "plt.ylabel('feature', fontsize=20)\n",
    "plt.tick_params(labelsize=20)"
   ]
  },
  {
   "cell_type": "markdown",
   "metadata": {},
   "source": [
    "The most important features in the Extra Tree model are those that deal with the distance to the closest real estate listing. The biggest indicator is the distance to the closest listing from the São Paulo dataset we used. That data set included apartments that were only located in the city, as opposed to the other dataset which contained national Brazil real estate listings. The second and third most important features were the distance to the closest private home and store real estate listings.\n",
    "\n",
    "The number of apartment, store, house, and private home listings in a census tract were not important features in the model. This lines up with the idea that informal settlements can pop up anywhere in an urban environment, regardless of how close they are to other buildings or services. Some favelas, like Paraisópolis, even have stores and services such as hospitals inside of them. Paraisópolis is an anolomy, however, as not all informal settlements have power and city services like it has.\n",
    "\n",
    "According to [GSRDC](https://gsdrc.org/topic-guides/urban-governance/key-policy-challenges/informal-settlements/), most informal settlements usually lack basic services and city infrastructure.\n",
    "\n",
    "Unfortunately, due do the model used, we cannot know how exactly these features impact the results. Even just one tree from the model is too large to reasonably graph, and no other model we used performs as well. None of the other higher-performing models are better for evaulation than this, there's limitations to all of them."
   ]
  },
  {
   "cell_type": "markdown",
   "metadata": {},
   "source": [
    "# Conclusion"
   ]
  },
  {
   "cell_type": "markdown",
   "metadata": {},
   "source": [
    "Using real estate listings and population mapped to census tracts we were able to find a few models that predicted the presense or absence of informal settlements in São Paulo with relatively high accuracy. We found that the distance from real estate listings were the biggest indicators of where a favela is present in the city. The price and number of those listings matter much less, however.\n",
    "\n",
    "This method could potentially be expanded to other cities, but would rely on finding the required data. Different cities would likely require different data, however. In Alexandria, Egypt, for example, informal settlements are more likely to [encroach on agricultural land](https://www.sciencedirect.com/science/article/pii/S111001681730279X). All we can say for sure is that the models we used work in São Paulo, and potentially other cities in the region."
   ]
  },
  {
   "cell_type": "markdown",
   "metadata": {},
   "source": [
    "# Recommendations and Limitations"
   ]
  },
  {
   "cell_type": "markdown",
   "metadata": {},
   "source": [
    "As noted in the conclusion, we recommend using different models for different regions. While this model works well for the city we tested in on, it may not work well in less urban environments where informal settlements may be constructed.\n",
    "\n",
    "This method isn't perfect, and will likely work best when used in conjunction with other methods of detecting informal settlements using satellite data. A combination of the two would likely yield better results than these models alone.\n",
    "\n",
    "One limitation is that very small favelas will mark an entire census tract as having an informal settlement within it. Future iterations may want to limit the number of small informal settlements included in the model.\n",
    "\n",
    "Future versions may also want to avoid using census tracts as a geographical unit as they tend to have unusual shapes. Other methods should be considered for geographical mapping."
   ]
  },
  {
   "cell_type": "markdown",
   "metadata": {},
   "source": [
    "# References"
   ]
  },
  {
   "cell_type": "markdown",
   "metadata": {},
   "source": [
    "- https://gsdrc.org/topic-guides/urban-governance/key-policy-challenges/informal-settlements\n",
    "- https://www.sciencedirect.com/science/article/pii/S111001681730279X"
   ]
  },
  {
   "cell_type": "code",
   "execution_count": null,
   "metadata": {},
   "outputs": [],
   "source": []
  }
 ],
 "metadata": {
  "kernelspec": {
   "display_name": "Python 3",
   "language": "python",
   "name": "python3"
  },
  "language_info": {
   "codemirror_mode": {
    "name": "ipython",
    "version": 3
   },
   "file_extension": ".py",
   "mimetype": "text/x-python",
   "name": "python",
   "nbconvert_exporter": "python",
   "pygments_lexer": "ipython3",
   "version": "3.7.5"
  },
  "toc": {
   "base_numbering": 1,
   "nav_menu": {},
   "number_sections": true,
   "sideBar": true,
   "skip_h1_title": false,
   "title_cell": "Table of Contents",
   "title_sidebar": "Contents",
   "toc_cell": false,
   "toc_position": {},
   "toc_section_display": true,
   "toc_window_display": false
  },
  "varInspector": {
   "cols": {
    "lenName": 16,
    "lenType": 16,
    "lenVar": 40
   },
   "kernels_config": {
    "python": {
     "delete_cmd_postfix": "",
     "delete_cmd_prefix": "del ",
     "library": "var_list.py",
     "varRefreshCmd": "print(var_dic_list())"
    },
    "r": {
     "delete_cmd_postfix": ") ",
     "delete_cmd_prefix": "rm(",
     "library": "var_list.r",
     "varRefreshCmd": "cat(var_dic_list()) "
    }
   },
   "types_to_exclude": [
    "module",
    "function",
    "builtin_function_or_method",
    "instance",
    "_Feature"
   ],
   "window_display": false
  }
 },
 "nbformat": 4,
 "nbformat_minor": 2
}
