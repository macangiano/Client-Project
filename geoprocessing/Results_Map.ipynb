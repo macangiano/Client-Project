{
 "cells": [
  {
   "cell_type": "markdown",
   "metadata": {},
   "source": [
    "# <ins> Results Mapping Notebook <ins/>\n",
    "> By: Matteo Cangiano, Q Leedham, and Daniel Sheehan"
   ]
  },
  {
   "cell_type": "code",
   "execution_count": 2,
   "metadata": {},
   "outputs": [],
   "source": [
    "import pandas as pd\n",
    "import geopandas"
   ]
  },
  {
   "cell_type": "code",
   "execution_count": 124,
   "metadata": {},
   "outputs": [],
   "source": [
    "df = pd.read_csv('../data/predicted-favelas.csv')  # read in predictions\n",
    "df['cd_geocodi'] = df['cd_geocodi'].astype(str) "
   ]
  },
  {
   "cell_type": "code",
   "execution_count": 125,
   "metadata": {},
   "outputs": [],
   "source": [
    "wd = '/Users/danielmsheehan/Dropbox/General_Assembly/Projects/project_5/data'  # working file directory, see Input Datasets Geoprocessing.ipynb\n",
    "\n",
    "geo_df = geopandas.read_file(f'{wd}/maps/sp_census_tracts_wgs_84.shp')\n",
    "geo_df.columns = [c.lower() for c in geo_df.columns]\n",
    "geo_df = geo_df[['cd_geocodi', 'geometry']]\n",
    "geo_df = geo_df.merge(df, on='cd_geocodi', how='left')\n",
    "\n",
    "true_pos = geo_df[(geo_df['favela_present'] == 1) & (geo_df['predicted_favela_present'] == 1) ]\n",
    "false_neg = geo_df[(geo_df['favela_present'] == 0) & (geo_df['predicted_favela_present'] == 1) ]\n",
    "false_pos = geo_df[(geo_df['favela_present'] == 1) & (geo_df['predicted_favela_present'] == 0) ]\n",
    "\n",
    "true_pos_geojson = true_pos.to_crs(epsg='4326').to_json()  # create geojson for maps\n",
    "false_neg_geojson = false_neg.to_crs(epsg='4326').to_json()\n",
    "false_pos_geojson = false_pos.to_crs(epsg='4326').to_json()\n",
    "\n",
    "true_pos.to_file(f'{wd}/maps/favela_preds_true_pos.shp')  # create shapefiles\n",
    "false_neg.to_file(f'{wd}/maps/favela_preds_false_neg.shp')\n",
    "false_pos.to_file(f'{wd}/maps/favela_preds_false_pos.shp')"
   ]
  },
  {
   "cell_type": "code",
   "execution_count": 126,
   "metadata": {},
   "outputs": [],
   "source": [
    "real_favela = geopandas.read_file(f'{wd}/maps/sp_favelas_wgs_84.shp')  # get favelas\n",
    "real_favela_geojson = real_favela.to_crs(epsg='4326').to_json()"
   ]
  },
  {
   "cell_type": "markdown",
   "metadata": {},
   "source": [
    "# Predictions Map"
   ]
  },
  {
   "cell_type": "code",
   "execution_count": 130,
   "metadata": {},
   "outputs": [],
   "source": [
    "import folium\n",
    "\n",
    "m = folium.Map(location=[-23.55, -46.533333], tiles=\"cartodbpositron\", zoom_start=12)\n",
    "\n",
    "def style_true_pos_geojson(feature):\n",
    "    return {\n",
    "        'fillOpacity': 0.8,\n",
    "        'weight': 0,\n",
    "        'fillColor': '#66ff99'\n",
    "    }\n",
    "\n",
    "def style_false_neg_geojson(feature):\n",
    "    return {\n",
    "        'fillOpacity': 0.8,\n",
    "        'weight': 0,\n",
    "        'fillColor': '#cc0099'\n",
    "    }\n",
    "\n",
    "def style_false_pos_geojson(feature):\n",
    "    return {\n",
    "        'fillOpacity': 0.8,\n",
    "        'weight': 0,\n",
    "        'fillColor': '#ffcc00'\n",
    "    }\n",
    "\n",
    "def style_real_favela_geojson(feature):\n",
    "    return {\n",
    "        #'fillOpacity': 0.9,\n",
    "        'weight': 4,\n",
    "        'fillColor': '#66ff99',\n",
    "        'color': '#001a09',\n",
    "    }\n",
    "\n",
    "\n",
    "folium.GeoJson(\n",
    "    real_favela_geojson, \n",
    "    name='Real Favelas', \n",
    "    style_function=style_real_favela_geojson,\n",
    ").add_to(m)\n",
    "\n",
    "\n",
    "folium.GeoJson(\n",
    "    true_pos_geojson, \n",
    "    name='True Positives', \n",
    "    style_function=style_true_pos_geojson,\n",
    ").add_to(m)\n",
    "\n",
    "folium.GeoJson(\n",
    "    false_neg_geojson, \n",
    "    name='False Negatives',\n",
    "    style_function=style_false_neg_geojson,\n",
    ").add_to(m)\n",
    "\n",
    "folium.GeoJson(\n",
    "    false_pos_geojson, \n",
    "    name='False Positives',\n",
    "    style_function=style_false_pos_geojson,\n",
    ").add_to(m)\n",
    "\n",
    "\n",
    "\n",
    "folium.LayerControl().add_to(m)\n",
    "\n",
    "m.save('html/index.html')"
   ]
  },
  {
   "cell_type": "markdown",
   "metadata": {},
   "source": [
    "![](https://raw.git.generalassemb.ly/delta/delta/master/geoprocessing/images/final_predictions_map.png?token=AABhyVeWXSK5OknmwYuJg0btIRko_N_gks5eWXC9wA%3D%3D)\n",
    "_Output image embedded in case viewing on GitHub_\n",
    "\n",
    "Or visit [https://predictfavelas.github.io/](https://predictfavelas.github.io/)"
   ]
  },
  {
   "cell_type": "markdown",
   "metadata": {},
   "source": [
    "# Data Map"
   ]
  },
  {
   "cell_type": "code",
   "execution_count": 132,
   "metadata": {},
   "outputs": [],
   "source": [
    "census_tracts = geopandas.read_file(f'{wd}/maps/sp_census_tracts_select_example_wgs_84.shp')\n",
    "census_tracts_geojson = census_tracts.to_crs(epsg='4326').to_json()\n",
    "\n",
    "favelas = geopandas.read_file(f'{wd}/maps/sp_favelas_wgs_84.shp')\n",
    "favelas_geojson = favelas.to_crs(epsg='4326').to_json()\n",
    "\n",
    "\n",
    "m = folium.Map(location=[-23.65, -46.59033333], tiles=\"cartodbpositron\", zoom_start=12)\n",
    "\n",
    "\n",
    "def style_census_tracts_geojson(feature):\n",
    "    return {\n",
    "        'fillOpacity': 0.8,\n",
    "        'weight': 4,\n",
    "        'fillColor': '#3385ff',\n",
    "        'color': '#002966',\n",
    "    }\n",
    "\n",
    "def style_favelas_geojson(feature):\n",
    "    return {\n",
    "        'fillOpacity': 0.8,\n",
    "        'weight': 4,\n",
    "        'fillColor': '#66ff99',\n",
    "        'color': '#001a09',\n",
    "    }\n",
    "\n",
    "folium.GeoJson(\n",
    "    census_tracts_geojson, \n",
    "    name='Census Tracts Example', \n",
    "    style_function=style_census_tracts_geojson,\n",
    ").add_to(m)\n",
    "\n",
    "\n",
    "folium.GeoJson(\n",
    "    favelas_geojson, \n",
    "    name='Real Favelas', \n",
    "    style_function=style_favelas_geojson,\n",
    ").add_to(m)\n",
    "\n",
    "folium.LayerControl().add_to(m)\n",
    "\n",
    "m.save('html/data.html')"
   ]
  },
  {
   "cell_type": "markdown",
   "metadata": {},
   "source": [
    "![](https://raw.git.generalassemb.ly/delta/delta/master/geoprocessing/images/example_data_map.png?token=AABhyVDwSlkbvlB2QDD5BTp36o4mf5hrks5eWXDZwA%3D%3D)\n",
    "_Output image embedded in case viewing on GitHub_\n",
    "\n",
    "Or visit [https://predictfavelas.github.io/data](https://predictfavelas.github.io/data)"
   ]
  },
  {
   "cell_type": "markdown",
   "metadata": {},
   "source": [
    "# Map for Kumar's Predictions\n",
    "\n",
    "predicted-favelas-kumar.csv"
   ]
  },
  {
   "cell_type": "code",
   "execution_count": 1,
   "metadata": {},
   "outputs": [
    {
     "ename": "NameError",
     "evalue": "name 'pd' is not defined",
     "output_type": "error",
     "traceback": [
      "\u001b[0;31m---------------------------------------------------------------------------\u001b[0m",
      "\u001b[0;31mNameError\u001b[0m                                 Traceback (most recent call last)",
      "\u001b[0;32m<ipython-input-1-576354cb8d57>\u001b[0m in \u001b[0;36m<module>\u001b[0;34m\u001b[0m\n\u001b[0;32m----> 1\u001b[0;31m \u001b[0mdf\u001b[0m \u001b[0;34m=\u001b[0m \u001b[0mpd\u001b[0m\u001b[0;34m.\u001b[0m\u001b[0mread_csv\u001b[0m\u001b[0;34m(\u001b[0m\u001b[0;34m'../data/predicted-favelas-kumar.csv'\u001b[0m\u001b[0;34m)\u001b[0m  \u001b[0;31m# read in predictions\u001b[0m\u001b[0;34m\u001b[0m\u001b[0;34m\u001b[0m\u001b[0m\n\u001b[0m\u001b[1;32m      2\u001b[0m \u001b[0mdf\u001b[0m\u001b[0;34m[\u001b[0m\u001b[0;34m'cd_geocodi'\u001b[0m\u001b[0;34m]\u001b[0m \u001b[0;34m=\u001b[0m \u001b[0mdf\u001b[0m\u001b[0;34m[\u001b[0m\u001b[0;34m'cd_geocodi'\u001b[0m\u001b[0;34m]\u001b[0m\u001b[0;34m.\u001b[0m\u001b[0mastype\u001b[0m\u001b[0;34m(\u001b[0m\u001b[0mstr\u001b[0m\u001b[0;34m)\u001b[0m\u001b[0;34m\u001b[0m\u001b[0;34m\u001b[0m\u001b[0m\n",
      "\u001b[0;31mNameError\u001b[0m: name 'pd' is not defined"
     ]
    }
   ],
   "source": [
    "df = pd.read_csv('../data/predicted-favelas-kumar.csv')  # read in predictions\n",
    "df['cd_geocodi'] = df['cd_geocodi'].astype(str) "
   ]
  },
  {
   "cell_type": "code",
   "execution_count": 3,
   "metadata": {},
   "outputs": [
    {
     "ename": "NameError",
     "evalue": "name 'df' is not defined",
     "output_type": "error",
     "traceback": [
      "\u001b[0;31m---------------------------------------------------------------------------\u001b[0m",
      "\u001b[0;31mNameError\u001b[0m                                 Traceback (most recent call last)",
      "\u001b[0;32m<ipython-input-3-83b312977c25>\u001b[0m in \u001b[0;36m<module>\u001b[0;34m\u001b[0m\n\u001b[1;32m      4\u001b[0m \u001b[0mgeo_df\u001b[0m\u001b[0;34m.\u001b[0m\u001b[0mcolumns\u001b[0m \u001b[0;34m=\u001b[0m \u001b[0;34m[\u001b[0m\u001b[0mc\u001b[0m\u001b[0;34m.\u001b[0m\u001b[0mlower\u001b[0m\u001b[0;34m(\u001b[0m\u001b[0;34m)\u001b[0m \u001b[0;32mfor\u001b[0m \u001b[0mc\u001b[0m \u001b[0;32min\u001b[0m \u001b[0mgeo_df\u001b[0m\u001b[0;34m.\u001b[0m\u001b[0mcolumns\u001b[0m\u001b[0;34m]\u001b[0m\u001b[0;34m\u001b[0m\u001b[0;34m\u001b[0m\u001b[0m\n\u001b[1;32m      5\u001b[0m \u001b[0mgeo_df\u001b[0m \u001b[0;34m=\u001b[0m \u001b[0mgeo_df\u001b[0m\u001b[0;34m[\u001b[0m\u001b[0;34m[\u001b[0m\u001b[0;34m'cd_geocodi'\u001b[0m\u001b[0;34m,\u001b[0m \u001b[0;34m'geometry'\u001b[0m\u001b[0;34m]\u001b[0m\u001b[0;34m]\u001b[0m\u001b[0;34m\u001b[0m\u001b[0;34m\u001b[0m\u001b[0m\n\u001b[0;32m----> 6\u001b[0;31m \u001b[0mgeo_df\u001b[0m \u001b[0;34m=\u001b[0m \u001b[0mgeo_df\u001b[0m\u001b[0;34m.\u001b[0m\u001b[0mmerge\u001b[0m\u001b[0;34m(\u001b[0m\u001b[0mdf\u001b[0m\u001b[0;34m,\u001b[0m \u001b[0mon\u001b[0m\u001b[0;34m=\u001b[0m\u001b[0;34m'cd_geocodi'\u001b[0m\u001b[0;34m,\u001b[0m \u001b[0mhow\u001b[0m\u001b[0;34m=\u001b[0m\u001b[0;34m'left'\u001b[0m\u001b[0;34m)\u001b[0m\u001b[0;34m\u001b[0m\u001b[0;34m\u001b[0m\u001b[0m\n\u001b[0m\u001b[1;32m      7\u001b[0m \u001b[0;34m\u001b[0m\u001b[0m\n\u001b[1;32m      8\u001b[0m \u001b[0mtrue_pos\u001b[0m \u001b[0;34m=\u001b[0m \u001b[0mgeo_df\u001b[0m\u001b[0;34m[\u001b[0m\u001b[0;34m(\u001b[0m\u001b[0mgeo_df\u001b[0m\u001b[0;34m[\u001b[0m\u001b[0;34m'favela_present'\u001b[0m\u001b[0;34m]\u001b[0m \u001b[0;34m==\u001b[0m \u001b[0;36m1\u001b[0m\u001b[0;34m)\u001b[0m \u001b[0;34m&\u001b[0m \u001b[0;34m(\u001b[0m\u001b[0mgeo_df\u001b[0m\u001b[0;34m[\u001b[0m\u001b[0;34m'predicted_favela_present'\u001b[0m\u001b[0;34m]\u001b[0m \u001b[0;34m==\u001b[0m \u001b[0;36m1\u001b[0m\u001b[0;34m)\u001b[0m \u001b[0;34m]\u001b[0m\u001b[0;34m\u001b[0m\u001b[0;34m\u001b[0m\u001b[0m\n",
      "\u001b[0;31mNameError\u001b[0m: name 'df' is not defined"
     ]
    }
   ],
   "source": [
    "wd = '/Users/danielmsheehan/Dropbox/General_Assembly/Projects/project_5/data'  # working file directory, see Input Datasets Geoprocessing.ipynb\n",
    "\n",
    "geo_df = geopandas.read_file(f'{wd}/maps/sp_census_tracts_wgs_84.shp')\n",
    "geo_df.columns = [c.lower() for c in geo_df.columns]\n",
    "geo_df = geo_df[['cd_geocodi', 'geometry']]\n",
    "geo_df = geo_df.merge(df, on='cd_geocodi', how='left')\n",
    "\n",
    "true_pos = geo_df[(geo_df['favela_present'] == 1) & (geo_df['predicted_favela_present'] == 1) ]\n",
    "false_neg = geo_df[(geo_df['favela_present'] == 0) & (geo_df['predicted_favela_present'] == 1) ]\n",
    "false_pos = geo_df[(geo_df['favela_present'] == 1) & (geo_df['predicted_favela_present'] == 0) ]\n",
    "\n",
    "true_pos_geojson = true_pos.to_crs(epsg='4326').to_json()  # create geojson for maps\n",
    "false_neg_geojson = false_neg.to_crs(epsg='4326').to_json()\n",
    "false_pos_geojson = false_pos.to_crs(epsg='4326').to_json()\n",
    "\n",
    "true_pos.to_file(f'{wd}/maps/favela_preds_true_pos.shp')  # create shapefiles\n",
    "false_neg.to_file(f'{wd}/maps/favela_preds_false_neg.shp')\n",
    "false_pos.to_file(f'{wd}/maps/favela_preds_false_pos.shp')"
   ]
  },
  {
   "cell_type": "code",
   "execution_count": null,
   "metadata": {},
   "outputs": [],
   "source": [
    "real_favela = geopandas.read_file(f'{wd}/maps/sp_favelas_wgs_84.shp')  # get favelas\n",
    "real_favela_geojson = real_favela.to_crs(epsg='4326').to_json()"
   ]
  },
  {
   "cell_type": "code",
   "execution_count": null,
   "metadata": {},
   "outputs": [],
   "source": []
  }
 ],
 "metadata": {
  "kernelspec": {
   "display_name": "Python 3",
   "language": "python",
   "name": "python3"
  },
  "language_info": {
   "codemirror_mode": {
    "name": "ipython",
    "version": 3
   },
   "file_extension": ".py",
   "mimetype": "text/x-python",
   "name": "python",
   "nbconvert_exporter": "python",
   "pygments_lexer": "ipython3",
   "version": "3.7.5"
  },
  "toc": {
   "base_numbering": 1,
   "nav_menu": {},
   "number_sections": true,
   "sideBar": true,
   "skip_h1_title": false,
   "title_cell": "Table of Contents",
   "title_sidebar": "Contents",
   "toc_cell": false,
   "toc_position": {},
   "toc_section_display": true,
   "toc_window_display": false
  }
 },
 "nbformat": 4,
 "nbformat_minor": 2
}
