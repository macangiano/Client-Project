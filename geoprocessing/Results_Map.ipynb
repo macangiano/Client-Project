{
 "cells": [
  {
   "cell_type": "code",
   "execution_count": 21,
   "metadata": {},
   "outputs": [],
   "source": [
    "import pandas as pd\n",
    "import geopandas"
   ]
  },
  {
   "cell_type": "code",
   "execution_count": 65,
   "metadata": {},
   "outputs": [
    {
     "name": "stdout",
     "output_type": "stream",
     "text": [
      "(27817, 3)\n"
     ]
    },
    {
     "data": {
      "text/plain": [
       "(26461, 3)"
      ]
     },
     "execution_count": 65,
     "metadata": {},
     "output_type": "execute_result"
    }
   ],
   "source": [
    "df = pd.read_csv('../data/predicted-favelas.csv')\n",
    "\n",
    "df.head()\n",
    "\n",
    "print(df.shape)\n",
    "\n",
    "df = df.drop_duplicates()\n",
    "\n",
    "df.shape"
   ]
  },
  {
   "cell_type": "code",
   "execution_count": 63,
   "metadata": {},
   "outputs": [
    {
     "name": "stdout",
     "output_type": "stream",
     "text": [
      "(27816, 3)\n"
     ]
    },
    {
     "data": {
      "text/plain": [
       "(26460, 3)"
      ]
     },
     "execution_count": 63,
     "metadata": {},
     "output_type": "execute_result"
    }
   ],
   "source": [
    "# df = pd.read_csv('../data/predicted-favelas_2.csv')\n",
    "\n",
    "# df.head()\n",
    "\n",
    "# print(df.shape)\n",
    "\n",
    "# df_dups = df.drop_duplicates()\n",
    "\n",
    "# df_dups.shape"
   ]
  },
  {
   "cell_type": "code",
   "execution_count": 54,
   "metadata": {},
   "outputs": [],
   "source": []
  },
  {
   "cell_type": "code",
   "execution_count": 60,
   "metadata": {},
   "outputs": [
    {
     "data": {
      "text/plain": [
       "(26461, 3)"
      ]
     },
     "execution_count": 60,
     "metadata": {},
     "output_type": "execute_result"
    }
   ],
   "source": []
  },
  {
   "cell_type": "code",
   "execution_count": 61,
   "metadata": {},
   "outputs": [
    {
     "data": {
      "text/plain": [
       "1356"
      ]
     },
     "execution_count": 61,
     "metadata": {},
     "output_type": "execute_result"
    }
   ],
   "source": [
    "27817 - 26461"
   ]
  },
  {
   "cell_type": "code",
   "execution_count": 66,
   "metadata": {},
   "outputs": [
    {
     "data": {
      "text/plain": [
       "(27817, 41)"
      ]
     },
     "execution_count": 66,
     "metadata": {},
     "output_type": "execute_result"
    }
   ],
   "source": [
    "df_gp = pd.read_csv(f\"../data/sp_geoprocessing.csv\")\n",
    "\n",
    "df_gp.shape"
   ]
  },
  {
   "cell_type": "code",
   "execution_count": 67,
   "metadata": {},
   "outputs": [
    {
     "data": {
      "text/plain": [
       "(27817, 41)"
      ]
     },
     "execution_count": 67,
     "metadata": {},
     "output_type": "execute_result"
    }
   ],
   "source": [
    "df_gp_dups = df_gp.drop_duplicates()\n",
    "df_gp_dups.shape"
   ]
  },
  {
   "cell_type": "code",
   "execution_count": 68,
   "metadata": {},
   "outputs": [
    {
     "data": {
      "text/plain": [
       "353440105000774    1\n",
       "355030844000054    1\n",
       "355030890000219    1\n",
       "353440105000595    1\n",
       "355030829000140    1\n",
       "                  ..\n",
       "355030895000110    1\n",
       "354870805000767    1\n",
       "355030845000208    1\n",
       "355030838000150    1\n",
       "355030859000177    1\n",
       "Name: cd_geocodi, Length: 26461, dtype: int64"
      ]
     },
     "execution_count": 68,
     "metadata": {},
     "output_type": "execute_result"
    }
   ],
   "source": [
    "df['cd_geocodi'].value_counts()"
   ]
  },
  {
   "cell_type": "code",
   "execution_count": 69,
   "metadata": {},
   "outputs": [
    {
     "data": {
      "text/html": [
       "<div>\n",
       "<style scoped>\n",
       "    .dataframe tbody tr th:only-of-type {\n",
       "        vertical-align: middle;\n",
       "    }\n",
       "\n",
       "    .dataframe tbody tr th {\n",
       "        vertical-align: top;\n",
       "    }\n",
       "\n",
       "    .dataframe thead th {\n",
       "        text-align: right;\n",
       "    }\n",
       "</style>\n",
       "<table border=\"1\" class=\"dataframe\">\n",
       "  <thead>\n",
       "    <tr style=\"text-align: right;\">\n",
       "      <th></th>\n",
       "      <th>cd_geocodi</th>\n",
       "      <th>favela_present</th>\n",
       "      <th>predicted_favela_present</th>\n",
       "    </tr>\n",
       "  </thead>\n",
       "  <tbody>\n",
       "    <tr>\n",
       "      <th>9468</th>\n",
       "      <td>355030815000006</td>\n",
       "      <td>1.0</td>\n",
       "      <td>1.0</td>\n",
       "    </tr>\n",
       "  </tbody>\n",
       "</table>\n",
       "</div>"
      ],
      "text/plain": [
       "           cd_geocodi  favela_present  predicted_favela_present\n",
       "9468  355030815000006             1.0                       1.0"
      ]
     },
     "execution_count": 69,
     "metadata": {},
     "output_type": "execute_result"
    }
   ],
   "source": [
    "df[df['cd_geocodi'] == 355030815000006]"
   ]
  },
  {
   "cell_type": "code",
   "execution_count": 70,
   "metadata": {},
   "outputs": [
    {
     "data": {
      "text/plain": [
       "cd_geocodi                   object\n",
       "favela_present              float64\n",
       "predicted_favela_present    float64\n",
       "dtype: object"
      ]
     },
     "execution_count": 70,
     "metadata": {},
     "output_type": "execute_result"
    }
   ],
   "source": [
    "df['cd_geocodi'] = df['cd_geocodi'].astype(str) \n",
    "\n",
    "df.dtypes\n"
   ]
  },
  {
   "cell_type": "code",
   "execution_count": 71,
   "metadata": {},
   "outputs": [
    {
     "name": "stdout",
     "output_type": "stream",
     "text": [
      "(26461, 4)\n"
     ]
    }
   ],
   "source": [
    "wd = '/Users/danielmsheehan/Dropbox/General_Assembly/Projects/project_5/data'\n",
    "\n",
    "\n",
    "geo_df = geopandas.read_file(f'{wd}/maps/sp_census_tracts_wgs_84.shp')\n",
    "\n",
    "geo_df.columns = [c.lower() for c in geo_df.columns]\n",
    "\n",
    "geo_df = geo_df[['cd_geocodi', 'geometry']]\n",
    "\n",
    "geo_df = geo_df.merge(df, on='cd_geocodi', how='left')\n",
    "\n",
    "\n",
    "\n",
    "geo_df.dtypes\n",
    "# gjson\n",
    "\n",
    "print(geo_df.shape)\n",
    "\n",
    "true_pos = geo_df[(geo_df['favela_present'] == 1) & (geo_df['predicted_favela_present'] == 1) ]\n",
    "false_neg = geo_df[(geo_df['favela_present'] == 0) & (geo_df['predicted_favela_present'] == 1) ]\n",
    "false_pos = geo_df[(geo_df['favela_present'] == 1) & (geo_df['predicted_favela_present'] == 0) ]\n",
    "\n",
    "true_pos_geojson = true_pos.to_crs(epsg='4326').to_json()\n",
    "false_neg_geojson = false_neg.to_crs(epsg='4326').to_json()\n",
    "false_pos_geojson = false_pos.to_crs(epsg='4326').to_json()\n",
    "\n",
    "true_pos.to_file(f'{wd}/maps/favela_preds_true_pos.shp')\n",
    "false_neg.to_file(f'{wd}/maps/favela_preds_false_neg.shp')\n",
    "false_pos.to_file(f'{wd}/maps/favela_preds_false_pos.shp')\n",
    "\n"
   ]
  },
  {
   "cell_type": "code",
   "execution_count": 89,
   "metadata": {},
   "outputs": [],
   "source": [
    "real_favela = geopandas.read_file(f'{wd}/maps/sp_favelas_wgs_84.shp')\n",
    "real_favela_geojson = real_favela.to_crs(epsg='4326').to_json()"
   ]
  },
  {
   "cell_type": "code",
   "execution_count": 37,
   "metadata": {},
   "outputs": [
    {
     "name": "stdout",
     "output_type": "stream",
     "text": [
      "(5640, 5)\n"
     ]
    }
   ],
   "source": [
    "\n",
    "\n",
    "\n",
    "print(geo_df.shape)\n"
   ]
  },
  {
   "cell_type": "code",
   "execution_count": 95,
   "metadata": {},
   "outputs": [],
   "source": [
    "import folium\n",
    "\n",
    "m = folium.Map(location=[-23.55, -46.533333], tiles=\"cartodbpositron\", zoom_start=12)\n",
    "\n",
    "#true_pos_geojson \n",
    "#false_neg_geojson \n",
    "#false_pos_geojson\n",
    "def style_true_pos_geojson(feature):\n",
    "    return {\n",
    "        'fillOpacity': 0.8,\n",
    "        'weight': 0,\n",
    "        'fillColor': '#66ff99'\n",
    "    }\n",
    "\n",
    "def style_false_neg_geojson(feature):\n",
    "    return {\n",
    "        'fillOpacity': 0.8,\n",
    "        'weight': 0,\n",
    "        'fillColor': '#cc0099'\n",
    "    }\n",
    "\n",
    "def style_false_pos_geojson(feature):\n",
    "    return {\n",
    "        'fillOpacity': 0.8,\n",
    "        'weight': 0,\n",
    "        'fillColor': '#ffcc00'\n",
    "    }\n",
    "\n",
    "def style_real_favela_geojson(feature):\n",
    "    return {\n",
    "        #'fillOpacity': 0.9,\n",
    "        'weight': 4,\n",
    "        'fillColor': '#66ff99',\n",
    "        'color': '#001a09',\n",
    "    }\n",
    "\n",
    "\n",
    "folium.GeoJson(\n",
    "    real_favela_geojson, \n",
    "    name='Real Favelas', \n",
    "    style_function=style_real_favela_geojson,\n",
    ").add_to(m)\n",
    "\n",
    "\n",
    "folium.GeoJson(\n",
    "    true_pos_geojson, \n",
    "    name='True Positives', \n",
    "    style_function=style_true_pos_geojson,\n",
    ").add_to(m)\n",
    "\n",
    "folium.GeoJson(\n",
    "    false_neg_geojson, \n",
    "    name='False Negatives',\n",
    "    style_function=style_false_neg_geojson,\n",
    ").add_to(m)\n",
    "\n",
    "folium.GeoJson(\n",
    "    false_pos_geojson, \n",
    "    name='False Positives',\n",
    "    style_function=style_false_pos_geojson,\n",
    ").add_to(m)\n",
    "\n",
    "\n",
    "\n",
    "folium.LayerControl().add_to(m)\n",
    "\n",
    "m.save('index.html')\n",
    "#m"
   ]
  },
  {
   "cell_type": "markdown",
   "metadata": {},
   "source": [
    "# Census Tracts"
   ]
  },
  {
   "cell_type": "code",
   "execution_count": 116,
   "metadata": {},
   "outputs": [],
   "source": [
    "census_tracts = geopandas.read_file(f'{wd}/maps/sp_census_tracts_select_example_wgs_84.shp')\n",
    "census_tracts_geojson = census_tracts.to_crs(epsg='4326').to_json()\n",
    "\n",
    "favelas = geopandas.read_file(f'{wd}/maps/sp_favelas_wgs_84.shp')\n",
    "favelas_geojson = favelas.to_crs(epsg='4326').to_json()\n",
    "\n",
    "\n",
    "m = folium.Map(location=[-23.65, -46.59033333], tiles=\"cartodbpositron\", zoom_start=12)\n",
    "\n",
    "\n",
    "def style_census_tracts_geojson(feature):\n",
    "    return {\n",
    "        'fillOpacity': 0.8,\n",
    "        'weight': 4,\n",
    "        'fillColor': '#3385ff',\n",
    "        'color': '#002966',\n",
    "    }\n",
    "\n",
    "def style_favelas_geojson(feature):\n",
    "    return {\n",
    "        'fillOpacity': 0.8,\n",
    "        'weight': 4,\n",
    "        'fillColor': '#66ff99',\n",
    "        'color': '#001a09',\n",
    "    }\n",
    "\n",
    "\n",
    "# def style_false_pos_geojson(feature):\n",
    "#     return {\n",
    "#         'fillOpacity': 0.8,\n",
    "#         'weight': 0,\n",
    "#         'fillColor': '#ffcc00'\n",
    "#     }\n",
    "\n",
    "# def style_real_favela_geojson(feature):\n",
    "#     return {\n",
    "#         #'fillOpacity': 0.9,\n",
    "#         'weight': 4,\n",
    "#         'fillColor': '#66ff99',\n",
    "#         'color': '#001a09',\n",
    "#     }\n",
    "\n",
    "\n",
    "folium.GeoJson(\n",
    "    census_tracts_geojson, \n",
    "    name='Census Tracts Example', \n",
    "    style_function=style_census_tracts_geojson,\n",
    ").add_to(m)\n",
    "\n",
    "\n",
    "folium.GeoJson(\n",
    "    favelas_geojson, \n",
    "    name='Real Favelas', \n",
    "    style_function=style_favelas_geojson,\n",
    ").add_to(m)\n",
    "\n",
    "# folium.GeoJson(\n",
    "#     false_neg_geojson, \n",
    "#     name='False Negatives',\n",
    "#     style_function=style_false_neg_geojson,\n",
    "# ).add_to(m)\n",
    "\n",
    "# folium.GeoJson(\n",
    "#     false_pos_geojson, \n",
    "#     name='False Positives',\n",
    "#     style_function=style_false_pos_geojson,\n",
    "# ).add_to(m)\n",
    "\n",
    "\n",
    "\n",
    "folium.LayerControl().add_to(m)\n",
    "\n",
    "m.save('data.html')\n"
   ]
  },
  {
   "cell_type": "code",
   "execution_count": null,
   "metadata": {},
   "outputs": [],
   "source": []
  }
 ],
 "metadata": {
  "kernelspec": {
   "display_name": "Python 3",
   "language": "python",
   "name": "python3"
  },
  "language_info": {
   "codemirror_mode": {
    "name": "ipython",
    "version": 3
   },
   "file_extension": ".py",
   "mimetype": "text/x-python",
   "name": "python",
   "nbconvert_exporter": "python",
   "pygments_lexer": "ipython3",
   "version": "3.7.5"
  },
  "toc": {
   "base_numbering": 1,
   "nav_menu": {},
   "number_sections": true,
   "sideBar": true,
   "skip_h1_title": false,
   "title_cell": "Table of Contents",
   "title_sidebar": "Contents",
   "toc_cell": false,
   "toc_position": {},
   "toc_section_display": true,
   "toc_window_display": false
  }
 },
 "nbformat": 4,
 "nbformat_minor": 2
}
