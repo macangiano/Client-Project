{
 "cells": [
  {
   "cell_type": "markdown",
   "metadata": {},
   "source": [
    "# Importing Libraries & Data"
   ]
  },
  {
   "cell_type": "code",
   "execution_count": 57,
   "metadata": {},
   "outputs": [],
   "source": [
    "import pandas as pd\n",
    "import numpy as np\n",
    "import matplotlib.pyplot as plt\n",
    "import seaborn as sns\n",
    "from sklearn.model_selection import cross_val_score, train_test_split, GridSearchCV\n",
    "from sklearn.linear_model import LogisticRegression\n",
    "from sklearn.naive_bayes import MultinomialNB, GaussianNB\n",
    "from sklearn.neighbors import KNeighborsClassifier\n",
    "from sklearn.svm import SVC\n",
    "from sklearn.ensemble import BaggingClassifier, RandomForestClassifier, ExtraTreesClassifier\n",
    "from sklearn.tree import DecisionTreeClassifier\n",
    "from sklearn.metrics import confusion_matrix, roc_auc_score\n",
    "from sklearn.preprocessing import StandardScaler, MinMaxScaler\n",
    "from sklearn.preprocessing import PolynomialFeatures\n",
    "from sklearn.linear_model import LinearRegression, RidgeCV, LassoCV, Lasso, ElasticNetCV\n",
    "from sklearn.pipeline import Pipeline\n",
    "from sklearn.datasets import make_classification\n",
    "from sklearn.ensemble import GradientBoostingClassifier, AdaBoostClassifier, VotingClassifier, RandomForestClassifier\n",
    "from sklearn.tree import DecisionTreeClassifier\n",
    "from sklearn.neighbors import KNeighborsClassifier\n",
    "\n",
    "\n",
    "\n",
    "import warnings\n",
    "warnings.filterwarnings('ignore')"
   ]
  },
  {
   "cell_type": "code",
   "execution_count": 58,
   "metadata": {},
   "outputs": [],
   "source": [
    "data = pd.read_csv('https://general-assembly-project-5.s3.amazonaws.com/sp_master.csv')"
   ]
  },
  {
   "cell_type": "code",
   "execution_count": 59,
   "metadata": {},
   "outputs": [
    {
     "data": {
      "text/html": [
       "<div>\n",
       "<style scoped>\n",
       "    .dataframe tbody tr th:only-of-type {\n",
       "        vertical-align: middle;\n",
       "    }\n",
       "\n",
       "    .dataframe tbody tr th {\n",
       "        vertical-align: top;\n",
       "    }\n",
       "\n",
       "    .dataframe thead th {\n",
       "        text-align: right;\n",
       "    }\n",
       "</style>\n",
       "<table border=\"1\" class=\"dataframe\">\n",
       "  <thead>\n",
       "    <tr style=\"text-align: right;\">\n",
       "      <th></th>\n",
       "      <th>cd_geocodi</th>\n",
       "      <th>nm_subdist</th>\n",
       "      <th>nm_distrit</th>\n",
       "      <th>nm_municip</th>\n",
       "      <th>nm_micro</th>\n",
       "      <th>nm_meso</th>\n",
       "      <th>id1</th>\n",
       "      <th>geog_orig_area</th>\n",
       "      <th>favela_present</th>\n",
       "      <th>favela_area_squaremeters</th>\n",
       "      <th>...</th>\n",
       "      <th>brazil_store_near_angle</th>\n",
       "      <th>brazil_store_near_price</th>\n",
       "      <th>sp_brazil_store_kernel_density</th>\n",
       "      <th>brazil_ph_count_listings</th>\n",
       "      <th>brazil_ph_near_fid</th>\n",
       "      <th>brazil_ph_near_dist</th>\n",
       "      <th>brazil_ph_near_angle</th>\n",
       "      <th>brazil_ph_near_price</th>\n",
       "      <th>sp_brazil_ph_kernel_density</th>\n",
       "      <th>population_estimate</th>\n",
       "    </tr>\n",
       "  </thead>\n",
       "  <tbody>\n",
       "    <tr>\n",
       "      <th>0</th>\n",
       "      <td>350570810000023</td>\n",
       "      <td></td>\n",
       "      <td>ALDEIA</td>\n",
       "      <td>BARUERI</td>\n",
       "      <td>OSASCO</td>\n",
       "      <td>METROPOLITANA DE STO PAULO</td>\n",
       "      <td>4151</td>\n",
       "      <td>2.257383e+05</td>\n",
       "      <td>0.0</td>\n",
       "      <td>0.0</td>\n",
       "      <td>...</td>\n",
       "      <td>-0.026392</td>\n",
       "      <td>1200.0</td>\n",
       "      <td>0.003540</td>\n",
       "      <td>0.0</td>\n",
       "      <td>31</td>\n",
       "      <td>8889.189773</td>\n",
       "      <td>-158.493799</td>\n",
       "      <td>2500.0</td>\n",
       "      <td>0.0</td>\n",
       "      <td>1164.570831</td>\n",
       "    </tr>\n",
       "    <tr>\n",
       "      <th>1</th>\n",
       "      <td>350570810000025</td>\n",
       "      <td></td>\n",
       "      <td>ALDEIA</td>\n",
       "      <td>BARUERI</td>\n",
       "      <td>OSASCO</td>\n",
       "      <td>METROPOLITANA DE STO PAULO</td>\n",
       "      <td>4153</td>\n",
       "      <td>3.926667e+04</td>\n",
       "      <td>0.0</td>\n",
       "      <td>0.0</td>\n",
       "      <td>...</td>\n",
       "      <td>-2.042826</td>\n",
       "      <td>1200.0</td>\n",
       "      <td>0.000000</td>\n",
       "      <td>0.0</td>\n",
       "      <td>31</td>\n",
       "      <td>8546.979457</td>\n",
       "      <td>-156.899284</td>\n",
       "      <td>2500.0</td>\n",
       "      <td>0.0</td>\n",
       "      <td>413.065460</td>\n",
       "    </tr>\n",
       "    <tr>\n",
       "      <th>2</th>\n",
       "      <td>350570805000043</td>\n",
       "      <td></td>\n",
       "      <td>BARUERI</td>\n",
       "      <td>BARUERI</td>\n",
       "      <td>OSASCO</td>\n",
       "      <td>METROPOLITANA DE SuO PAULO</td>\n",
       "      <td>4380</td>\n",
       "      <td>3.925101e+04</td>\n",
       "      <td>0.0</td>\n",
       "      <td>0.0</td>\n",
       "      <td>...</td>\n",
       "      <td>177.898449</td>\n",
       "      <td>550.0</td>\n",
       "      <td>0.000000</td>\n",
       "      <td>0.0</td>\n",
       "      <td>31</td>\n",
       "      <td>17668.657905</td>\n",
       "      <td>-146.372789</td>\n",
       "      <td>2500.0</td>\n",
       "      <td>0.0</td>\n",
       "      <td>424.170563</td>\n",
       "    </tr>\n",
       "    <tr>\n",
       "      <th>3</th>\n",
       "      <td>350570805000056</td>\n",
       "      <td></td>\n",
       "      <td>BARUERI</td>\n",
       "      <td>BARUERI</td>\n",
       "      <td>OSASCO</td>\n",
       "      <td>METROPOLITANA DE SuO PAULO</td>\n",
       "      <td>4393</td>\n",
       "      <td>7.136625e+04</td>\n",
       "      <td>0.0</td>\n",
       "      <td>0.0</td>\n",
       "      <td>...</td>\n",
       "      <td>-86.225561</td>\n",
       "      <td>7560.0</td>\n",
       "      <td>0.532356</td>\n",
       "      <td>0.0</td>\n",
       "      <td>31</td>\n",
       "      <td>14395.394220</td>\n",
       "      <td>-159.666627</td>\n",
       "      <td>2500.0</td>\n",
       "      <td>0.0</td>\n",
       "      <td>272.054306</td>\n",
       "    </tr>\n",
       "    <tr>\n",
       "      <th>4</th>\n",
       "      <td>350570805000057</td>\n",
       "      <td></td>\n",
       "      <td>BARUERI</td>\n",
       "      <td>BARUERI</td>\n",
       "      <td>OSASCO</td>\n",
       "      <td>METROPOLITANA DE SuO PAULO</td>\n",
       "      <td>4394</td>\n",
       "      <td>1.264789e+06</td>\n",
       "      <td>0.0</td>\n",
       "      <td>0.0</td>\n",
       "      <td>...</td>\n",
       "      <td>0.000000</td>\n",
       "      <td>7560.0</td>\n",
       "      <td>0.505313</td>\n",
       "      <td>0.0</td>\n",
       "      <td>31</td>\n",
       "      <td>13056.248015</td>\n",
       "      <td>-160.753356</td>\n",
       "      <td>2500.0</td>\n",
       "      <td>0.0</td>\n",
       "      <td>2401.068539</td>\n",
       "    </tr>\n",
       "  </tbody>\n",
       "</table>\n",
       "<p>5 rows × 41 columns</p>\n",
       "</div>"
      ],
      "text/plain": [
       "        cd_geocodi nm_subdist nm_distrit nm_municip nm_micro  \\\n",
       "0  350570810000023                ALDEIA    BARUERI   OSASCO   \n",
       "1  350570810000025                ALDEIA    BARUERI   OSASCO   \n",
       "2  350570805000043               BARUERI    BARUERI   OSASCO   \n",
       "3  350570805000056               BARUERI    BARUERI   OSASCO   \n",
       "4  350570805000057               BARUERI    BARUERI   OSASCO   \n",
       "\n",
       "                      nm_meso   id1  geog_orig_area  favela_present  \\\n",
       "0  METROPOLITANA DE STO PAULO  4151    2.257383e+05             0.0   \n",
       "1  METROPOLITANA DE STO PAULO  4153    3.926667e+04             0.0   \n",
       "2  METROPOLITANA DE SuO PAULO  4380    3.925101e+04             0.0   \n",
       "3  METROPOLITANA DE SuO PAULO  4393    7.136625e+04             0.0   \n",
       "4  METROPOLITANA DE SuO PAULO  4394    1.264789e+06             0.0   \n",
       "\n",
       "   favela_area_squaremeters  ...  brazil_store_near_angle  \\\n",
       "0                       0.0  ...                -0.026392   \n",
       "1                       0.0  ...                -2.042826   \n",
       "2                       0.0  ...               177.898449   \n",
       "3                       0.0  ...               -86.225561   \n",
       "4                       0.0  ...                 0.000000   \n",
       "\n",
       "   brazil_store_near_price  sp_brazil_store_kernel_density  \\\n",
       "0                   1200.0                        0.003540   \n",
       "1                   1200.0                        0.000000   \n",
       "2                    550.0                        0.000000   \n",
       "3                   7560.0                        0.532356   \n",
       "4                   7560.0                        0.505313   \n",
       "\n",
       "   brazil_ph_count_listings  brazil_ph_near_fid  brazil_ph_near_dist  \\\n",
       "0                       0.0                  31          8889.189773   \n",
       "1                       0.0                  31          8546.979457   \n",
       "2                       0.0                  31         17668.657905   \n",
       "3                       0.0                  31         14395.394220   \n",
       "4                       0.0                  31         13056.248015   \n",
       "\n",
       "   brazil_ph_near_angle  brazil_ph_near_price  sp_brazil_ph_kernel_density  \\\n",
       "0           -158.493799                2500.0                          0.0   \n",
       "1           -156.899284                2500.0                          0.0   \n",
       "2           -146.372789                2500.0                          0.0   \n",
       "3           -159.666627                2500.0                          0.0   \n",
       "4           -160.753356                2500.0                          0.0   \n",
       "\n",
       "   population_estimate  \n",
       "0          1164.570831  \n",
       "1           413.065460  \n",
       "2           424.170563  \n",
       "3           272.054306  \n",
       "4          2401.068539  \n",
       "\n",
       "[5 rows x 41 columns]"
      ]
     },
     "execution_count": 59,
     "metadata": {},
     "output_type": "execute_result"
    }
   ],
   "source": [
    "data.head()"
   ]
  },
  {
   "cell_type": "code",
   "execution_count": 60,
   "metadata": {},
   "outputs": [
    {
     "data": {
      "text/html": [
       "<div>\n",
       "<style scoped>\n",
       "    .dataframe tbody tr th:only-of-type {\n",
       "        vertical-align: middle;\n",
       "    }\n",
       "\n",
       "    .dataframe tbody tr th {\n",
       "        vertical-align: top;\n",
       "    }\n",
       "\n",
       "    .dataframe thead th {\n",
       "        text-align: right;\n",
       "    }\n",
       "</style>\n",
       "<table border=\"1\" class=\"dataframe\">\n",
       "  <thead>\n",
       "    <tr style=\"text-align: right;\">\n",
       "      <th></th>\n",
       "      <th>cd_geocodi</th>\n",
       "      <th>id1</th>\n",
       "      <th>geog_orig_area</th>\n",
       "      <th>favela_present</th>\n",
       "      <th>favela_area_squaremeters</th>\n",
       "      <th>sao_paulo_apartment_count_listings</th>\n",
       "      <th>sao_paulo_apartment_near_fid</th>\n",
       "      <th>sao_paulo_apartment_near_dist</th>\n",
       "      <th>sao_paulo_apartment_near_angle</th>\n",
       "      <th>sao_paulo_apartment_near_price</th>\n",
       "      <th>...</th>\n",
       "      <th>brazil_store_near_angle</th>\n",
       "      <th>brazil_store_near_price</th>\n",
       "      <th>sp_brazil_store_kernel_density</th>\n",
       "      <th>brazil_ph_count_listings</th>\n",
       "      <th>brazil_ph_near_fid</th>\n",
       "      <th>brazil_ph_near_dist</th>\n",
       "      <th>brazil_ph_near_angle</th>\n",
       "      <th>brazil_ph_near_price</th>\n",
       "      <th>sp_brazil_ph_kernel_density</th>\n",
       "      <th>population_estimate</th>\n",
       "    </tr>\n",
       "  </thead>\n",
       "  <tbody>\n",
       "    <tr>\n",
       "      <th>count</th>\n",
       "      <td>2.781700e+04</td>\n",
       "      <td>27817.000000</td>\n",
       "      <td>2.781700e+04</td>\n",
       "      <td>27817.000000</td>\n",
       "      <td>27817.000000</td>\n",
       "      <td>27817.000000</td>\n",
       "      <td>27817.000000</td>\n",
       "      <td>27817.000000</td>\n",
       "      <td>27817.000000</td>\n",
       "      <td>2.781700e+04</td>\n",
       "      <td>...</td>\n",
       "      <td>27817.000000</td>\n",
       "      <td>27817.000000</td>\n",
       "      <td>27817.000000</td>\n",
       "      <td>27817.000000</td>\n",
       "      <td>27817.000000</td>\n",
       "      <td>27817.000000</td>\n",
       "      <td>27817.000000</td>\n",
       "      <td>27817.000000</td>\n",
       "      <td>27817.000000</td>\n",
       "      <td>27817.000000</td>\n",
       "    </tr>\n",
       "    <tr>\n",
       "      <th>mean</th>\n",
       "      <td>3.545147e+14</td>\n",
       "      <td>45631.993637</td>\n",
       "      <td>1.086461e+05</td>\n",
       "      <td>0.221411</td>\n",
       "      <td>852.603057</td>\n",
       "      <td>0.480749</td>\n",
       "      <td>6383.476939</td>\n",
       "      <td>1381.466201</td>\n",
       "      <td>0.966970</td>\n",
       "      <td>1.669580e+05</td>\n",
       "      <td>...</td>\n",
       "      <td>4.824355</td>\n",
       "      <td>8269.046986</td>\n",
       "      <td>0.502690</td>\n",
       "      <td>0.003775</td>\n",
       "      <td>64.715102</td>\n",
       "      <td>5580.939094</td>\n",
       "      <td>-1.423161</td>\n",
       "      <td>3395.134270</td>\n",
       "      <td>0.012708</td>\n",
       "      <td>697.857937</td>\n",
       "    </tr>\n",
       "    <tr>\n",
       "      <th>std</th>\n",
       "      <td>1.143566e+12</td>\n",
       "      <td>14182.287715</td>\n",
       "      <td>6.679838e+05</td>\n",
       "      <td>0.415204</td>\n",
       "      <td>3375.446206</td>\n",
       "      <td>2.125265</td>\n",
       "      <td>4288.662831</td>\n",
       "      <td>2225.903861</td>\n",
       "      <td>91.443765</td>\n",
       "      <td>2.991915e+05</td>\n",
       "      <td>...</td>\n",
       "      <td>99.729253</td>\n",
       "      <td>19840.795138</td>\n",
       "      <td>2.176391</td>\n",
       "      <td>0.140948</td>\n",
       "      <td>42.603400</td>\n",
       "      <td>4132.284706</td>\n",
       "      <td>102.503573</td>\n",
       "      <td>3615.253919</td>\n",
       "      <td>0.085228</td>\n",
       "      <td>814.251001</td>\n",
       "    </tr>\n",
       "    <tr>\n",
       "      <th>min</th>\n",
       "      <td>3.505708e+14</td>\n",
       "      <td>4151.000000</td>\n",
       "      <td>7.204612e+01</td>\n",
       "      <td>0.000000</td>\n",
       "      <td>0.000000</td>\n",
       "      <td>0.000000</td>\n",
       "      <td>0.000000</td>\n",
       "      <td>0.000000</td>\n",
       "      <td>-179.999999</td>\n",
       "      <td>4.800000e+02</td>\n",
       "      <td>...</td>\n",
       "      <td>-179.999967</td>\n",
       "      <td>243.000000</td>\n",
       "      <td>0.000000</td>\n",
       "      <td>0.000000</td>\n",
       "      <td>0.000000</td>\n",
       "      <td>0.000000</td>\n",
       "      <td>-179.999978</td>\n",
       "      <td>600.000000</td>\n",
       "      <td>0.000000</td>\n",
       "      <td>0.022254</td>\n",
       "    </tr>\n",
       "    <tr>\n",
       "      <th>25%</th>\n",
       "      <td>3.548708e+14</td>\n",
       "      <td>40223.000000</td>\n",
       "      <td>1.966987e+04</td>\n",
       "      <td>0.000000</td>\n",
       "      <td>0.000000</td>\n",
       "      <td>0.000000</td>\n",
       "      <td>2122.000000</td>\n",
       "      <td>44.663556</td>\n",
       "      <td>-60.623415</td>\n",
       "      <td>1.500000e+03</td>\n",
       "      <td>...</td>\n",
       "      <td>-77.494726</td>\n",
       "      <td>1300.000000</td>\n",
       "      <td>0.000000</td>\n",
       "      <td>0.000000</td>\n",
       "      <td>31.000000</td>\n",
       "      <td>2309.688526</td>\n",
       "      <td>-94.930909</td>\n",
       "      <td>1200.000000</td>\n",
       "      <td>0.000000</td>\n",
       "      <td>271.887459</td>\n",
       "    </tr>\n",
       "    <tr>\n",
       "      <th>50%</th>\n",
       "      <td>3.550308e+14</td>\n",
       "      <td>49162.000000</td>\n",
       "      <td>3.735301e+04</td>\n",
       "      <td>0.000000</td>\n",
       "      <td>0.000000</td>\n",
       "      <td>0.000000</td>\n",
       "      <td>6597.000000</td>\n",
       "      <td>317.392635</td>\n",
       "      <td>0.000000</td>\n",
       "      <td>8.000000e+04</td>\n",
       "      <td>...</td>\n",
       "      <td>1.821864</td>\n",
       "      <td>2800.000000</td>\n",
       "      <td>0.000000</td>\n",
       "      <td>0.000000</td>\n",
       "      <td>69.000000</td>\n",
       "      <td>4725.310805</td>\n",
       "      <td>-4.645367</td>\n",
       "      <td>2200.000000</td>\n",
       "      <td>0.000000</td>\n",
       "      <td>541.281494</td>\n",
       "    </tr>\n",
       "    <tr>\n",
       "      <th>75%</th>\n",
       "      <td>3.550309e+14</td>\n",
       "      <td>55899.000000</td>\n",
       "      <td>6.344960e+04</td>\n",
       "      <td>0.000000</td>\n",
       "      <td>0.000000</td>\n",
       "      <td>0.000000</td>\n",
       "      <td>9867.000000</td>\n",
       "      <td>1580.365671</td>\n",
       "      <td>70.885312</td>\n",
       "      <td>2.350000e+05</td>\n",
       "      <td>...</td>\n",
       "      <td>90.968477</td>\n",
       "      <td>7500.000000</td>\n",
       "      <td>0.000000</td>\n",
       "      <td>0.000000</td>\n",
       "      <td>85.000000</td>\n",
       "      <td>8079.799727</td>\n",
       "      <td>100.043084</td>\n",
       "      <td>3500.000000</td>\n",
       "      <td>0.000000</td>\n",
       "      <td>857.065901</td>\n",
       "    </tr>\n",
       "    <tr>\n",
       "      <th>max</th>\n",
       "      <td>3.552809e+14</td>\n",
       "      <td>65450.000000</td>\n",
       "      <td>6.401871e+07</td>\n",
       "      <td>1.000000</td>\n",
       "      <td>142763.606501</td>\n",
       "      <td>72.000000</td>\n",
       "      <td>13639.000000</td>\n",
       "      <td>18814.572237</td>\n",
       "      <td>179.999998</td>\n",
       "      <td>7.500000e+06</td>\n",
       "      <td>...</td>\n",
       "      <td>179.999926</td>\n",
       "      <td>250000.000000</td>\n",
       "      <td>22.422045</td>\n",
       "      <td>16.000000</td>\n",
       "      <td>152.000000</td>\n",
       "      <td>22174.147819</td>\n",
       "      <td>179.950102</td>\n",
       "      <td>15000.000000</td>\n",
       "      <td>1.305079</td>\n",
       "      <td>26176.639700</td>\n",
       "    </tr>\n",
       "  </tbody>\n",
       "</table>\n",
       "<p>8 rows × 36 columns</p>\n",
       "</div>"
      ],
      "text/plain": [
       "         cd_geocodi           id1  geog_orig_area  favela_present  \\\n",
       "count  2.781700e+04  27817.000000    2.781700e+04    27817.000000   \n",
       "mean   3.545147e+14  45631.993637    1.086461e+05        0.221411   \n",
       "std    1.143566e+12  14182.287715    6.679838e+05        0.415204   \n",
       "min    3.505708e+14   4151.000000    7.204612e+01        0.000000   \n",
       "25%    3.548708e+14  40223.000000    1.966987e+04        0.000000   \n",
       "50%    3.550308e+14  49162.000000    3.735301e+04        0.000000   \n",
       "75%    3.550309e+14  55899.000000    6.344960e+04        0.000000   \n",
       "max    3.552809e+14  65450.000000    6.401871e+07        1.000000   \n",
       "\n",
       "       favela_area_squaremeters  sao_paulo_apartment_count_listings  \\\n",
       "count              27817.000000                        27817.000000   \n",
       "mean                 852.603057                            0.480749   \n",
       "std                 3375.446206                            2.125265   \n",
       "min                    0.000000                            0.000000   \n",
       "25%                    0.000000                            0.000000   \n",
       "50%                    0.000000                            0.000000   \n",
       "75%                    0.000000                            0.000000   \n",
       "max               142763.606501                           72.000000   \n",
       "\n",
       "       sao_paulo_apartment_near_fid  sao_paulo_apartment_near_dist  \\\n",
       "count                  27817.000000                   27817.000000   \n",
       "mean                    6383.476939                    1381.466201   \n",
       "std                     4288.662831                    2225.903861   \n",
       "min                        0.000000                       0.000000   \n",
       "25%                     2122.000000                      44.663556   \n",
       "50%                     6597.000000                     317.392635   \n",
       "75%                     9867.000000                    1580.365671   \n",
       "max                    13639.000000                   18814.572237   \n",
       "\n",
       "       sao_paulo_apartment_near_angle  sao_paulo_apartment_near_price  ...  \\\n",
       "count                    27817.000000                    2.781700e+04  ...   \n",
       "mean                         0.966970                    1.669580e+05  ...   \n",
       "std                         91.443765                    2.991915e+05  ...   \n",
       "min                       -179.999999                    4.800000e+02  ...   \n",
       "25%                        -60.623415                    1.500000e+03  ...   \n",
       "50%                          0.000000                    8.000000e+04  ...   \n",
       "75%                         70.885312                    2.350000e+05  ...   \n",
       "max                        179.999998                    7.500000e+06  ...   \n",
       "\n",
       "       brazil_store_near_angle  brazil_store_near_price  \\\n",
       "count             27817.000000             27817.000000   \n",
       "mean                  4.824355              8269.046986   \n",
       "std                  99.729253             19840.795138   \n",
       "min                -179.999967               243.000000   \n",
       "25%                 -77.494726              1300.000000   \n",
       "50%                   1.821864              2800.000000   \n",
       "75%                  90.968477              7500.000000   \n",
       "max                 179.999926            250000.000000   \n",
       "\n",
       "       sp_brazil_store_kernel_density  brazil_ph_count_listings  \\\n",
       "count                    27817.000000              27817.000000   \n",
       "mean                         0.502690                  0.003775   \n",
       "std                          2.176391                  0.140948   \n",
       "min                          0.000000                  0.000000   \n",
       "25%                          0.000000                  0.000000   \n",
       "50%                          0.000000                  0.000000   \n",
       "75%                          0.000000                  0.000000   \n",
       "max                         22.422045                 16.000000   \n",
       "\n",
       "       brazil_ph_near_fid  brazil_ph_near_dist  brazil_ph_near_angle  \\\n",
       "count        27817.000000         27817.000000          27817.000000   \n",
       "mean            64.715102          5580.939094             -1.423161   \n",
       "std             42.603400          4132.284706            102.503573   \n",
       "min              0.000000             0.000000           -179.999978   \n",
       "25%             31.000000          2309.688526            -94.930909   \n",
       "50%             69.000000          4725.310805             -4.645367   \n",
       "75%             85.000000          8079.799727            100.043084   \n",
       "max            152.000000         22174.147819            179.950102   \n",
       "\n",
       "       brazil_ph_near_price  sp_brazil_ph_kernel_density  population_estimate  \n",
       "count          27817.000000                 27817.000000         27817.000000  \n",
       "mean            3395.134270                     0.012708           697.857937  \n",
       "std             3615.253919                     0.085228           814.251001  \n",
       "min              600.000000                     0.000000             0.022254  \n",
       "25%             1200.000000                     0.000000           271.887459  \n",
       "50%             2200.000000                     0.000000           541.281494  \n",
       "75%             3500.000000                     0.000000           857.065901  \n",
       "max            15000.000000                     1.305079         26176.639700  \n",
       "\n",
       "[8 rows x 36 columns]"
      ]
     },
     "execution_count": 60,
     "metadata": {},
     "output_type": "execute_result"
    }
   ],
   "source": [
    "data.describe()"
   ]
  },
  {
   "cell_type": "code",
   "execution_count": 61,
   "metadata": {},
   "outputs": [
    {
     "name": "stdout",
     "output_type": "stream",
     "text": [
      "<class 'pandas.core.frame.DataFrame'>\n",
      "RangeIndex: 27817 entries, 0 to 27816\n",
      "Data columns (total 41 columns):\n",
      "cd_geocodi                               27817 non-null int64\n",
      "nm_subdist                               27817 non-null object\n",
      "nm_distrit                               27817 non-null object\n",
      "nm_municip                               27817 non-null object\n",
      "nm_micro                                 27817 non-null object\n",
      "nm_meso                                  27817 non-null object\n",
      "id1                                      27817 non-null int64\n",
      "geog_orig_area                           27817 non-null float64\n",
      "favela_present                           27817 non-null float64\n",
      "favela_area_squaremeters                 27817 non-null float64\n",
      "sao_paulo_apartment_count_listings       27817 non-null float64\n",
      "sao_paulo_apartment_near_fid             27817 non-null int64\n",
      "sao_paulo_apartment_near_dist            27817 non-null float64\n",
      "sao_paulo_apartment_near_angle           27817 non-null float64\n",
      "sao_paulo_apartment_near_price           27817 non-null int64\n",
      "sp_sao_paulo_apartment_kernel_density    27817 non-null float64\n",
      "brazil_apartment_count_listings          27817 non-null float64\n",
      "brazil_apartment_near_fid                27817 non-null int64\n",
      "brazil_apartment_near_dist               27817 non-null float64\n",
      "brazil_apartment_near_angle              27817 non-null float64\n",
      "brazil_apartment_near_price              27817 non-null float64\n",
      "sp_brazil_apartment_kernel_density       27817 non-null float64\n",
      "brazil_house_count_listings              27817 non-null float64\n",
      "brazil_house_near_fid                    27817 non-null int64\n",
      "brazil_house_near_dist                   27817 non-null float64\n",
      "brazil_house_near_angle                  27817 non-null float64\n",
      "brazil_house_near_price                  27817 non-null float64\n",
      "sp_brazil_house_kernel_density           27817 non-null float64\n",
      "brazil_store_count_listings              27817 non-null float64\n",
      "brazil_store_near_fid                    27817 non-null int64\n",
      "brazil_store_near_dist                   27817 non-null float64\n",
      "brazil_store_near_angle                  27817 non-null float64\n",
      "brazil_store_near_price                  27817 non-null float64\n",
      "sp_brazil_store_kernel_density           27817 non-null float64\n",
      "brazil_ph_count_listings                 27817 non-null float64\n",
      "brazil_ph_near_fid                       27817 non-null int64\n",
      "brazil_ph_near_dist                      27817 non-null float64\n",
      "brazil_ph_near_angle                     27817 non-null float64\n",
      "brazil_ph_near_price                     27817 non-null float64\n",
      "sp_brazil_ph_kernel_density              27817 non-null float64\n",
      "population_estimate                      27817 non-null float64\n",
      "dtypes: float64(28), int64(8), object(5)\n",
      "memory usage: 8.7+ MB\n"
     ]
    }
   ],
   "source": [
    "data.info()"
   ]
  },
  {
   "cell_type": "code",
   "execution_count": 62,
   "metadata": {},
   "outputs": [
    {
     "data": {
      "text/plain": [
       "(27817, 41)"
      ]
     },
     "execution_count": 62,
     "metadata": {},
     "output_type": "execute_result"
    }
   ],
   "source": [
    "data.shape"
   ]
  },
  {
   "cell_type": "code",
   "execution_count": 118,
   "metadata": {},
   "outputs": [],
   "source": [
    "X_cols = ['sao_paulo_apartment_count_listings', 'sao_paulo_apartment_near_dist', 'sao_paulo_apartment_near_angle',\n",
    "         'sao_paulo_apartment_near_price', 'brazil_apartment_count_listings', 'brazil_apartment_near_dist', \n",
    "         'brazil_apartment_near_angle', 'brazil_apartment_near_price', 'brazil_house_count_listings', \n",
    "         'brazil_house_near_dist', 'brazil_house_near_angle', 'brazil_house_near_price', \n",
    "         'brazil_store_count_listings', 'brazil_store_near_dist', 'brazil_store_near_angle',\n",
    "         'brazil_store_near_price', 'brazil_ph_count_listings', 'brazil_ph_near_dist', 'brazil_ph_near_angle',\n",
    "         'brazil_ph_near_price', 'population_estimate',\n",
    "         ]\n",
    "\n",
    "X = data[X_cols]\n",
    "y = data['favela_present']\n",
    "\n",
    "X_train, X_test, y_train, y_test = train_test_split(X, y, random_state = 19)"
   ]
  },
  {
   "cell_type": "markdown",
   "metadata": {},
   "source": [
    "Picking out the numeric columns that might help with determining the presence of a informal settlements from the real estate and population data we were able to find."
   ]
  },
  {
   "cell_type": "markdown",
   "metadata": {},
   "source": [
    "# Modeling"
   ]
  },
  {
   "cell_type": "markdown",
   "metadata": {},
   "source": [
    "## Base Model"
   ]
  },
  {
   "cell_type": "code",
   "execution_count": 119,
   "metadata": {},
   "outputs": [
    {
     "data": {
      "text/plain": [
       "0.0    0.778589\n",
       "1.0    0.221411\n",
       "Name: favela_present, dtype: float64"
      ]
     },
     "execution_count": 119,
     "metadata": {},
     "output_type": "execute_result"
    }
   ],
   "source": [
    "data['favela_present'].value_counts(normalize = True)"
   ]
  },
  {
   "cell_type": "markdown",
   "metadata": {},
   "source": [
    "A base model that predicts no favelas present in each census grid would be about 77.8% accurate. Any models we make should hope to perform better than that."
   ]
  },
  {
   "cell_type": "markdown",
   "metadata": {},
   "source": [
    "## Logistic Regression Model"
   ]
  },
  {
   "cell_type": "markdown",
   "metadata": {},
   "source": [
    "Starting off with a scaler and logistic regression model."
   ]
  },
  {
   "cell_type": "code",
   "execution_count": 65,
   "metadata": {},
   "outputs": [],
   "source": [
    "pipe = Pipeline(steps = [\n",
    "    ('sc', StandardScaler()),\n",
    "    ('lr', LogisticRegression())\n",
    "])\n",
    "\n",
    "params = {\n",
    "    'lr__penalty'        : ['l1', 'l2'],\n",
    "    'lr__C'              : [0.1, 0.3, 0.5, 0.7, 1.0],\n",
    "    \n",
    "}\n",
    "\n",
    "gs_lr = GridSearchCV(pipe,\n",
    "                 param_grid = params,\n",
    "                 cv = 5,\n",
    "                 scoring = 'accuracy')\n",
    "\n",
    "gs_lr.fit(X_train, y_train);"
   ]
  },
  {
   "cell_type": "code",
   "execution_count": 66,
   "metadata": {},
   "outputs": [
    {
     "data": {
      "text/plain": [
       "Pipeline(memory=None,\n",
       "         steps=[('sc',\n",
       "                 StandardScaler(copy=True, with_mean=True, with_std=True)),\n",
       "                ('lr',\n",
       "                 LogisticRegression(C=1.0, class_weight=None, dual=False,\n",
       "                                    fit_intercept=True, intercept_scaling=1,\n",
       "                                    l1_ratio=None, max_iter=100,\n",
       "                                    multi_class='auto', n_jobs=None,\n",
       "                                    penalty='l2', random_state=None,\n",
       "                                    solver='lbfgs', tol=0.0001, verbose=0,\n",
       "                                    warm_start=False))],\n",
       "         verbose=False)"
      ]
     },
     "execution_count": 66,
     "metadata": {},
     "output_type": "execute_result"
    }
   ],
   "source": [
    "gs_lr.best_estimator_"
   ]
  },
  {
   "cell_type": "code",
   "execution_count": 67,
   "metadata": {},
   "outputs": [
    {
     "data": {
      "text/plain": [
       "0.7833379858971028"
      ]
     },
     "execution_count": 67,
     "metadata": {},
     "output_type": "execute_result"
    }
   ],
   "source": [
    "gs_lr.best_score_"
   ]
  },
  {
   "cell_type": "code",
   "execution_count": 68,
   "metadata": {},
   "outputs": [
    {
     "data": {
      "text/plain": [
       "0.7870596693026599"
      ]
     },
     "execution_count": 68,
     "metadata": {},
     "output_type": "execute_result"
    }
   ],
   "source": [
    "gs_lr.score(X_test, y_test)"
   ]
  },
  {
   "cell_type": "markdown",
   "metadata": {},
   "source": [
    "This model performs about as well as the base model, but could definitely perform a lot better. Moving on to a K-Nearest Neighbors model to see how well it performs."
   ]
  },
  {
   "cell_type": "code",
   "execution_count": 69,
   "metadata": {},
   "outputs": [
    {
     "data": {
      "text/plain": [
       "0.7762345897278358"
      ]
     },
     "execution_count": 69,
     "metadata": {},
     "output_type": "execute_result"
    }
   ],
   "source": [
    "roc_auc_score(y_test, gs_lr.predict_proba(X_test)[:, 1])"
   ]
  },
  {
   "cell_type": "markdown",
   "metadata": {},
   "source": [
    "## KNN Model"
   ]
  },
  {
   "cell_type": "code",
   "execution_count": 70,
   "metadata": {},
   "outputs": [],
   "source": [
    "pipe = Pipeline(steps = [\n",
    "    ('sc', StandardScaler()),\n",
    "    ('knn', KNeighborsClassifier())\n",
    "])\n",
    "\n",
    "params = {\n",
    "    'knn__n_neighbors'    : [3, 5, 7, 9],\n",
    "    'knn__metric'         : ['minkowski', 'euclidean', 'manhattan']\n",
    "    \n",
    "}\n",
    "\n",
    "gs_knn = GridSearchCV(pipe,\n",
    "                 param_grid = params,\n",
    "                 cv = 5,\n",
    "                 scoring = 'accuracy')\n",
    "\n",
    "gs_knn.fit(X_train, y_train);"
   ]
  },
  {
   "cell_type": "code",
   "execution_count": 71,
   "metadata": {},
   "outputs": [
    {
     "data": {
      "text/plain": [
       "Pipeline(memory=None,\n",
       "         steps=[('sc',\n",
       "                 StandardScaler(copy=True, with_mean=True, with_std=True)),\n",
       "                ('knn',\n",
       "                 KNeighborsClassifier(algorithm='auto', leaf_size=30,\n",
       "                                      metric='manhattan', metric_params=None,\n",
       "                                      n_jobs=None, n_neighbors=5, p=2,\n",
       "                                      weights='uniform'))],\n",
       "         verbose=False)"
      ]
     },
     "execution_count": 71,
     "metadata": {},
     "output_type": "execute_result"
    }
   ],
   "source": [
    "gs_knn.best_estimator_"
   ]
  },
  {
   "cell_type": "code",
   "execution_count": 72,
   "metadata": {},
   "outputs": [
    {
     "data": {
      "text/plain": [
       "0.8480971358817435"
      ]
     },
     "execution_count": 72,
     "metadata": {},
     "output_type": "execute_result"
    }
   ],
   "source": [
    "gs_knn.best_score_"
   ]
  },
  {
   "cell_type": "code",
   "execution_count": 73,
   "metadata": {},
   "outputs": [
    {
     "data": {
      "text/plain": [
       "0.8569374550682962"
      ]
     },
     "execution_count": 73,
     "metadata": {},
     "output_type": "execute_result"
    }
   ],
   "source": [
    "gs_knn.score(X_test, y_test)"
   ]
  },
  {
   "cell_type": "markdown",
   "metadata": {},
   "source": [
    "This model is already better than the base model. There is still some room for improvement, however. Next step is to try a Decision Tree model."
   ]
  },
  {
   "cell_type": "code",
   "execution_count": 74,
   "metadata": {},
   "outputs": [
    {
     "data": {
      "text/plain": [
       "0.8859177195086548"
      ]
     },
     "execution_count": 74,
     "metadata": {},
     "output_type": "execute_result"
    }
   ],
   "source": [
    "roc_auc_score(y_test, gs_knn.predict_proba(X_test)[:, 1])"
   ]
  },
  {
   "cell_type": "markdown",
   "metadata": {},
   "source": [
    "## Decision Tree Model"
   ]
  },
  {
   "cell_type": "code",
   "execution_count": 75,
   "metadata": {},
   "outputs": [
    {
     "data": {
      "text/plain": [
       "DecisionTreeClassifier(ccp_alpha=0.0, class_weight=None, criterion='gini',\n",
       "                       max_depth=None, max_features=None, max_leaf_nodes=None,\n",
       "                       min_impurity_decrease=0.0, min_impurity_split=None,\n",
       "                       min_samples_leaf=1, min_samples_split=2,\n",
       "                       min_weight_fraction_leaf=0.0, presort='deprecated',\n",
       "                       random_state=None, splitter='best')"
      ]
     },
     "execution_count": 75,
     "metadata": {},
     "output_type": "execute_result"
    }
   ],
   "source": [
    "tree = DecisionTreeClassifier()\n",
    "tree.fit(X_train, y_train)"
   ]
  },
  {
   "cell_type": "code",
   "execution_count": 76,
   "metadata": {},
   "outputs": [
    {
     "data": {
      "text/plain": [
       "1.0"
      ]
     },
     "execution_count": 76,
     "metadata": {},
     "output_type": "execute_result"
    }
   ],
   "source": [
    "tree.score(X_train, y_train)"
   ]
  },
  {
   "cell_type": "code",
   "execution_count": 77,
   "metadata": {},
   "outputs": [
    {
     "data": {
      "text/plain": [
       "0.8339324227174695"
      ]
     },
     "execution_count": 77,
     "metadata": {},
     "output_type": "execute_result"
    }
   ],
   "source": [
    "tree.score(X_test, y_test)"
   ]
  },
  {
   "cell_type": "code",
   "execution_count": 78,
   "metadata": {},
   "outputs": [
    {
     "data": {
      "text/plain": [
       "0.8320388867023754"
      ]
     },
     "execution_count": 78,
     "metadata": {},
     "output_type": "execute_result"
    }
   ],
   "source": [
    "cross_val_score(tree, X_train, y_train, cv = 5).mean()"
   ]
  },
  {
   "cell_type": "markdown",
   "metadata": {},
   "source": [
    "The Desicion Tree doesn't perform as well as K-Nearest Neighbors at the moment. Let's move onto Random Forests, to see how that works."
   ]
  },
  {
   "cell_type": "code",
   "execution_count": 79,
   "metadata": {},
   "outputs": [
    {
     "data": {
      "text/plain": [
       "0.7756515841952762"
      ]
     },
     "execution_count": 79,
     "metadata": {},
     "output_type": "execute_result"
    }
   ],
   "source": [
    "roc_auc_score(y_test, tree.predict_proba(X_test)[:, 1])"
   ]
  },
  {
   "cell_type": "markdown",
   "metadata": {},
   "source": [
    "## Bagging Classifier Model"
   ]
  },
  {
   "cell_type": "code",
   "execution_count": 80,
   "metadata": {},
   "outputs": [
    {
     "data": {
      "text/plain": [
       "BaggingClassifier(base_estimator=None, bootstrap=True, bootstrap_features=False,\n",
       "                  max_features=1.0, max_samples=1.0, n_estimators=10,\n",
       "                  n_jobs=None, oob_score=False, random_state=None, verbose=0,\n",
       "                  warm_start=False)"
      ]
     },
     "execution_count": 80,
     "metadata": {},
     "output_type": "execute_result"
    }
   ],
   "source": [
    "bagging = BaggingClassifier()\n",
    "bagging.fit(X_train, y_train)"
   ]
  },
  {
   "cell_type": "code",
   "execution_count": 81,
   "metadata": {},
   "outputs": [
    {
     "data": {
      "text/plain": [
       "0.9911322020899243"
      ]
     },
     "execution_count": 81,
     "metadata": {},
     "output_type": "execute_result"
    }
   ],
   "source": [
    "bagging.score(X_train, y_train)"
   ]
  },
  {
   "cell_type": "code",
   "execution_count": 82,
   "metadata": {},
   "outputs": [
    {
     "data": {
      "text/plain": [
       "0.8723995097920957"
      ]
     },
     "execution_count": 82,
     "metadata": {},
     "output_type": "execute_result"
    }
   ],
   "source": [
    "cross_val_score(bagging, X_train, y_train, cv = 5).mean()"
   ]
  },
  {
   "cell_type": "code",
   "execution_count": 83,
   "metadata": {},
   "outputs": [
    {
     "data": {
      "text/plain": [
       "0.8802300503235083"
      ]
     },
     "execution_count": 83,
     "metadata": {},
     "output_type": "execute_result"
    }
   ],
   "source": [
    "bagging.score(X_test, y_test)"
   ]
  },
  {
   "cell_type": "code",
   "execution_count": 84,
   "metadata": {},
   "outputs": [
    {
     "data": {
      "text/plain": [
       "0.9106044199586382"
      ]
     },
     "execution_count": 84,
     "metadata": {},
     "output_type": "execute_result"
    }
   ],
   "source": [
    "roc_auc_score(y_test, bagging.predict_proba(X_test)[:, 1])"
   ]
  },
  {
   "cell_type": "code",
   "execution_count": null,
   "metadata": {},
   "outputs": [],
   "source": []
  },
  {
   "cell_type": "markdown",
   "metadata": {},
   "source": [
    "## Random Forest Model"
   ]
  },
  {
   "cell_type": "code",
   "execution_count": 85,
   "metadata": {},
   "outputs": [
    {
     "data": {
      "text/plain": [
       "RandomForestClassifier(bootstrap=True, ccp_alpha=0.0, class_weight=None,\n",
       "                       criterion='gini', max_depth=None, max_features='auto',\n",
       "                       max_leaf_nodes=None, max_samples=None,\n",
       "                       min_impurity_decrease=0.0, min_impurity_split=None,\n",
       "                       min_samples_leaf=1, min_samples_split=2,\n",
       "                       min_weight_fraction_leaf=0.0, n_estimators=100,\n",
       "                       n_jobs=None, oob_score=False, random_state=None,\n",
       "                       verbose=0, warm_start=False)"
      ]
     },
     "execution_count": 85,
     "metadata": {},
     "output_type": "execute_result"
    }
   ],
   "source": [
    "rand_forest = RandomForestClassifier()\n",
    "rand_forest.fit(X_train, y_train)"
   ]
  },
  {
   "cell_type": "code",
   "execution_count": 86,
   "metadata": {},
   "outputs": [
    {
     "data": {
      "text/plain": [
       "1.0"
      ]
     },
     "execution_count": 86,
     "metadata": {},
     "output_type": "execute_result"
    }
   ],
   "source": [
    "rand_forest.score(X_train, y_train)"
   ]
  },
  {
   "cell_type": "code",
   "execution_count": 87,
   "metadata": {},
   "outputs": [
    {
     "data": {
      "text/plain": [
       "0.8865881405804883"
      ]
     },
     "execution_count": 87,
     "metadata": {},
     "output_type": "execute_result"
    }
   ],
   "source": [
    "cross_val_score(rand_forest, X_train, y_train, cv = 5).mean()"
   ]
  },
  {
   "cell_type": "code",
   "execution_count": 88,
   "metadata": {},
   "outputs": [
    {
     "data": {
      "text/plain": [
       "0.892882818116463"
      ]
     },
     "execution_count": 88,
     "metadata": {},
     "output_type": "execute_result"
    }
   ],
   "source": [
    "rand_forest.score(X_test, y_test)"
   ]
  },
  {
   "cell_type": "markdown",
   "metadata": {},
   "source": [
    "This model works better than the KNN model, but there is still a lot of room for improvement. Let's increase the randomness of the model and try to reduce the variance with an Extra Trees model."
   ]
  },
  {
   "cell_type": "code",
   "execution_count": 89,
   "metadata": {},
   "outputs": [
    {
     "data": {
      "text/plain": [
       "0.9419779445555025"
      ]
     },
     "execution_count": 89,
     "metadata": {},
     "output_type": "execute_result"
    }
   ],
   "source": [
    "roc_auc_score(y_test, rand_forest.predict_proba(X_test)[:, 1])"
   ]
  },
  {
   "cell_type": "markdown",
   "metadata": {},
   "source": [
    "## Extra Trees Model"
   ]
  },
  {
   "cell_type": "code",
   "execution_count": 120,
   "metadata": {},
   "outputs": [
    {
     "data": {
      "text/plain": [
       "1.0"
      ]
     },
     "execution_count": 120,
     "metadata": {},
     "output_type": "execute_result"
    }
   ],
   "source": [
    "extra_trees = ExtraTreesClassifier(n_estimators = 200)\n",
    "extra_trees.fit(X_train, y_train)\n",
    "extra_trees.score(X_train, y_train)"
   ]
  },
  {
   "cell_type": "code",
   "execution_count": 121,
   "metadata": {},
   "outputs": [
    {
     "data": {
      "text/plain": [
       "0.8892244095781698"
      ]
     },
     "execution_count": 121,
     "metadata": {},
     "output_type": "execute_result"
    }
   ],
   "source": [
    "cross_val_score(extra_trees, X_train, y_train, cv = 5).mean()"
   ]
  },
  {
   "cell_type": "code",
   "execution_count": 122,
   "metadata": {},
   "outputs": [
    {
     "data": {
      "text/plain": [
       "0.893314162473041"
      ]
     },
     "execution_count": 122,
     "metadata": {},
     "output_type": "execute_result"
    }
   ],
   "source": [
    "extra_trees.score(X_test, y_test)"
   ]
  },
  {
   "cell_type": "markdown",
   "metadata": {},
   "source": [
    "That's an even better model, but we can still improve a lot. Let's try another boosting model like AdaBoost to see how well it performs."
   ]
  },
  {
   "cell_type": "code",
   "execution_count": 123,
   "metadata": {},
   "outputs": [
    {
     "data": {
      "text/plain": [
       "0.9452377533479068"
      ]
     },
     "execution_count": 123,
     "metadata": {},
     "output_type": "execute_result"
    }
   ],
   "source": [
    "roc_auc_score(y_test, extra_trees.predict_proba(X_test)[:, 1])"
   ]
  },
  {
   "cell_type": "markdown",
   "metadata": {},
   "source": [
    "## AdaBoost Model"
   ]
  },
  {
   "cell_type": "code",
   "execution_count": 94,
   "metadata": {},
   "outputs": [
    {
     "data": {
      "text/plain": [
       "0.8329019269485188"
      ]
     },
     "execution_count": 94,
     "metadata": {},
     "output_type": "execute_result"
    }
   ],
   "source": [
    "ada = AdaBoostClassifier(n_estimators = 200)\n",
    "ada.fit(X_train, y_train)\n",
    "ada.score(X_train, y_train)"
   ]
  },
  {
   "cell_type": "code",
   "execution_count": 95,
   "metadata": {},
   "outputs": [
    {
     "data": {
      "text/plain": [
       "0.8206787734417414"
      ]
     },
     "execution_count": 95,
     "metadata": {},
     "output_type": "execute_result"
    }
   ],
   "source": [
    "cross_val_score(ada, X_train, y_train, cv = 5).mean()"
   ]
  },
  {
   "cell_type": "code",
   "execution_count": 96,
   "metadata": {},
   "outputs": [
    {
     "data": {
      "text/plain": [
       "0.8202731847591661"
      ]
     },
     "execution_count": 96,
     "metadata": {},
     "output_type": "execute_result"
    }
   ],
   "source": [
    "ada.score(X_test, y_test)"
   ]
  },
  {
   "cell_type": "markdown",
   "metadata": {},
   "source": [
    "This model is worse than most of the previous models, the Extra Trees model is still the best option for the moment. Let's try moving on to a Voting Classifier to see how well it performs."
   ]
  },
  {
   "cell_type": "code",
   "execution_count": 97,
   "metadata": {
    "scrolled": true
   },
   "outputs": [
    {
     "data": {
      "text/plain": [
       "0.8570944246020664"
      ]
     },
     "execution_count": 97,
     "metadata": {},
     "output_type": "execute_result"
    }
   ],
   "source": [
    "roc_auc_score(y_test, ada.predict_proba(X_test)[:, 1])"
   ]
  },
  {
   "cell_type": "markdown",
   "metadata": {},
   "source": [
    "## Gradient Boost Model"
   ]
  },
  {
   "cell_type": "code",
   "execution_count": 98,
   "metadata": {},
   "outputs": [
    {
     "data": {
      "text/plain": [
       "0.843351548269581"
      ]
     },
     "execution_count": 98,
     "metadata": {},
     "output_type": "execute_result"
    }
   ],
   "source": [
    "grad_boost = GradientBoostingClassifier()\n",
    "grad_boost.fit(X_train, y_train)\n",
    "grad_boost.score(X_train, y_train)"
   ]
  },
  {
   "cell_type": "code",
   "execution_count": 99,
   "metadata": {},
   "outputs": [
    {
     "data": {
      "text/plain": [
       "0.834004451297307"
      ]
     },
     "execution_count": 99,
     "metadata": {},
     "output_type": "execute_result"
    }
   ],
   "source": [
    "cross_val_score(grad_boost, X_train, y_train, cv = 5).mean()"
   ]
  },
  {
   "cell_type": "code",
   "execution_count": 100,
   "metadata": {},
   "outputs": [
    {
     "data": {
      "text/plain": [
       "0.8317757009345794"
      ]
     },
     "execution_count": 100,
     "metadata": {},
     "output_type": "execute_result"
    }
   ],
   "source": [
    "grad_boost.score(X_test, y_test)"
   ]
  },
  {
   "cell_type": "code",
   "execution_count": 101,
   "metadata": {},
   "outputs": [
    {
     "data": {
      "text/plain": [
       "0.8737016320559071"
      ]
     },
     "execution_count": 101,
     "metadata": {},
     "output_type": "execute_result"
    }
   ],
   "source": [
    "roc_auc_score(y_test, grad_boost.predict_proba(X_test)[:, 1])"
   ]
  },
  {
   "cell_type": "markdown",
   "metadata": {},
   "source": [
    "This model is slightly better than the AdaBoost model, but still not as good as the Extra Trees model. Let's try a Voting Classifier with the best performing models next."
   ]
  },
  {
   "cell_type": "code",
   "execution_count": null,
   "metadata": {},
   "outputs": [],
   "source": []
  },
  {
   "cell_type": "code",
   "execution_count": null,
   "metadata": {},
   "outputs": [],
   "source": []
  },
  {
   "cell_type": "code",
   "execution_count": null,
   "metadata": {},
   "outputs": [],
   "source": []
  },
  {
   "cell_type": "markdown",
   "metadata": {},
   "source": [
    "## Voting Classifier Model"
   ]
  },
  {
   "cell_type": "code",
   "execution_count": 102,
   "metadata": {},
   "outputs": [
    {
     "name": "stdout",
     "output_type": "stream",
     "text": [
      "0.8733102290462889\n"
     ]
    },
    {
     "data": {
      "text/plain": [
       "{'knn_pipe__knn__n_neighbors': 3,\n",
       " 'rand_forest__max_depth': 4,\n",
       " 'x_tree__max_depth': None}"
      ]
     },
     "execution_count": 102,
     "metadata": {},
     "output_type": "execute_result"
    }
   ],
   "source": [
    "knn_pipe = Pipeline([\n",
    "    ('ss', StandardScaler()),\n",
    "    ('knn', KNeighborsClassifier())\n",
    "])\n",
    "\n",
    "\n",
    "\n",
    "vote = VotingClassifier([\n",
    "    ('x_tree', ExtraTreesClassifier()),\n",
    "    ('rand_forest', RandomForestClassifier()),\n",
    "    ('knn_pipe', knn_pipe),\n",
    "], voting = 'soft')\n",
    "vote_params = {\n",
    "    'x_tree__max_depth': [None, 4],\n",
    "    'rand_forest__max_depth': [3, 4],\n",
    "    'knn_pipe__knn__n_neighbors': [3, 5, 7],\n",
    "\n",
    "}\n",
    "gs_vc = GridSearchCV(vote, \n",
    "                     param_grid = vote_params, \n",
    "                     cv = 5,\n",
    "                     n_jobs = -2,\n",
    "                     scoring = 'accuracy')\n",
    "gs_vc.fit(X_train, y_train)\n",
    "print(gs_vc.best_score_) # cross val score\n",
    "gs_vc.best_params_"
   ]
  },
  {
   "cell_type": "code",
   "execution_count": 103,
   "metadata": {},
   "outputs": [
    {
     "data": {
      "text/plain": [
       "0.8779295470884256"
      ]
     },
     "execution_count": 103,
     "metadata": {},
     "output_type": "execute_result"
    }
   ],
   "source": [
    "gs_vc.score(X_test, y_test)"
   ]
  },
  {
   "cell_type": "code",
   "execution_count": 104,
   "metadata": {},
   "outputs": [
    {
     "data": {
      "text/plain": [
       "0.9213519064065164"
      ]
     },
     "execution_count": 104,
     "metadata": {},
     "output_type": "execute_result"
    }
   ],
   "source": [
    "roc_auc_score(y_test, gs_vc.predict_proba(X_test)[:, 1])"
   ]
  },
  {
   "cell_type": "code",
   "execution_count": null,
   "metadata": {},
   "outputs": [],
   "source": []
  },
  {
   "cell_type": "code",
   "execution_count": null,
   "metadata": {},
   "outputs": [],
   "source": []
  },
  {
   "cell_type": "code",
   "execution_count": 105,
   "metadata": {},
   "outputs": [],
   "source": [
    "feats = extra_trees.feature_importances_"
   ]
  },
  {
   "cell_type": "code",
   "execution_count": 106,
   "metadata": {},
   "outputs": [],
   "source": [
    "keys = X_test.keys()"
   ]
  },
  {
   "cell_type": "code",
   "execution_count": 107,
   "metadata": {},
   "outputs": [],
   "source": [
    "feat_import = pd.DataFrame(list(zip(keys, feats)), columns = ['feature', 'importance'])"
   ]
  },
  {
   "cell_type": "code",
   "execution_count": 108,
   "metadata": {},
   "outputs": [],
   "source": [
    "feat_import = feat_import.sort_values(by = 'importance', ascending = False)"
   ]
  },
  {
   "cell_type": "code",
   "execution_count": 109,
   "metadata": {},
   "outputs": [
    {
     "data": {
      "image/png": "[encoded data removed]",
      "text/plain": [
       "<Figure size 720x1080 with 1 Axes>"
      ]
     },
     "metadata": {},
     "output_type": "display_data"
    }
   ],
   "source": [
    "plt.figure(figsize=(10,15))\n",
    "plt.title('Feature Importance',fontsize=25)\n",
    "sns.set_style(\"darkgrid\")\n",
    "sns.barplot(data= feat_import,\n",
    "            x='importance',y='feature',orient='h', palette=\"husl\")\n",
    "plt.xlabel('importance',fontsize=20)\n",
    "plt.ylabel('feature',fontsize=20)\n",
    "plt.tick_params(labelsize=20)"
   ]
  },
  {
   "cell_type": "code",
   "execution_count": null,
   "metadata": {},
   "outputs": [],
   "source": []
  },
  {
   "cell_type": "code",
   "execution_count": null,
   "metadata": {},
   "outputs": [],
   "source": []
  },
  {
   "cell_type": "code",
   "execution_count": null,
   "metadata": {},
   "outputs": [],
   "source": []
  },
  {
   "cell_type": "code",
   "execution_count": null,
   "metadata": {},
   "outputs": [],
   "source": []
  },
  {
   "cell_type": "code",
   "execution_count": null,
   "metadata": {},
   "outputs": [],
   "source": []
  },
  {
   "cell_type": "code",
   "execution_count": 110,
   "metadata": {},
   "outputs": [],
   "source": [
    "# Creating a DataFrame to facilitate plotting.\n",
    "pred_proba = [i[1] for i in extra_trees.predict_proba(X_test)]\n",
    "pred_df = pd.DataFrame({'true_values': y_test,\n",
    "                        'pred_probs':pred_proba})"
   ]
  },
  {
   "cell_type": "code",
   "execution_count": 111,
   "metadata": {},
   "outputs": [
    {
     "name": "stdout",
     "output_type": "stream",
     "text": [
      "No Skill: ROC AUC=0.500\n",
      "Logistic: ROC AUC=0.942\n"
     ]
    },
    {
     "data": {
      "image/png": "[encoded data removed]",
      "text/plain": [
       "<Figure size 720x504 with 1 Axes>"
      ]
     },
     "metadata": {},
     "output_type": "display_data"
    }
   ],
   "source": [
    "# Creating ROC Scores for baseline and best model.\n",
    "ns_probs = [0 for _ in range(len(y_test))]\n",
    "pipe_probs = extra_trees.predict_proba(X_test)\n",
    "pipe_probs = pipe_probs[:, 1]\n",
    "ns_auc = roc_auc_score(y_test, ns_probs)\n",
    "pipe_auc = roc_auc_score(y_test, pipe_probs)\n",
    "# summarize scores\n",
    "print('No Skill: ROC AUC=%.3f' % (ns_auc))\n",
    "print('Logistic: ROC AUC=%.3f' % (pipe_auc))\n",
    "# Create figure.\n",
    "plt.figure(figsize = (10,7))\n",
    "# Create threshold values.\n",
    "thresholds = np.linspace(0, 1, 200)\n",
    "# Define function to calculate sensitivity. (True positive rate.)\n",
    "def TPR(df, true_col, pred_prob_col, threshold):\n",
    "    true_positive = df[(df[true_col] == 1) & (df[pred_prob_col] >= threshold)].shape[0]\n",
    "    false_negative = df[(df[true_col] == 1) & (df[pred_prob_col] < threshold)].shape[0]\n",
    "    return true_positive / (true_positive + false_negative)\n",
    "# Define function to calculate 1 - specificity. (False positive rate.)\n",
    "def FPR(df, true_col, pred_prob_col, threshold):\n",
    "    true_negative = df[(df[true_col] == 0) & (df[pred_prob_col] <= threshold)].shape[0]\n",
    "    false_positive = df[(df[true_col] == 0) & (df[pred_prob_col] > threshold)].shape[0]\n",
    "    return 1 - (true_negative / (true_negative + false_positive))\n",
    "# Calculate sensitivity & 1-specificity for each threshold between 0 and 1.\n",
    "tpr_values = [TPR(pred_df, 'true_values', 'pred_probs', prob) for prob in thresholds]\n",
    "fpr_values = [FPR(pred_df, 'true_values', 'pred_probs', prob) for prob in thresholds]\n",
    "# Plot ROC curve.\n",
    "plt.plot(fpr_values, # False Positive Rate on X-axis\n",
    "         tpr_values, # True Positive Rate on Y-axis\n",
    "         label='ROC Curve')\n",
    "# Plot baseline. (Perfect overlap between the two populations.)\n",
    "plt.plot(np.linspace(0, 1, 200),\n",
    "         np.linspace(0, 1, 200),\n",
    "         label='baseline',\n",
    "         linestyle='--')\n",
    "# Label axes.\n",
    "plt.title('Receiver Operating Characteristic Curve', fontsize=22)\n",
    "plt.ylabel('Sensitivity', fontsize=18)\n",
    "plt.xlabel('1 - Specificity', fontsize=18)\n",
    "# Create legend.\n",
    "plt.legend(fontsize=16);\n"
   ]
  },
  {
   "cell_type": "code",
   "execution_count": null,
   "metadata": {},
   "outputs": [],
   "source": []
  },
  {
   "cell_type": "code",
   "execution_count": null,
   "metadata": {},
   "outputs": [],
   "source": []
  },
  {
   "cell_type": "code",
   "execution_count": null,
   "metadata": {},
   "outputs": [],
   "source": []
  },
  {
   "cell_type": "code",
   "execution_count": null,
   "metadata": {},
   "outputs": [],
   "source": []
  }
 ],
 "metadata": {
  "kernelspec": {
   "display_name": "Python 3",
   "language": "python",
   "name": "python3"
  },
  "language_info": {
   "codemirror_mode": {
    "name": "ipython",
    "version": 3
   },
   "file_extension": ".py",
   "mimetype": "text/x-python",
   "name": "python",
   "nbconvert_exporter": "python",
   "pygments_lexer": "ipython3",
   "version": "3.7.5"
  },
  "toc": {
   "base_numbering": 1,
   "nav_menu": {},
   "number_sections": true,
   "sideBar": true,
   "skip_h1_title": false,
   "title_cell": "Table of Contents",
   "title_sidebar": "Contents",
   "toc_cell": false,
   "toc_position": {},
   "toc_section_display": true,
   "toc_window_display": true
  },
  "varInspector": {
   "cols": {
    "lenName": 16,
    "lenType": 16,
    "lenVar": 40
   },
   "kernels_config": {
    "python": {
     "delete_cmd_postfix": "",
     "delete_cmd_prefix": "del ",
     "library": "var_list.py",
     "varRefreshCmd": "print(var_dic_list())"
    },
    "r": {
     "delete_cmd_postfix": ") ",
     "delete_cmd_prefix": "rm(",
     "library": "var_list.r",
     "varRefreshCmd": "cat(var_dic_list()) "
    }
   },
   "types_to_exclude": [
    "module",
    "function",
    "builtin_function_or_method",
    "instance",
    "_Feature"
   ],
   "window_display": false
  }
 },
 "nbformat": 4,
 "nbformat_minor": 2
}
