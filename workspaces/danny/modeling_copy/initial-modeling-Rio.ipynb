{
 "cells": [
  {
   "cell_type": "markdown",
   "metadata": {},
   "source": [
    "# Importing Libraries & Data"
   ]
  },
  {
   "cell_type": "code",
   "execution_count": 29,
   "metadata": {},
   "outputs": [],
   "source": [
    "import pandas as pd\n",
    "import numpy as np\n",
    "import matplotlib.pyplot as plt\n",
    "import seaborn as sns\n",
    "from sklearn.model_selection import cross_val_score, train_test_split, GridSearchCV\n",
    "from sklearn.linear_model import LogisticRegression\n",
    "from sklearn.naive_bayes import MultinomialNB, GaussianNB\n",
    "from sklearn.neighbors import KNeighborsClassifier\n",
    "from sklearn.svm import SVC\n",
    "from sklearn.ensemble import BaggingClassifier, RandomForestClassifier, ExtraTreesClassifier\n",
    "from sklearn.tree import DecisionTreeClassifier\n",
    "from sklearn.metrics import confusion_matrix, roc_auc_score\n",
    "from sklearn.preprocessing import StandardScaler, MinMaxScaler\n",
    "from sklearn.preprocessing import PolynomialFeatures\n",
    "from sklearn.linear_model import LinearRegression, RidgeCV, LassoCV, Lasso, ElasticNetCV\n",
    "from sklearn.pipeline import Pipeline\n",
    "from sklearn.datasets import make_classification\n",
    "from sklearn.ensemble import GradientBoostingClassifier, AdaBoostClassifier, VotingClassifier, RandomForestClassifier\n",
    "from sklearn.tree import DecisionTreeClassifier\n",
    "from sklearn.neighbors import KNeighborsClassifier\n",
    "\n",
    "\n",
    "\n",
    "import warnings\n",
    "warnings.filterwarnings('ignore')"
   ]
  },
  {
   "cell_type": "code",
   "execution_count": 30,
   "metadata": {},
   "outputs": [],
   "source": [
    "data = pd.read_csv('https://general-assembly-project-5.s3.amazonaws.com/rj_master.csv')"
   ]
  },
  {
   "cell_type": "code",
   "execution_count": 31,
   "metadata": {},
   "outputs": [
    {
     "data": {
      "text/html": [
       "<div>\n",
       "<style scoped>\n",
       "    .dataframe tbody tr th:only-of-type {\n",
       "        vertical-align: middle;\n",
       "    }\n",
       "\n",
       "    .dataframe tbody tr th {\n",
       "        vertical-align: top;\n",
       "    }\n",
       "\n",
       "    .dataframe thead th {\n",
       "        text-align: right;\n",
       "    }\n",
       "</style>\n",
       "<table border=\"1\" class=\"dataframe\">\n",
       "  <thead>\n",
       "    <tr style=\"text-align: right;\">\n",
       "      <th></th>\n",
       "      <th>cd_geocodi</th>\n",
       "      <th>nm_subdist</th>\n",
       "      <th>nm_distrit</th>\n",
       "      <th>nm_municip</th>\n",
       "      <th>nm_micro</th>\n",
       "      <th>nm_meso</th>\n",
       "      <th>geog_orig_area</th>\n",
       "      <th>favela_present</th>\n",
       "      <th>favela_area_squaremeters</th>\n",
       "      <th>sao_paulo_apartment_count_listings</th>\n",
       "      <th>...</th>\n",
       "      <th>brazil_store_count_listings</th>\n",
       "      <th>brazil_store_near_fid</th>\n",
       "      <th>brazil_store_near_dist</th>\n",
       "      <th>brazil_store_near_angle</th>\n",
       "      <th>brazil_store_near_price</th>\n",
       "      <th>brazil_ph_near_fid</th>\n",
       "      <th>brazil_ph_near_dist</th>\n",
       "      <th>brazil_ph_near_angle</th>\n",
       "      <th>brazil_ph_near_price</th>\n",
       "      <th>population_estimate</th>\n",
       "    </tr>\n",
       "  </thead>\n",
       "  <tbody>\n",
       "    <tr>\n",
       "      <th>0</th>\n",
       "      <td>330045605010040</td>\n",
       "      <td>AREIA BRANCA</td>\n",
       "      <td>BELFORD ROXO</td>\n",
       "      <td>BELFORD ROXO</td>\n",
       "      <td>RIO DE JANEIRO</td>\n",
       "      <td>METROPOLITANA DO RIO DE JANEIRO</td>\n",
       "      <td>29599.087844</td>\n",
       "      <td>0.0</td>\n",
       "      <td>0.0</td>\n",
       "      <td>0.0</td>\n",
       "      <td>...</td>\n",
       "      <td>0.0</td>\n",
       "      <td>1583</td>\n",
       "      <td>4438.758051</td>\n",
       "      <td>-86.631615</td>\n",
       "      <td>900.0</td>\n",
       "      <td>28</td>\n",
       "      <td>230806.163119</td>\n",
       "      <td>-121.810231</td>\n",
       "      <td>2000.0</td>\n",
       "      <td>422.559540</td>\n",
       "    </tr>\n",
       "    <tr>\n",
       "      <th>1</th>\n",
       "      <td>330045605010041</td>\n",
       "      <td>AREIA BRANCA</td>\n",
       "      <td>BELFORD ROXO</td>\n",
       "      <td>BELFORD ROXO</td>\n",
       "      <td>RIO DE JANEIRO</td>\n",
       "      <td>METROPOLITANA DO RIO DE JANEIRO</td>\n",
       "      <td>64936.339075</td>\n",
       "      <td>0.0</td>\n",
       "      <td>0.0</td>\n",
       "      <td>0.0</td>\n",
       "      <td>...</td>\n",
       "      <td>0.0</td>\n",
       "      <td>1583</td>\n",
       "      <td>4434.372601</td>\n",
       "      <td>-83.619778</td>\n",
       "      <td>900.0</td>\n",
       "      <td>28</td>\n",
       "      <td>230663.417081</td>\n",
       "      <td>-121.764362</td>\n",
       "      <td>2000.0</td>\n",
       "      <td>900.746216</td>\n",
       "    </tr>\n",
       "    <tr>\n",
       "      <th>2</th>\n",
       "      <td>330045605010042</td>\n",
       "      <td>AREIA BRANCA</td>\n",
       "      <td>BELFORD ROXO</td>\n",
       "      <td>BELFORD ROXO</td>\n",
       "      <td>RIO DE JANEIRO</td>\n",
       "      <td>METROPOLITANA DO RIO DE JANEIRO</td>\n",
       "      <td>55826.550455</td>\n",
       "      <td>0.0</td>\n",
       "      <td>0.0</td>\n",
       "      <td>0.0</td>\n",
       "      <td>...</td>\n",
       "      <td>0.0</td>\n",
       "      <td>1583</td>\n",
       "      <td>4150.241822</td>\n",
       "      <td>-89.857207</td>\n",
       "      <td>900.0</td>\n",
       "      <td>28</td>\n",
       "      <td>230584.459749</td>\n",
       "      <td>-121.833191</td>\n",
       "      <td>2000.0</td>\n",
       "      <td>796.985535</td>\n",
       "    </tr>\n",
       "    <tr>\n",
       "      <th>3</th>\n",
       "      <td>330045605010043</td>\n",
       "      <td>AREIA BRANCA</td>\n",
       "      <td>BELFORD ROXO</td>\n",
       "      <td>BELFORD ROXO</td>\n",
       "      <td>RIO DE JANEIRO</td>\n",
       "      <td>METROPOLITANA DO RIO DE JANEIRO</td>\n",
       "      <td>60991.680777</td>\n",
       "      <td>0.0</td>\n",
       "      <td>0.0</td>\n",
       "      <td>0.0</td>\n",
       "      <td>...</td>\n",
       "      <td>0.0</td>\n",
       "      <td>1583</td>\n",
       "      <td>4199.241757</td>\n",
       "      <td>-85.716529</td>\n",
       "      <td>900.0</td>\n",
       "      <td>28</td>\n",
       "      <td>230563.978085</td>\n",
       "      <td>-121.789641</td>\n",
       "      <td>2000.0</td>\n",
       "      <td>864.368515</td>\n",
       "    </tr>\n",
       "    <tr>\n",
       "      <th>4</th>\n",
       "      <td>330045605010044</td>\n",
       "      <td>AREIA BRANCA</td>\n",
       "      <td>BELFORD ROXO</td>\n",
       "      <td>BELFORD ROXO</td>\n",
       "      <td>RIO DE JANEIRO</td>\n",
       "      <td>METROPOLITANA DO RIO DE JANEIRO</td>\n",
       "      <td>43686.184381</td>\n",
       "      <td>0.0</td>\n",
       "      <td>0.0</td>\n",
       "      <td>0.0</td>\n",
       "      <td>...</td>\n",
       "      <td>0.0</td>\n",
       "      <td>1583</td>\n",
       "      <td>4165.779279</td>\n",
       "      <td>-82.717356</td>\n",
       "      <td>900.0</td>\n",
       "      <td>28</td>\n",
       "      <td>230411.326726</td>\n",
       "      <td>-121.791830</td>\n",
       "      <td>2000.0</td>\n",
       "      <td>594.177948</td>\n",
       "    </tr>\n",
       "  </tbody>\n",
       "</table>\n",
       "<p>5 rows × 34 columns</p>\n",
       "</div>"
      ],
      "text/plain": [
       "        cd_geocodi    nm_subdist    nm_distrit    nm_municip        nm_micro  \\\n",
       "0  330045605010040  AREIA BRANCA  BELFORD ROXO  BELFORD ROXO  RIO DE JANEIRO   \n",
       "1  330045605010041  AREIA BRANCA  BELFORD ROXO  BELFORD ROXO  RIO DE JANEIRO   \n",
       "2  330045605010042  AREIA BRANCA  BELFORD ROXO  BELFORD ROXO  RIO DE JANEIRO   \n",
       "3  330045605010043  AREIA BRANCA  BELFORD ROXO  BELFORD ROXO  RIO DE JANEIRO   \n",
       "4  330045605010044  AREIA BRANCA  BELFORD ROXO  BELFORD ROXO  RIO DE JANEIRO   \n",
       "\n",
       "                           nm_meso  geog_orig_area  favela_present  \\\n",
       "0  METROPOLITANA DO RIO DE JANEIRO    29599.087844             0.0   \n",
       "1  METROPOLITANA DO RIO DE JANEIRO    64936.339075             0.0   \n",
       "2  METROPOLITANA DO RIO DE JANEIRO    55826.550455             0.0   \n",
       "3  METROPOLITANA DO RIO DE JANEIRO    60991.680777             0.0   \n",
       "4  METROPOLITANA DO RIO DE JANEIRO    43686.184381             0.0   \n",
       "\n",
       "   favela_area_squaremeters  sao_paulo_apartment_count_listings  ...  \\\n",
       "0                       0.0                                 0.0  ...   \n",
       "1                       0.0                                 0.0  ...   \n",
       "2                       0.0                                 0.0  ...   \n",
       "3                       0.0                                 0.0  ...   \n",
       "4                       0.0                                 0.0  ...   \n",
       "\n",
       "   brazil_store_count_listings  brazil_store_near_fid  brazil_store_near_dist  \\\n",
       "0                          0.0                   1583             4438.758051   \n",
       "1                          0.0                   1583             4434.372601   \n",
       "2                          0.0                   1583             4150.241822   \n",
       "3                          0.0                   1583             4199.241757   \n",
       "4                          0.0                   1583             4165.779279   \n",
       "\n",
       "   brazil_store_near_angle  brazil_store_near_price  brazil_ph_near_fid  \\\n",
       "0               -86.631615                    900.0                  28   \n",
       "1               -83.619778                    900.0                  28   \n",
       "2               -89.857207                    900.0                  28   \n",
       "3               -85.716529                    900.0                  28   \n",
       "4               -82.717356                    900.0                  28   \n",
       "\n",
       "   brazil_ph_near_dist  brazil_ph_near_angle  brazil_ph_near_price  \\\n",
       "0        230806.163119           -121.810231                2000.0   \n",
       "1        230663.417081           -121.764362                2000.0   \n",
       "2        230584.459749           -121.833191                2000.0   \n",
       "3        230563.978085           -121.789641                2000.0   \n",
       "4        230411.326726           -121.791830                2000.0   \n",
       "\n",
       "   population_estimate  \n",
       "0           422.559540  \n",
       "1           900.746216  \n",
       "2           796.985535  \n",
       "3           864.368515  \n",
       "4           594.177948  \n",
       "\n",
       "[5 rows x 34 columns]"
      ]
     },
     "execution_count": 31,
     "metadata": {},
     "output_type": "execute_result"
    }
   ],
   "source": [
    "data.head()"
   ]
  },
  {
   "cell_type": "code",
   "execution_count": 32,
   "metadata": {},
   "outputs": [
    {
     "data": {
      "text/html": [
       "<div>\n",
       "<style scoped>\n",
       "    .dataframe tbody tr th:only-of-type {\n",
       "        vertical-align: middle;\n",
       "    }\n",
       "\n",
       "    .dataframe tbody tr th {\n",
       "        vertical-align: top;\n",
       "    }\n",
       "\n",
       "    .dataframe thead th {\n",
       "        text-align: right;\n",
       "    }\n",
       "</style>\n",
       "<table border=\"1\" class=\"dataframe\">\n",
       "  <thead>\n",
       "    <tr style=\"text-align: right;\">\n",
       "      <th></th>\n",
       "      <th>cd_geocodi</th>\n",
       "      <th>geog_orig_area</th>\n",
       "      <th>favela_present</th>\n",
       "      <th>favela_area_squaremeters</th>\n",
       "      <th>sao_paulo_apartment_count_listings</th>\n",
       "      <th>sao_paulo_apartment_near_fid</th>\n",
       "      <th>sao_paulo_apartment_near_dist</th>\n",
       "      <th>sao_paulo_apartment_near_angle</th>\n",
       "      <th>sao_paulo_apartment_near_price</th>\n",
       "      <th>brazil_apartment_count_listings</th>\n",
       "      <th>...</th>\n",
       "      <th>brazil_store_count_listings</th>\n",
       "      <th>brazil_store_near_fid</th>\n",
       "      <th>brazil_store_near_dist</th>\n",
       "      <th>brazil_store_near_angle</th>\n",
       "      <th>brazil_store_near_price</th>\n",
       "      <th>brazil_ph_near_fid</th>\n",
       "      <th>brazil_ph_near_dist</th>\n",
       "      <th>brazil_ph_near_angle</th>\n",
       "      <th>brazil_ph_near_price</th>\n",
       "      <th>population_estimate</th>\n",
       "    </tr>\n",
       "  </thead>\n",
       "  <tbody>\n",
       "    <tr>\n",
       "      <th>count</th>\n",
       "      <td>1.644700e+04</td>\n",
       "      <td>1.644700e+04</td>\n",
       "      <td>16447.000000</td>\n",
       "      <td>16447.000000</td>\n",
       "      <td>16447.000000</td>\n",
       "      <td>16447.0</td>\n",
       "      <td>16447.000000</td>\n",
       "      <td>16447.000000</td>\n",
       "      <td>16447.0</td>\n",
       "      <td>16447.00000</td>\n",
       "      <td>...</td>\n",
       "      <td>16447.000000</td>\n",
       "      <td>16447.000000</td>\n",
       "      <td>16447.000000</td>\n",
       "      <td>16447.000000</td>\n",
       "      <td>16447.000000</td>\n",
       "      <td>16447.0</td>\n",
       "      <td>16447.000000</td>\n",
       "      <td>16447.000000</td>\n",
       "      <td>16447.0</td>\n",
       "      <td>16447.000000</td>\n",
       "    </tr>\n",
       "    <tr>\n",
       "      <th>mean</th>\n",
       "      <td>3.304026e+14</td>\n",
       "      <td>2.054110e+05</td>\n",
       "      <td>0.293975</td>\n",
       "      <td>2821.785410</td>\n",
       "      <td>0.000061</td>\n",
       "      <td>8552.0</td>\n",
       "      <td>16702.150540</td>\n",
       "      <td>26.532809</td>\n",
       "      <td>285700.0</td>\n",
       "      <td>0.09108</td>\n",
       "      <td>...</td>\n",
       "      <td>0.025901</td>\n",
       "      <td>4611.088588</td>\n",
       "      <td>4931.099071</td>\n",
       "      <td>11.657478</td>\n",
       "      <td>20915.035082</td>\n",
       "      <td>28.0</td>\n",
       "      <td>229467.590600</td>\n",
       "      <td>-118.952344</td>\n",
       "      <td>2000.0</td>\n",
       "      <td>733.467717</td>\n",
       "    </tr>\n",
       "    <tr>\n",
       "      <th>std</th>\n",
       "      <td>1.140360e+11</td>\n",
       "      <td>1.754795e+06</td>\n",
       "      <td>0.455594</td>\n",
       "      <td>8539.297010</td>\n",
       "      <td>0.007798</td>\n",
       "      <td>0.0</td>\n",
       "      <td>9205.680236</td>\n",
       "      <td>68.993624</td>\n",
       "      <td>0.0</td>\n",
       "      <td>1.05554</td>\n",
       "      <td>...</td>\n",
       "      <td>0.608274</td>\n",
       "      <td>2189.061349</td>\n",
       "      <td>4487.950872</td>\n",
       "      <td>114.529473</td>\n",
       "      <td>29922.362003</td>\n",
       "      <td>0.0</td>\n",
       "      <td>12298.381777</td>\n",
       "      <td>2.768878</td>\n",
       "      <td>0.0</td>\n",
       "      <td>1060.915062</td>\n",
       "    </tr>\n",
       "    <tr>\n",
       "      <th>min</th>\n",
       "      <td>3.300456e+14</td>\n",
       "      <td>5.080360e+02</td>\n",
       "      <td>0.000000</td>\n",
       "      <td>0.000000</td>\n",
       "      <td>0.000000</td>\n",
       "      <td>8552.0</td>\n",
       "      <td>0.000000</td>\n",
       "      <td>-179.987679</td>\n",
       "      <td>285700.0</td>\n",
       "      <td>0.00000</td>\n",
       "      <td>...</td>\n",
       "      <td>0.000000</td>\n",
       "      <td>569.000000</td>\n",
       "      <td>0.000000</td>\n",
       "      <td>-179.998698</td>\n",
       "      <td>450.000000</td>\n",
       "      <td>28.0</td>\n",
       "      <td>187818.094756</td>\n",
       "      <td>-128.637367</td>\n",
       "      <td>2000.0</td>\n",
       "      <td>0.000000</td>\n",
       "    </tr>\n",
       "    <tr>\n",
       "      <th>25%</th>\n",
       "      <td>3.304144e+14</td>\n",
       "      <td>2.105167e+04</td>\n",
       "      <td>0.000000</td>\n",
       "      <td>0.000000</td>\n",
       "      <td>0.000000</td>\n",
       "      <td>8552.0</td>\n",
       "      <td>9830.996835</td>\n",
       "      <td>-23.171196</td>\n",
       "      <td>285700.0</td>\n",
       "      <td>0.00000</td>\n",
       "      <td>...</td>\n",
       "      <td>0.000000</td>\n",
       "      <td>2560.000000</td>\n",
       "      <td>1368.267758</td>\n",
       "      <td>-100.588245</td>\n",
       "      <td>900.000000</td>\n",
       "      <td>28.0</td>\n",
       "      <td>223361.974298</td>\n",
       "      <td>-120.886077</td>\n",
       "      <td>2000.0</td>\n",
       "      <td>282.275620</td>\n",
       "    </tr>\n",
       "    <tr>\n",
       "      <th>50%</th>\n",
       "      <td>3.304557e+14</td>\n",
       "      <td>4.282664e+04</td>\n",
       "      <td>0.000000</td>\n",
       "      <td>0.000000</td>\n",
       "      <td>0.000000</td>\n",
       "      <td>8552.0</td>\n",
       "      <td>15567.533141</td>\n",
       "      <td>30.261901</td>\n",
       "      <td>285700.0</td>\n",
       "      <td>0.00000</td>\n",
       "      <td>...</td>\n",
       "      <td>0.000000</td>\n",
       "      <td>5301.000000</td>\n",
       "      <td>3858.817435</td>\n",
       "      <td>27.229506</td>\n",
       "      <td>3500.000000</td>\n",
       "      <td>28.0</td>\n",
       "      <td>232036.602285</td>\n",
       "      <td>-119.051469</td>\n",
       "      <td>2000.0</td>\n",
       "      <td>514.792870</td>\n",
       "    </tr>\n",
       "    <tr>\n",
       "      <th>75%</th>\n",
       "      <td>3.304557e+14</td>\n",
       "      <td>7.856990e+04</td>\n",
       "      <td>1.000000</td>\n",
       "      <td>182.392845</td>\n",
       "      <td>0.000000</td>\n",
       "      <td>8552.0</td>\n",
       "      <td>22063.213636</td>\n",
       "      <td>72.171783</td>\n",
       "      <td>285700.0</td>\n",
       "      <td>0.00000</td>\n",
       "      <td>...</td>\n",
       "      <td>0.000000</td>\n",
       "      <td>6411.000000</td>\n",
       "      <td>7229.182560</td>\n",
       "      <td>115.511474</td>\n",
       "      <td>28000.000000</td>\n",
       "      <td>28.0</td>\n",
       "      <td>238048.293919</td>\n",
       "      <td>-116.727531</td>\n",
       "      <td>2000.0</td>\n",
       "      <td>815.366154</td>\n",
       "    </tr>\n",
       "    <tr>\n",
       "      <th>max</th>\n",
       "      <td>3.305554e+14</td>\n",
       "      <td>1.398751e+08</td>\n",
       "      <td>1.000000</td>\n",
       "      <td>115112.113927</td>\n",
       "      <td>1.000000</td>\n",
       "      <td>8552.0</td>\n",
       "      <td>44241.516063</td>\n",
       "      <td>179.904882</td>\n",
       "      <td>285700.0</td>\n",
       "      <td>46.00000</td>\n",
       "      <td>...</td>\n",
       "      <td>31.000000</td>\n",
       "      <td>7391.000000</td>\n",
       "      <td>25938.224510</td>\n",
       "      <td>179.994326</td>\n",
       "      <td>76000.000000</td>\n",
       "      <td>28.0</td>\n",
       "      <td>256797.824491</td>\n",
       "      <td>-111.777611</td>\n",
       "      <td>2000.0</td>\n",
       "      <td>17264.407416</td>\n",
       "    </tr>\n",
       "  </tbody>\n",
       "</table>\n",
       "<p>8 rows × 29 columns</p>\n",
       "</div>"
      ],
      "text/plain": [
       "         cd_geocodi  geog_orig_area  favela_present  favela_area_squaremeters  \\\n",
       "count  1.644700e+04    1.644700e+04    16447.000000              16447.000000   \n",
       "mean   3.304026e+14    2.054110e+05        0.293975               2821.785410   \n",
       "std    1.140360e+11    1.754795e+06        0.455594               8539.297010   \n",
       "min    3.300456e+14    5.080360e+02        0.000000                  0.000000   \n",
       "25%    3.304144e+14    2.105167e+04        0.000000                  0.000000   \n",
       "50%    3.304557e+14    4.282664e+04        0.000000                  0.000000   \n",
       "75%    3.304557e+14    7.856990e+04        1.000000                182.392845   \n",
       "max    3.305554e+14    1.398751e+08        1.000000             115112.113927   \n",
       "\n",
       "       sao_paulo_apartment_count_listings  sao_paulo_apartment_near_fid  \\\n",
       "count                        16447.000000                       16447.0   \n",
       "mean                             0.000061                        8552.0   \n",
       "std                              0.007798                           0.0   \n",
       "min                              0.000000                        8552.0   \n",
       "25%                              0.000000                        8552.0   \n",
       "50%                              0.000000                        8552.0   \n",
       "75%                              0.000000                        8552.0   \n",
       "max                              1.000000                        8552.0   \n",
       "\n",
       "       sao_paulo_apartment_near_dist  sao_paulo_apartment_near_angle  \\\n",
       "count                   16447.000000                    16447.000000   \n",
       "mean                    16702.150540                       26.532809   \n",
       "std                      9205.680236                       68.993624   \n",
       "min                         0.000000                     -179.987679   \n",
       "25%                      9830.996835                      -23.171196   \n",
       "50%                     15567.533141                       30.261901   \n",
       "75%                     22063.213636                       72.171783   \n",
       "max                     44241.516063                      179.904882   \n",
       "\n",
       "       sao_paulo_apartment_near_price  brazil_apartment_count_listings  ...  \\\n",
       "count                         16447.0                      16447.00000  ...   \n",
       "mean                         285700.0                          0.09108  ...   \n",
       "std                               0.0                          1.05554  ...   \n",
       "min                          285700.0                          0.00000  ...   \n",
       "25%                          285700.0                          0.00000  ...   \n",
       "50%                          285700.0                          0.00000  ...   \n",
       "75%                          285700.0                          0.00000  ...   \n",
       "max                          285700.0                         46.00000  ...   \n",
       "\n",
       "       brazil_store_count_listings  brazil_store_near_fid  \\\n",
       "count                 16447.000000           16447.000000   \n",
       "mean                      0.025901            4611.088588   \n",
       "std                       0.608274            2189.061349   \n",
       "min                       0.000000             569.000000   \n",
       "25%                       0.000000            2560.000000   \n",
       "50%                       0.000000            5301.000000   \n",
       "75%                       0.000000            6411.000000   \n",
       "max                      31.000000            7391.000000   \n",
       "\n",
       "       brazil_store_near_dist  brazil_store_near_angle  \\\n",
       "count            16447.000000             16447.000000   \n",
       "mean              4931.099071                11.657478   \n",
       "std               4487.950872               114.529473   \n",
       "min                  0.000000              -179.998698   \n",
       "25%               1368.267758              -100.588245   \n",
       "50%               3858.817435                27.229506   \n",
       "75%               7229.182560               115.511474   \n",
       "max              25938.224510               179.994326   \n",
       "\n",
       "       brazil_store_near_price  brazil_ph_near_fid  brazil_ph_near_dist  \\\n",
       "count             16447.000000             16447.0         16447.000000   \n",
       "mean              20915.035082                28.0        229467.590600   \n",
       "std               29922.362003                 0.0         12298.381777   \n",
       "min                 450.000000                28.0        187818.094756   \n",
       "25%                 900.000000                28.0        223361.974298   \n",
       "50%                3500.000000                28.0        232036.602285   \n",
       "75%               28000.000000                28.0        238048.293919   \n",
       "max               76000.000000                28.0        256797.824491   \n",
       "\n",
       "       brazil_ph_near_angle  brazil_ph_near_price  population_estimate  \n",
       "count          16447.000000               16447.0         16447.000000  \n",
       "mean            -118.952344                2000.0           733.467717  \n",
       "std                2.768878                   0.0          1060.915062  \n",
       "min             -128.637367                2000.0             0.000000  \n",
       "25%             -120.886077                2000.0           282.275620  \n",
       "50%             -119.051469                2000.0           514.792870  \n",
       "75%             -116.727531                2000.0           815.366154  \n",
       "max             -111.777611                2000.0         17264.407416  \n",
       "\n",
       "[8 rows x 29 columns]"
      ]
     },
     "execution_count": 32,
     "metadata": {},
     "output_type": "execute_result"
    }
   ],
   "source": [
    "data.describe()"
   ]
  },
  {
   "cell_type": "code",
   "execution_count": 33,
   "metadata": {},
   "outputs": [
    {
     "name": "stdout",
     "output_type": "stream",
     "text": [
      "<class 'pandas.core.frame.DataFrame'>\n",
      "RangeIndex: 16447 entries, 0 to 16446\n",
      "Data columns (total 34 columns):\n",
      "cd_geocodi                            16447 non-null int64\n",
      "nm_subdist                            16447 non-null object\n",
      "nm_distrit                            16447 non-null object\n",
      "nm_municip                            16447 non-null object\n",
      "nm_micro                              16447 non-null object\n",
      "nm_meso                               16447 non-null object\n",
      "geog_orig_area                        16447 non-null float64\n",
      "favela_present                        16447 non-null float64\n",
      "favela_area_squaremeters              16447 non-null float64\n",
      "sao_paulo_apartment_count_listings    16447 non-null float64\n",
      "sao_paulo_apartment_near_fid          16447 non-null int64\n",
      "sao_paulo_apartment_near_dist         16447 non-null float64\n",
      "sao_paulo_apartment_near_angle        16447 non-null float64\n",
      "sao_paulo_apartment_near_price        16447 non-null int64\n",
      "brazil_apartment_count_listings       16447 non-null float64\n",
      "brazil_apartment_near_fid             16447 non-null int64\n",
      "brazil_apartment_near_dist            16447 non-null float64\n",
      "brazil_apartment_near_angle           16447 non-null float64\n",
      "brazil_apartment_near_price           16447 non-null float64\n",
      "brazil_house_count_listings           16447 non-null float64\n",
      "brazil_house_near_fid                 16447 non-null int64\n",
      "brazil_house_near_dist                16447 non-null float64\n",
      "brazil_house_near_angle               16447 non-null float64\n",
      "brazil_house_near_price               16447 non-null float64\n",
      "brazil_store_count_listings           16447 non-null float64\n",
      "brazil_store_near_fid                 16447 non-null int64\n",
      "brazil_store_near_dist                16447 non-null float64\n",
      "brazil_store_near_angle               16447 non-null float64\n",
      "brazil_store_near_price               16447 non-null float64\n",
      "brazil_ph_near_fid                    16447 non-null int64\n",
      "brazil_ph_near_dist                   16447 non-null float64\n",
      "brazil_ph_near_angle                  16447 non-null float64\n",
      "brazil_ph_near_price                  16447 non-null float64\n",
      "population_estimate                   16447 non-null float64\n",
      "dtypes: float64(22), int64(7), object(5)\n",
      "memory usage: 4.3+ MB\n"
     ]
    }
   ],
   "source": [
    "data.info()"
   ]
  },
  {
   "cell_type": "code",
   "execution_count": 34,
   "metadata": {},
   "outputs": [
    {
     "data": {
      "text/plain": [
       "(16447, 34)"
      ]
     },
     "execution_count": 34,
     "metadata": {},
     "output_type": "execute_result"
    }
   ],
   "source": [
    "data.shape"
   ]
  },
  {
   "cell_type": "code",
   "execution_count": 35,
   "metadata": {},
   "outputs": [],
   "source": [
    "X_cols = ['sao_paulo_apartment_count_listings', 'sao_paulo_apartment_near_dist', 'sao_paulo_apartment_near_angle',\n",
    "         'sao_paulo_apartment_near_price', 'brazil_apartment_count_listings', 'brazil_apartment_near_dist', \n",
    "         'brazil_apartment_near_angle', 'brazil_apartment_near_price', 'brazil_house_count_listings', \n",
    "         'brazil_house_near_dist', 'brazil_house_near_angle', 'brazil_house_near_price', \n",
    "         'brazil_store_count_listings', 'brazil_store_near_dist', 'brazil_store_near_angle',\n",
    "         'brazil_store_near_price', 'brazil_ph_near_dist', 'brazil_ph_near_angle',\n",
    "         'brazil_ph_near_price', 'population_estimate',\n",
    "         ]\n",
    "\n",
    "X = data[X_cols]\n",
    "y = data['favela_present']\n",
    "\n",
    "X_train, X_test, y_train, y_test = train_test_split(X, y, random_state = 19)"
   ]
  },
  {
   "cell_type": "markdown",
   "metadata": {},
   "source": [
    "Picking out the numeric columns that might help with determining the presence of a informal settlements from the real estate and population data we were able to find."
   ]
  },
  {
   "cell_type": "markdown",
   "metadata": {},
   "source": [
    "# Modeling"
   ]
  },
  {
   "cell_type": "markdown",
   "metadata": {},
   "source": [
    "## Base Model"
   ]
  },
  {
   "cell_type": "code",
   "execution_count": 36,
   "metadata": {},
   "outputs": [
    {
     "data": {
      "text/plain": [
       "0.0    0.706025\n",
       "1.0    0.293975\n",
       "Name: favela_present, dtype: float64"
      ]
     },
     "execution_count": 36,
     "metadata": {},
     "output_type": "execute_result"
    }
   ],
   "source": [
    "data['favela_present'].value_counts(normalize = True)"
   ]
  },
  {
   "cell_type": "markdown",
   "metadata": {},
   "source": [
    "A base model that predicts no favelas present in each census grid would be about 77.8% accurate. Any models we make should hope to perform better than that."
   ]
  },
  {
   "cell_type": "markdown",
   "metadata": {},
   "source": [
    "## Logistic Regression Model"
   ]
  },
  {
   "cell_type": "markdown",
   "metadata": {},
   "source": [
    "Starting off with a scaler and logistic regression model."
   ]
  },
  {
   "cell_type": "code",
   "execution_count": 37,
   "metadata": {},
   "outputs": [],
   "source": [
    "pipe = Pipeline(steps = [\n",
    "    ('sc', StandardScaler()),\n",
    "    ('lr', LogisticRegression())\n",
    "])\n",
    "\n",
    "params = {\n",
    "    'lr__penalty'        : ['l1', 'l2'],\n",
    "    'lr__C'              : [0.1, 0.3, 0.5, 0.7, 1.0],\n",
    "    \n",
    "}\n",
    "\n",
    "gs_lr = GridSearchCV(pipe,\n",
    "                 param_grid = params,\n",
    "                 cv = 5,\n",
    "                 scoring = 'accuracy')\n",
    "\n",
    "gs_lr.fit(X_train, y_train);"
   ]
  },
  {
   "cell_type": "code",
   "execution_count": 38,
   "metadata": {},
   "outputs": [
    {
     "data": {
      "text/plain": [
       "Pipeline(memory=None,\n",
       "         steps=[('sc',\n",
       "                 StandardScaler(copy=True, with_mean=True, with_std=True)),\n",
       "                ('lr',\n",
       "                 LogisticRegression(C=0.1, class_weight=None, dual=False,\n",
       "                                    fit_intercept=True, intercept_scaling=1,\n",
       "                                    l1_ratio=None, max_iter=100,\n",
       "                                    multi_class='auto', n_jobs=None,\n",
       "                                    penalty='l2', random_state=None,\n",
       "                                    solver='lbfgs', tol=0.0001, verbose=0,\n",
       "                                    warm_start=False))],\n",
       "         verbose=False)"
      ]
     },
     "execution_count": 38,
     "metadata": {},
     "output_type": "execute_result"
    }
   ],
   "source": [
    "gs_lr.best_estimator_"
   ]
  },
  {
   "cell_type": "code",
   "execution_count": 39,
   "metadata": {},
   "outputs": [
    {
     "data": {
      "text/plain": [
       "0.7404134576408593"
      ]
     },
     "execution_count": 39,
     "metadata": {},
     "output_type": "execute_result"
    }
   ],
   "source": [
    "gs_lr.best_score_"
   ]
  },
  {
   "cell_type": "code",
   "execution_count": 40,
   "metadata": {},
   "outputs": [
    {
     "data": {
      "text/plain": [
       "0.7295719844357976"
      ]
     },
     "execution_count": 40,
     "metadata": {},
     "output_type": "execute_result"
    }
   ],
   "source": [
    "gs_lr.score(X_test, y_test)"
   ]
  },
  {
   "cell_type": "markdown",
   "metadata": {},
   "source": [
    "This model performs about as well as the base model, but could definitely perform a lot better. Moving on to a K-Nearest Neighbors model to see how well it performs."
   ]
  },
  {
   "cell_type": "code",
   "execution_count": 41,
   "metadata": {},
   "outputs": [
    {
     "data": {
      "text/plain": [
       "0.7757749479650384"
      ]
     },
     "execution_count": 41,
     "metadata": {},
     "output_type": "execute_result"
    }
   ],
   "source": [
    "roc_auc_score(y_test, gs_lr.predict_proba(X_test)[:, 1])"
   ]
  },
  {
   "cell_type": "markdown",
   "metadata": {},
   "source": [
    "## KNN Model"
   ]
  },
  {
   "cell_type": "code",
   "execution_count": 42,
   "metadata": {},
   "outputs": [],
   "source": [
    "pipe = Pipeline(steps = [\n",
    "    ('sc', StandardScaler()),\n",
    "    ('knn', KNeighborsClassifier())\n",
    "])\n",
    "\n",
    "params = {\n",
    "    'knn__n_neighbors'    : [3, 5, 7, 9],\n",
    "    'knn__metric'         : ['minkowski', 'euclidean', 'manhattan']\n",
    "    \n",
    "}\n",
    "\n",
    "gs_knn = GridSearchCV(pipe,\n",
    "                 param_grid = params,\n",
    "                 cv = 5,\n",
    "                 scoring = 'accuracy')\n",
    "\n",
    "gs_knn.fit(X_train, y_train);"
   ]
  },
  {
   "cell_type": "code",
   "execution_count": 43,
   "metadata": {},
   "outputs": [
    {
     "data": {
      "text/plain": [
       "Pipeline(memory=None,\n",
       "         steps=[('sc',\n",
       "                 StandardScaler(copy=True, with_mean=True, with_std=True)),\n",
       "                ('knn',\n",
       "                 KNeighborsClassifier(algorithm='auto', leaf_size=30,\n",
       "                                      metric='manhattan', metric_params=None,\n",
       "                                      n_jobs=None, n_neighbors=3, p=2,\n",
       "                                      weights='uniform'))],\n",
       "         verbose=False)"
      ]
     },
     "execution_count": 43,
     "metadata": {},
     "output_type": "execute_result"
    }
   ],
   "source": [
    "gs_knn.best_estimator_"
   ]
  },
  {
   "cell_type": "code",
   "execution_count": 44,
   "metadata": {},
   "outputs": [
    {
     "data": {
      "text/plain": [
       "0.8780705310093231"
      ]
     },
     "execution_count": 44,
     "metadata": {},
     "output_type": "execute_result"
    }
   ],
   "source": [
    "gs_knn.best_score_"
   ]
  },
  {
   "cell_type": "code",
   "execution_count": 45,
   "metadata": {},
   "outputs": [
    {
     "data": {
      "text/plain": [
       "0.8842412451361867"
      ]
     },
     "execution_count": 45,
     "metadata": {},
     "output_type": "execute_result"
    }
   ],
   "source": [
    "gs_knn.score(X_test, y_test)"
   ]
  },
  {
   "cell_type": "markdown",
   "metadata": {},
   "source": [
    "This model is already better than the base model. There is still some room for improvement, however. Next step is to try a Decision Tree model."
   ]
  },
  {
   "cell_type": "code",
   "execution_count": 46,
   "metadata": {},
   "outputs": [
    {
     "data": {
      "text/plain": [
       "0.9241394792795791"
      ]
     },
     "execution_count": 46,
     "metadata": {},
     "output_type": "execute_result"
    }
   ],
   "source": [
    "roc_auc_score(y_test, gs_knn.predict_proba(X_test)[:, 1])"
   ]
  },
  {
   "cell_type": "markdown",
   "metadata": {},
   "source": [
    "## Decision Tree Model"
   ]
  },
  {
   "cell_type": "code",
   "execution_count": 47,
   "metadata": {},
   "outputs": [
    {
     "data": {
      "text/plain": [
       "DecisionTreeClassifier(ccp_alpha=0.0, class_weight=None, criterion='gini',\n",
       "                       max_depth=None, max_features=None, max_leaf_nodes=None,\n",
       "                       min_impurity_decrease=0.0, min_impurity_split=None,\n",
       "                       min_samples_leaf=1, min_samples_split=2,\n",
       "                       min_weight_fraction_leaf=0.0, presort='deprecated',\n",
       "                       random_state=None, splitter='best')"
      ]
     },
     "execution_count": 47,
     "metadata": {},
     "output_type": "execute_result"
    }
   ],
   "source": [
    "tree = DecisionTreeClassifier()\n",
    "tree.fit(X_train, y_train)"
   ]
  },
  {
   "cell_type": "code",
   "execution_count": 48,
   "metadata": {},
   "outputs": [
    {
     "data": {
      "text/plain": [
       "1.0"
      ]
     },
     "execution_count": 48,
     "metadata": {},
     "output_type": "execute_result"
    }
   ],
   "source": [
    "tree.score(X_train, y_train)"
   ]
  },
  {
   "cell_type": "code",
   "execution_count": 49,
   "metadata": {},
   "outputs": [
    {
     "data": {
      "text/plain": [
       "0.8613813229571985"
      ]
     },
     "execution_count": 49,
     "metadata": {},
     "output_type": "execute_result"
    }
   ],
   "source": [
    "tree.score(X_test, y_test)"
   ]
  },
  {
   "cell_type": "code",
   "execution_count": 50,
   "metadata": {},
   "outputs": [
    {
     "data": {
      "text/plain": [
       "0.867450344548034"
      ]
     },
     "execution_count": 50,
     "metadata": {},
     "output_type": "execute_result"
    }
   ],
   "source": [
    "cross_val_score(tree, X_train, y_train, cv = 5).mean()"
   ]
  },
  {
   "cell_type": "markdown",
   "metadata": {},
   "source": [
    "The Desicion Tree doesn't perform as well as K-Nearest Neighbors at the moment. Let's move onto Random Forests, to see how that works."
   ]
  },
  {
   "cell_type": "code",
   "execution_count": 51,
   "metadata": {},
   "outputs": [
    {
     "data": {
      "text/plain": [
       "0.840519058981388"
      ]
     },
     "execution_count": 51,
     "metadata": {},
     "output_type": "execute_result"
    }
   ],
   "source": [
    "roc_auc_score(y_test, tree.predict_proba(X_test)[:, 1])"
   ]
  },
  {
   "cell_type": "markdown",
   "metadata": {},
   "source": [
    "## Bagging Classifier Model"
   ]
  },
  {
   "cell_type": "code",
   "execution_count": 52,
   "metadata": {},
   "outputs": [
    {
     "data": {
      "text/plain": [
       "BaggingClassifier(base_estimator=None, bootstrap=True, bootstrap_features=False,\n",
       "                  max_features=1.0, max_samples=1.0, n_estimators=10,\n",
       "                  n_jobs=None, oob_score=False, random_state=None, verbose=0,\n",
       "                  warm_start=False)"
      ]
     },
     "execution_count": 52,
     "metadata": {},
     "output_type": "execute_result"
    }
   ],
   "source": [
    "bagging = BaggingClassifier()\n",
    "bagging.fit(X_train, y_train)"
   ]
  },
  {
   "cell_type": "code",
   "execution_count": 53,
   "metadata": {},
   "outputs": [
    {
     "data": {
      "text/plain": [
       "0.9944872314552088"
      ]
     },
     "execution_count": 53,
     "metadata": {},
     "output_type": "execute_result"
    }
   ],
   "source": [
    "bagging.score(X_train, y_train)"
   ]
  },
  {
   "cell_type": "code",
   "execution_count": 54,
   "metadata": {},
   "outputs": [
    {
     "data": {
      "text/plain": [
       "0.8882853668423186"
      ]
     },
     "execution_count": 54,
     "metadata": {},
     "output_type": "execute_result"
    }
   ],
   "source": [
    "cross_val_score(bagging, X_train, y_train, cv = 5).mean()"
   ]
  },
  {
   "cell_type": "code",
   "execution_count": 55,
   "metadata": {},
   "outputs": [
    {
     "data": {
      "text/plain": [
       "0.8891050583657587"
      ]
     },
     "execution_count": 55,
     "metadata": {},
     "output_type": "execute_result"
    }
   ],
   "source": [
    "bagging.score(X_test, y_test)"
   ]
  },
  {
   "cell_type": "code",
   "execution_count": 56,
   "metadata": {},
   "outputs": [
    {
     "data": {
      "text/plain": [
       "0.9413172685360447"
      ]
     },
     "execution_count": 56,
     "metadata": {},
     "output_type": "execute_result"
    }
   ],
   "source": [
    "roc_auc_score(y_test, bagging.predict_proba(X_test)[:, 1])"
   ]
  },
  {
   "cell_type": "code",
   "execution_count": null,
   "metadata": {},
   "outputs": [],
   "source": []
  },
  {
   "cell_type": "markdown",
   "metadata": {},
   "source": [
    "## Random Forest Model"
   ]
  },
  {
   "cell_type": "code",
   "execution_count": 57,
   "metadata": {},
   "outputs": [
    {
     "data": {
      "text/plain": [
       "RandomForestClassifier(bootstrap=True, ccp_alpha=0.0, class_weight=None,\n",
       "                       criterion='gini', max_depth=None, max_features='auto',\n",
       "                       max_leaf_nodes=None, max_samples=None,\n",
       "                       min_impurity_decrease=0.0, min_impurity_split=None,\n",
       "                       min_samples_leaf=1, min_samples_split=2,\n",
       "                       min_weight_fraction_leaf=0.0, n_estimators=100,\n",
       "                       n_jobs=None, oob_score=False, random_state=None,\n",
       "                       verbose=0, warm_start=False)"
      ]
     },
     "execution_count": 57,
     "metadata": {},
     "output_type": "execute_result"
    }
   ],
   "source": [
    "rand_forest = RandomForestClassifier()\n",
    "rand_forest.fit(X_train, y_train)"
   ]
  },
  {
   "cell_type": "code",
   "execution_count": 58,
   "metadata": {},
   "outputs": [
    {
     "data": {
      "text/plain": [
       "1.0"
      ]
     },
     "execution_count": 58,
     "metadata": {},
     "output_type": "execute_result"
    }
   ],
   "source": [
    "rand_forest.score(X_train, y_train)"
   ]
  },
  {
   "cell_type": "code",
   "execution_count": 59,
   "metadata": {},
   "outputs": [
    {
     "data": {
      "text/plain": [
       "0.9087150385083096"
      ]
     },
     "execution_count": 59,
     "metadata": {},
     "output_type": "execute_result"
    }
   ],
   "source": [
    "cross_val_score(rand_forest, X_train, y_train, cv = 5).mean()"
   ]
  },
  {
   "cell_type": "code",
   "execution_count": 60,
   "metadata": {},
   "outputs": [
    {
     "data": {
      "text/plain": [
       "0.9051556420233463"
      ]
     },
     "execution_count": 60,
     "metadata": {},
     "output_type": "execute_result"
    }
   ],
   "source": [
    "rand_forest.score(X_test, y_test)"
   ]
  },
  {
   "cell_type": "markdown",
   "metadata": {},
   "source": [
    "This model works better than the KNN model, but there is still a lot of room for improvement. Let's increase the randomness of the model and try to reduce the variance with an Extra Trees model."
   ]
  },
  {
   "cell_type": "code",
   "execution_count": 61,
   "metadata": {},
   "outputs": [
    {
     "data": {
      "text/plain": [
       "0.9659238192641317"
      ]
     },
     "execution_count": 61,
     "metadata": {},
     "output_type": "execute_result"
    }
   ],
   "source": [
    "roc_auc_score(y_test, rand_forest.predict_proba(X_test)[:, 1])"
   ]
  },
  {
   "cell_type": "markdown",
   "metadata": {},
   "source": [
    "## Extra Trees Model"
   ]
  },
  {
   "cell_type": "code",
   "execution_count": 62,
   "metadata": {},
   "outputs": [
    {
     "data": {
      "text/plain": [
       "1.0"
      ]
     },
     "execution_count": 62,
     "metadata": {},
     "output_type": "execute_result"
    }
   ],
   "source": [
    "extra_trees = ExtraTreesClassifier(n_estimators = 200)\n",
    "extra_trees.fit(X_train, y_train)\n",
    "extra_trees.score(X_train, y_train)"
   ]
  },
  {
   "cell_type": "code",
   "execution_count": 63,
   "metadata": {},
   "outputs": [
    {
     "data": {
      "text/plain": [
       "0.912363194162951"
      ]
     },
     "execution_count": 63,
     "metadata": {},
     "output_type": "execute_result"
    }
   ],
   "source": [
    "cross_val_score(extra_trees, X_train, y_train, cv = 5).mean()"
   ]
  },
  {
   "cell_type": "code",
   "execution_count": 64,
   "metadata": {},
   "outputs": [
    {
     "data": {
      "text/plain": [
       "0.91318093385214"
      ]
     },
     "execution_count": 64,
     "metadata": {},
     "output_type": "execute_result"
    }
   ],
   "source": [
    "extra_trees.score(X_test, y_test)"
   ]
  },
  {
   "cell_type": "markdown",
   "metadata": {},
   "source": [
    "That's an even better model, but we can still improve a lot. Let's try another boosting model like AdaBoost to see how well it performs."
   ]
  },
  {
   "cell_type": "code",
   "execution_count": 65,
   "metadata": {},
   "outputs": [
    {
     "data": {
      "text/plain": [
       "0.972280549861724"
      ]
     },
     "execution_count": 65,
     "metadata": {},
     "output_type": "execute_result"
    }
   ],
   "source": [
    "roc_auc_score(y_test, extra_trees.predict_proba(X_test)[:, 1])"
   ]
  },
  {
   "cell_type": "markdown",
   "metadata": {},
   "source": [
    "## AdaBoost Model"
   ]
  },
  {
   "cell_type": "code",
   "execution_count": 66,
   "metadata": {},
   "outputs": [
    {
     "data": {
      "text/plain": [
       "0.8449128496149169"
      ]
     },
     "execution_count": 66,
     "metadata": {},
     "output_type": "execute_result"
    }
   ],
   "source": [
    "ada = AdaBoostClassifier(n_estimators = 200)\n",
    "ada.fit(X_train, y_train)\n",
    "ada.score(X_train, y_train)"
   ]
  },
  {
   "cell_type": "code",
   "execution_count": 67,
   "metadata": {},
   "outputs": [
    {
     "data": {
      "text/plain": [
       "0.823915687069315"
      ]
     },
     "execution_count": 67,
     "metadata": {},
     "output_type": "execute_result"
    }
   ],
   "source": [
    "cross_val_score(ada, X_train, y_train, cv = 5).mean()"
   ]
  },
  {
   "cell_type": "code",
   "execution_count": 68,
   "metadata": {},
   "outputs": [
    {
     "data": {
      "text/plain": [
       "0.8212548638132295"
      ]
     },
     "execution_count": 68,
     "metadata": {},
     "output_type": "execute_result"
    }
   ],
   "source": [
    "ada.score(X_test, y_test)"
   ]
  },
  {
   "cell_type": "markdown",
   "metadata": {},
   "source": [
    "This model is worse than most of the previous models, the Extra Trees model is still the best option for the moment. Let's try moving on to a Voting Classifier to see how well it performs."
   ]
  },
  {
   "cell_type": "code",
   "execution_count": 69,
   "metadata": {
    "scrolled": true
   },
   "outputs": [
    {
     "data": {
      "text/plain": [
       "0.8946364250192086"
      ]
     },
     "execution_count": 69,
     "metadata": {},
     "output_type": "execute_result"
    }
   ],
   "source": [
    "roc_auc_score(y_test, ada.predict_proba(X_test)[:, 1])"
   ]
  },
  {
   "cell_type": "markdown",
   "metadata": {},
   "source": [
    "## Gradient Boost Model"
   ]
  },
  {
   "cell_type": "code",
   "execution_count": 70,
   "metadata": {},
   "outputs": [
    {
     "data": {
      "text/plain": [
       "0.8513173895419538"
      ]
     },
     "execution_count": 70,
     "metadata": {},
     "output_type": "execute_result"
    }
   ],
   "source": [
    "grad_boost = GradientBoostingClassifier()\n",
    "grad_boost.fit(X_train, y_train)\n",
    "grad_boost.score(X_train, y_train)"
   ]
  },
  {
   "cell_type": "code",
   "execution_count": 71,
   "metadata": {},
   "outputs": [
    {
     "data": {
      "text/plain": [
       "0.8369679773003649"
      ]
     },
     "execution_count": 71,
     "metadata": {},
     "output_type": "execute_result"
    }
   ],
   "source": [
    "cross_val_score(grad_boost, X_train, y_train, cv = 5).mean()"
   ]
  },
  {
   "cell_type": "code",
   "execution_count": 72,
   "metadata": {},
   "outputs": [
    {
     "data": {
      "text/plain": [
       "0.8263618677042801"
      ]
     },
     "execution_count": 72,
     "metadata": {},
     "output_type": "execute_result"
    }
   ],
   "source": [
    "grad_boost.score(X_test, y_test)"
   ]
  },
  {
   "cell_type": "code",
   "execution_count": 73,
   "metadata": {},
   "outputs": [
    {
     "data": {
      "text/plain": [
       "0.9006733716384235"
      ]
     },
     "execution_count": 73,
     "metadata": {},
     "output_type": "execute_result"
    }
   ],
   "source": [
    "roc_auc_score(y_test, grad_boost.predict_proba(X_test)[:, 1])"
   ]
  },
  {
   "cell_type": "markdown",
   "metadata": {},
   "source": [
    "This model is slightly better than the AdaBoost model, but still not as good as the Extra Trees model. Let's try a Voting Classifier with the best performing models next."
   ]
  },
  {
   "cell_type": "code",
   "execution_count": null,
   "metadata": {},
   "outputs": [],
   "source": []
  },
  {
   "cell_type": "code",
   "execution_count": null,
   "metadata": {},
   "outputs": [],
   "source": []
  },
  {
   "cell_type": "code",
   "execution_count": null,
   "metadata": {},
   "outputs": [],
   "source": []
  },
  {
   "cell_type": "markdown",
   "metadata": {},
   "source": [
    "## Voting Classifier Model"
   ]
  },
  {
   "cell_type": "code",
   "execution_count": 74,
   "metadata": {},
   "outputs": [
    {
     "name": "stdout",
     "output_type": "stream",
     "text": [
      "0.9002837454398055\n"
     ]
    },
    {
     "data": {
      "text/plain": [
       "{'knn_pipe__knn__n_neighbors': 5,\n",
       " 'rand_forest__max_depth': 4,\n",
       " 'x_tree__max_depth': None}"
      ]
     },
     "execution_count": 74,
     "metadata": {},
     "output_type": "execute_result"
    }
   ],
   "source": [
    "knn_pipe = Pipeline([\n",
    "    ('ss', StandardScaler()),\n",
    "    ('knn', KNeighborsClassifier())\n",
    "])\n",
    "\n",
    "\n",
    "\n",
    "vote = VotingClassifier([\n",
    "    ('x_tree', ExtraTreesClassifier()),\n",
    "    ('rand_forest', RandomForestClassifier()),\n",
    "    ('knn_pipe', knn_pipe),\n",
    "], voting = 'soft')\n",
    "vote_params = {\n",
    "    'x_tree__max_depth': [None, 4],\n",
    "    'rand_forest__max_depth': [3, 4],\n",
    "    'knn_pipe__knn__n_neighbors': [3, 5, 7],\n",
    "\n",
    "}\n",
    "gs_vc = GridSearchCV(vote, \n",
    "                     param_grid = vote_params, \n",
    "                     cv = 5,\n",
    "                     n_jobs = -2,\n",
    "                     scoring = 'accuracy')\n",
    "gs_vc.fit(X_train, y_train)\n",
    "print(gs_vc.best_score_) # cross val score\n",
    "gs_vc.best_params_"
   ]
  },
  {
   "cell_type": "code",
   "execution_count": 75,
   "metadata": {},
   "outputs": [
    {
     "data": {
      "text/plain": [
       "0.9034533073929961"
      ]
     },
     "execution_count": 75,
     "metadata": {},
     "output_type": "execute_result"
    }
   ],
   "source": [
    "gs_vc.score(X_test, y_test)"
   ]
  },
  {
   "cell_type": "code",
   "execution_count": 76,
   "metadata": {},
   "outputs": [
    {
     "data": {
      "text/plain": [
       "0.9610563478053908"
      ]
     },
     "execution_count": 76,
     "metadata": {},
     "output_type": "execute_result"
    }
   ],
   "source": [
    "roc_auc_score(y_test, gs_vc.predict_proba(X_test)[:, 1])"
   ]
  },
  {
   "cell_type": "code",
   "execution_count": null,
   "metadata": {},
   "outputs": [],
   "source": []
  },
  {
   "cell_type": "code",
   "execution_count": null,
   "metadata": {},
   "outputs": [],
   "source": []
  },
  {
   "cell_type": "code",
   "execution_count": 77,
   "metadata": {},
   "outputs": [],
   "source": [
    "feats = extra_trees.feature_importances_"
   ]
  },
  {
   "cell_type": "code",
   "execution_count": 78,
   "metadata": {},
   "outputs": [],
   "source": [
    "keys = X_test.keys()"
   ]
  },
  {
   "cell_type": "code",
   "execution_count": 79,
   "metadata": {},
   "outputs": [],
   "source": [
    "feat_import = pd.DataFrame(list(zip(keys, feats)), columns = ['feature', 'importance'])"
   ]
  },
  {
   "cell_type": "code",
   "execution_count": 80,
   "metadata": {},
   "outputs": [],
   "source": [
    "feat_import = feat_import.sort_values(by = 'importance', ascending = False)"
   ]
  },
  {
   "cell_type": "code",
   "execution_count": 81,
   "metadata": {},
   "outputs": [
    {
     "data": {
      "image/png": "[encoded data removed]",
      "text/plain": [
       "<Figure size 720x1080 with 1 Axes>"
      ]
     },
     "metadata": {},
     "output_type": "display_data"
    }
   ],
   "source": [
    "plt.figure(figsize=(10,15))\n",
    "plt.title('Feature Importance',fontsize=25)\n",
    "sns.set_style(\"darkgrid\")\n",
    "sns.barplot(data= feat_import,\n",
    "            x='importance',y='feature',orient='h', palette=\"husl\")\n",
    "plt.xlabel('importance',fontsize=20)\n",
    "plt.ylabel('feature',fontsize=20)\n",
    "plt.tick_params(labelsize=20)"
   ]
  },
  {
   "cell_type": "code",
   "execution_count": null,
   "metadata": {},
   "outputs": [],
   "source": []
  },
  {
   "cell_type": "code",
   "execution_count": null,
   "metadata": {},
   "outputs": [],
   "source": []
  },
  {
   "cell_type": "code",
   "execution_count": null,
   "metadata": {},
   "outputs": [],
   "source": []
  },
  {
   "cell_type": "code",
   "execution_count": null,
   "metadata": {},
   "outputs": [],
   "source": []
  },
  {
   "cell_type": "code",
   "execution_count": null,
   "metadata": {},
   "outputs": [],
   "source": []
  },
  {
   "cell_type": "code",
   "execution_count": 82,
   "metadata": {},
   "outputs": [],
   "source": [
    "# Creating a DataFrame to facilitate plotting.\n",
    "pred_proba = [i[1] for i in extra_trees.predict_proba(X_test)]\n",
    "pred_df = pd.DataFrame({'true_values': y_test,\n",
    "                        'pred_probs':pred_proba})"
   ]
  },
  {
   "cell_type": "code",
   "execution_count": 83,
   "metadata": {},
   "outputs": [
    {
     "name": "stdout",
     "output_type": "stream",
     "text": [
      "No Skill: ROC AUC=0.500\n",
      "Logistic: ROC AUC=0.972\n"
     ]
    },
    {
     "data": {
      "image/png": "[encoded data removed]",
      "text/plain": [
       "<Figure size 720x504 with 1 Axes>"
      ]
     },
     "metadata": {},
     "output_type": "display_data"
    }
   ],
   "source": [
    "# Creating ROC Scores for baseline and best model.\n",
    "ns_probs = [0 for _ in range(len(y_test))]\n",
    "pipe_probs = extra_trees.predict_proba(X_test)\n",
    "pipe_probs = pipe_probs[:, 1]\n",
    "ns_auc = roc_auc_score(y_test, ns_probs)\n",
    "pipe_auc = roc_auc_score(y_test, pipe_probs)\n",
    "# summarize scores\n",
    "print('No Skill: ROC AUC=%.3f' % (ns_auc))\n",
    "print('Logistic: ROC AUC=%.3f' % (pipe_auc))\n",
    "# Create figure.\n",
    "plt.figure(figsize = (10,7))\n",
    "# Create threshold values.\n",
    "thresholds = np.linspace(0, 1, 200)\n",
    "# Define function to calculate sensitivity. (True positive rate.)\n",
    "def TPR(df, true_col, pred_prob_col, threshold):\n",
    "    true_positive = df[(df[true_col] == 1) & (df[pred_prob_col] >= threshold)].shape[0]\n",
    "    false_negative = df[(df[true_col] == 1) & (df[pred_prob_col] < threshold)].shape[0]\n",
    "    return true_positive / (true_positive + false_negative)\n",
    "# Define function to calculate 1 - specificity. (False positive rate.)\n",
    "def FPR(df, true_col, pred_prob_col, threshold):\n",
    "    true_negative = df[(df[true_col] == 0) & (df[pred_prob_col] <= threshold)].shape[0]\n",
    "    false_positive = df[(df[true_col] == 0) & (df[pred_prob_col] > threshold)].shape[0]\n",
    "    return 1 - (true_negative / (true_negative + false_positive))\n",
    "# Calculate sensitivity & 1-specificity for each threshold between 0 and 1.\n",
    "tpr_values = [TPR(pred_df, 'true_values', 'pred_probs', prob) for prob in thresholds]\n",
    "fpr_values = [FPR(pred_df, 'true_values', 'pred_probs', prob) for prob in thresholds]\n",
    "# Plot ROC curve.\n",
    "plt.plot(fpr_values, # False Positive Rate on X-axis\n",
    "         tpr_values, # True Positive Rate on Y-axis\n",
    "         label='ROC Curve')\n",
    "# Plot baseline. (Perfect overlap between the two populations.)\n",
    "plt.plot(np.linspace(0, 1, 200),\n",
    "         np.linspace(0, 1, 200),\n",
    "         label='baseline',\n",
    "         linestyle='--')\n",
    "# Label axes.\n",
    "plt.title('Receiver Operating Characteristic Curve', fontsize=22)\n",
    "plt.ylabel('Sensitivity', fontsize=18)\n",
    "plt.xlabel('1 - Specificity', fontsize=18)\n",
    "# Create legend.\n",
    "plt.legend(fontsize=16);\n"
   ]
  },
  {
   "cell_type": "code",
   "execution_count": null,
   "metadata": {},
   "outputs": [],
   "source": []
  },
  {
   "cell_type": "code",
   "execution_count": null,
   "metadata": {},
   "outputs": [],
   "source": []
  },
  {
   "cell_type": "code",
   "execution_count": null,
   "metadata": {},
   "outputs": [],
   "source": []
  },
  {
   "cell_type": "code",
   "execution_count": null,
   "metadata": {},
   "outputs": [],
   "source": []
  }
 ],
 "metadata": {
  "kernelspec": {
   "display_name": "Python 3",
   "language": "python",
   "name": "python3"
  },
  "language_info": {
   "codemirror_mode": {
    "name": "ipython",
    "version": 3
   },
   "file_extension": ".py",
   "mimetype": "text/x-python",
   "name": "python",
   "nbconvert_exporter": "python",
   "pygments_lexer": "ipython3",
   "version": "3.7.5"
  },
  "toc": {
   "base_numbering": 1,
   "nav_menu": {},
   "number_sections": true,
   "sideBar": true,
   "skip_h1_title": false,
   "title_cell": "Table of Contents",
   "title_sidebar": "Contents",
   "toc_cell": false,
   "toc_position": {},
   "toc_section_display": true,
   "toc_window_display": true
  },
  "varInspector": {
   "cols": {
    "lenName": 16,
    "lenType": 16,
    "lenVar": 40
   },
   "kernels_config": {
    "python": {
     "delete_cmd_postfix": "",
     "delete_cmd_prefix": "del ",
     "library": "var_list.py",
     "varRefreshCmd": "print(var_dic_list())"
    },
    "r": {
     "delete_cmd_postfix": ") ",
     "delete_cmd_prefix": "rm(",
     "library": "var_list.r",
     "varRefreshCmd": "cat(var_dic_list()) "
    }
   },
   "types_to_exclude": [
    "module",
    "function",
    "builtin_function_or_method",
    "instance",
    "_Feature"
   ],
   "window_display": false
  }
 },
 "nbformat": 4,
 "nbformat_minor": 2
}
