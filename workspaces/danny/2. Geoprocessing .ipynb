{
 "cells": [
  {
   "cell_type": "markdown",
   "metadata": {},
   "source": [
    "# Geoprocessing "
   ]
  },
  {
   "cell_type": "code",
   "execution_count": 2,
   "metadata": {},
   "outputs": [
    {
     "data": {
      "application/vnd.jupyter.widget-view+json": {
       "model_id": "badbdbb5a7504a65b17fd4c032e52c71",
       "version_major": 2,
       "version_minor": 0
      },
      "text/plain": [
       "Map(center=[52.204793, 360.121558], controls=(ZoomControl(options=['position', 'zoom_in_text', 'zoom_in_title'…"
      ]
     },
     "metadata": {},
     "output_type": "display_data"
    }
   ],
   "source": [
    "from ipyleaflet import Map, basemaps, basemap_to_tiles\n",
    "\n",
    "m = Map(\n",
    "    layers=(basemap_to_tiles(basemaps.NASAGIBS.ModisTerraTrueColorCR, \"2017-04-08\"), ),\n",
    "    center=(52.204793, 360.121558),\n",
    "    zoom=4\n",
    ")\n",
    "\n",
    "m"
   ]
  },
  {
   "cell_type": "code",
   "execution_count": 3,
   "metadata": {},
   "outputs": [
    {
     "data": {
      "application/vnd.jupyter.widget-view+json": {
       "model_id": "83cb840472e54f368eae7c57be8a55d7",
       "version_major": 2,
       "version_minor": 0
      },
      "text/plain": [
       "Map(center=[52.3, 8.0], controls=(ZoomControl(options=['position', 'zoom_in_text', 'zoom_in_title', 'zoom_out_…"
      ]
     },
     "metadata": {},
     "output_type": "display_data"
    }
   ],
   "source": [
    "from ipyleaflet import Map, GeoData, basemaps, LayersControl\n",
    "import geopandas\n",
    "import json\n",
    "\n",
    "countries = geopandas.read_file(geopandas.datasets.get_path('naturalearth_lowres'))\n",
    "rivers = geopandas.read_file(\"https://www.naturalearthdata.com/http//www.naturalearthdata.com/download/10m/physical/ne_10m_rivers_lake_centerlines.zip\")\n",
    "\n",
    "m = Map(center=(52.3,8.0), zoom = 3, basemap= basemaps.Esri.WorldTopoMap)\n",
    "\n",
    "geo_data = GeoData(\n",
    "    geo_dataframe = countries,\n",
    "    style={'color': 'black', 'fillColor': '#3366cc', 'opacity':0.05, 'weight':1.9, 'dashArray':'2', 'fillOpacity':0.6},\n",
    "    hover_style={'fillColor': 'red' , 'fillOpacity': 0.2},\n",
    "    name = 'Countries',\n",
    ")\n",
    "\n",
    "rivers_data = GeoData(\n",
    "    geo_dataframe = rivers,\n",
    "    style={'color': 'purple', 'opacity':3, 'weight':1.9, 'dashArray':'2', 'fillOpacity':0.6},\n",
    "    hover_style={'fillColor': 'red' , 'fillOpacity': 0.2},\n",
    "    name = 'Rivers',\n",
    ")\n",
    "\n",
    "m.add_layer(rivers_data)\n",
    "m.add_layer(geo_data)\n",
    "m.add_control(LayersControl())\n",
    "\n",
    "m"
   ]
  },
  {
   "cell_type": "markdown",
   "metadata": {},
   "source": [
    "## Data"
   ]
  },
  {
   "cell_type": "code",
   "execution_count": 63,
   "metadata": {},
   "outputs": [
    {
     "data": {
      "application/vnd.jupyter.widget-view+json": {
       "model_id": "cb61105ea81443f69c2e3b5dc55567da",
       "version_major": 2,
       "version_minor": 0
      },
      "text/plain": [
       "Map(center=[-23.648, -46.66133], controls=(ZoomControl(options=['position', 'zoom_in_text', 'zoom_in_title', '…"
      ]
     },
     "metadata": {},
     "output_type": "display_data"
    }
   ],
   "source": [
    "import geopandas as gpd\n",
    "from ipyleaflet import Map, Polygon\n",
    "from ipyleaflet import Map, Marker, MarkerCluster\n",
    "\n",
    "census_tracts_shp = '/Users/danielmsheehan/Dropbox/General_Assembly/Projects/project_5/data/maps/census_tracts.shp'\n",
    "sau_paulo_favelas_shp = '/Users/danielmsheehan/Dropbox/General_Assembly/Projects/project_5/data/maps/favelas.shp'\n",
    "sau_paulo_favelas = gpd.read_file(sau_paulo_favelas_shp)\n",
    "\n",
    "#sau_paulo_favelas = sau_paulo_favelas.head(50)\n",
    "m = Map(center=(-23.648, -46.66133), zoom=14, basemap=basemaps.Esri.WorldStreetMap)\n",
    "\n",
    "sau_paulo_favelas_layer = GeoData(\n",
    "    geo_dataframe=sau_paulo_favelas,\n",
    "    #style={'color': 'black', 'fillColor': '#3366cc', 'opacity':0.05, 'weight':1.9, 'dashArray':'2', 'fillOpacity':0.6},\n",
    "    #hover_style={'fillColor': 'red' , 'fillOpacity': 0.2},\n",
    "    name = 'Census Tracts',\n",
    "    color=\"#3366cc\",\n",
    "    fill_color=\"#3366cc\",\n",
    ")\n",
    "# m.add_layer(MarkerCluster(\n",
    "#     markers=[Marker(location=geolocation.coords[0][::-1]) for geolocation in sau_paulo_favelas.geometry])\n",
    "#     )\n",
    "# m\n",
    "m.add_layer(sau_paulo_favelas_layer)\n",
    "\n",
    "m.add_control(LayersControl())\n",
    "\n",
    "m"
   ]
  },
  {
   "cell_type": "code",
   "execution_count": 62,
   "metadata": {},
   "outputs": [
    {
     "data": {
      "text/html": [
       "<div>\n",
       "<style scoped>\n",
       "    .dataframe tbody tr th:only-of-type {\n",
       "        vertical-align: middle;\n",
       "    }\n",
       "\n",
       "    .dataframe tbody tr th {\n",
       "        vertical-align: top;\n",
       "    }\n",
       "\n",
       "    .dataframe thead th {\n",
       "        text-align: right;\n",
       "    }\n",
       "</style>\n",
       "<table border=\"1\" class=\"dataframe\">\n",
       "  <thead>\n",
       "    <tr style=\"text-align: right;\">\n",
       "      <th></th>\n",
       "      <th>ID</th>\n",
       "      <th>AREA_m첰</th>\n",
       "      <th>NOME</th>\n",
       "      <th>DATULTATZ</th>\n",
       "      <th>ENDERECO</th>\n",
       "      <th>NOMESEC</th>\n",
       "      <th>PROPRTR</th>\n",
       "      <th>geometry</th>\n",
       "    </tr>\n",
       "  </thead>\n",
       "  <tbody>\n",
       "    <tr>\n",
       "      <th>22</th>\n",
       "      <td>1320</td>\n",
       "      <td>4379</td>\n",
       "      <td>Alegria</td>\n",
       "      <td>2011-01-19</td>\n",
       "      <td>Rua Alba / Rua Contos Gauchescos</td>\n",
       "      <td>Biquinha</td>\n",
       "      <td>None</td>\n",
       "      <td>POLYGON ((330355.453 7383224.583, 330375.926 7...</td>\n",
       "    </tr>\n",
       "    <tr>\n",
       "      <th>23</th>\n",
       "      <td>1345</td>\n",
       "      <td>1938</td>\n",
       "      <td>Tulio Teodoro de Campos</td>\n",
       "      <td>2011-06-29</td>\n",
       "      <td>Avenida Tulio Teodoro de Campos / Rua Joio da ...</td>\n",
       "      <td>None</td>\n",
       "      <td>None</td>\n",
       "      <td>POLYGON ((330322.124 7384354.245, 330348.842 7...</td>\n",
       "    </tr>\n",
       "    <tr>\n",
       "      <th>24</th>\n",
       "      <td>1403</td>\n",
       "      <td>2229</td>\n",
       "      <td>Arco Verde</td>\n",
       "      <td>2011-04-26</td>\n",
       "      <td>Rua Joeo de Lery</td>\n",
       "      <td>Durval Pereira</td>\n",
       "      <td>Municipal</td>\n",
       "      <td>POLYGON ((330589.351 7384957.180, 330620.770 7...</td>\n",
       "    </tr>\n",
       "    <tr>\n",
       "      <th>25</th>\n",
       "      <td>1460</td>\n",
       "      <td>1442</td>\n",
       "      <td>Favela Alba</td>\n",
       "      <td>2012-06-06</td>\n",
       "      <td>Rua Alba / Rua Oiticicas</td>\n",
       "      <td>Comunidade Santa Maria ,oiticicas</td>\n",
       "      <td>None</td>\n",
       "      <td>POLYGON ((331635.075 7384752.613, 331605.630 7...</td>\n",
       "    </tr>\n",
       "    <tr>\n",
       "      <th>26</th>\n",
       "      <td>1669</td>\n",
       "      <td>35423</td>\n",
       "      <td>Vietni</td>\n",
       "      <td>2015-04-02</td>\n",
       "      <td>Rua Coriolano Durant / Rua Franklin Magalh es</td>\n",
       "      <td>Jamaica / Guianas</td>\n",
       "      <td>Municipal</td>\n",
       "      <td>MULTIPOLYGON (((331389.482 7383748.218, 331402...</td>\n",
       "    </tr>\n",
       "  </tbody>\n",
       "</table>\n",
       "</div>"
      ],
      "text/plain": [
       "      ID  AREA_m첰                     NOME   DATULTATZ  \\\n",
       "22  1320     4379                  Alegria  2011-01-19   \n",
       "23  1345     1938  Tulio Teodoro de Campos  2011-06-29   \n",
       "24  1403     2229               Arco Verde  2011-04-26   \n",
       "25  1460     1442              Favela Alba  2012-06-06   \n",
       "26  1669    35423                   Vietni  2015-04-02   \n",
       "\n",
       "                                             ENDERECO  \\\n",
       "22                   Rua Alba / Rua Contos Gauchescos   \n",
       "23  Avenida Tulio Teodoro de Campos / Rua Joio da ...   \n",
       "24                                   Rua Joeo de Lery   \n",
       "25                           Rua Alba / Rua Oiticicas   \n",
       "26      Rua Coriolano Durant / Rua Franklin Magalh es   \n",
       "\n",
       "                              NOMESEC    PROPRTR  \\\n",
       "22                           Biquinha       None   \n",
       "23                               None       None   \n",
       "24                     Durval Pereira  Municipal   \n",
       "25  Comunidade Santa Maria ,oiticicas       None   \n",
       "26                  Jamaica / Guianas  Municipal   \n",
       "\n",
       "                                             geometry  \n",
       "22  POLYGON ((330355.453 7383224.583, 330375.926 7...  \n",
       "23  POLYGON ((330322.124 7384354.245, 330348.842 7...  \n",
       "24  POLYGON ((330589.351 7384957.180, 330620.770 7...  \n",
       "25  POLYGON ((331635.075 7384752.613, 331605.630 7...  \n",
       "26  MULTIPOLYGON (((331389.482 7383748.218, 331402...  "
      ]
     },
     "execution_count": 62,
     "metadata": {},
     "output_type": "execute_result"
    }
   ],
   "source": [
    "sau_paulo_favelas.tail()"
   ]
  },
  {
   "cell_type": "code",
   "execution_count": null,
   "metadata": {},
   "outputs": [],
   "source": []
  },
  {
   "cell_type": "code",
   "execution_count": null,
   "metadata": {},
   "outputs": [],
   "source": []
  }
 ],
 "metadata": {
  "kernelspec": {
   "display_name": "Python 3",
   "language": "python",
   "name": "python3"
  },
  "language_info": {
   "codemirror_mode": {
    "name": "ipython",
    "version": 3
   },
   "file_extension": ".py",
   "mimetype": "text/x-python",
   "name": "python",
   "nbconvert_exporter": "python",
   "pygments_lexer": "ipython3",
   "version": "3.7.5"
  },
  "toc": {
   "base_numbering": 1,
   "nav_menu": {},
   "number_sections": true,
   "sideBar": true,
   "skip_h1_title": false,
   "title_cell": "Table of Contents",
   "title_sidebar": "Contents",
   "toc_cell": false,
   "toc_position": {
    "height": "calc(100% - 180px)",
    "left": "10px",
    "top": "150px",
    "width": "165px"
   },
   "toc_section_display": true,
   "toc_window_display": true
  }
 },
 "nbformat": 4,
 "nbformat_minor": 2
}
