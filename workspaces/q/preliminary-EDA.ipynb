{
 "cells": [
  {
   "cell_type": "code",
   "execution_count": 1,
   "metadata": {},
   "outputs": [],
   "source": [
    "import pandas as pd\n",
    "import numpy as np\n",
    "import matplotlib.pyplot as plt"
   ]
  },
  {
   "cell_type": "markdown",
   "metadata": {},
   "source": [
    "## Importing First Dataset"
   ]
  },
  {
   "cell_type": "code",
   "execution_count": 2,
   "metadata": {},
   "outputs": [],
   "source": [
    "# using dataset from https://www.kaggle.com/devvret/brazil-real-estate-listings\n",
    "\n",
    "data = pd.read_csv('./properati_br_2016_11_01_properties_rent.csv')"
   ]
  },
  {
   "cell_type": "code",
   "execution_count": 3,
   "metadata": {},
   "outputs": [
    {
     "data": {
      "text/html": [
       "<div>\n",
       "<style scoped>\n",
       "    .dataframe tbody tr th:only-of-type {\n",
       "        vertical-align: middle;\n",
       "    }\n",
       "\n",
       "    .dataframe tbody tr th {\n",
       "        vertical-align: top;\n",
       "    }\n",
       "\n",
       "    .dataframe thead th {\n",
       "        text-align: right;\n",
       "    }\n",
       "</style>\n",
       "<table border=\"1\" class=\"dataframe\">\n",
       "  <thead>\n",
       "    <tr style=\"text-align: right;\">\n",
       "      <th></th>\n",
       "      <th>created_on</th>\n",
       "      <th>operation</th>\n",
       "      <th>property_type</th>\n",
       "      <th>place_name</th>\n",
       "      <th>place_with_parent_names</th>\n",
       "      <th>geonames_id</th>\n",
       "      <th>lat_lon</th>\n",
       "      <th>lat</th>\n",
       "      <th>lon</th>\n",
       "      <th>price</th>\n",
       "      <th>...</th>\n",
       "      <th>price_usd_per_m2</th>\n",
       "      <th>price_per_m2</th>\n",
       "      <th>floor</th>\n",
       "      <th>rooms</th>\n",
       "      <th>expenses</th>\n",
       "      <th>properati_url</th>\n",
       "      <th>description</th>\n",
       "      <th>title</th>\n",
       "      <th>image_thumbnail</th>\n",
       "      <th>location</th>\n",
       "    </tr>\n",
       "  </thead>\n",
       "  <tbody>\n",
       "    <tr>\n",
       "      <th>0</th>\n",
       "      <td>2013-04-25</td>\n",
       "      <td>rent</td>\n",
       "      <td>apartment</td>\n",
       "      <td>Praia Grande</td>\n",
       "      <td>|Brasil|São Paulo|Praia Grande|</td>\n",
       "      <td>NaN</td>\n",
       "      <td>NaN</td>\n",
       "      <td>NaN</td>\n",
       "      <td>NaN</td>\n",
       "      <td>900.0</td>\n",
       "      <td>...</td>\n",
       "      <td>NaN</td>\n",
       "      <td>NaN</td>\n",
       "      <td>NaN</td>\n",
       "      <td>1.0</td>\n",
       "      <td>NaN</td>\n",
       "      <td>http://praia-grande-sao-paulo.properati.com.br...</td>\n",
       "      <td>Otimo Imovel com o melhor valor da regiao, con...</td>\n",
       "      <td>Apartamento Em Praia Grande</td>\n",
       "      <td>NaN</td>\n",
       "      <td>NaN</td>\n",
       "    </tr>\n",
       "    <tr>\n",
       "      <th>1</th>\n",
       "      <td>2013-04-25</td>\n",
       "      <td>rent</td>\n",
       "      <td>apartment</td>\n",
       "      <td>Alphaville</td>\n",
       "      <td>|Brasil|São Paulo|Barueri|Alphaville|</td>\n",
       "      <td>NaN</td>\n",
       "      <td>NaN</td>\n",
       "      <td>NaN</td>\n",
       "      <td>NaN</td>\n",
       "      <td>3200.0</td>\n",
       "      <td>...</td>\n",
       "      <td>NaN</td>\n",
       "      <td>NaN</td>\n",
       "      <td>NaN</td>\n",
       "      <td>3.0</td>\n",
       "      <td>NaN</td>\n",
       "      <td>http://alphaville-barueri.properati.com.br/q8z...</td>\n",
       "      <td>Otimo Imovel com o melhor valor da regiao, con...</td>\n",
       "      <td>Apartamento Em Barueri</td>\n",
       "      <td>https://thumbs-cf.properati.com/0/Wjq7toq-DpwK...</td>\n",
       "      <td>NaN</td>\n",
       "    </tr>\n",
       "    <tr>\n",
       "      <th>2</th>\n",
       "      <td>2013-04-25</td>\n",
       "      <td>rent</td>\n",
       "      <td>house</td>\n",
       "      <td>Centro</td>\n",
       "      <td>|Brasil|São Paulo|Jundiaí|Centro|</td>\n",
       "      <td>NaN</td>\n",
       "      <td>NaN</td>\n",
       "      <td>NaN</td>\n",
       "      <td>NaN</td>\n",
       "      <td>1800.0</td>\n",
       "      <td>...</td>\n",
       "      <td>NaN</td>\n",
       "      <td>NaN</td>\n",
       "      <td>NaN</td>\n",
       "      <td>2.0</td>\n",
       "      <td>NaN</td>\n",
       "      <td>http://centro-jundiai.properati.com.br/qe2_alu...</td>\n",
       "      <td>Otimo Imovel com o melhor valor da regiao, con...</td>\n",
       "      <td>Casa Em Jundiai</td>\n",
       "      <td>NaN</td>\n",
       "      <td>NaN</td>\n",
       "    </tr>\n",
       "    <tr>\n",
       "      <th>3</th>\n",
       "      <td>2013-04-25</td>\n",
       "      <td>rent</td>\n",
       "      <td>apartment</td>\n",
       "      <td>Alphaville</td>\n",
       "      <td>|Brasil|São Paulo|Barueri|Alphaville|</td>\n",
       "      <td>NaN</td>\n",
       "      <td>NaN</td>\n",
       "      <td>NaN</td>\n",
       "      <td>NaN</td>\n",
       "      <td>NaN</td>\n",
       "      <td>...</td>\n",
       "      <td>NaN</td>\n",
       "      <td>NaN</td>\n",
       "      <td>NaN</td>\n",
       "      <td>NaN</td>\n",
       "      <td>NaN</td>\n",
       "      <td>http://alphaville-barueri.properati.com.br/s9p...</td>\n",
       "      <td>Otimo Imovel com o melhor valor da regiao, con...</td>\n",
       "      <td>Apartamento Em Barueri</td>\n",
       "      <td>https://thumbs-cf.properati.com/0/X7PtsZjj8Vqz...</td>\n",
       "      <td>NaN</td>\n",
       "    </tr>\n",
       "    <tr>\n",
       "      <th>4</th>\n",
       "      <td>2013-04-25</td>\n",
       "      <td>rent</td>\n",
       "      <td>apartment</td>\n",
       "      <td>Barueri</td>\n",
       "      <td>|Brasil|São Paulo|Barueri|</td>\n",
       "      <td>NaN</td>\n",
       "      <td>NaN</td>\n",
       "      <td>NaN</td>\n",
       "      <td>NaN</td>\n",
       "      <td>1800.0</td>\n",
       "      <td>...</td>\n",
       "      <td>NaN</td>\n",
       "      <td>NaN</td>\n",
       "      <td>NaN</td>\n",
       "      <td>NaN</td>\n",
       "      <td>NaN</td>\n",
       "      <td>http://barueri.properati.com.br/s9u_aluga-se_a...</td>\n",
       "      <td>Otimo Imovel com o melhor valor da regiao, con...</td>\n",
       "      <td>Apartamento Em Barueri</td>\n",
       "      <td>https://thumbs-cf.properati.com/9/URn3U3gg-F6C...</td>\n",
       "      <td>NaN</td>\n",
       "    </tr>\n",
       "    <tr>\n",
       "      <th>...</th>\n",
       "      <td>...</td>\n",
       "      <td>...</td>\n",
       "      <td>...</td>\n",
       "      <td>...</td>\n",
       "      <td>...</td>\n",
       "      <td>...</td>\n",
       "      <td>...</td>\n",
       "      <td>...</td>\n",
       "      <td>...</td>\n",
       "      <td>...</td>\n",
       "      <td>...</td>\n",
       "      <td>...</td>\n",
       "      <td>...</td>\n",
       "      <td>...</td>\n",
       "      <td>...</td>\n",
       "      <td>...</td>\n",
       "      <td>...</td>\n",
       "      <td>...</td>\n",
       "      <td>...</td>\n",
       "      <td>...</td>\n",
       "      <td>...</td>\n",
       "    </tr>\n",
       "    <tr>\n",
       "      <th>97348</th>\n",
       "      <td>2016-11-01</td>\n",
       "      <td>rent</td>\n",
       "      <td>apartment</td>\n",
       "      <td>Vila Adyana</td>\n",
       "      <td>|Brasil|São Paulo|São José dos Campos|Vila Ady...</td>\n",
       "      <td>NaN</td>\n",
       "      <td>NaN</td>\n",
       "      <td>NaN</td>\n",
       "      <td>NaN</td>\n",
       "      <td>1600.0</td>\n",
       "      <td>...</td>\n",
       "      <td>NaN</td>\n",
       "      <td>NaN</td>\n",
       "      <td>NaN</td>\n",
       "      <td>NaN</td>\n",
       "      <td>NaN</td>\n",
       "      <td>http://vila-adyana.properati.com.br/2hk0a_alug...</td>\n",
       "      <td>Apto em excelente localização com 3 dormitório...</td>\n",
       "      <td>Apto Vila AdyAna</td>\n",
       "      <td>https://thumbs-cf.properati.com/9/fO9avKeVE4nA...</td>\n",
       "      <td>NaN</td>\n",
       "    </tr>\n",
       "    <tr>\n",
       "      <th>97349</th>\n",
       "      <td>2016-11-01</td>\n",
       "      <td>rent</td>\n",
       "      <td>apartment</td>\n",
       "      <td>Jardim Aquárius</td>\n",
       "      <td>|Brasil|São Paulo|São José dos Campos|Jardim A...</td>\n",
       "      <td>NaN</td>\n",
       "      <td>NaN</td>\n",
       "      <td>NaN</td>\n",
       "      <td>NaN</td>\n",
       "      <td>2000.0</td>\n",
       "      <td>...</td>\n",
       "      <td>NaN</td>\n",
       "      <td>NaN</td>\n",
       "      <td>NaN</td>\n",
       "      <td>NaN</td>\n",
       "      <td>NaN</td>\n",
       "      <td>http://jardim-aquarius.properati.com.br/2hk0b_...</td>\n",
       "      <td>Apartamento novo com 2 dormitórios, sendo 1 su...</td>\n",
       "      <td>Apto Mobiliado Lindo Aquarius</td>\n",
       "      <td>https://thumbs-cf.properati.com/0/8vf7zRE3UU2K...</td>\n",
       "      <td>NaN</td>\n",
       "    </tr>\n",
       "    <tr>\n",
       "      <th>97350</th>\n",
       "      <td>2016-11-01</td>\n",
       "      <td>rent</td>\n",
       "      <td>apartment</td>\n",
       "      <td>Jardim Aquárius</td>\n",
       "      <td>|Brasil|São Paulo|São José dos Campos|Jardim A...</td>\n",
       "      <td>NaN</td>\n",
       "      <td>NaN</td>\n",
       "      <td>NaN</td>\n",
       "      <td>NaN</td>\n",
       "      <td>1900.0</td>\n",
       "      <td>...</td>\n",
       "      <td>NaN</td>\n",
       "      <td>NaN</td>\n",
       "      <td>NaN</td>\n",
       "      <td>NaN</td>\n",
       "      <td>NaN</td>\n",
       "      <td>http://jardim-aquarius.properati.com.br/2hk0c_...</td>\n",
       "      <td>Apto novo no Jd. Aquarius ampla varanda gourme...</td>\n",
       "      <td>Lindo Apto Aquarius 2 vagas</td>\n",
       "      <td>https://thumbs-cf.properati.com/1/WGdWsXr0_NtM...</td>\n",
       "      <td>NaN</td>\n",
       "    </tr>\n",
       "    <tr>\n",
       "      <th>97351</th>\n",
       "      <td>2016-11-01</td>\n",
       "      <td>rent</td>\n",
       "      <td>apartment</td>\n",
       "      <td>Votorantim</td>\n",
       "      <td>|Brasil|São Paulo|Votorantim|</td>\n",
       "      <td>NaN</td>\n",
       "      <td>NaN</td>\n",
       "      <td>NaN</td>\n",
       "      <td>NaN</td>\n",
       "      <td>900.0</td>\n",
       "      <td>...</td>\n",
       "      <td>NaN</td>\n",
       "      <td>NaN</td>\n",
       "      <td>NaN</td>\n",
       "      <td>1.0</td>\n",
       "      <td>301.0</td>\n",
       "      <td>http://votorantim-sao-paulo.properati.com.br/2...</td>\n",
       "      <td>Apartamento novíssimo no Ed. Alpha Club: - 2 d...</td>\n",
       "      <td>Apartamento para locação no Ed. Alpha Club</td>\n",
       "      <td>https://thumbs-cf.properati.com/1/8Lgn4c8Wj4eL...</td>\n",
       "      <td>NaN</td>\n",
       "    </tr>\n",
       "    <tr>\n",
       "      <th>97352</th>\n",
       "      <td>2016-11-01</td>\n",
       "      <td>rent</td>\n",
       "      <td>apartment</td>\n",
       "      <td>Copacabana</td>\n",
       "      <td>|Brasil|Rio de Janeiro|Rio de Janeiro|Copacabana|</td>\n",
       "      <td>NaN</td>\n",
       "      <td>POINT(-43.188034 -22.966091)</td>\n",
       "      <td>-22.966091</td>\n",
       "      <td>-43.188034</td>\n",
       "      <td>1800.0</td>\n",
       "      <td>...</td>\n",
       "      <td>17.020909</td>\n",
       "      <td>54.545455</td>\n",
       "      <td>NaN</td>\n",
       "      <td>1.0</td>\n",
       "      <td>650.0</td>\n",
       "      <td>http://copacabana.properati.com.br/2hk0j_aluga...</td>\n",
       "      <td>SULMAR - Excelente apartamento em frente ao ho...</td>\n",
       "      <td>Apartamento residencial para locação, Copacaba...</td>\n",
       "      <td>https://thumbs-cf.properati.com/0/zyBPyDLyQ7tW...</td>\n",
       "      <td>POINT(-43.188034 -22.966091)</td>\n",
       "    </tr>\n",
       "  </tbody>\n",
       "</table>\n",
       "<p>97353 rows × 25 columns</p>\n",
       "</div>"
      ],
      "text/plain": [
       "       created_on operation property_type       place_name  \\\n",
       "0      2013-04-25      rent     apartment     Praia Grande   \n",
       "1      2013-04-25      rent     apartment       Alphaville   \n",
       "2      2013-04-25      rent         house           Centro   \n",
       "3      2013-04-25      rent     apartment       Alphaville   \n",
       "4      2013-04-25      rent     apartment          Barueri   \n",
       "...           ...       ...           ...              ...   \n",
       "97348  2016-11-01      rent     apartment      Vila Adyana   \n",
       "97349  2016-11-01      rent     apartment  Jardim Aquárius   \n",
       "97350  2016-11-01      rent     apartment  Jardim Aquárius   \n",
       "97351  2016-11-01      rent     apartment       Votorantim   \n",
       "97352  2016-11-01      rent     apartment       Copacabana   \n",
       "\n",
       "                                 place_with_parent_names  geonames_id  \\\n",
       "0                        |Brasil|São Paulo|Praia Grande|          NaN   \n",
       "1                  |Brasil|São Paulo|Barueri|Alphaville|          NaN   \n",
       "2                      |Brasil|São Paulo|Jundiaí|Centro|          NaN   \n",
       "3                  |Brasil|São Paulo|Barueri|Alphaville|          NaN   \n",
       "4                             |Brasil|São Paulo|Barueri|          NaN   \n",
       "...                                                  ...          ...   \n",
       "97348  |Brasil|São Paulo|São José dos Campos|Vila Ady...          NaN   \n",
       "97349  |Brasil|São Paulo|São José dos Campos|Jardim A...          NaN   \n",
       "97350  |Brasil|São Paulo|São José dos Campos|Jardim A...          NaN   \n",
       "97351                      |Brasil|São Paulo|Votorantim|          NaN   \n",
       "97352  |Brasil|Rio de Janeiro|Rio de Janeiro|Copacabana|          NaN   \n",
       "\n",
       "                            lat_lon        lat        lon   price  ...  \\\n",
       "0                               NaN        NaN        NaN   900.0  ...   \n",
       "1                               NaN        NaN        NaN  3200.0  ...   \n",
       "2                               NaN        NaN        NaN  1800.0  ...   \n",
       "3                               NaN        NaN        NaN     NaN  ...   \n",
       "4                               NaN        NaN        NaN  1800.0  ...   \n",
       "...                             ...        ...        ...     ...  ...   \n",
       "97348                           NaN        NaN        NaN  1600.0  ...   \n",
       "97349                           NaN        NaN        NaN  2000.0  ...   \n",
       "97350                           NaN        NaN        NaN  1900.0  ...   \n",
       "97351                           NaN        NaN        NaN   900.0  ...   \n",
       "97352  POINT(-43.188034 -22.966091) -22.966091 -43.188034  1800.0  ...   \n",
       "\n",
       "      price_usd_per_m2  price_per_m2  floor  rooms  expenses  \\\n",
       "0                  NaN           NaN    NaN    1.0       NaN   \n",
       "1                  NaN           NaN    NaN    3.0       NaN   \n",
       "2                  NaN           NaN    NaN    2.0       NaN   \n",
       "3                  NaN           NaN    NaN    NaN       NaN   \n",
       "4                  NaN           NaN    NaN    NaN       NaN   \n",
       "...                ...           ...    ...    ...       ...   \n",
       "97348              NaN           NaN    NaN    NaN       NaN   \n",
       "97349              NaN           NaN    NaN    NaN       NaN   \n",
       "97350              NaN           NaN    NaN    NaN       NaN   \n",
       "97351              NaN           NaN    NaN    1.0     301.0   \n",
       "97352        17.020909     54.545455    NaN    1.0     650.0   \n",
       "\n",
       "                                           properati_url  \\\n",
       "0      http://praia-grande-sao-paulo.properati.com.br...   \n",
       "1      http://alphaville-barueri.properati.com.br/q8z...   \n",
       "2      http://centro-jundiai.properati.com.br/qe2_alu...   \n",
       "3      http://alphaville-barueri.properati.com.br/s9p...   \n",
       "4      http://barueri.properati.com.br/s9u_aluga-se_a...   \n",
       "...                                                  ...   \n",
       "97348  http://vila-adyana.properati.com.br/2hk0a_alug...   \n",
       "97349  http://jardim-aquarius.properati.com.br/2hk0b_...   \n",
       "97350  http://jardim-aquarius.properati.com.br/2hk0c_...   \n",
       "97351  http://votorantim-sao-paulo.properati.com.br/2...   \n",
       "97352  http://copacabana.properati.com.br/2hk0j_aluga...   \n",
       "\n",
       "                                             description  \\\n",
       "0      Otimo Imovel com o melhor valor da regiao, con...   \n",
       "1      Otimo Imovel com o melhor valor da regiao, con...   \n",
       "2      Otimo Imovel com o melhor valor da regiao, con...   \n",
       "3      Otimo Imovel com o melhor valor da regiao, con...   \n",
       "4      Otimo Imovel com o melhor valor da regiao, con...   \n",
       "...                                                  ...   \n",
       "97348  Apto em excelente localização com 3 dormitório...   \n",
       "97349  Apartamento novo com 2 dormitórios, sendo 1 su...   \n",
       "97350  Apto novo no Jd. Aquarius ampla varanda gourme...   \n",
       "97351  Apartamento novíssimo no Ed. Alpha Club: - 2 d...   \n",
       "97352  SULMAR - Excelente apartamento em frente ao ho...   \n",
       "\n",
       "                                                   title  \\\n",
       "0                            Apartamento Em Praia Grande   \n",
       "1                                 Apartamento Em Barueri   \n",
       "2                                        Casa Em Jundiai   \n",
       "3                                 Apartamento Em Barueri   \n",
       "4                                 Apartamento Em Barueri   \n",
       "...                                                  ...   \n",
       "97348                                   Apto Vila AdyAna   \n",
       "97349                      Apto Mobiliado Lindo Aquarius   \n",
       "97350                        Lindo Apto Aquarius 2 vagas   \n",
       "97351         Apartamento para locação no Ed. Alpha Club   \n",
       "97352  Apartamento residencial para locação, Copacaba...   \n",
       "\n",
       "                                         image_thumbnail  \\\n",
       "0                                                    NaN   \n",
       "1      https://thumbs-cf.properati.com/0/Wjq7toq-DpwK...   \n",
       "2                                                    NaN   \n",
       "3      https://thumbs-cf.properati.com/0/X7PtsZjj8Vqz...   \n",
       "4      https://thumbs-cf.properati.com/9/URn3U3gg-F6C...   \n",
       "...                                                  ...   \n",
       "97348  https://thumbs-cf.properati.com/9/fO9avKeVE4nA...   \n",
       "97349  https://thumbs-cf.properati.com/0/8vf7zRE3UU2K...   \n",
       "97350  https://thumbs-cf.properati.com/1/WGdWsXr0_NtM...   \n",
       "97351  https://thumbs-cf.properati.com/1/8Lgn4c8Wj4eL...   \n",
       "97352  https://thumbs-cf.properati.com/0/zyBPyDLyQ7tW...   \n",
       "\n",
       "                           location  \n",
       "0                               NaN  \n",
       "1                               NaN  \n",
       "2                               NaN  \n",
       "3                               NaN  \n",
       "4                               NaN  \n",
       "...                             ...  \n",
       "97348                           NaN  \n",
       "97349                           NaN  \n",
       "97350                           NaN  \n",
       "97351                           NaN  \n",
       "97352  POINT(-43.188034 -22.966091)  \n",
       "\n",
       "[97353 rows x 25 columns]"
      ]
     },
     "execution_count": 3,
     "metadata": {},
     "output_type": "execute_result"
    }
   ],
   "source": [
    "data"
   ]
  },
  {
   "cell_type": "code",
   "execution_count": 4,
   "metadata": {},
   "outputs": [
    {
     "data": {
      "text/html": [
       "<div>\n",
       "<style scoped>\n",
       "    .dataframe tbody tr th:only-of-type {\n",
       "        vertical-align: middle;\n",
       "    }\n",
       "\n",
       "    .dataframe tbody tr th {\n",
       "        vertical-align: top;\n",
       "    }\n",
       "\n",
       "    .dataframe thead th {\n",
       "        text-align: right;\n",
       "    }\n",
       "</style>\n",
       "<table border=\"1\" class=\"dataframe\">\n",
       "  <thead>\n",
       "    <tr style=\"text-align: right;\">\n",
       "      <th></th>\n",
       "      <th>geonames_id</th>\n",
       "      <th>lat</th>\n",
       "      <th>lon</th>\n",
       "      <th>price</th>\n",
       "      <th>price_aprox_local_currency</th>\n",
       "      <th>price_aprox_usd</th>\n",
       "      <th>surface_total_in_m2</th>\n",
       "      <th>surface_covered_in_m2</th>\n",
       "      <th>price_usd_per_m2</th>\n",
       "      <th>price_per_m2</th>\n",
       "      <th>floor</th>\n",
       "      <th>rooms</th>\n",
       "      <th>expenses</th>\n",
       "    </tr>\n",
       "  </thead>\n",
       "  <tbody>\n",
       "    <tr>\n",
       "      <th>count</th>\n",
       "      <td>3.0</td>\n",
       "      <td>46030.000000</td>\n",
       "      <td>46030.000000</td>\n",
       "      <td>92334.000000</td>\n",
       "      <td>92334.000000</td>\n",
       "      <td>92334.000000</td>\n",
       "      <td>15848.000000</td>\n",
       "      <td>75584.000000</td>\n",
       "      <td>70415.000000</td>\n",
       "      <td>70415.000000</td>\n",
       "      <td>5285.000000</td>\n",
       "      <td>58763.000000</td>\n",
       "      <td>3.177300e+04</td>\n",
       "    </tr>\n",
       "    <tr>\n",
       "      <th>mean</th>\n",
       "      <td>4164138.0</td>\n",
       "      <td>-22.861939</td>\n",
       "      <td>-46.707036</td>\n",
       "      <td>3935.703554</td>\n",
       "      <td>3928.693581</td>\n",
       "      <td>1228.255667</td>\n",
       "      <td>234.658695</td>\n",
       "      <td>152.538500</td>\n",
       "      <td>16.288983</td>\n",
       "      <td>52.128047</td>\n",
       "      <td>49.528855</td>\n",
       "      <td>2.158161</td>\n",
       "      <td>9.759202e+02</td>\n",
       "    </tr>\n",
       "    <tr>\n",
       "      <th>std</th>\n",
       "      <td>0.0</td>\n",
       "      <td>3.585125</td>\n",
       "      <td>2.672557</td>\n",
       "      <td>9325.828330</td>\n",
       "      <td>9197.214373</td>\n",
       "      <td>2875.387441</td>\n",
       "      <td>2444.656264</td>\n",
       "      <td>645.357711</td>\n",
       "      <td>212.996846</td>\n",
       "      <td>681.577383</td>\n",
       "      <td>3043.289924</td>\n",
       "      <td>2.192546</td>\n",
       "      <td>9.845683e+03</td>\n",
       "    </tr>\n",
       "    <tr>\n",
       "      <th>min</th>\n",
       "      <td>4164138.0</td>\n",
       "      <td>-33.692432</td>\n",
       "      <td>-97.497955</td>\n",
       "      <td>0.000000</td>\n",
       "      <td>0.000000</td>\n",
       "      <td>0.000000</td>\n",
       "      <td>0.000000</td>\n",
       "      <td>0.000000</td>\n",
       "      <td>0.028084</td>\n",
       "      <td>0.090000</td>\n",
       "      <td>1.000000</td>\n",
       "      <td>1.000000</td>\n",
       "      <td>1.000000e+00</td>\n",
       "    </tr>\n",
       "    <tr>\n",
       "      <th>25%</th>\n",
       "      <td>4164138.0</td>\n",
       "      <td>-23.619106</td>\n",
       "      <td>-47.024731</td>\n",
       "      <td>1140.000000</td>\n",
       "      <td>1127.850000</td>\n",
       "      <td>352.610000</td>\n",
       "      <td>0.000000</td>\n",
       "      <td>52.000000</td>\n",
       "      <td>5.200800</td>\n",
       "      <td>16.666667</td>\n",
       "      <td>3.000000</td>\n",
       "      <td>1.000000</td>\n",
       "      <td>3.500000e+02</td>\n",
       "    </tr>\n",
       "    <tr>\n",
       "      <th>50%</th>\n",
       "      <td>4164138.0</td>\n",
       "      <td>-23.562963</td>\n",
       "      <td>-46.671908</td>\n",
       "      <td>1900.000000</td>\n",
       "      <td>1918.200000</td>\n",
       "      <td>599.700000</td>\n",
       "      <td>79.000000</td>\n",
       "      <td>80.000000</td>\n",
       "      <td>7.801250</td>\n",
       "      <td>25.000000</td>\n",
       "      <td>6.000000</td>\n",
       "      <td>1.000000</td>\n",
       "      <td>5.560000e+02</td>\n",
       "    </tr>\n",
       "    <tr>\n",
       "      <th>75%</th>\n",
       "      <td>4164138.0</td>\n",
       "      <td>-23.030475</td>\n",
       "      <td>-46.567808</td>\n",
       "      <td>3600.000000</td>\n",
       "      <td>3593.240000</td>\n",
       "      <td>1123.380000</td>\n",
       "      <td>180.000000</td>\n",
       "      <td>150.000000</td>\n",
       "      <td>12.482000</td>\n",
       "      <td>40.000000</td>\n",
       "      <td>10.000000</td>\n",
       "      <td>2.000000</td>\n",
       "      <td>9.530000e+02</td>\n",
       "    </tr>\n",
       "    <tr>\n",
       "      <th>max</th>\n",
       "      <td>4164138.0</td>\n",
       "      <td>25.860630</td>\n",
       "      <td>-34.813914</td>\n",
       "      <td>470000.000000</td>\n",
       "      <td>353358.360000</td>\n",
       "      <td>110472.820000</td>\n",
       "      <td>200000.000000</td>\n",
       "      <td>75000.000000</td>\n",
       "      <td>28708.730000</td>\n",
       "      <td>92000.000000</td>\n",
       "      <td>221240.000000</td>\n",
       "      <td>40.000000</td>\n",
       "      <td>1.490000e+06</td>\n",
       "    </tr>\n",
       "  </tbody>\n",
       "</table>\n",
       "</div>"
      ],
      "text/plain": [
       "       geonames_id           lat           lon          price  \\\n",
       "count          3.0  46030.000000  46030.000000   92334.000000   \n",
       "mean     4164138.0    -22.861939    -46.707036    3935.703554   \n",
       "std            0.0      3.585125      2.672557    9325.828330   \n",
       "min      4164138.0    -33.692432    -97.497955       0.000000   \n",
       "25%      4164138.0    -23.619106    -47.024731    1140.000000   \n",
       "50%      4164138.0    -23.562963    -46.671908    1900.000000   \n",
       "75%      4164138.0    -23.030475    -46.567808    3600.000000   \n",
       "max      4164138.0     25.860630    -34.813914  470000.000000   \n",
       "\n",
       "       price_aprox_local_currency  price_aprox_usd  surface_total_in_m2  \\\n",
       "count                92334.000000     92334.000000         15848.000000   \n",
       "mean                  3928.693581      1228.255667           234.658695   \n",
       "std                   9197.214373      2875.387441          2444.656264   \n",
       "min                      0.000000         0.000000             0.000000   \n",
       "25%                   1127.850000       352.610000             0.000000   \n",
       "50%                   1918.200000       599.700000            79.000000   \n",
       "75%                   3593.240000      1123.380000           180.000000   \n",
       "max                 353358.360000    110472.820000        200000.000000   \n",
       "\n",
       "       surface_covered_in_m2  price_usd_per_m2  price_per_m2          floor  \\\n",
       "count           75584.000000      70415.000000  70415.000000    5285.000000   \n",
       "mean              152.538500         16.288983     52.128047      49.528855   \n",
       "std               645.357711        212.996846    681.577383    3043.289924   \n",
       "min                 0.000000          0.028084      0.090000       1.000000   \n",
       "25%                52.000000          5.200800     16.666667       3.000000   \n",
       "50%                80.000000          7.801250     25.000000       6.000000   \n",
       "75%               150.000000         12.482000     40.000000      10.000000   \n",
       "max             75000.000000      28708.730000  92000.000000  221240.000000   \n",
       "\n",
       "              rooms      expenses  \n",
       "count  58763.000000  3.177300e+04  \n",
       "mean       2.158161  9.759202e+02  \n",
       "std        2.192546  9.845683e+03  \n",
       "min        1.000000  1.000000e+00  \n",
       "25%        1.000000  3.500000e+02  \n",
       "50%        1.000000  5.560000e+02  \n",
       "75%        2.000000  9.530000e+02  \n",
       "max       40.000000  1.490000e+06  "
      ]
     },
     "execution_count": 4,
     "metadata": {},
     "output_type": "execute_result"
    }
   ],
   "source": [
    "data.describe()"
   ]
  },
  {
   "cell_type": "code",
   "execution_count": 5,
   "metadata": {},
   "outputs": [
    {
     "data": {
      "text/plain": [
       "created_on                        0\n",
       "operation                         0\n",
       "property_type                     0\n",
       "place_name                        0\n",
       "place_with_parent_names           0\n",
       "geonames_id                   97350\n",
       "lat_lon                       51323\n",
       "lat                           51323\n",
       "lon                           51323\n",
       "price                          5019\n",
       "currency                       5020\n",
       "price_aprox_local_currency     5019\n",
       "price_aprox_usd                5019\n",
       "surface_total_in_m2           81505\n",
       "surface_covered_in_m2         21769\n",
       "price_usd_per_m2              26938\n",
       "price_per_m2                  26938\n",
       "floor                         92068\n",
       "rooms                         38590\n",
       "expenses                      65580\n",
       "properati_url                     0\n",
       "description                       0\n",
       "title                             0\n",
       "image_thumbnail                5134\n",
       "location                      51323\n",
       "dtype: int64"
      ]
     },
     "execution_count": 5,
     "metadata": {},
     "output_type": "execute_result"
    }
   ],
   "source": [
    "data.isnull().sum()"
   ]
  },
  {
   "cell_type": "markdown",
   "metadata": {},
   "source": [
    "Looks like the latitude and longitude are mostly empty. We might have to not use that data and focus on neighborhoods if we use this dataset."
   ]
  },
  {
   "cell_type": "markdown",
   "metadata": {},
   "source": [
    "## São Paulo"
   ]
  },
  {
   "cell_type": "code",
   "execution_count": 6,
   "metadata": {},
   "outputs": [
    {
     "data": {
      "text/plain": [
       "|Brasil|São Paulo|Santo André|                       2322\n",
       "|Brasil|São Paulo|São Paulo|Moema|                   2214\n",
       "|Brasil|São Paulo|Praia Grande|                      1784\n",
       "|Brasil|São Paulo|São Paulo|                         1763\n",
       "|Brasil|São Paulo|São Paulo|Jardim Paulista|         1628\n",
       "                                                     ... \n",
       "|Brasil|São Paulo|Bauru|Jardim Dona Sarah|              1\n",
       "|Brasil|Paraná|Iguatu|                                  1\n",
       "|Brasil|São Paulo|Marília|Barbosa|                      1\n",
       "|Brasil|Paraíba|Santo André|Jardim Alzira Franco|       1\n",
       "|Brasil|São Paulo|Ribeirão Preto|Vila Amélia|           1\n",
       "Name: place_with_parent_names, Length: 3728, dtype: int64"
      ]
     },
     "execution_count": 6,
     "metadata": {},
     "output_type": "execute_result"
    }
   ],
   "source": [
    "data['place_with_parent_names'].value_counts()"
   ]
  },
  {
   "cell_type": "code",
   "execution_count": 7,
   "metadata": {},
   "outputs": [],
   "source": [
    "# code found at \n",
    "# https://stackoverflow.com/questions/44237170/how-to-search-a-partial-string-in-the-whole-dataframe-using-pandas\n",
    "\n",
    "mask = data.applymap(lambda x: 'São Paulo|São Paulo' in str(x))"
   ]
  },
  {
   "cell_type": "code",
   "execution_count": 8,
   "metadata": {},
   "outputs": [
    {
     "data": {
      "text/plain": [
       "(39191, 25)"
      ]
     },
     "execution_count": 8,
     "metadata": {},
     "output_type": "execute_result"
    }
   ],
   "source": [
    "data1 = data[mask.any(axis=1)]\n",
    "data1.shape"
   ]
  },
  {
   "cell_type": "markdown",
   "metadata": {},
   "source": [
    "Of the 97,353 listings in the dataset, 39,191 come from São Paulo, the city (it's also the name of a state, so it's important to specify)."
   ]
  },
  {
   "cell_type": "code",
   "execution_count": 9,
   "metadata": {},
   "outputs": [
    {
     "data": {
      "text/plain": [
       "Moema                  2214\n",
       "São Paulo              1763\n",
       "Jardim Paulista        1628\n",
       "Vila Nova Conceição    1289\n",
       "Itaim Bibi             1248\n",
       "                       ... \n",
       "Jardim Everest            1\n",
       "Vila Fernandes            1\n",
       "Vila Tiradentes           1\n",
       "Jardim Itápolis           1\n",
       "Vila Santos               1\n",
       "Name: place_name, Length: 538, dtype: int64"
      ]
     },
     "execution_count": 9,
     "metadata": {},
     "output_type": "execute_result"
    }
   ],
   "source": [
    "data1['place_name'].value_counts()"
   ]
  },
  {
   "cell_type": "markdown",
   "metadata": {},
   "source": [
    "Looks like we have 538 different places in São Paulo.\n",
    "\n",
    "According to [Wikipedia](#https://en.wikipedia.org/wiki/Subdivisions_of_S%C3%A3o_Paulo), there are 32 boroughs in the city, and a total of 96 districts between them. There may be a number of neighborhoods within each district. This may make mapping difficult."
   ]
  },
  {
   "cell_type": "code",
   "execution_count": 10,
   "metadata": {
    "scrolled": true
   },
   "outputs": [
    {
     "data": {
      "text/plain": [
       "apartment    26303\n",
       "store         6649\n",
       "house         6077\n",
       "PH             162\n",
       "Name: property_type, dtype: int64"
      ]
     },
     "execution_count": 10,
     "metadata": {},
     "output_type": "execute_result"
    }
   ],
   "source": [
    "data1['property_type'].value_counts()"
   ]
  },
  {
   "cell_type": "markdown",
   "metadata": {},
   "source": [
    "Most of the listings in Sao Paulo are apartments, with 26,303 listings. There's an almost equal number of stores and houses, with 6649 stores and 6077 houses."
   ]
  },
  {
   "cell_type": "code",
   "execution_count": 20,
   "metadata": {},
   "outputs": [
    {
     "data": {
      "text/plain": [
       "created_on                        0\n",
       "operation                         0\n",
       "property_type                     0\n",
       "place_name                        0\n",
       "place_with_parent_names           0\n",
       "geonames_id                   39191\n",
       "lat_lon                       17468\n",
       "lat                           17468\n",
       "lon                           17468\n",
       "price                          2878\n",
       "currency                       2879\n",
       "price_aprox_local_currency     2878\n",
       "price_aprox_usd                2878\n",
       "surface_total_in_m2           31658\n",
       "surface_covered_in_m2          5534\n",
       "price_usd_per_m2               8804\n",
       "price_per_m2                   8804\n",
       "floor                         36944\n",
       "rooms                         14108\n",
       "expenses                      23342\n",
       "properati_url                     0\n",
       "description                       0\n",
       "title                             0\n",
       "image_thumbnail                2782\n",
       "location                      17468\n",
       "dtype: int64"
      ]
     },
     "execution_count": 20,
     "metadata": {},
     "output_type": "execute_result"
    }
   ],
   "source": [
    "data1.isnull().sum()"
   ]
  },
  {
   "cell_type": "markdown",
   "metadata": {},
   "source": [
    "## Rio de Janiero"
   ]
  },
  {
   "cell_type": "code",
   "execution_count": 11,
   "metadata": {},
   "outputs": [],
   "source": [
    "mask_rio = mask = data.applymap(lambda x: 'Rio de Janeiro' in str(x))"
   ]
  },
  {
   "cell_type": "code",
   "execution_count": 12,
   "metadata": {},
   "outputs": [
    {
     "data": {
      "text/plain": [
       "(3603, 25)"
      ]
     },
     "execution_count": 12,
     "metadata": {},
     "output_type": "execute_result"
    }
   ],
   "source": [
    "data2 = data[mask_rio.any(axis=1)]\n",
    "data2.shape"
   ]
  },
  {
   "cell_type": "markdown",
   "metadata": {},
   "source": [
    "Only about 3,603 listings are from Rio de Janiero, which might not be enough data to work with."
   ]
  },
  {
   "cell_type": "markdown",
   "metadata": {},
   "source": [
    "## Importing Second Dataset"
   ]
  },
  {
   "cell_type": "code",
   "execution_count": 13,
   "metadata": {},
   "outputs": [],
   "source": [
    "# using data for Sāo Paulo from https://www.kaggle.com/argonalyst/sao-paulo-real-estate-sale-rent-april-2019\n",
    "\n",
    "df = pd.read_csv('./sao-paulo-properties-april-2019.csv')"
   ]
  },
  {
   "cell_type": "code",
   "execution_count": 14,
   "metadata": {
    "scrolled": true
   },
   "outputs": [
    {
     "data": {
      "text/plain": [
       "(13640, 16)"
      ]
     },
     "execution_count": 14,
     "metadata": {},
     "output_type": "execute_result"
    }
   ],
   "source": [
    "df.shape"
   ]
  },
  {
   "cell_type": "markdown",
   "metadata": {},
   "source": [
    "It's only 13,640 listings long, which isn't too many, comparitvely."
   ]
  },
  {
   "cell_type": "code",
   "execution_count": 15,
   "metadata": {},
   "outputs": [
    {
     "data": {
      "text/plain": [
       "Price                 int64\n",
       "Condo                 int64\n",
       "Size                  int64\n",
       "Rooms                 int64\n",
       "Toilets               int64\n",
       "Suites                int64\n",
       "Parking               int64\n",
       "Elevator              int64\n",
       "Furnished             int64\n",
       "Swimming Pool         int64\n",
       "New                   int64\n",
       "District             object\n",
       "Negotiation Type     object\n",
       "Property Type        object\n",
       "Latitude            float64\n",
       "Longitude           float64\n",
       "dtype: object"
      ]
     },
     "execution_count": 15,
     "metadata": {},
     "output_type": "execute_result"
    }
   ],
   "source": [
    "df.dtypes"
   ]
  },
  {
   "cell_type": "code",
   "execution_count": 16,
   "metadata": {},
   "outputs": [
    {
     "data": {
      "text/plain": [
       "Price               0\n",
       "Condo               0\n",
       "Size                0\n",
       "Rooms               0\n",
       "Toilets             0\n",
       "Suites              0\n",
       "Parking             0\n",
       "Elevator            0\n",
       "Furnished           0\n",
       "Swimming Pool       0\n",
       "New                 0\n",
       "District            0\n",
       "Negotiation Type    0\n",
       "Property Type       0\n",
       "Latitude            0\n",
       "Longitude           0\n",
       "dtype: int64"
      ]
     },
     "execution_count": 16,
     "metadata": {},
     "output_type": "execute_result"
    }
   ],
   "source": [
    "df.isnull().sum()"
   ]
  },
  {
   "cell_type": "markdown",
   "metadata": {},
   "source": [
    "Oh wow, there's no nulls in this data, we can actually use it for longitude and latitude."
   ]
  },
  {
   "cell_type": "code",
   "execution_count": 17,
   "metadata": {},
   "outputs": [
    {
     "data": {
      "text/plain": [
       "apartment    13640\n",
       "Name: Property Type, dtype: int64"
      ]
     },
     "execution_count": 17,
     "metadata": {},
     "output_type": "execute_result"
    }
   ],
   "source": [
    "df['Property Type'].value_counts()"
   ]
  },
  {
   "cell_type": "markdown",
   "metadata": {},
   "source": [
    "Okay, so it's all apartments."
   ]
  },
  {
   "cell_type": "code",
   "execution_count": 18,
   "metadata": {},
   "outputs": [
    {
     "data": {
      "text/plain": [
       "Moema              293\n",
       "Mooca              288\n",
       "Brás               255\n",
       "Bela Vista         250\n",
       "Brooklin           250\n",
       "                  ... \n",
       "Jardim São Luis     44\n",
       "São Rafael          44\n",
       "Grajaú              37\n",
       "São Domingos        35\n",
       "Perus               30\n",
       "Name: District, Length: 96, dtype: int64"
      ]
     },
     "execution_count": 18,
     "metadata": {},
     "output_type": "execute_result"
    }
   ],
   "source": [
    "# removing Sāo Paulo from the end of all the District values\n",
    "\n",
    "district_split = df[\"District\"].str.split(\"/\", n = 1, expand = True) \n",
    "df['District'] = district_split[0]\n",
    "df['District'].value_counts()"
   ]
  },
  {
   "cell_type": "markdown",
   "metadata": {},
   "source": [
    "Looks like this dataset has listings from all 36 wards. It doesn't go into detail about the specific neighborhoods, but paired with geolocation data, it may be enough to use."
   ]
  },
  {
   "cell_type": "code",
   "execution_count": 19,
   "metadata": {},
   "outputs": [
    {
     "data": {
      "text/plain": [
       "0    13427\n",
       "1      213\n",
       "Name: New, dtype: int64"
      ]
     },
     "execution_count": 19,
     "metadata": {},
     "output_type": "execute_result"
    }
   ],
   "source": [
    "df['New'].value_counts()"
   ]
  },
  {
   "cell_type": "markdown",
   "metadata": {},
   "source": [
    "This is interesting, but may not be useful. Only 213 of the listings in this dataset are new."
   ]
  },
  {
   "cell_type": "markdown",
   "metadata": {},
   "source": [
    "The one thing this dataset doesn't include is the date of the listing. I assume these were all available in April 2019, like the Kaggle page suggests. The project guidelines suggested getting years worth of data. Just one month likely isn't enough of a timeframe to be able to correctly find informal settlements. There could just be a lack of listings in particular areas that month."
   ]
  },
  {
   "cell_type": "code",
   "execution_count": null,
   "metadata": {},
   "outputs": [],
   "source": []
  }
 ],
 "metadata": {
  "kernelspec": {
   "display_name": "Python 3",
   "language": "python",
   "name": "python3"
  },
  "language_info": {
   "codemirror_mode": {
    "name": "ipython",
    "version": 3
   },
   "file_extension": ".py",
   "mimetype": "text/x-python",
   "name": "python",
   "nbconvert_exporter": "python",
   "pygments_lexer": "ipython3",
   "version": "3.7.5"
  }
 },
 "nbformat": 4,
 "nbformat_minor": 2
}
