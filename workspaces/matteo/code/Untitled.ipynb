{
 "cells": [
  {
   "cell_type": "code",
   "execution_count": 1,
   "metadata": {},
   "outputs": [],
   "source": [
    "import pandas as pd\n",
    "import numpy as np\n",
    "import matplotlib.pyplot as plt"
   ]
  },
  {
   "cell_type": "code",
   "execution_count": 2,
   "metadata": {},
   "outputs": [],
   "source": [
    "data = pd.read_csv('../datasets/properati_br_2016_11_01_properties_rent-Copy1.csv')"
   ]
  },
  {
   "cell_type": "code",
   "execution_count": 3,
   "metadata": {},
   "outputs": [
    {
     "data": {
      "text/html": [
       "<div>\n",
       "<style scoped>\n",
       "    .dataframe tbody tr th:only-of-type {\n",
       "        vertical-align: middle;\n",
       "    }\n",
       "\n",
       "    .dataframe tbody tr th {\n",
       "        vertical-align: top;\n",
       "    }\n",
       "\n",
       "    .dataframe thead th {\n",
       "        text-align: right;\n",
       "    }\n",
       "</style>\n",
       "<table border=\"1\" class=\"dataframe\">\n",
       "  <thead>\n",
       "    <tr style=\"text-align: right;\">\n",
       "      <th></th>\n",
       "      <th>created_on</th>\n",
       "      <th>operation</th>\n",
       "      <th>property_type</th>\n",
       "      <th>place_name</th>\n",
       "      <th>place_with_parent_names</th>\n",
       "      <th>geonames_id</th>\n",
       "      <th>lat_lon</th>\n",
       "      <th>lat</th>\n",
       "      <th>lon</th>\n",
       "      <th>price</th>\n",
       "      <th>...</th>\n",
       "      <th>price_usd_per_m2</th>\n",
       "      <th>price_per_m2</th>\n",
       "      <th>floor</th>\n",
       "      <th>rooms</th>\n",
       "      <th>expenses</th>\n",
       "      <th>properati_url</th>\n",
       "      <th>description</th>\n",
       "      <th>title</th>\n",
       "      <th>image_thumbnail</th>\n",
       "      <th>location</th>\n",
       "    </tr>\n",
       "  </thead>\n",
       "  <tbody>\n",
       "    <tr>\n",
       "      <th>0</th>\n",
       "      <td>2013-04-25</td>\n",
       "      <td>rent</td>\n",
       "      <td>apartment</td>\n",
       "      <td>Praia Grande</td>\n",
       "      <td>|Brasil|São Paulo|Praia Grande|</td>\n",
       "      <td>NaN</td>\n",
       "      <td>NaN</td>\n",
       "      <td>NaN</td>\n",
       "      <td>NaN</td>\n",
       "      <td>900.0</td>\n",
       "      <td>...</td>\n",
       "      <td>NaN</td>\n",
       "      <td>NaN</td>\n",
       "      <td>NaN</td>\n",
       "      <td>1.0</td>\n",
       "      <td>NaN</td>\n",
       "      <td>http://praia-grande-sao-paulo.properati.com.br...</td>\n",
       "      <td>Otimo Imovel com o melhor valor da regiao, con...</td>\n",
       "      <td>Apartamento Em Praia Grande</td>\n",
       "      <td>NaN</td>\n",
       "      <td>NaN</td>\n",
       "    </tr>\n",
       "  </tbody>\n",
       "</table>\n",
       "<p>1 rows × 25 columns</p>\n",
       "</div>"
      ],
      "text/plain": [
       "   created_on operation property_type    place_name  \\\n",
       "0  2013-04-25      rent     apartment  Praia Grande   \n",
       "\n",
       "           place_with_parent_names  geonames_id lat_lon  lat  lon  price  ...  \\\n",
       "0  |Brasil|São Paulo|Praia Grande|          NaN     NaN  NaN  NaN  900.0  ...   \n",
       "\n",
       "  price_usd_per_m2  price_per_m2  floor  rooms  expenses  \\\n",
       "0              NaN           NaN    NaN    1.0       NaN   \n",
       "\n",
       "                                       properati_url  \\\n",
       "0  http://praia-grande-sao-paulo.properati.com.br...   \n",
       "\n",
       "                                         description  \\\n",
       "0  Otimo Imovel com o melhor valor da regiao, con...   \n",
       "\n",
       "                         title  image_thumbnail  location  \n",
       "0  Apartamento Em Praia Grande              NaN       NaN  \n",
       "\n",
       "[1 rows x 25 columns]"
      ]
     },
     "execution_count": 3,
     "metadata": {},
     "output_type": "execute_result"
    }
   ],
   "source": [
    "data.head(1)"
   ]
  },
  {
   "cell_type": "code",
   "execution_count": 4,
   "metadata": {},
   "outputs": [],
   "source": [
    "data_sp = pd.read_csv('../datasets/sao-paulo-properties-april-2019-Copy1.csv')"
   ]
  },
  {
   "cell_type": "code",
   "execution_count": 5,
   "metadata": {},
   "outputs": [
    {
     "data": {
      "text/html": [
       "<div>\n",
       "<style scoped>\n",
       "    .dataframe tbody tr th:only-of-type {\n",
       "        vertical-align: middle;\n",
       "    }\n",
       "\n",
       "    .dataframe tbody tr th {\n",
       "        vertical-align: top;\n",
       "    }\n",
       "\n",
       "    .dataframe thead th {\n",
       "        text-align: right;\n",
       "    }\n",
       "</style>\n",
       "<table border=\"1\" class=\"dataframe\">\n",
       "  <thead>\n",
       "    <tr style=\"text-align: right;\">\n",
       "      <th></th>\n",
       "      <th>Price</th>\n",
       "      <th>Condo</th>\n",
       "      <th>Size</th>\n",
       "      <th>Rooms</th>\n",
       "      <th>Toilets</th>\n",
       "      <th>Suites</th>\n",
       "      <th>Parking</th>\n",
       "      <th>Elevator</th>\n",
       "      <th>Furnished</th>\n",
       "      <th>Swimming Pool</th>\n",
       "      <th>New</th>\n",
       "      <th>District</th>\n",
       "      <th>Negotiation Type</th>\n",
       "      <th>Property Type</th>\n",
       "      <th>Latitude</th>\n",
       "      <th>Longitude</th>\n",
       "    </tr>\n",
       "  </thead>\n",
       "  <tbody>\n",
       "    <tr>\n",
       "      <th>0</th>\n",
       "      <td>930</td>\n",
       "      <td>220</td>\n",
       "      <td>47</td>\n",
       "      <td>2</td>\n",
       "      <td>2</td>\n",
       "      <td>1</td>\n",
       "      <td>1</td>\n",
       "      <td>0</td>\n",
       "      <td>0</td>\n",
       "      <td>0</td>\n",
       "      <td>0</td>\n",
       "      <td>Artur Alvim/São Paulo</td>\n",
       "      <td>rent</td>\n",
       "      <td>apartment</td>\n",
       "      <td>-23.543138</td>\n",
       "      <td>-46.479486</td>\n",
       "    </tr>\n",
       "  </tbody>\n",
       "</table>\n",
       "</div>"
      ],
      "text/plain": [
       "   Price  Condo  Size  Rooms  Toilets  Suites  Parking  Elevator  Furnished  \\\n",
       "0    930    220    47      2        2       1        1         0          0   \n",
       "\n",
       "   Swimming Pool  New               District Negotiation Type Property Type  \\\n",
       "0              0    0  Artur Alvim/São Paulo             rent     apartment   \n",
       "\n",
       "    Latitude  Longitude  \n",
       "0 -23.543138 -46.479486  "
      ]
     },
     "execution_count": 5,
     "metadata": {},
     "output_type": "execute_result"
    }
   ],
   "source": [
    "data_sp.head(1)"
   ]
  },
  {
   "cell_type": "code",
   "execution_count": 6,
   "metadata": {},
   "outputs": [
    {
     "data": {
      "text/plain": [
       "Index(['created_on', 'operation', 'property_type', 'place_name',\n",
       "       'place_with_parent_names', 'geonames_id', 'lat_lon', 'lat', 'lon',\n",
       "       'price', 'currency', 'price_aprox_local_currency', 'price_aprox_usd',\n",
       "       'surface_total_in_m2', 'surface_covered_in_m2', 'price_usd_per_m2',\n",
       "       'price_per_m2', 'floor', 'rooms', 'expenses', 'properati_url',\n",
       "       'description', 'title', 'image_thumbnail', 'location'],\n",
       "      dtype='object')"
      ]
     },
     "execution_count": 6,
     "metadata": {},
     "output_type": "execute_result"
    }
   ],
   "source": [
    "data.columns"
   ]
  },
  {
   "cell_type": "code",
   "execution_count": 7,
   "metadata": {},
   "outputs": [
    {
     "data": {
      "text/plain": [
       "Index(['Price', 'Condo', 'Size', 'Rooms', 'Toilets', 'Suites', 'Parking',\n",
       "       'Elevator', 'Furnished', 'Swimming Pool', 'New', 'District',\n",
       "       'Negotiation Type', 'Property Type', 'Latitude', 'Longitude'],\n",
       "      dtype='object')"
      ]
     },
     "execution_count": 7,
     "metadata": {},
     "output_type": "execute_result"
    }
   ],
   "source": [
    "data_sp.columns"
   ]
  },
  {
   "cell_type": "code",
   "execution_count": 8,
   "metadata": {},
   "outputs": [
    {
     "data": {
      "text/plain": [
       "rent    7228\n",
       "sale    6412\n",
       "Name: Negotiation Type, dtype: int64"
      ]
     },
     "execution_count": 8,
     "metadata": {},
     "output_type": "execute_result"
    }
   ],
   "source": [
    "data_sp['Negotiation Type'].value_counts()#normalize = True#"
   ]
  },
  {
   "cell_type": "code",
   "execution_count": 9,
   "metadata": {},
   "outputs": [],
   "source": [
    "data_sp.rename(inplace = True, columns= {\n",
    "                                    'Negotiation Type' : 'operation',\n",
    "                                    'Property Type' : 'property_type',\n",
    "                                    'Latitude' : 'lat',\n",
    "                                    'Longitude' : 'lon',\n",
    "                                    'Price' : 'price'\n",
    "});"
   ]
  },
  {
   "cell_type": "code",
   "execution_count": 10,
   "metadata": {},
   "outputs": [],
   "source": [
    "data_sp_concat = data_sp[['operation', 'property_type', 'lat', 'lon', 'price']]"
   ]
  },
  {
   "cell_type": "code",
   "execution_count": 11,
   "metadata": {
    "scrolled": true
   },
   "outputs": [
    {
     "name": "stderr",
     "output_type": "stream",
     "text": [
      "/Users/matteocangiano/opt/anaconda3/lib/python3.7/site-packages/ipykernel_launcher.py:8: SettingWithCopyWarning: \n",
      "A value is trying to be set on a copy of a slice from a DataFrame.\n",
      "Try using .loc[row_indexer,col_indexer] = value instead\n",
      "\n",
      "See the caveats in the documentation: https://pandas.pydata.org/pandas-docs/stable/user_guide/indexing.html#returning-a-view-versus-a-copy\n",
      "  \n"
     ]
    }
   ],
   "source": [
    "columns_to_add = [\n",
    "    'place_with_parent_names'\n",
    "]\n",
    "\n",
    "\n",
    "\n",
    "for i in columns_to_add:\n",
    "    data_sp_concat[i] = 'Sao Paulo|Sao Paulo'"
   ]
  },
  {
   "cell_type": "code",
   "execution_count": 12,
   "metadata": {},
   "outputs": [
    {
     "name": "stderr",
     "output_type": "stream",
     "text": [
      "/Users/matteocangiano/opt/anaconda3/lib/python3.7/site-packages/ipykernel_launcher.py:1: SettingWithCopyWarning: \n",
      "A value is trying to be set on a copy of a slice from a DataFrame.\n",
      "Try using .loc[row_indexer,col_indexer] = value instead\n",
      "\n",
      "See the caveats in the documentation: https://pandas.pydata.org/pandas-docs/stable/user_guide/indexing.html#returning-a-view-versus-a-copy\n",
      "  \"\"\"Entry point for launching an IPython kernel.\n"
     ]
    }
   ],
   "source": [
    "data_sp_concat['lat_lon'] = 0"
   ]
  },
  {
   "cell_type": "code",
   "execution_count": 13,
   "metadata": {
    "scrolled": true
   },
   "outputs": [
    {
     "name": "stderr",
     "output_type": "stream",
     "text": [
      "/Users/matteocangiano/opt/anaconda3/lib/python3.7/site-packages/ipykernel_launcher.py:3: SettingWithCopyWarning: \n",
      "A value is trying to be set on a copy of a slice from a DataFrame\n",
      "\n",
      "See the caveats in the documentation: https://pandas.pydata.org/pandas-docs/stable/user_guide/indexing.html#returning-a-view-versus-a-copy\n",
      "  This is separate from the ipykernel package so we can avoid doing imports until\n",
      "/Users/matteocangiano/opt/anaconda3/lib/python3.7/site-packages/pandas/core/indexing.py:670: SettingWithCopyWarning: \n",
      "A value is trying to be set on a copy of a slice from a DataFrame\n",
      "\n",
      "See the caveats in the documentation: https://pandas.pydata.org/pandas-docs/stable/user_guide/indexing.html#returning-a-view-versus-a-copy\n",
      "  self._setitem_with_indexer(indexer, value)\n",
      "/Users/matteocangiano/opt/anaconda3/lib/python3.7/site-packages/pandas/core/series.py:1024: SettingWithCopyWarning: \n",
      "A value is trying to be set on a copy of a slice from a DataFrame\n",
      "\n",
      "See the caveats in the documentation: https://pandas.pydata.org/pandas-docs/stable/user_guide/indexing.html#returning-a-view-versus-a-copy\n",
      "  self.loc[key] = value\n",
      "/Users/matteocangiano/opt/anaconda3/lib/python3.7/site-packages/IPython/core/interactiveshell.py:3331: SettingWithCopyWarning: \n",
      "A value is trying to be set on a copy of a slice from a DataFrame\n",
      "\n",
      "See the caveats in the documentation: https://pandas.pydata.org/pandas-docs/stable/user_guide/indexing.html#returning-a-view-versus-a-copy\n",
      "  exec(code_obj, self.user_global_ns, self.user_ns)\n"
     ]
    }
   ],
   "source": [
    "for i in range(len(data_sp_concat['lat'])):\n",
    "\n",
    "        data_sp_concat['lat_lon'][i] = f'POINT({round(data_sp_concat[\"lon\"][i], 6)} {round(data_sp_concat[\"lat\"][i], 6)})'\n",
    "  "
   ]
  },
  {
   "cell_type": "code",
   "execution_count": 14,
   "metadata": {},
   "outputs": [],
   "source": [
    "data_brazil_concat = data[['operation', 'property_type', 'lat', 'lon', 'price', 'place_with_parent_names', 'lat_lon' ]]"
   ]
  },
  {
   "cell_type": "markdown",
   "metadata": {},
   "source": [
    "### Concat Ready DataFrames:"
   ]
  },
  {
   "cell_type": "code",
   "execution_count": 15,
   "metadata": {
    "scrolled": false
   },
   "outputs": [],
   "source": [
    "data_sp_concat = data_sp_concat.drop(columns = ['place_with_parent_names', 'lat_lon'])"
   ]
  },
  {
   "cell_type": "code",
   "execution_count": 16,
   "metadata": {},
   "outputs": [],
   "source": [
    "data_brazil_concat = data_brazil_concat.drop(columns = ['place_with_parent_names', 'lat_lon'])"
   ]
  },
  {
   "cell_type": "code",
   "execution_count": 17,
   "metadata": {},
   "outputs": [],
   "source": [
    "data_test = data_brazil_concat[data_brazil_concat['lat'].isnull() == 0]"
   ]
  },
  {
   "cell_type": "code",
   "execution_count": 18,
   "metadata": {},
   "outputs": [],
   "source": [
    "data_brazil_concat= data_test[data_test['price'].isnull() == 0]"
   ]
  },
  {
   "cell_type": "code",
   "execution_count": 19,
   "metadata": {},
   "outputs": [],
   "source": [
    "data_brazil_concat.to_csv('data_brazil_concat.csv', index = False)"
   ]
  },
  {
   "cell_type": "code",
   "execution_count": 20,
   "metadata": {},
   "outputs": [
    {
     "data": {
      "text/plain": [
       "(46030, 5)"
      ]
     },
     "execution_count": 20,
     "metadata": {},
     "output_type": "execute_result"
    }
   ],
   "source": [
    "data_test.shape"
   ]
  },
  {
   "cell_type": "code",
   "execution_count": 21,
   "metadata": {},
   "outputs": [],
   "source": [
    "data_sp_concat.to_csv('data_sp_concat.csv', index = False)"
   ]
  },
  {
   "cell_type": "code",
   "execution_count": 22,
   "metadata": {},
   "outputs": [
    {
     "data": {
      "text/html": [
       "<div>\n",
       "<style scoped>\n",
       "    .dataframe tbody tr th:only-of-type {\n",
       "        vertical-align: middle;\n",
       "    }\n",
       "\n",
       "    .dataframe tbody tr th {\n",
       "        vertical-align: top;\n",
       "    }\n",
       "\n",
       "    .dataframe thead th {\n",
       "        text-align: right;\n",
       "    }\n",
       "</style>\n",
       "<table border=\"1\" class=\"dataframe\">\n",
       "  <thead>\n",
       "    <tr style=\"text-align: right;\">\n",
       "      <th></th>\n",
       "      <th>operation</th>\n",
       "      <th>property_type</th>\n",
       "      <th>lat</th>\n",
       "      <th>lon</th>\n",
       "      <th>price</th>\n",
       "    </tr>\n",
       "  </thead>\n",
       "  <tbody>\n",
       "    <tr>\n",
       "      <th>0</th>\n",
       "      <td>rent</td>\n",
       "      <td>apartment</td>\n",
       "      <td>-23.543138</td>\n",
       "      <td>-46.479486</td>\n",
       "      <td>930</td>\n",
       "    </tr>\n",
       "    <tr>\n",
       "      <th>1</th>\n",
       "      <td>rent</td>\n",
       "      <td>apartment</td>\n",
       "      <td>-23.550239</td>\n",
       "      <td>-46.480718</td>\n",
       "      <td>1000</td>\n",
       "    </tr>\n",
       "    <tr>\n",
       "      <th>2</th>\n",
       "      <td>rent</td>\n",
       "      <td>apartment</td>\n",
       "      <td>-23.542818</td>\n",
       "      <td>-46.485665</td>\n",
       "      <td>1000</td>\n",
       "    </tr>\n",
       "    <tr>\n",
       "      <th>3</th>\n",
       "      <td>rent</td>\n",
       "      <td>apartment</td>\n",
       "      <td>-23.547171</td>\n",
       "      <td>-46.483014</td>\n",
       "      <td>1000</td>\n",
       "    </tr>\n",
       "    <tr>\n",
       "      <th>4</th>\n",
       "      <td>rent</td>\n",
       "      <td>apartment</td>\n",
       "      <td>-23.525025</td>\n",
       "      <td>-46.482436</td>\n",
       "      <td>1300</td>\n",
       "    </tr>\n",
       "    <tr>\n",
       "      <th>...</th>\n",
       "      <td>...</td>\n",
       "      <td>...</td>\n",
       "      <td>...</td>\n",
       "      <td>...</td>\n",
       "      <td>...</td>\n",
       "    </tr>\n",
       "    <tr>\n",
       "      <th>13635</th>\n",
       "      <td>sale</td>\n",
       "      <td>apartment</td>\n",
       "      <td>-23.653004</td>\n",
       "      <td>-46.635463</td>\n",
       "      <td>265000</td>\n",
       "    </tr>\n",
       "    <tr>\n",
       "      <th>13636</th>\n",
       "      <td>sale</td>\n",
       "      <td>apartment</td>\n",
       "      <td>-23.648930</td>\n",
       "      <td>-46.641982</td>\n",
       "      <td>545000</td>\n",
       "    </tr>\n",
       "    <tr>\n",
       "      <th>13637</th>\n",
       "      <td>sale</td>\n",
       "      <td>apartment</td>\n",
       "      <td>-23.649693</td>\n",
       "      <td>-46.649783</td>\n",
       "      <td>515000</td>\n",
       "    </tr>\n",
       "    <tr>\n",
       "      <th>13638</th>\n",
       "      <td>sale</td>\n",
       "      <td>apartment</td>\n",
       "      <td>-23.652060</td>\n",
       "      <td>-46.637046</td>\n",
       "      <td>345000</td>\n",
       "    </tr>\n",
       "    <tr>\n",
       "      <th>13639</th>\n",
       "      <td>sale</td>\n",
       "      <td>apartment</td>\n",
       "      <td>-23.613391</td>\n",
       "      <td>-46.523109</td>\n",
       "      <td>161987</td>\n",
       "    </tr>\n",
       "  </tbody>\n",
       "</table>\n",
       "<p>13640 rows × 5 columns</p>\n",
       "</div>"
      ],
      "text/plain": [
       "      operation property_type        lat        lon   price\n",
       "0          rent     apartment -23.543138 -46.479486     930\n",
       "1          rent     apartment -23.550239 -46.480718    1000\n",
       "2          rent     apartment -23.542818 -46.485665    1000\n",
       "3          rent     apartment -23.547171 -46.483014    1000\n",
       "4          rent     apartment -23.525025 -46.482436    1300\n",
       "...         ...           ...        ...        ...     ...\n",
       "13635      sale     apartment -23.653004 -46.635463  265000\n",
       "13636      sale     apartment -23.648930 -46.641982  545000\n",
       "13637      sale     apartment -23.649693 -46.649783  515000\n",
       "13638      sale     apartment -23.652060 -46.637046  345000\n",
       "13639      sale     apartment -23.613391 -46.523109  161987\n",
       "\n",
       "[13640 rows x 5 columns]"
      ]
     },
     "execution_count": 22,
     "metadata": {},
     "output_type": "execute_result"
    }
   ],
   "source": [
    "data_sp_concat"
   ]
  },
  {
   "cell_type": "code",
   "execution_count": null,
   "metadata": {},
   "outputs": [],
   "source": []
  },
  {
   "cell_type": "code",
   "execution_count": null,
   "metadata": {},
   "outputs": [],
   "source": []
  },
  {
   "cell_type": "code",
   "execution_count": null,
   "metadata": {},
   "outputs": [],
   "source": []
  },
  {
   "cell_type": "code",
   "execution_count": 23,
   "metadata": {},
   "outputs": [
    {
     "name": "stdout",
     "output_type": "stream",
     "text": [
      "Max Price (sale): 470000.0\n",
      "Min Price (rent): 170.0\n"
     ]
    }
   ],
   "source": [
    "print(f'Max Price (sale): {max(data[(data[\"price\"].isnull() == 0) & (data[\"price\"] != 0)][\"price\"])}')\n",
    "print(f'Min Price (rent): {min(data[(data[\"price\"].isnull() == 0) & (data[\"price\"] != 0)][\"price\"])}')"
   ]
  },
  {
   "cell_type": "code",
   "execution_count": 24,
   "metadata": {},
   "outputs": [
    {
     "data": {
      "text/plain": [
       "(array([4.266e+04, 2.760e+02, 4.300e+01, 1.800e+01, 1.400e+01, 1.100e+01,\n",
       "        3.000e+00, 7.000e+00, 7.000e+00, 2.000e+00]),\n",
       " array([1.80000e+02, 3.51620e+04, 7.01440e+04, 1.05126e+05, 1.40108e+05,\n",
       "        1.75090e+05, 2.10072e+05, 2.45054e+05, 2.80036e+05, 3.15018e+05,\n",
       "        3.50000e+05]),\n",
       " <a list of 10 Patch objects>)"
      ]
     },
     "execution_count": 24,
     "metadata": {},
     "output_type": "execute_result"
    },
    {
     "data": {
      "image/png": "[encoded data removed]",
      "text/plain": [
       "<Figure size 432x288 with 1 Axes>"
      ]
     },
     "metadata": {
      "needs_background": "light"
     },
     "output_type": "display_data"
    }
   ],
   "source": [
    "plt.hist(data_brazil_concat[(data_brazil_concat['price'].isnull()) == 0 & (data_brazil_concat[\"price\"] != 0)][\"price\"])"
   ]
  },
  {
   "cell_type": "code",
   "execution_count": 25,
   "metadata": {},
   "outputs": [
    {
     "data": {
      "text/plain": [
       "<matplotlib.axes._subplots.AxesSubplot at 0x10dd79e10>"
      ]
     },
     "execution_count": 25,
     "metadata": {},
     "output_type": "execute_result"
    },
    {
     "data": {
      "image/png": "[encoded data removed]",
      "text/plain": [
       "<Figure size 432x288 with 1 Axes>"
      ]
     },
     "metadata": {
      "needs_background": "light"
     },
     "output_type": "display_data"
    }
   ],
   "source": [
    "\n",
    "np.log(data_brazil_concat[(data_brazil_concat['price'].isnull() == 0) & (data_brazil_concat[\"price\"] != 0.0)][\"price\"]).hist()"
   ]
  },
  {
   "cell_type": "code",
   "execution_count": 26,
   "metadata": {},
   "outputs": [
    {
     "data": {
      "text/plain": [
       "<matplotlib.axes._subplots.AxesSubplot at 0x10e5da190>"
      ]
     },
     "execution_count": 26,
     "metadata": {},
     "output_type": "execute_result"
    },
    {
     "data": {
      "image/png": "[encoded data removed]",
      "text/plain": [
       "<Figure size 432x288 with 1 Axes>"
      ]
     },
     "metadata": {
      "needs_background": "light"
     },
     "output_type": "display_data"
    }
   ],
   "source": [
    "data_brazil_concat[(data_brazil_concat['price'].isnull() == 0) & (data_brazil_concat[\"price\"] != 0.0)][\"price\"].hist()"
   ]
  },
  {
   "cell_type": "code",
   "execution_count": 27,
   "metadata": {},
   "outputs": [
    {
     "data": {
      "text/plain": [
       "(array([1.282e+04, 5.960e+02, 1.160e+02, 5.200e+01, 1.900e+01, 1.600e+01,\n",
       "        7.000e+00, 1.000e+01, 2.000e+00, 2.000e+00]),\n",
       " array([4.800000e+02, 1.000432e+06, 2.000384e+06, 3.000336e+06,\n",
       "        4.000288e+06, 5.000240e+06, 6.000192e+06, 7.000144e+06,\n",
       "        8.000096e+06, 9.000048e+06, 1.000000e+07]),\n",
       " <a list of 10 Patch objects>)"
      ]
     },
     "execution_count": 27,
     "metadata": {},
     "output_type": "execute_result"
    },
    {
     "data": {
      "image/png": "[encoded data removed]",
      "text/plain": [
       "<Figure size 432x288 with 1 Axes>"
      ]
     },
     "metadata": {
      "needs_background": "light"
     },
     "output_type": "display_data"
    }
   ],
   "source": [
    "plt.hist(data_sp['price'])"
   ]
  },
  {
   "cell_type": "code",
   "execution_count": 28,
   "metadata": {},
   "outputs": [
    {
     "data": {
      "text/plain": [
       "1500.0     3885\n",
       "1200.0     3678\n",
       "1000.0     3499\n",
       "2000.0     3416\n",
       "2500.0     3300\n",
       "           ... \n",
       "8950.0        1\n",
       "7392.0        1\n",
       "60387.0       1\n",
       "5501.0        1\n",
       "20475.0       1\n",
       "Name: price, Length: 2051, dtype: int64"
      ]
     },
     "execution_count": 28,
     "metadata": {},
     "output_type": "execute_result"
    }
   ],
   "source": [
    "data['price'].value_counts()"
   ]
  },
  {
   "cell_type": "code",
   "execution_count": 30,
   "metadata": {},
   "outputs": [
    {
     "data": {
      "text/html": [
       "<div>\n",
       "<style scoped>\n",
       "    .dataframe tbody tr th:only-of-type {\n",
       "        vertical-align: middle;\n",
       "    }\n",
       "\n",
       "    .dataframe tbody tr th {\n",
       "        vertical-align: top;\n",
       "    }\n",
       "\n",
       "    .dataframe thead th {\n",
       "        text-align: right;\n",
       "    }\n",
       "</style>\n",
       "<table border=\"1\" class=\"dataframe\">\n",
       "  <thead>\n",
       "    <tr style=\"text-align: right;\">\n",
       "      <th></th>\n",
       "      <th>price</th>\n",
       "      <th>Condo</th>\n",
       "      <th>Size</th>\n",
       "      <th>Rooms</th>\n",
       "      <th>Toilets</th>\n",
       "      <th>Suites</th>\n",
       "      <th>Parking</th>\n",
       "      <th>Elevator</th>\n",
       "      <th>Furnished</th>\n",
       "      <th>Swimming Pool</th>\n",
       "      <th>New</th>\n",
       "      <th>District</th>\n",
       "      <th>operation</th>\n",
       "      <th>property_type</th>\n",
       "      <th>lat</th>\n",
       "      <th>lon</th>\n",
       "    </tr>\n",
       "  </thead>\n",
       "  <tbody>\n",
       "    <tr>\n",
       "      <th>5006</th>\n",
       "      <td>8000000</td>\n",
       "      <td>0</td>\n",
       "      <td>278</td>\n",
       "      <td>4</td>\n",
       "      <td>5</td>\n",
       "      <td>3</td>\n",
       "      <td>5</td>\n",
       "      <td>1</td>\n",
       "      <td>0</td>\n",
       "      <td>1</td>\n",
       "      <td>0</td>\n",
       "      <td>Vila Olimpia/São Paulo</td>\n",
       "      <td>sale</td>\n",
       "      <td>apartment</td>\n",
       "      <td>-23.596469</td>\n",
       "      <td>-46.680587</td>\n",
       "    </tr>\n",
       "    <tr>\n",
       "      <th>7152</th>\n",
       "      <td>8000000</td>\n",
       "      <td>0</td>\n",
       "      <td>269</td>\n",
       "      <td>4</td>\n",
       "      <td>5</td>\n",
       "      <td>4</td>\n",
       "      <td>4</td>\n",
       "      <td>1</td>\n",
       "      <td>0</td>\n",
       "      <td>1</td>\n",
       "      <td>0</td>\n",
       "      <td>Itaim Bibi/São Paulo</td>\n",
       "      <td>sale</td>\n",
       "      <td>apartment</td>\n",
       "      <td>-23.588294</td>\n",
       "      <td>-46.680764</td>\n",
       "    </tr>\n",
       "  </tbody>\n",
       "</table>\n",
       "</div>"
      ],
      "text/plain": [
       "        price  Condo  Size  Rooms  Toilets  Suites  Parking  Elevator  \\\n",
       "5006  8000000      0   278      4        5       3        5         1   \n",
       "7152  8000000      0   269      4        5       4        4         1   \n",
       "\n",
       "      Furnished  Swimming Pool  New                District operation  \\\n",
       "5006          0              1    0  Vila Olimpia/São Paulo      sale   \n",
       "7152          0              1    0    Itaim Bibi/São Paulo      sale   \n",
       "\n",
       "     property_type        lat        lon  \n",
       "5006     apartment -23.596469 -46.680587  \n",
       "7152     apartment -23.588294 -46.680764  "
      ]
     },
     "execution_count": 30,
     "metadata": {},
     "output_type": "execute_result"
    }
   ],
   "source": [
    "data_sp[data_sp['price'] == 8_000_000]"
   ]
  },
  {
   "cell_type": "code",
   "execution_count": null,
   "metadata": {},
   "outputs": [],
   "source": [
    "data.head()"
   ]
  },
  {
   "cell_type": "markdown",
   "metadata": {},
   "source": [
    "## Investigating Price Column"
   ]
  },
  {
   "cell_type": "code",
   "execution_count": 39,
   "metadata": {},
   "outputs": [
    {
     "data": {
      "text/html": [
       "<div>\n",
       "<style scoped>\n",
       "    .dataframe tbody tr th:only-of-type {\n",
       "        vertical-align: middle;\n",
       "    }\n",
       "\n",
       "    .dataframe tbody tr th {\n",
       "        vertical-align: top;\n",
       "    }\n",
       "\n",
       "    .dataframe thead th {\n",
       "        text-align: right;\n",
       "    }\n",
       "</style>\n",
       "<table border=\"1\" class=\"dataframe\">\n",
       "  <thead>\n",
       "    <tr style=\"text-align: right;\">\n",
       "      <th></th>\n",
       "      <th>operation</th>\n",
       "      <th>property_type</th>\n",
       "      <th>lat</th>\n",
       "      <th>lon</th>\n",
       "      <th>price</th>\n",
       "    </tr>\n",
       "  </thead>\n",
       "  <tbody>\n",
       "    <tr>\n",
       "      <th>28778</th>\n",
       "      <td>rent</td>\n",
       "      <td>house</td>\n",
       "      <td>-23.310879</td>\n",
       "      <td>-51.118008</td>\n",
       "      <td>350000.0</td>\n",
       "    </tr>\n",
       "    <tr>\n",
       "      <th>92508</th>\n",
       "      <td>rent</td>\n",
       "      <td>apartment</td>\n",
       "      <td>-23.965578</td>\n",
       "      <td>-46.336824</td>\n",
       "      <td>320000.0</td>\n",
       "    </tr>\n",
       "    <tr>\n",
       "      <th>11883</th>\n",
       "      <td>rent</td>\n",
       "      <td>house</td>\n",
       "      <td>-24.022867</td>\n",
       "      <td>-46.471424</td>\n",
       "      <td>315000.0</td>\n",
       "    </tr>\n",
       "    <tr>\n",
       "      <th>92609</th>\n",
       "      <td>rent</td>\n",
       "      <td>apartment</td>\n",
       "      <td>-22.985530</td>\n",
       "      <td>-43.199976</td>\n",
       "      <td>312500.0</td>\n",
       "    </tr>\n",
       "    <tr>\n",
       "      <th>26146</th>\n",
       "      <td>rent</td>\n",
       "      <td>apartment</td>\n",
       "      <td>-22.985530</td>\n",
       "      <td>-43.199976</td>\n",
       "      <td>312500.0</td>\n",
       "    </tr>\n",
       "    <tr>\n",
       "      <th>...</th>\n",
       "      <td>...</td>\n",
       "      <td>...</td>\n",
       "      <td>...</td>\n",
       "      <td>...</td>\n",
       "      <td>...</td>\n",
       "    </tr>\n",
       "    <tr>\n",
       "      <th>90921</th>\n",
       "      <td>rent</td>\n",
       "      <td>store</td>\n",
       "      <td>-23.552631</td>\n",
       "      <td>-46.676865</td>\n",
       "      <td>107015.0</td>\n",
       "    </tr>\n",
       "    <tr>\n",
       "      <th>16293</th>\n",
       "      <td>rent</td>\n",
       "      <td>store</td>\n",
       "      <td>-22.849484</td>\n",
       "      <td>-47.154616</td>\n",
       "      <td>106489.0</td>\n",
       "    </tr>\n",
       "    <tr>\n",
       "      <th>16248</th>\n",
       "      <td>rent</td>\n",
       "      <td>store</td>\n",
       "      <td>-22.848942</td>\n",
       "      <td>-47.153857</td>\n",
       "      <td>106489.0</td>\n",
       "    </tr>\n",
       "    <tr>\n",
       "      <th>16244</th>\n",
       "      <td>rent</td>\n",
       "      <td>store</td>\n",
       "      <td>-22.850905</td>\n",
       "      <td>-47.154695</td>\n",
       "      <td>104586.0</td>\n",
       "    </tr>\n",
       "    <tr>\n",
       "      <th>16251</th>\n",
       "      <td>rent</td>\n",
       "      <td>store</td>\n",
       "      <td>-22.842260</td>\n",
       "      <td>-47.168410</td>\n",
       "      <td>100700.0</td>\n",
       "    </tr>\n",
       "  </tbody>\n",
       "</table>\n",
       "<p>64 rows × 5 columns</p>\n",
       "</div>"
      ],
      "text/plain": [
       "      operation property_type        lat        lon     price\n",
       "28778      rent         house -23.310879 -51.118008  350000.0\n",
       "92508      rent     apartment -23.965578 -46.336824  320000.0\n",
       "11883      rent         house -24.022867 -46.471424  315000.0\n",
       "92609      rent     apartment -22.985530 -43.199976  312500.0\n",
       "26146      rent     apartment -22.985530 -43.199976  312500.0\n",
       "...         ...           ...        ...        ...       ...\n",
       "90921      rent         store -23.552631 -46.676865  107015.0\n",
       "16293      rent         store -22.849484 -47.154616  106489.0\n",
       "16248      rent         store -22.848942 -47.153857  106489.0\n",
       "16244      rent         store -22.850905 -47.154695  104586.0\n",
       "16251      rent         store -22.842260 -47.168410  100700.0\n",
       "\n",
       "[64 rows x 5 columns]"
      ]
     },
     "execution_count": 39,
     "metadata": {},
     "output_type": "execute_result"
    }
   ],
   "source": [
    "data_brazil_concat[data_brazil_concat['price'] > 100_000].sort_values(by= 'price', ascending=False)"
   ]
  },
  {
   "cell_type": "code",
   "execution_count": null,
   "metadata": {},
   "outputs": [],
   "source": []
  }
 ],
 "metadata": {
  "kernelspec": {
   "display_name": "Python 3",
   "language": "python",
   "name": "python3"
  },
  "language_info": {
   "codemirror_mode": {
    "name": "ipython",
    "version": 3
   },
   "file_extension": ".py",
   "mimetype": "text/x-python",
   "name": "python",
   "nbconvert_exporter": "python",
   "pygments_lexer": "ipython3",
   "version": "3.7.4"
  },
  "toc": {
   "base_numbering": 1,
   "nav_menu": {},
   "number_sections": false,
   "sideBar": true,
   "skip_h1_title": false,
   "title_cell": "Table of Contents",
   "title_sidebar": "Contents",
   "toc_cell": false,
   "toc_position": {},
   "toc_section_display": true,
   "toc_window_display": false
  },
  "varInspector": {
   "cols": {
    "lenName": 16,
    "lenType": 16,
    "lenVar": 40
   },
   "kernels_config": {
    "python": {
     "delete_cmd_postfix": "",
     "delete_cmd_prefix": "del ",
     "library": "var_list.py",
     "varRefreshCmd": "print(var_dic_list())"
    },
    "r": {
     "delete_cmd_postfix": ") ",
     "delete_cmd_prefix": "rm(",
     "library": "var_list.r",
     "varRefreshCmd": "cat(var_dic_list()) "
    }
   },
   "types_to_exclude": [
    "module",
    "function",
    "builtin_function_or_method",
    "instance",
    "_Feature"
   ],
   "window_display": false
  }
 },
 "nbformat": 4,
 "nbformat_minor": 2
}
